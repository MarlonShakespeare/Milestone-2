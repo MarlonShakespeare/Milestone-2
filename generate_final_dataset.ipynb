{
 "cells": [
  {
   "cell_type": "code",
   "execution_count": 1,
   "metadata": {},
   "outputs": [],
   "source": [
    "from utils import (\n",
    "    extract_nmf_feature,\n",
    "    tweet_level_feature_generation,\n",
    "    split_all_data,\n",
    "    nn_tweet_only,\n",
    "    add_nn_signal,\n",
    "    add_feat,\n",
    "    calculate_similarity,\n",
    "    tweet_level_features,\n",
    "    generate_sentiment_feature\n",
    ")\n",
    "\n",
    "import pandas as pd\n",
    "pd.set_option('display.max_columns', None)"
   ]
  },
  {
   "cell_type": "code",
   "execution_count": 2,
   "metadata": {},
   "outputs": [],
   "source": [
    "random_seed = 3850"
   ]
  },
  {
   "cell_type": "code",
   "execution_count": 3,
   "metadata": {},
   "outputs": [
    {
     "name": "stdout",
     "output_type": "stream",
     "text": [
      "Loading the data...\n",
      "Splitting the data...\n",
      "shape of train_df:  (9460, 6)\n",
      "shape of dev_df  :  (1183, 6)\n",
      "shape of test_df :  (1183, 6)\n"
     ]
    }
   ],
   "source": [
    "data_dict = split_all_data(.8, dev_test_split=.5, random_state=random_seed)\n",
    "train_df = data_dict['train']\n",
    "dev_df = data_dict['dev']\n",
    "test_df = data_dict['test']\n",
    "print('shape of train_df: ', train_df.shape)\n",
    "print('shape of dev_df  : ', dev_df.shape)\n",
    "print('shape of test_df : ', test_df.shape)"
   ]
  },
  {
   "cell_type": "code",
   "execution_count": 4,
   "metadata": {},
   "outputs": [
    {
     "data": {
      "text/html": [
       "<div>\n",
       "<style scoped>\n",
       "    .dataframe tbody tr th:only-of-type {\n",
       "        vertical-align: middle;\n",
       "    }\n",
       "\n",
       "    .dataframe tbody tr th {\n",
       "        vertical-align: top;\n",
       "    }\n",
       "\n",
       "    .dataframe thead th {\n",
       "        text-align: right;\n",
       "    }\n",
       "</style>\n",
       "<table border=\"1\" class=\"dataframe\">\n",
       "  <thead>\n",
       "    <tr style=\"text-align: right;\">\n",
       "      <th></th>\n",
       "      <th>ID</th>\n",
       "      <th>profile</th>\n",
       "      <th>tweet</th>\n",
       "      <th>neighbor</th>\n",
       "      <th>domain</th>\n",
       "      <th>label</th>\n",
       "    </tr>\n",
       "  </thead>\n",
       "  <tbody>\n",
       "    <tr>\n",
       "      <th>5556</th>\n",
       "      <td>32447721</td>\n",
       "      <td>{'id': '32447721 ', 'id_str': '32447721 ', 'na...</td>\n",
       "      <td>[I look forward to not being able to find a Nv...</td>\n",
       "      <td>{'following': ['818668163466457088', '11995844...</td>\n",
       "      <td>[Entertainment]</td>\n",
       "      <td>0</td>\n",
       "    </tr>\n",
       "    <tr>\n",
       "      <th>814</th>\n",
       "      <td>3017957005</td>\n",
       "      <td>{'id': '3017957005 ', 'id_str': '3017957005 ',...</td>\n",
       "      <td>[RT @KendrickPerkins: Ladies and Gentlemen we ...</td>\n",
       "      <td>{'following': ['63515922', '71415087', '293008...</td>\n",
       "      <td>[Politics]</td>\n",
       "      <td>1</td>\n",
       "    </tr>\n",
       "    <tr>\n",
       "      <th>10475</th>\n",
       "      <td>264962685</td>\n",
       "      <td>{'id': '264962685 ', 'id_str': '264962685 ', '...</td>\n",
       "      <td>[Nothing new comes from a standard response. #...</td>\n",
       "      <td>{'following': ['760210372888563712', '86116147...</td>\n",
       "      <td>[Sports]</td>\n",
       "      <td>1</td>\n",
       "    </tr>\n",
       "    <tr>\n",
       "      <th>7336</th>\n",
       "      <td>1074071841885417472</td>\n",
       "      <td>{'id': '1074071841885417472 ', 'id_str': '1074...</td>\n",
       "      <td>[RT @DocSoph: Looking for unique &amp;amp; innovat...</td>\n",
       "      <td>{'following': ['1094029591054872576', '2288915...</td>\n",
       "      <td>[Sports]</td>\n",
       "      <td>1</td>\n",
       "    </tr>\n",
       "    <tr>\n",
       "      <th>4999</th>\n",
       "      <td>1239433466460155904</td>\n",
       "      <td>{'id': '1239433466460155904 ', 'id_str': '1239...</td>\n",
       "      <td>[RT @Sunflower_Films: Retweet this if you've l...</td>\n",
       "      <td>{'following': ['1218302853502177280', '2425571...</td>\n",
       "      <td>[Entertainment]</td>\n",
       "      <td>1</td>\n",
       "    </tr>\n",
       "  </tbody>\n",
       "</table>\n",
       "</div>"
      ],
      "text/plain": [
       "                        ID                                            profile  \\\n",
       "5556              32447721  {'id': '32447721 ', 'id_str': '32447721 ', 'na...   \n",
       "814             3017957005  {'id': '3017957005 ', 'id_str': '3017957005 ',...   \n",
       "10475            264962685  {'id': '264962685 ', 'id_str': '264962685 ', '...   \n",
       "7336   1074071841885417472  {'id': '1074071841885417472 ', 'id_str': '1074...   \n",
       "4999   1239433466460155904  {'id': '1239433466460155904 ', 'id_str': '1239...   \n",
       "\n",
       "                                                   tweet  \\\n",
       "5556   [I look forward to not being able to find a Nv...   \n",
       "814    [RT @KendrickPerkins: Ladies and Gentlemen we ...   \n",
       "10475  [Nothing new comes from a standard response. #...   \n",
       "7336   [RT @DocSoph: Looking for unique &amp; innovat...   \n",
       "4999   [RT @Sunflower_Films: Retweet this if you've l...   \n",
       "\n",
       "                                                neighbor           domain  \\\n",
       "5556   {'following': ['818668163466457088', '11995844...  [Entertainment]   \n",
       "814    {'following': ['63515922', '71415087', '293008...       [Politics]   \n",
       "10475  {'following': ['760210372888563712', '86116147...         [Sports]   \n",
       "7336   {'following': ['1094029591054872576', '2288915...         [Sports]   \n",
       "4999   {'following': ['1218302853502177280', '2425571...  [Entertainment]   \n",
       "\n",
       "       label  \n",
       "5556       0  \n",
       "814        1  \n",
       "10475      1  \n",
       "7336       1  \n",
       "4999       1  "
      ]
     },
     "execution_count": 4,
     "metadata": {},
     "output_type": "execute_result"
    }
   ],
   "source": [
    "train_df.sample(5, random_state=random_seed)"
   ]
  },
  {
   "cell_type": "code",
   "execution_count": 5,
   "metadata": {},
   "outputs": [
    {
     "name": "stdout",
     "output_type": "stream",
     "text": [
      "Prepping tweet data...\n",
      "Vectorizing tweets...\n",
      "Epoch 1/20\n"
     ]
    },
    {
     "name": "stderr",
     "output_type": "stream",
     "text": [
      "c:\\ProgramData\\Anaconda3\\envs\\ML_w_tf_env\\lib\\site-packages\\keras\\backend.py:4906: UserWarning: \"`sparse_categorical_crossentropy` received `from_logits=True`, but the `output` argument was produced by a sigmoid or softmax activation and thus does not represent logits. Was this intended?\"\n",
      "  warnings.warn(\n"
     ]
    },
    {
     "name": "stdout",
     "output_type": "stream",
     "text": [
      "266/266 [==============================] - 3s 7ms/step - loss: 0.5673 - accuracy: 0.7016 - val_loss: 0.5458 - val_accuracy: 0.7188\n",
      "Epoch 2/20\n",
      "266/266 [==============================] - 1s 4ms/step - loss: 0.4609 - accuracy: 0.7891 - val_loss: 0.5440 - val_accuracy: 0.7132\n",
      "Epoch 3/20\n",
      "266/266 [==============================] - 1s 5ms/step - loss: 0.3754 - accuracy: 0.8407 - val_loss: 0.5823 - val_accuracy: 0.7132\n",
      "Epoch 4/20\n",
      "266/266 [==============================] - 1s 5ms/step - loss: 0.2613 - accuracy: 0.8966 - val_loss: 0.7196 - val_accuracy: 0.7003\n",
      "Restoring model weights from the end of the best epoch.\n",
      "Epoch 00004: early stopping\n"
     ]
    }
   ],
   "source": [
    "vectorizer, nn_model = nn_tweet_only(train_df, dev_df)"
   ]
  },
  {
   "cell_type": "code",
   "execution_count": 6,
   "metadata": {},
   "outputs": [],
   "source": [
    "train_df = add_nn_signal(train_df, vectorizer, nn_model)\n",
    "test_df = add_nn_signal(test_df, vectorizer, nn_model)"
   ]
  },
  {
   "cell_type": "code",
   "execution_count": 7,
   "metadata": {},
   "outputs": [],
   "source": [
    "train_df_stage_1 = add_feat(train_df)\n",
    "test_df_stage_1 = add_feat(test_df)"
   ]
  },
  {
   "cell_type": "code",
   "execution_count": 8,
   "metadata": {},
   "outputs": [
    {
     "data": {
      "text/html": [
       "<div>\n",
       "<style scoped>\n",
       "    .dataframe tbody tr th:only-of-type {\n",
       "        vertical-align: middle;\n",
       "    }\n",
       "\n",
       "    .dataframe tbody tr th {\n",
       "        vertical-align: top;\n",
       "    }\n",
       "\n",
       "    .dataframe thead th {\n",
       "        text-align: right;\n",
       "    }\n",
       "</style>\n",
       "<table border=\"1\" class=\"dataframe\">\n",
       "  <thead>\n",
       "    <tr style=\"text-align: right;\">\n",
       "      <th></th>\n",
       "      <th>ID</th>\n",
       "      <th>profile</th>\n",
       "      <th>tweet</th>\n",
       "      <th>neighbor</th>\n",
       "      <th>domain</th>\n",
       "      <th>label</th>\n",
       "      <th>nn_signal</th>\n",
       "      <th>lang_count</th>\n",
       "      <th>tweet_min_len</th>\n",
       "      <th>tweet_max_len</th>\n",
       "      <th>tweet_av_len</th>\n",
       "      <th>tweet_len_std</th>\n",
       "      <th>user_name_len</th>\n",
       "      <th>screen_name_len</th>\n",
       "      <th>user_name_chars</th>\n",
       "      <th>protected</th>\n",
       "      <th>verified</th>\n",
       "      <th>has_url</th>\n",
       "      <th>followers_count</th>\n",
       "      <th>friends_count</th>\n",
       "      <th>favourites_count</th>\n",
       "      <th>days_old</th>\n",
       "    </tr>\n",
       "  </thead>\n",
       "  <tbody>\n",
       "    <tr>\n",
       "      <th>4794</th>\n",
       "      <td>353345238</td>\n",
       "      <td>{'id': '353345238 ', 'id_str': '353345238 ', '...</td>\n",
       "      <td>[“Turntablism”Ft @Djksity Available Here 👇🏽\\nh...</td>\n",
       "      <td>{'following': ['1049996402', '13749282', '9197...</td>\n",
       "      <td>[Politics]</td>\n",
       "      <td>1</td>\n",
       "      <td>0.709537</td>\n",
       "      <td>2</td>\n",
       "      <td>13</td>\n",
       "      <td>315</td>\n",
       "      <td>191.301020</td>\n",
       "      <td>85.951732</td>\n",
       "      <td>6</td>\n",
       "      <td>8</td>\n",
       "      <td>6</td>\n",
       "      <td>0</td>\n",
       "      <td>0</td>\n",
       "      <td>1</td>\n",
       "      <td>1475</td>\n",
       "      <td>2898</td>\n",
       "      <td>721</td>\n",
       "      <td>3915</td>\n",
       "    </tr>\n",
       "    <tr>\n",
       "      <th>4495</th>\n",
       "      <td>251652744</td>\n",
       "      <td>{'id': '251652744 ', 'id_str': '251652744 ', '...</td>\n",
       "      <td>[RT @PeterAdeniyi7: Looking for a game this co...</td>\n",
       "      <td>{'following': ['2519538916', '461227649', '969...</td>\n",
       "      <td>[Politics]</td>\n",
       "      <td>1</td>\n",
       "      <td>0.857608</td>\n",
       "      <td>3</td>\n",
       "      <td>9</td>\n",
       "      <td>185</td>\n",
       "      <td>94.402010</td>\n",
       "      <td>46.934459</td>\n",
       "      <td>12</td>\n",
       "      <td>9</td>\n",
       "      <td>10</td>\n",
       "      <td>0</td>\n",
       "      <td>0</td>\n",
       "      <td>0</td>\n",
       "      <td>549</td>\n",
       "      <td>375</td>\n",
       "      <td>62</td>\n",
       "      <td>4094</td>\n",
       "    </tr>\n",
       "    <tr>\n",
       "      <th>910</th>\n",
       "      <td>797685578</td>\n",
       "      <td>{'id': '797685578 ', 'id_str': '797685578 ', '...</td>\n",
       "      <td>[#M25 anti-clockwise between J25 (Cheshunt / E...</td>\n",
       "      <td>{'following': ['233611355'], 'follower': ['113...</td>\n",
       "      <td>[Sports]</td>\n",
       "      <td>1</td>\n",
       "      <td>0.624263</td>\n",
       "      <td>1</td>\n",
       "      <td>105</td>\n",
       "      <td>184</td>\n",
       "      <td>151.505000</td>\n",
       "      <td>20.945166</td>\n",
       "      <td>19</td>\n",
       "      <td>12</td>\n",
       "      <td>14</td>\n",
       "      <td>0</td>\n",
       "      <td>0</td>\n",
       "      <td>1</td>\n",
       "      <td>45436</td>\n",
       "      <td>1</td>\n",
       "      <td>0</td>\n",
       "      <td>3527</td>\n",
       "    </tr>\n",
       "    <tr>\n",
       "      <th>8790</th>\n",
       "      <td>16334281</td>\n",
       "      <td>{'id': '16334281 ', 'id_str': '16334281 ', 'na...</td>\n",
       "      <td>[Miami-Dade's main jail turned into blood dona...</td>\n",
       "      <td>None</td>\n",
       "      <td>[Politics, Entertainment]</td>\n",
       "      <td>0</td>\n",
       "      <td>0.210842</td>\n",
       "      <td>1</td>\n",
       "      <td>48</td>\n",
       "      <td>309</td>\n",
       "      <td>164.465000</td>\n",
       "      <td>63.008720</td>\n",
       "      <td>11</td>\n",
       "      <td>9</td>\n",
       "      <td>9</td>\n",
       "      <td>0</td>\n",
       "      <td>1</td>\n",
       "      <td>1</td>\n",
       "      <td>104451</td>\n",
       "      <td>1430</td>\n",
       "      <td>4721</td>\n",
       "      <td>4973</td>\n",
       "    </tr>\n",
       "    <tr>\n",
       "      <th>2947</th>\n",
       "      <td>987666672684183552</td>\n",
       "      <td>{'id': '987666672684183553 ', 'id_str': '98766...</td>\n",
       "      <td>[Nakakagago lang!\\n, @_SMFFFF sila ian stem b ...</td>\n",
       "      <td>{'following': ['1160498466306449408', '1072092...</td>\n",
       "      <td>[Politics]</td>\n",
       "      <td>0</td>\n",
       "      <td>0.364224</td>\n",
       "      <td>5</td>\n",
       "      <td>5</td>\n",
       "      <td>190</td>\n",
       "      <td>42.707071</td>\n",
       "      <td>27.038227</td>\n",
       "      <td>14</td>\n",
       "      <td>10</td>\n",
       "      <td>9</td>\n",
       "      <td>0</td>\n",
       "      <td>0</td>\n",
       "      <td>0</td>\n",
       "      <td>6431</td>\n",
       "      <td>6290</td>\n",
       "      <td>1615</td>\n",
       "      <td>1470</td>\n",
       "    </tr>\n",
       "  </tbody>\n",
       "</table>\n",
       "</div>"
      ],
      "text/plain": [
       "                      ID                                            profile  \\\n",
       "4794           353345238  {'id': '353345238 ', 'id_str': '353345238 ', '...   \n",
       "4495           251652744  {'id': '251652744 ', 'id_str': '251652744 ', '...   \n",
       "910            797685578  {'id': '797685578 ', 'id_str': '797685578 ', '...   \n",
       "8790            16334281  {'id': '16334281 ', 'id_str': '16334281 ', 'na...   \n",
       "2947  987666672684183552  {'id': '987666672684183553 ', 'id_str': '98766...   \n",
       "\n",
       "                                                  tweet  \\\n",
       "4794  [“Turntablism”Ft @Djksity Available Here 👇🏽\\nh...   \n",
       "4495  [RT @PeterAdeniyi7: Looking for a game this co...   \n",
       "910   [#M25 anti-clockwise between J25 (Cheshunt / E...   \n",
       "8790  [Miami-Dade's main jail turned into blood dona...   \n",
       "2947  [Nakakagago lang!\\n, @_SMFFFF sila ian stem b ...   \n",
       "\n",
       "                                               neighbor  \\\n",
       "4794  {'following': ['1049996402', '13749282', '9197...   \n",
       "4495  {'following': ['2519538916', '461227649', '969...   \n",
       "910   {'following': ['233611355'], 'follower': ['113...   \n",
       "8790                                               None   \n",
       "2947  {'following': ['1160498466306449408', '1072092...   \n",
       "\n",
       "                         domain  label  nn_signal  lang_count  tweet_min_len  \\\n",
       "4794                 [Politics]      1   0.709537           2             13   \n",
       "4495                 [Politics]      1   0.857608           3              9   \n",
       "910                    [Sports]      1   0.624263           1            105   \n",
       "8790  [Politics, Entertainment]      0   0.210842           1             48   \n",
       "2947                 [Politics]      0   0.364224           5              5   \n",
       "\n",
       "      tweet_max_len  tweet_av_len  tweet_len_std  user_name_len  \\\n",
       "4794            315    191.301020      85.951732              6   \n",
       "4495            185     94.402010      46.934459             12   \n",
       "910             184    151.505000      20.945166             19   \n",
       "8790            309    164.465000      63.008720             11   \n",
       "2947            190     42.707071      27.038227             14   \n",
       "\n",
       "      screen_name_len  user_name_chars  protected  verified  has_url  \\\n",
       "4794                8                6          0         0        1   \n",
       "4495                9               10          0         0        0   \n",
       "910                12               14          0         0        1   \n",
       "8790                9                9          0         1        1   \n",
       "2947               10                9          0         0        0   \n",
       "\n",
       "      followers_count  friends_count  favourites_count  days_old  \n",
       "4794             1475           2898               721      3915  \n",
       "4495              549            375                62      4094  \n",
       "910             45436              1                 0      3527  \n",
       "8790           104451           1430              4721      4973  \n",
       "2947             6431           6290              1615      1470  "
      ]
     },
     "execution_count": 8,
     "metadata": {},
     "output_type": "execute_result"
    }
   ],
   "source": [
    "train_df_stage_1.sample(5, random_state=random_seed)"
   ]
  },
  {
   "cell_type": "code",
   "execution_count": 9,
   "metadata": {},
   "outputs": [],
   "source": [
    "# save point\n",
    "train_df_stage_1.to_csv('Twibot-20/data_creation/train_df_stage_1.csv')\n",
    "test_df_stage_1.to_csv('Twibot-20/data_creation/test_df_stage_1.csv')"
   ]
  },
  {
   "cell_type": "code",
   "execution_count": 10,
   "metadata": {},
   "outputs": [],
   "source": [
    "# train_df_stage_1 = pd.read_csv('Twibot-20/data_creation/train_df_stage_1.csv')\n",
    "# test_df_stage_1 = pd.read_csv('Twibot-20/data_creation/test_df_stage_1.csv')"
   ]
  },
  {
   "cell_type": "code",
   "execution_count": 11,
   "metadata": {},
   "outputs": [],
   "source": [
    "train_df_stage_2 = calculate_similarity(train_df_stage_1['tweet'])\n",
    "test_df_stage_2 = calculate_similarity(test_df_stage_1['tweet'])"
   ]
  },
  {
   "cell_type": "code",
   "execution_count": null,
   "metadata": {},
   "outputs": [],
   "source": [
    "train_df_stage_2 = tweet_level_features(train_df_stage_2)\n",
    "test_df_stage_2 = tweet_level_features(test_df_stage_2)"
   ]
  },
  {
   "cell_type": "code",
   "execution_count": null,
   "metadata": {},
   "outputs": [],
   "source": [
    "train_df_stage_2 = generate_sentiment_feature(train_df_stage_2)\n",
    "test_df_stage_2 = generate_sentiment_feature(test_df_stage_2)"
   ]
  },
  {
   "cell_type": "code",
   "execution_count": null,
   "metadata": {},
   "outputs": [],
   "source": [
    "train_df_stage_2.sample(5, random_state=random_seed)"
   ]
  },
  {
   "cell_type": "code",
   "execution_count": null,
   "metadata": {},
   "outputs": [],
   "source": [
    "# save point\n",
    "train_df_stage_2.to_csv('Twibot-20/data_creation/train_df_stage_2.csv')\n",
    "test_df_stage_2.to_csv('Twibot-20/data_creation/test_df_stage_2.csv')"
   ]
  },
  {
   "cell_type": "code",
   "execution_count": null,
   "metadata": {},
   "outputs": [],
   "source": [
    "# train_df_stage_2 = pd.read_csv('Twibot-20/data_creation/train_df_stage_2.csv')\n",
    "# test_df_stage_2 = pd.read_csv('Twibot-20/data_creation/test_df_stage_2.csv')"
   ]
  },
  {
   "cell_type": "code",
   "execution_count": null,
   "metadata": {},
   "outputs": [],
   "source": [
    "train_df_stage_3 = tweet_level_feature_generation(train_df_stage_2)\n",
    "test_df_stage_3 = tweet_level_feature_generation(test_df_stage_2)"
   ]
  },
  {
   "cell_type": "code",
   "execution_count": null,
   "metadata": {},
   "outputs": [],
   "source": [
    "train_df_stage_3 = extract_nmf_feature(train_df_stage_3)\n",
    "test_df_stage_3 = extract_nmf_feature(test_df_stage_3)"
   ]
  },
  {
   "cell_type": "code",
   "execution_count": null,
   "metadata": {},
   "outputs": [],
   "source": [
    "train_df_stage_3.sample(5, random_state=random_seed)"
   ]
  },
  {
   "cell_type": "code",
   "execution_count": null,
   "metadata": {},
   "outputs": [],
   "source": [
    "# save point\n",
    "train_df_stage_3.to_csv('Twibot-20/data_creation/train_df_stage_3.csv')\n",
    "test_df_stage_3.to_csv('Twibot-20/data_creation/test_df_stage_3.csv')"
   ]
  }
 ],
 "metadata": {
  "interpreter": {
   "hash": "58122c4832fdacea577bb4b8c1ab9178e3432673b93bc4408ac4b70d2ef80f32"
  },
  "kernelspec": {
   "display_name": "Python 3.9.7 ('ML_w_tf_env')",
   "language": "python",
   "name": "python3"
  },
  "language_info": {
   "codemirror_mode": {
    "name": "ipython",
    "version": 3
   },
   "file_extension": ".py",
   "mimetype": "text/x-python",
   "name": "python",
   "nbconvert_exporter": "python",
   "pygments_lexer": "ipython3",
   "version": "3.9.7"
  },
  "orig_nbformat": 4
 },
 "nbformat": 4,
 "nbformat_minor": 2
}
