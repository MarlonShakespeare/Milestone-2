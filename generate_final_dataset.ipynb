{
 "cells": [
  {
   "cell_type": "code",
   "execution_count": 1,
   "metadata": {},
   "outputs": [],
   "source": [
    "from utils import (\n",
    "    extract_nmf_feature,\n",
    "    tweet_level_feature_generation,\n",
    "    split_all_data,\n",
    "    nn_tweet_only,\n",
    "    add_nn_signal,\n",
    "    add_feat,\n",
    "    calculate_similarity,\n",
    "    tweet_level_features,\n",
    "    generate_sentiment_feature\n",
    ")\n",
    "\n",
    "import pandas as pd\n",
    "pd.set_option('display.max_columns', None)"
   ]
  },
  {
   "cell_type": "code",
   "execution_count": 2,
   "metadata": {},
   "outputs": [],
   "source": [
    "random_seed = 3850"
   ]
  },
  {
   "cell_type": "code",
   "execution_count": 3,
   "metadata": {},
   "outputs": [
    {
     "name": "stdout",
     "output_type": "stream",
     "text": [
      "Loading the data...\n",
      "Splitting the data...\n",
      "shape of train_df:  (9460, 6)\n",
      "shape of dev_df  :  (1183, 6)\n",
      "shape of test_df :  (1183, 6)\n"
     ]
    }
   ],
   "source": [
    "data_dict = split_all_data(.8, dev_test_split=.5, random_state=random_seed)\n",
    "train_df = data_dict['train']\n",
    "dev_df = data_dict['dev']\n",
    "test_df = data_dict['test']\n",
    "print('shape of train_df: ', train_df.shape)\n",
    "print('shape of dev_df  : ', dev_df.shape)\n",
    "print('shape of test_df : ', test_df.shape)"
   ]
  },
  {
   "cell_type": "code",
   "execution_count": 4,
   "metadata": {},
   "outputs": [
    {
     "data": {
      "text/html": [
       "<div>\n",
       "<style scoped>\n",
       "    .dataframe tbody tr th:only-of-type {\n",
       "        vertical-align: middle;\n",
       "    }\n",
       "\n",
       "    .dataframe tbody tr th {\n",
       "        vertical-align: top;\n",
       "    }\n",
       "\n",
       "    .dataframe thead th {\n",
       "        text-align: right;\n",
       "    }\n",
       "</style>\n",
       "<table border=\"1\" class=\"dataframe\">\n",
       "  <thead>\n",
       "    <tr style=\"text-align: right;\">\n",
       "      <th></th>\n",
       "      <th>ID</th>\n",
       "      <th>profile</th>\n",
       "      <th>tweet</th>\n",
       "      <th>neighbor</th>\n",
       "      <th>domain</th>\n",
       "      <th>label</th>\n",
       "    </tr>\n",
       "  </thead>\n",
       "  <tbody>\n",
       "    <tr>\n",
       "      <th>5556</th>\n",
       "      <td>32447721</td>\n",
       "      <td>{'id': '32447721 ', 'id_str': '32447721 ', 'na...</td>\n",
       "      <td>[I look forward to not being able to find a Nv...</td>\n",
       "      <td>{'following': ['818668163466457088', '11995844...</td>\n",
       "      <td>[Entertainment]</td>\n",
       "      <td>0</td>\n",
       "    </tr>\n",
       "    <tr>\n",
       "      <th>814</th>\n",
       "      <td>3017957005</td>\n",
       "      <td>{'id': '3017957005 ', 'id_str': '3017957005 ',...</td>\n",
       "      <td>[RT @KendrickPerkins: Ladies and Gentlemen we ...</td>\n",
       "      <td>{'following': ['63515922', '71415087', '293008...</td>\n",
       "      <td>[Politics]</td>\n",
       "      <td>1</td>\n",
       "    </tr>\n",
       "    <tr>\n",
       "      <th>10475</th>\n",
       "      <td>264962685</td>\n",
       "      <td>{'id': '264962685 ', 'id_str': '264962685 ', '...</td>\n",
       "      <td>[Nothing new comes from a standard response. #...</td>\n",
       "      <td>{'following': ['760210372888563712', '86116147...</td>\n",
       "      <td>[Sports]</td>\n",
       "      <td>1</td>\n",
       "    </tr>\n",
       "    <tr>\n",
       "      <th>7336</th>\n",
       "      <td>1074071841885417472</td>\n",
       "      <td>{'id': '1074071841885417472 ', 'id_str': '1074...</td>\n",
       "      <td>[RT @DocSoph: Looking for unique &amp;amp; innovat...</td>\n",
       "      <td>{'following': ['1094029591054872576', '2288915...</td>\n",
       "      <td>[Sports]</td>\n",
       "      <td>1</td>\n",
       "    </tr>\n",
       "    <tr>\n",
       "      <th>4999</th>\n",
       "      <td>1239433466460155904</td>\n",
       "      <td>{'id': '1239433466460155904 ', 'id_str': '1239...</td>\n",
       "      <td>[RT @Sunflower_Films: Retweet this if you've l...</td>\n",
       "      <td>{'following': ['1218302853502177280', '2425571...</td>\n",
       "      <td>[Entertainment]</td>\n",
       "      <td>1</td>\n",
       "    </tr>\n",
       "  </tbody>\n",
       "</table>\n",
       "</div>"
      ],
      "text/plain": [
       "                        ID                                            profile  \\\n",
       "5556              32447721  {'id': '32447721 ', 'id_str': '32447721 ', 'na...   \n",
       "814             3017957005  {'id': '3017957005 ', 'id_str': '3017957005 ',...   \n",
       "10475            264962685  {'id': '264962685 ', 'id_str': '264962685 ', '...   \n",
       "7336   1074071841885417472  {'id': '1074071841885417472 ', 'id_str': '1074...   \n",
       "4999   1239433466460155904  {'id': '1239433466460155904 ', 'id_str': '1239...   \n",
       "\n",
       "                                                   tweet  \\\n",
       "5556   [I look forward to not being able to find a Nv...   \n",
       "814    [RT @KendrickPerkins: Ladies and Gentlemen we ...   \n",
       "10475  [Nothing new comes from a standard response. #...   \n",
       "7336   [RT @DocSoph: Looking for unique &amp; innovat...   \n",
       "4999   [RT @Sunflower_Films: Retweet this if you've l...   \n",
       "\n",
       "                                                neighbor           domain  \\\n",
       "5556   {'following': ['818668163466457088', '11995844...  [Entertainment]   \n",
       "814    {'following': ['63515922', '71415087', '293008...       [Politics]   \n",
       "10475  {'following': ['760210372888563712', '86116147...         [Sports]   \n",
       "7336   {'following': ['1094029591054872576', '2288915...         [Sports]   \n",
       "4999   {'following': ['1218302853502177280', '2425571...  [Entertainment]   \n",
       "\n",
       "       label  \n",
       "5556       0  \n",
       "814        1  \n",
       "10475      1  \n",
       "7336       1  \n",
       "4999       1  "
      ]
     },
     "execution_count": 4,
     "metadata": {},
     "output_type": "execute_result"
    }
   ],
   "source": [
    "train_df.sample(5, random_state=random_seed)"
   ]
  },
  {
   "cell_type": "code",
   "execution_count": 5,
   "metadata": {},
   "outputs": [
    {
     "name": "stdout",
     "output_type": "stream",
     "text": [
      "Prepping tweet data...\n",
      "Vectorizing tweets...\n"
     ]
    }
   ],
   "source": [
    "vectorizer, nn_model = nn_tweet_only(train_df, dev_df)"
   ]
  },
  {
   "cell_type": "code",
   "execution_count": null,
   "metadata": {},
   "outputs": [],
   "source": [
    "train_df = add_nn_signal(train_df, vectorizer, nn_model)\n",
    "test_df = add_nn_signal(test_df, vectorizer, nn_model)"
   ]
  },
  {
   "cell_type": "code",
   "execution_count": null,
   "metadata": {},
   "outputs": [],
   "source": [
    "train_df_stage_1 = add_feat(train_df)\n",
    "test_df_stage_1 = add_feat(test_df)"
   ]
  },
  {
   "cell_type": "code",
   "execution_count": null,
   "metadata": {},
   "outputs": [],
   "source": [
    "train_df_stage_1.sample(5, random_state=random_seed)"
   ]
  },
  {
   "cell_type": "code",
   "execution_count": null,
   "metadata": {},
   "outputs": [],
   "source": [
    "# save point\n",
    "train_df_stage_1.to_csv('Twibot-20/data_creation/train_df_stage_1.csv')\n",
    "test_df_stage_1.to_csv('Twibot-20/data_creation/test_df_stage_1.csv')"
   ]
  },
  {
   "cell_type": "code",
   "execution_count": null,
   "metadata": {},
   "outputs": [],
   "source": [
    "# train_df_stage_1 = pd.read_csv('Twibot-20/data_creation/train_df_stage_1.csv')\n",
    "# test_df_stage_1 = pd.read_csv('Twibot-20/data_creation/test_df_stage_1.csv')"
   ]
  },
  {
   "cell_type": "code",
   "execution_count": null,
   "metadata": {},
   "outputs": [],
   "source": [
    "train_df_stage_2 = calculate_similarity(train_df_stage_1['tweet'])\n",
    "test_df_stage_2 = calculate_similarity(test_df_stage_1['tweet'])"
   ]
  },
  {
   "cell_type": "code",
   "execution_count": null,
   "metadata": {},
   "outputs": [],
   "source": [
    "train_df_stage_2 = tweet_level_features(train_df_stage_2)\n",
    "test_df_stage_2 = tweet_level_features(test_df_stage_2)"
   ]
  },
  {
   "cell_type": "code",
   "execution_count": null,
   "metadata": {},
   "outputs": [],
   "source": [
    "train_df_stage_2 = generate_sentiment_feature(train_df_stage_2)\n",
    "test_df_stage_2 = generate_sentiment_feature(test_df_stage_2)"
   ]
  },
  {
   "cell_type": "code",
   "execution_count": null,
   "metadata": {},
   "outputs": [],
   "source": [
    "train_df_stage_2.sample(5, random_state=random_seed)"
   ]
  },
  {
   "cell_type": "code",
   "execution_count": null,
   "metadata": {},
   "outputs": [],
   "source": [
    "# save point\n",
    "train_df_stage_2.to_csv('Twibot-20/data_creation/train_df_stage_2.csv')\n",
    "test_df_stage_2.to_csv('Twibot-20/data_creation/test_df_stage_2.csv')"
   ]
  },
  {
   "cell_type": "code",
   "execution_count": null,
   "metadata": {},
   "outputs": [],
   "source": [
    "# train_df_stage_2 = pd.read_csv('Twibot-20/data_creation/train_df_stage_2.csv')\n",
    "# test_df_stage_2 = pd.read_csv('Twibot-20/data_creation/test_df_stage_2.csv')"
   ]
  },
  {
   "cell_type": "code",
   "execution_count": null,
   "metadata": {},
   "outputs": [],
   "source": [
    "train_df_stage_3 = tweet_level_feature_generation(train_df_stage_2)\n",
    "test_df_stage_3 = tweet_level_feature_generation(test_df_stage_2)"
   ]
  },
  {
   "cell_type": "code",
   "execution_count": null,
   "metadata": {},
   "outputs": [],
   "source": [
    "train_df_stage_3 = extract_nmf_feature(train_df_stage_3)\n",
    "test_df_stage_3 = extract_nmf_feature(test_df_stage_3)"
   ]
  },
  {
   "cell_type": "code",
   "execution_count": null,
   "metadata": {},
   "outputs": [],
   "source": [
    "train_df_stage_3.sample(5, random_state=random_seed)"
   ]
  },
  {
   "cell_type": "code",
   "execution_count": null,
   "metadata": {},
   "outputs": [],
   "source": [
    "# save point\n",
    "train_df_stage_3.to_csv('Twibot-20/data_creation/train_df_stage_3.csv')\n",
    "test_df_stage_3.to_csv('Twibot-20/data_creation/test_df_stage_3.csv')"
   ]
  }
 ],
 "metadata": {
  "interpreter": {
   "hash": "58122c4832fdacea577bb4b8c1ab9178e3432673b93bc4408ac4b70d2ef80f32"
  },
  "kernelspec": {
   "display_name": "Python 3.9.7 ('ML_w_tf_env')",
   "language": "python",
   "name": "python3"
  },
  "language_info": {
   "codemirror_mode": {
    "name": "ipython",
    "version": 3
   },
   "file_extension": ".py",
   "mimetype": "text/x-python",
   "name": "python",
   "nbconvert_exporter": "python",
   "pygments_lexer": "ipython3",
   "version": "3.9.7"
  },
  "orig_nbformat": 4
 },
 "nbformat": 4,
 "nbformat_minor": 2
}
