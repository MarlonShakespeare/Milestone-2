{
 "cells": [
  {
   "cell_type": "code",
   "execution_count": 1,
   "metadata": {},
   "outputs": [],
   "source": [
    "import numpy as np\n",
    "import pandas as pd\n",
    "import gzip\n",
    "import pickle\n",
    "from collections import Counter\n",
    "from utils import split_all_data\n",
    "from scipy.stats import skew, kurtosis\n",
    "\n",
    "import re\n",
    "import spacy\n",
    "from nltk.stem import PorterStemmer\n",
    "from nltk.corpus import stopwords\n",
    "\n",
    "from sklearn.decomposition import NMF\n",
    "from sklearn.feature_extraction.text import TfidfVectorizer\n",
    "from sklearn.pipeline import make_pipeline\n",
    "\n",
    "import seaborn as sns\n",
    "import matplotlib.pyplot as plt\n",
    "from IPython.display import display\n",
    "\n",
    "import warnings\n",
    "warnings.filterwarnings('ignore')"
   ]
  },
  {
   "cell_type": "code",
   "execution_count": 2,
   "metadata": {},
   "outputs": [],
   "source": [
    "# if you dont have the model uncomment the line below\n",
    "#!python -m spacy download en_core_web_lg"
   ]
  },
  {
   "cell_type": "code",
   "execution_count": 3,
   "metadata": {},
   "outputs": [],
   "source": [
    "RANDOM_SEED = 1835"
   ]
  },
  {
   "cell_type": "code",
   "execution_count": 6,
   "metadata": {},
   "outputs": [
    {
     "name": "stdout",
     "output_type": "stream",
     "text": [
      "Loading the data...\n",
      "Splitting the data...\n"
     ]
    }
   ],
   "source": [
    "data_dict = split_all_data(.8, random_state=RANDOM_SEED)\n",
    "train_df = data_dict['train']"
   ]
  },
  {
   "cell_type": "markdown",
   "metadata": {},
   "source": [
    "### Section 1 Tokenizer and Stemming functions"
   ]
  },
  {
   "cell_type": "markdown",
   "metadata": {},
   "source": [
    "#### 1.1 Definitions"
   ]
  },
  {
   "cell_type": "code",
   "execution_count": 4,
   "metadata": {},
   "outputs": [],
   "source": [
    "spacy_model = spacy.load('en_core_web_lg')\n",
    "\n",
    "def spacy_tokenizer(text):\n",
    "    sp_text = spacy_model(text)\n",
    "    tokens = [token.lemma_ for token in sp_text if (not token.is_stop and token.is_alpha)]\n",
    "    return tokens"
   ]
  },
  {
   "cell_type": "code",
   "execution_count": 5,
   "metadata": {},
   "outputs": [],
   "source": [
    "stop_words = stopwords.words('english')\n",
    "\n",
    "stemmer = PorterStemmer()\n",
    "def stem_token(text):\n",
    "    tokens = [stemmer.stem(word) for word in re.findall(r'\\w\\w+', text) if word not in stop_words]\n",
    "    return tokens"
   ]
  },
  {
   "cell_type": "markdown",
   "metadata": {},
   "source": [
    "#### 1.2 Speed Comparison"
   ]
  },
  {
   "cell_type": "code",
   "execution_count": 7,
   "metadata": {},
   "outputs": [
    {
     "name": "stdout",
     "output_type": "stream",
     "text": [
      "25.6 ms ± 4.07 ms per loop (mean ± std. dev. of 7 runs, 10 loops each)\n"
     ]
    }
   ],
   "source": [
    "%%timeit\n",
    "spacy_tokenizer(train_df['tweet'].iloc[10][0])"
   ]
  },
  {
   "cell_type": "code",
   "execution_count": 8,
   "metadata": {},
   "outputs": [
    {
     "name": "stdout",
     "output_type": "stream",
     "text": [
      "964 µs ± 81.7 µs per loop (mean ± std. dev. of 7 runs, 1000 loops each)\n"
     ]
    }
   ],
   "source": [
    "%%timeit\n",
    "stem_token(train_df['tweet'].iloc[10][0])"
   ]
  },
  {
   "cell_type": "markdown",
   "metadata": {},
   "source": [
    "#### 1.3 Output Comparison"
   ]
  },
  {
   "cell_type": "code",
   "execution_count": 9,
   "metadata": {},
   "outputs": [
    {
     "name": "stdout",
     "output_type": "stream",
     "text": [
      "user: 1290597237991575552 - label: 1\n",
      " Stemming:      [('no', 1), ('question', 1), ('de', 1), ('jong', 1), ('bloke', 1), ('worst', 1), ('striker', 1), ('ever', 1), ('seen', 1), ('life', 1)] \n",
      " Lemmatization: [('question', 1), ('De', 1), ('Jong', 1), ('bloke', 1), ('bad', 1), ('striker', 1), ('see', 1), ('life', 1), ('score', 1), ('winner', 1)] \n",
      "\n",
      "user: 159535879 - label: 0\n",
      " Stemming:      [('rt', 1), ('sadwrit', 1), ('http', 1), ('co', 1), ('ibdvhk7ayt', 1)] \n",
      " Lemmatization: [('RT', 1)] \n",
      "\n",
      "user: 22189352 - label: 0\n",
      " Stemming:      [('fire', 2), ('final', 1), ('no', 1), ('injuri', 1), ('ff', 1), ('civilian', 1), ('occup', 1), ('displac', 1), ('due', 1), ('caus', 1)] \n",
      " Lemmatization: [('fire', 2), ('FINAL', 1), ('injury', 1), ('FF', 1), ('civilian', 1), ('occupant', 1), ('displace', 1), ('cause', 1), ('investigation', 1)] \n",
      "\n",
      "user: 2637583066 - label: 1\n",
      " Stemming:      [('5g06021008', 1), ('efiaodo1', 1), ('you', 1), ('right', 1), ('lol', 1), ('swear', 1)] \n",
      " Lemmatization: [('right', 1), ('lol', 1), ('swear', 1)] \n",
      "\n",
      "user: 979469572494495744 - label: 0\n",
      " Stemming:      [('el', 2), ('http', 2), ('co', 2), ('tan', 1), ('cansado', 1), ('pero', 1), ('vivo', 1), ('es', 1), ('nuevo', 1), ('materi', 1)] \n",
      " Lemmatization: [('el', 2), ('Tan', 1), ('cansado', 1), ('pero', 1), ('vivo', 1), ('es', 1), ('nuevo', 1), ('material', 1), ('de', 1), ('Escuchá', 1)] \n",
      "\n",
      "user: 315695307 - label: 0\n",
      " Stemming:      [('rt', 2), ('_yourgirl_t', 1), ('break', 1), ('new', 1), ('that', 1), ('phone', 1), ('use', 1), ('read', 1), ('tweet', 1), ('ring', 1)] \n",
      " Lemmatization: [('RT', 2), ('BREAKING', 1), ('NEWS', 1), ('phone', 1), ('read', 1), ('tweet', 1), ('ring', 1), ('success', 1), ('job', 1), ('opportunity', 1)] \n",
      "\n",
      "user: 221782984 - label: 1\n",
      " Stemming:      [('joebiden', 1), ('pleas', 1), ('follow', 1), ('tomfriedman', 1), ('advic', 1), ('debat', 1), ('unless', 1), ('releas', 1), ('tax', 1), ('return', 1)] \n",
      " Lemmatization: [('follow', 1), ('advice', 1), ('debate', 1), ('release', 1), ('tax', 1), ('return', 1)] \n",
      "\n",
      "user: 334110750 - label: 0\n",
      " Stemming:      [('vote', 1), ('littl', 1), ('brother', 1), ('quentin', 1), ('skinner', 1), ('quentinfskinn', 1), ('http', 1), ('co', 1), ('7bkwikknef', 1)] \n",
      " Lemmatization: [('vote', 1), ('little', 1), ('brother', 1), ('Quentin', 1), ('Skinner', 1)] \n",
      "\n",
      "user: 1079641484310134784 - label: 1\n",
      " Stemming:      [('flag', 2), ('rt', 1), ('msyallpolit', 1), ('the', 1), ('vote', 1), ('ballot', 1), ('new', 1), ('magnolia', 1), ('stateflag', 1), ('msleg', 1)] \n",
      " Lemmatization: [('RT', 1), ('vote', 1), ('flag', 1), ('ballot', 1), ('New', 1), ('Magnolia', 1), ('Flag', 1), ('stateflag', 1), ('msleg', 1), ('mselex', 1)] \n",
      "\n",
      "user: 36383320 - label: 0\n",
      " Stemming:      [('est', 3), ('comprendr', 2), ('autrui', 2), ('sa', 2), ('http', 2), ('co', 2), ('respect', 1), ('son', 1), ('altérité', 1), ('dignité', 1)] \n",
      " Lemmatization: [('Comprendre', 2), ('autrui', 2), ('sa', 2), ('respecter', 1), ('son', 1), ('altérité', 1), ('dignité', 1), ('liberté', 1), ('retrouver', 1), ('le', 1)] \n",
      "\n"
     ]
    }
   ],
   "source": [
    "# testing the tokenizer/lemmatizer\n",
    "for item in train_df.sample(10, random_state=RANDOM_SEED).itertuples():\n",
    "    if item[3] is not None:\n",
    "        tokenized_s = stem_token(item[3][0])\n",
    "        tokenized_l = spacy_tokenizer(item[3][0])\n",
    "        count_stem = Counter(tokenized_s)\n",
    "        count_lemm = Counter(tokenized_l)\n",
    "        print(f'user: {item[1]} - label: {item[-1]}\\n', 'Stemming:     ', count_stem.most_common(10), '\\n', 'Lemmatization:', count_lemm.most_common(10), '\\n')\n",
    "    else:\n",
    "        pass"
   ]
  },
  {
   "cell_type": "markdown",
   "metadata": {},
   "source": [
    "### Section 2 Topic Extraction"
   ]
  },
  {
   "cell_type": "markdown",
   "metadata": {},
   "source": [
    "#### 2.1 Definition"
   ]
  },
  {
   "cell_type": "code",
   "execution_count": 10,
   "metadata": {},
   "outputs": [],
   "source": [
    "def extract_topic_feature(row, components=None, tokenizer=None, random_state=None):\n",
    "    \n",
    "    if row is not None:\n",
    "        tweets = np.array(row)\n",
    "\n",
    "        vectorize = TfidfVectorizer(tokenizer=tokenizer, \n",
    "                                    ngram_range=(1, 2),\n",
    "                                    stop_words=None if tokenizer is not None else 'english',\n",
    "                                    min_df=2,\n",
    "                                    max_features=3000)\n",
    "        try:\n",
    "            vect_tweets = vectorize.fit_transform(tweets)\n",
    "        except Exception:\n",
    "            return np.nan\n",
    "            \n",
    "        print(vect_tweets.shape)\n",
    "        if components is None:\n",
    "            components = min(vect_tweets.shape)\n",
    "            if components < 2:\n",
    "                return np.nan\n",
    "        elif components > min(vect_tweets.shape):\n",
    "            components = min(vect_tweets.shape)\n",
    "            if components < 2:\n",
    "                return np.nan\n",
    "\n",
    "        nmf_model = NMF(n_components=components, \n",
    "                        init='nndsvd', \n",
    "                        max_iter=200, \n",
    "                        random_state=random_state)\n",
    "        \n",
    "        try:\n",
    "            W = nmf_model.fit_transform(vect_tweets)\n",
    "        except ValueError as e:\n",
    "            print(e)\n",
    "            return np.nan\n",
    "        \n",
    "        index_max = []\n",
    "        for index in range(W.shape[0]):\n",
    "            max_val_index = np.argmax(W[index])\n",
    "            index_max.append(max_val_index)\n",
    "            \n",
    "        index_norm = np.array(index_max) / components\n",
    "        \n",
    "        return index_norm\n",
    "    else:\n",
    "        return np.nan"
   ]
  },
  {
   "cell_type": "code",
   "execution_count": 11,
   "metadata": {},
   "outputs": [],
   "source": [
    "# unweighted gini coefficient measure taken from https://stackoverflow.com/questions/48999542/more-efficient-weighted-gini-coefficient-in-python by user Gaëtan de Menten\n",
    "def gini(x):\n",
    "    sorted_x = np.sort(x)\n",
    "    n = len(x)\n",
    "    cumx = np.cumsum(sorted_x, dtype=float)\n",
    "    return (n + 1 - 2 * np.sum(cumx) / cumx[-1]) / n"
   ]
  },
  {
   "cell_type": "markdown",
   "metadata": {},
   "source": [
    "#### 2.2 Testing with different preprocessing"
   ]
  },
  {
   "cell_type": "code",
   "execution_count": 12,
   "metadata": {},
   "outputs": [
    {
     "name": "stdout",
     "output_type": "stream",
     "text": [
      "ID: 1290597237991575552 - Label 1 - number of tweets 17\n",
      "(17, 15)\n",
      "(17, 21)\n",
      "(17, 9)\n"
     ]
    },
    {
     "data": {
      "text/html": [
       "<div>\n",
       "<style scoped>\n",
       "    .dataframe tbody tr th:only-of-type {\n",
       "        vertical-align: middle;\n",
       "    }\n",
       "\n",
       "    .dataframe tbody tr th {\n",
       "        vertical-align: top;\n",
       "    }\n",
       "\n",
       "    .dataframe thead th {\n",
       "        text-align: right;\n",
       "    }\n",
       "</style>\n",
       "<table border=\"1\" class=\"dataframe\">\n",
       "  <thead>\n",
       "    <tr style=\"text-align: right;\">\n",
       "      <th></th>\n",
       "      <th>only stopword removal</th>\n",
       "      <th>with stemming</th>\n",
       "      <th>with lemmatization</th>\n",
       "    </tr>\n",
       "  </thead>\n",
       "  <tbody>\n",
       "    <tr>\n",
       "      <th>skewness</th>\n",
       "      <td>0.326791</td>\n",
       "      <td>0.159167</td>\n",
       "      <td>0.32896</td>\n",
       "    </tr>\n",
       "    <tr>\n",
       "      <th>kurtosis</th>\n",
       "      <td>-1.193163</td>\n",
       "      <td>-1.178777</td>\n",
       "      <td>-1.449917</td>\n",
       "    </tr>\n",
       "    <tr>\n",
       "      <th>standard deviation</th>\n",
       "      <td>0.196861</td>\n",
       "      <td>0.231343</td>\n",
       "      <td>0.252122</td>\n",
       "    </tr>\n",
       "    <tr>\n",
       "      <th>gini coefficient</th>\n",
       "      <td>0.47451</td>\n",
       "      <td>0.443228</td>\n",
       "      <td>0.546003</td>\n",
       "    </tr>\n",
       "  </tbody>\n",
       "</table>\n",
       "</div>"
      ],
      "text/plain": [
       "                   only stopword removal with stemming with lemmatization\n",
       "skewness                        0.326791      0.159167            0.32896\n",
       "kurtosis                       -1.193163     -1.178777          -1.449917\n",
       "standard deviation              0.196861      0.231343           0.252122\n",
       "gini coefficient                 0.47451      0.443228           0.546003"
      ]
     },
     "metadata": {},
     "output_type": "display_data"
    },
    {
     "data": {
      "image/png": "[encoded data removed]",
      "text/plain": [
       "<Figure size 1080x288 with 3 Axes>"
      ]
     },
     "metadata": {
      "needs_background": "light"
     },
     "output_type": "display_data"
    },
    {
     "name": "stdout",
     "output_type": "stream",
     "text": [
      "ID: 159535879 - Label 0 - number of tweets 194\n",
      "(194, 273)\n",
      "(194, 291)\n",
      "(194, 283)\n"
     ]
    },
    {
     "data": {
      "text/html": [
       "<div>\n",
       "<style scoped>\n",
       "    .dataframe tbody tr th:only-of-type {\n",
       "        vertical-align: middle;\n",
       "    }\n",
       "\n",
       "    .dataframe tbody tr th {\n",
       "        vertical-align: top;\n",
       "    }\n",
       "\n",
       "    .dataframe thead th {\n",
       "        text-align: right;\n",
       "    }\n",
       "</style>\n",
       "<table border=\"1\" class=\"dataframe\">\n",
       "  <thead>\n",
       "    <tr style=\"text-align: right;\">\n",
       "      <th></th>\n",
       "      <th>only stopword removal</th>\n",
       "      <th>with stemming</th>\n",
       "      <th>with lemmatization</th>\n",
       "    </tr>\n",
       "  </thead>\n",
       "  <tbody>\n",
       "    <tr>\n",
       "      <th>skewness</th>\n",
       "      <td>0.138261</td>\n",
       "      <td>-0.00147</td>\n",
       "      <td>0.179276</td>\n",
       "    </tr>\n",
       "    <tr>\n",
       "      <th>kurtosis</th>\n",
       "      <td>-1.467398</td>\n",
       "      <td>-1.434591</td>\n",
       "      <td>-1.378779</td>\n",
       "    </tr>\n",
       "    <tr>\n",
       "      <th>standard deviation</th>\n",
       "      <td>0.30613</td>\n",
       "      <td>0.303012</td>\n",
       "      <td>0.28753</td>\n",
       "    </tr>\n",
       "    <tr>\n",
       "      <th>gini coefficient</th>\n",
       "      <td>0.451416</td>\n",
       "      <td>0.419442</td>\n",
       "      <td>0.450835</td>\n",
       "    </tr>\n",
       "  </tbody>\n",
       "</table>\n",
       "</div>"
      ],
      "text/plain": [
       "                   only stopword removal with stemming with lemmatization\n",
       "skewness                        0.138261      -0.00147           0.179276\n",
       "kurtosis                       -1.467398     -1.434591          -1.378779\n",
       "standard deviation               0.30613      0.303012            0.28753\n",
       "gini coefficient                0.451416      0.419442           0.450835"
      ]
     },
     "metadata": {},
     "output_type": "display_data"
    },
    {
     "data": {
      "image/png": "[encoded data removed]",
      "text/plain": [
       "<Figure size 1080x288 with 3 Axes>"
      ]
     },
     "metadata": {
      "needs_background": "light"
     },
     "output_type": "display_data"
    },
    {
     "name": "stdout",
     "output_type": "stream",
     "text": [
      "ID: 22189352 - Label 0 - number of tweets 200\n",
      "(200, 863)\n",
      "(200, 935)\n",
      "(200, 806)\n"
     ]
    },
    {
     "data": {
      "text/html": [
       "<div>\n",
       "<style scoped>\n",
       "    .dataframe tbody tr th:only-of-type {\n",
       "        vertical-align: middle;\n",
       "    }\n",
       "\n",
       "    .dataframe tbody tr th {\n",
       "        vertical-align: top;\n",
       "    }\n",
       "\n",
       "    .dataframe thead th {\n",
       "        text-align: right;\n",
       "    }\n",
       "</style>\n",
       "<table border=\"1\" class=\"dataframe\">\n",
       "  <thead>\n",
       "    <tr style=\"text-align: right;\">\n",
       "      <th></th>\n",
       "      <th>only stopword removal</th>\n",
       "      <th>with stemming</th>\n",
       "      <th>with lemmatization</th>\n",
       "    </tr>\n",
       "  </thead>\n",
       "  <tbody>\n",
       "    <tr>\n",
       "      <th>skewness</th>\n",
       "      <td>-0.029342</td>\n",
       "      <td>-0.207656</td>\n",
       "      <td>-0.017174</td>\n",
       "    </tr>\n",
       "    <tr>\n",
       "      <th>kurtosis</th>\n",
       "      <td>-1.261706</td>\n",
       "      <td>-1.334327</td>\n",
       "      <td>-1.209669</td>\n",
       "    </tr>\n",
       "    <tr>\n",
       "      <th>standard deviation</th>\n",
       "      <td>0.296591</td>\n",
       "      <td>0.317527</td>\n",
       "      <td>0.2906</td>\n",
       "    </tr>\n",
       "    <tr>\n",
       "      <th>gini coefficient</th>\n",
       "      <td>0.346832</td>\n",
       "      <td>0.328663</td>\n",
       "      <td>0.343154</td>\n",
       "    </tr>\n",
       "  </tbody>\n",
       "</table>\n",
       "</div>"
      ],
      "text/plain": [
       "                   only stopword removal with stemming with lemmatization\n",
       "skewness                       -0.029342     -0.207656          -0.017174\n",
       "kurtosis                       -1.261706     -1.334327          -1.209669\n",
       "standard deviation              0.296591      0.317527             0.2906\n",
       "gini coefficient                0.346832      0.328663           0.343154"
      ]
     },
     "metadata": {},
     "output_type": "display_data"
    },
    {
     "data": {
      "image/png": "[encoded data removed]",
      "text/plain": [
       "<Figure size 1080x288 with 3 Axes>"
      ]
     },
     "metadata": {
      "needs_background": "light"
     },
     "output_type": "display_data"
    },
    {
     "name": "stdout",
     "output_type": "stream",
     "text": [
      "ID: 2637583066 - Label 1 - number of tweets 200\n",
      "(200, 212)\n",
      "(200, 228)\n",
      "(200, 152)\n"
     ]
    },
    {
     "data": {
      "text/html": [
       "<div>\n",
       "<style scoped>\n",
       "    .dataframe tbody tr th:only-of-type {\n",
       "        vertical-align: middle;\n",
       "    }\n",
       "\n",
       "    .dataframe tbody tr th {\n",
       "        vertical-align: top;\n",
       "    }\n",
       "\n",
       "    .dataframe thead th {\n",
       "        text-align: right;\n",
       "    }\n",
       "</style>\n",
       "<table border=\"1\" class=\"dataframe\">\n",
       "  <thead>\n",
       "    <tr style=\"text-align: right;\">\n",
       "      <th></th>\n",
       "      <th>only stopword removal</th>\n",
       "      <th>with stemming</th>\n",
       "      <th>with lemmatization</th>\n",
       "    </tr>\n",
       "  </thead>\n",
       "  <tbody>\n",
       "    <tr>\n",
       "      <th>skewness</th>\n",
       "      <td>0.217854</td>\n",
       "      <td>0.270507</td>\n",
       "      <td>0.664794</td>\n",
       "    </tr>\n",
       "    <tr>\n",
       "      <th>kurtosis</th>\n",
       "      <td>-1.415758</td>\n",
       "      <td>-1.306865</td>\n",
       "      <td>-0.975609</td>\n",
       "    </tr>\n",
       "    <tr>\n",
       "      <th>standard deviation</th>\n",
       "      <td>0.261645</td>\n",
       "      <td>0.26982</td>\n",
       "      <td>0.258526</td>\n",
       "    </tr>\n",
       "    <tr>\n",
       "      <th>gini coefficient</th>\n",
       "      <td>0.460829</td>\n",
       "      <td>0.456085</td>\n",
       "      <td>0.571356</td>\n",
       "    </tr>\n",
       "  </tbody>\n",
       "</table>\n",
       "</div>"
      ],
      "text/plain": [
       "                   only stopword removal with stemming with lemmatization\n",
       "skewness                        0.217854      0.270507           0.664794\n",
       "kurtosis                       -1.415758     -1.306865          -0.975609\n",
       "standard deviation              0.261645       0.26982           0.258526\n",
       "gini coefficient                0.460829      0.456085           0.571356"
      ]
     },
     "metadata": {},
     "output_type": "display_data"
    },
    {
     "data": {
      "image/png": "[encoded data removed]",
      "text/plain": [
       "<Figure size 1080x288 with 3 Axes>"
      ]
     },
     "metadata": {
      "needs_background": "light"
     },
     "output_type": "display_data"
    },
    {
     "name": "stdout",
     "output_type": "stream",
     "text": [
      "ID: 979469572494495744 - Label 0 - number of tweets 200\n",
      "(200, 642)\n",
      "(200, 678)\n",
      "(200, 598)\n"
     ]
    },
    {
     "data": {
      "text/html": [
       "<div>\n",
       "<style scoped>\n",
       "    .dataframe tbody tr th:only-of-type {\n",
       "        vertical-align: middle;\n",
       "    }\n",
       "\n",
       "    .dataframe tbody tr th {\n",
       "        vertical-align: top;\n",
       "    }\n",
       "\n",
       "    .dataframe thead th {\n",
       "        text-align: right;\n",
       "    }\n",
       "</style>\n",
       "<table border=\"1\" class=\"dataframe\">\n",
       "  <thead>\n",
       "    <tr style=\"text-align: right;\">\n",
       "      <th></th>\n",
       "      <th>only stopword removal</th>\n",
       "      <th>with stemming</th>\n",
       "      <th>with lemmatization</th>\n",
       "    </tr>\n",
       "  </thead>\n",
       "  <tbody>\n",
       "    <tr>\n",
       "      <th>skewness</th>\n",
       "      <td>-0.170138</td>\n",
       "      <td>-0.196188</td>\n",
       "      <td>0.109939</td>\n",
       "    </tr>\n",
       "    <tr>\n",
       "      <th>kurtosis</th>\n",
       "      <td>-1.267489</td>\n",
       "      <td>-1.319118</td>\n",
       "      <td>-1.413266</td>\n",
       "    </tr>\n",
       "    <tr>\n",
       "      <th>standard deviation</th>\n",
       "      <td>0.306642</td>\n",
       "      <td>0.31328</td>\n",
       "      <td>0.297228</td>\n",
       "    </tr>\n",
       "    <tr>\n",
       "      <th>gini coefficient</th>\n",
       "      <td>0.345475</td>\n",
       "      <td>0.353204</td>\n",
       "      <td>0.424658</td>\n",
       "    </tr>\n",
       "  </tbody>\n",
       "</table>\n",
       "</div>"
      ],
      "text/plain": [
       "                   only stopword removal with stemming with lemmatization\n",
       "skewness                       -0.170138     -0.196188           0.109939\n",
       "kurtosis                       -1.267489     -1.319118          -1.413266\n",
       "standard deviation              0.306642       0.31328           0.297228\n",
       "gini coefficient                0.345475      0.353204           0.424658"
      ]
     },
     "metadata": {},
     "output_type": "display_data"
    },
    {
     "data": {
      "image/png": "[encoded data removed]",
      "text/plain": [
       "<Figure size 1080x288 with 3 Axes>"
      ]
     },
     "metadata": {
      "needs_background": "light"
     },
     "output_type": "display_data"
    }
   ],
   "source": [
    "\n",
    "\n",
    "for row in train_df.sample(5, random_state=RANDOM_SEED).itertuples():\n",
    "    print(f\"ID: {row[1]} - Label {row[-1]} - number of tweets {len(row[3])}\")\n",
    "    ind0 = extract_topic_feature(row[3])\n",
    "    ind1 = extract_topic_feature(row[3], tokenizer=stem_token)\n",
    "    ind2 = extract_topic_feature(row[3], tokenizer=spacy_tokenizer)\n",
    "\n",
    "    temp_df = pd.DataFrame(index=['skewness', 'kurtosis', 'standard deviation', 'gini coefficient'], columns=['only stopword removal', 'with stemming', 'with lemmatization'])\n",
    "\n",
    "    temp_df.loc['skewness', 'only stopword removal'] = skew(ind0)\n",
    "    temp_df.loc['skewness', 'with stemming'] = skew(ind1)\n",
    "    temp_df.loc['skewness', 'with lemmatization'] = skew(ind2)\n",
    "    \n",
    "\n",
    "    temp_df.loc['kurtosis', 'only stopword removal'] = kurtosis(ind0)\n",
    "    temp_df.loc['kurtosis', 'with stemming'] = kurtosis(ind1)\n",
    "    temp_df.loc['kurtosis', 'with lemmatization'] = kurtosis(ind2)\n",
    "\n",
    "    temp_df.loc['standard deviation', 'only stopword removal'] = ind0.std()\n",
    "    temp_df.loc['standard deviation', 'with stemming'] = ind1.std()\n",
    "    temp_df.loc['standard deviation', 'with lemmatization'] = ind2.std()\n",
    "\n",
    "    temp_df.loc['gini coefficient', 'only stopword removal'] = gini(ind0)\n",
    "    temp_df.loc['gini coefficient', 'with stemming'] = gini(ind1)\n",
    "    temp_df.loc['gini coefficient', 'with lemmatization'] = gini(ind2)\n",
    "    \n",
    "    display(temp_df)\n",
    "\n",
    "    fig, ax = plt.subplots(1, 3, figsize=(15, 4))\n",
    "    \n",
    "    sns.histplot(ind0, ax=ax[0])\n",
    "    ax[0].set_title('Only Stopword Removal')\n",
    "    sns.histplot(ind1, ax=ax[1])\n",
    "    ax[1].set_title('Stemming and Stopword Removal')\n",
    "    sns.histplot(ind2, ax=ax[2])\n",
    "    ax[2].set_title('Lemmatization and Stopword Removal')\n",
    "\n",
    "\n",
    "    plt.tight_layout()\n",
    "    plt.show()"
   ]
  },
  {
   "cell_type": "code",
   "execution_count": 13,
   "metadata": {},
   "outputs": [],
   "source": [
    "def extract_nmf_feature(df, tokenizer=spacy_tokenizer):\n",
    "    df.loc[:, 'topic_dist'] = df['tweet'].apply(lambda x: extract_topic_feature(x, tokenizer=tokenizer) if x is not None else np.nan)\n",
    "    df.loc[:, 'topic_skew'] = df['topic_dist'].apply(lambda x: skew(x) if x is not None else np.nan)\n",
    "    df.loc[:, 'topic_kurtosis'] = df['topic_dist'].apply(lambda x: kurtosis(x) if x is not None else np.nan)\n",
    "    df.loc[:, 'topic_gini'] = df['topic_dist'].apply(lambda x: gini(x) if (x is not None) and (len(x) > 0) else np.nan)\n",
    "    df.loc[:, 'topic_std'] = df['topic_dist'].apply(lambda x: np.array(x).std() if x is not None else np.nan)\n",
    "    return df"
   ]
  },
  {
   "cell_type": "code",
   "execution_count": 14,
   "metadata": {},
   "outputs": [
    {
     "name": "stdout",
     "output_type": "stream",
     "text": [
      "(17, 9)\n",
      "(194, 283)\n",
      "(200, 806)\n",
      "(200, 152)\n",
      "(200, 598)\n",
      "(197, 192)\n",
      "(144, 210)\n",
      "(184, 126)\n",
      "(200, 347)\n",
      "(200, 1318)\n",
      "Wall time: 1min 10s\n"
     ]
    }
   ],
   "source": [
    "%%time\n",
    "with_topic_feat = extract_nmf_feature(train_df.sample(10, random_state=RANDOM_SEED))"
   ]
  },
  {
   "cell_type": "code",
   "execution_count": 15,
   "metadata": {},
   "outputs": [
    {
     "data": {
      "text/html": [
       "<div>\n",
       "<style scoped>\n",
       "    .dataframe tbody tr th:only-of-type {\n",
       "        vertical-align: middle;\n",
       "    }\n",
       "\n",
       "    .dataframe tbody tr th {\n",
       "        vertical-align: top;\n",
       "    }\n",
       "\n",
       "    .dataframe thead th {\n",
       "        text-align: right;\n",
       "    }\n",
       "</style>\n",
       "<table border=\"1\" class=\"dataframe\">\n",
       "  <thead>\n",
       "    <tr style=\"text-align: right;\">\n",
       "      <th></th>\n",
       "      <th>topic_dist</th>\n",
       "      <th>topic_skew</th>\n",
       "      <th>topic_kurtosis</th>\n",
       "      <th>topic_gini</th>\n",
       "      <th>topic_std</th>\n",
       "      <th>label</th>\n",
       "    </tr>\n",
       "  </thead>\n",
       "  <tbody>\n",
       "    <tr>\n",
       "      <th>10139</th>\n",
       "      <td>[0.0, 0.0, 0.4444444444444444, 0.6666666666666...</td>\n",
       "      <td>0.328960</td>\n",
       "      <td>-1.449917</td>\n",
       "      <td>0.546003</td>\n",
       "      <td>0.252122</td>\n",
       "      <td>1</td>\n",
       "    </tr>\n",
       "    <tr>\n",
       "      <th>4587</th>\n",
       "      <td>[0.0, 0.36082474226804123, 0.04123711340206185...</td>\n",
       "      <td>0.179276</td>\n",
       "      <td>-1.378779</td>\n",
       "      <td>0.450835</td>\n",
       "      <td>0.287530</td>\n",
       "      <td>0</td>\n",
       "    </tr>\n",
       "    <tr>\n",
       "      <th>11274</th>\n",
       "      <td>[0.4, 0.845, 0.275, 0.7, 0.43, 0.87, 0.63, 0.3...</td>\n",
       "      <td>-0.017174</td>\n",
       "      <td>-1.209669</td>\n",
       "      <td>0.343154</td>\n",
       "      <td>0.290600</td>\n",
       "      <td>0</td>\n",
       "    </tr>\n",
       "    <tr>\n",
       "      <th>1244</th>\n",
       "      <td>[0.16447368421052633, 0.006578947368421052, 0....</td>\n",
       "      <td>0.664794</td>\n",
       "      <td>-0.975609</td>\n",
       "      <td>0.571356</td>\n",
       "      <td>0.258526</td>\n",
       "      <td>1</td>\n",
       "    </tr>\n",
       "    <tr>\n",
       "      <th>3949</th>\n",
       "      <td>[0.78, 0.055, 0.79, 0.74, 0.575, 0.41, 0.465, ...</td>\n",
       "      <td>0.109939</td>\n",
       "      <td>-1.413266</td>\n",
       "      <td>0.424658</td>\n",
       "      <td>0.297228</td>\n",
       "      <td>0</td>\n",
       "    </tr>\n",
       "    <tr>\n",
       "      <th>7742</th>\n",
       "      <td>[0.7552083333333334, 0.6927083333333334, 0.593...</td>\n",
       "      <td>0.204749</td>\n",
       "      <td>-1.407951</td>\n",
       "      <td>0.472705</td>\n",
       "      <td>0.273459</td>\n",
       "      <td>0</td>\n",
       "    </tr>\n",
       "    <tr>\n",
       "      <th>2018</th>\n",
       "      <td>[0.4930555555555556, 0.20833333333333334, 0.21...</td>\n",
       "      <td>0.028777</td>\n",
       "      <td>-1.357506</td>\n",
       "      <td>0.398836</td>\n",
       "      <td>0.281260</td>\n",
       "      <td>1</td>\n",
       "    </tr>\n",
       "    <tr>\n",
       "      <th>2682</th>\n",
       "      <td>[0.8571428571428571, 0.0, 0.0, 0.6349206349206...</td>\n",
       "      <td>0.417498</td>\n",
       "      <td>-1.386702</td>\n",
       "      <td>0.533920</td>\n",
       "      <td>0.317168</td>\n",
       "      <td>0</td>\n",
       "    </tr>\n",
       "    <tr>\n",
       "      <th>9994</th>\n",
       "      <td>[0.085, 0.3, 0.615, 0.53, 0.19, 0.0, 0.37, 0.4...</td>\n",
       "      <td>0.114007</td>\n",
       "      <td>-1.298732</td>\n",
       "      <td>0.401189</td>\n",
       "      <td>0.286928</td>\n",
       "      <td>1</td>\n",
       "    </tr>\n",
       "    <tr>\n",
       "      <th>10884</th>\n",
       "      <td>[0.445, 0.445, 0.47, 0.47, 0.47, 0.785, 0.47, ...</td>\n",
       "      <td>0.061169</td>\n",
       "      <td>-0.432280</td>\n",
       "      <td>0.291581</td>\n",
       "      <td>0.243930</td>\n",
       "      <td>0</td>\n",
       "    </tr>\n",
       "  </tbody>\n",
       "</table>\n",
       "</div>"
      ],
      "text/plain": [
       "                                              topic_dist  topic_skew  \\\n",
       "10139  [0.0, 0.0, 0.4444444444444444, 0.6666666666666...    0.328960   \n",
       "4587   [0.0, 0.36082474226804123, 0.04123711340206185...    0.179276   \n",
       "11274  [0.4, 0.845, 0.275, 0.7, 0.43, 0.87, 0.63, 0.3...   -0.017174   \n",
       "1244   [0.16447368421052633, 0.006578947368421052, 0....    0.664794   \n",
       "3949   [0.78, 0.055, 0.79, 0.74, 0.575, 0.41, 0.465, ...    0.109939   \n",
       "7742   [0.7552083333333334, 0.6927083333333334, 0.593...    0.204749   \n",
       "2018   [0.4930555555555556, 0.20833333333333334, 0.21...    0.028777   \n",
       "2682   [0.8571428571428571, 0.0, 0.0, 0.6349206349206...    0.417498   \n",
       "9994   [0.085, 0.3, 0.615, 0.53, 0.19, 0.0, 0.37, 0.4...    0.114007   \n",
       "10884  [0.445, 0.445, 0.47, 0.47, 0.47, 0.785, 0.47, ...    0.061169   \n",
       "\n",
       "       topic_kurtosis  topic_gini  topic_std  label  \n",
       "10139       -1.449917    0.546003   0.252122      1  \n",
       "4587        -1.378779    0.450835   0.287530      0  \n",
       "11274       -1.209669    0.343154   0.290600      0  \n",
       "1244        -0.975609    0.571356   0.258526      1  \n",
       "3949        -1.413266    0.424658   0.297228      0  \n",
       "7742        -1.407951    0.472705   0.273459      0  \n",
       "2018        -1.357506    0.398836   0.281260      1  \n",
       "2682        -1.386702    0.533920   0.317168      0  \n",
       "9994        -1.298732    0.401189   0.286928      1  \n",
       "10884       -0.432280    0.291581   0.243930      0  "
      ]
     },
     "execution_count": 15,
     "metadata": {},
     "output_type": "execute_result"
    }
   ],
   "source": [
    "with_topic_feat[['topic_dist', 'topic_skew', 'topic_kurtosis', 'topic_gini', 'topic_std', 'label']]"
   ]
  }
 ],
 "metadata": {
  "interpreter": {
   "hash": "fe336406e9fe7934cb9574bced87d36d9641f95c336376560cd58afbe64d3c8c"
  },
  "kernelspec": {
   "display_name": "ML_w_tf_env",
   "language": "python",
   "name": "ml_w_tf_env"
  },
  "language_info": {
   "codemirror_mode": {
    "name": "ipython",
    "version": 3
   },
   "file_extension": ".py",
   "mimetype": "text/x-python",
   "name": "python",
   "nbconvert_exporter": "python",
   "pygments_lexer": "ipython3",
   "version": "3.9.7"
  }
 },
 "nbformat": 4,
 "nbformat_minor": 4
}
