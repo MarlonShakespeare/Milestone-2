{
 "cells": [
  {
   "cell_type": "code",
   "execution_count": 9,
   "metadata": {},
   "outputs": [],
   "source": [
    "import numpy as np\n",
    "import pandas as pd\n",
    "import gzip\n",
    "import pickle\n",
    "from collections import Counter\n",
    "from utils import split_all_data\n",
    "from scipy.stats import skew, kurtosis\n",
    "\n",
    "import re\n",
    "import spacy\n",
    "from nltk.stem import PorterStemmer\n",
    "from nltk.corpus import stopwords\n",
    "\n",
    "from sklearn.decomposition import NMF\n",
    "from sklearn.feature_extraction.text import TfidfVectorizer\n",
    "from sklearn.pipeline import make_pipeline\n",
    "\n",
    "import seaborn as sns\n",
    "import matplotlib.pyplot as plt\n",
    "from IPython.display import display\n",
    "\n",
    "import warnings\n",
    "warnings.filterwarnings('ignore')"
   ]
  },
  {
   "cell_type": "code",
   "execution_count": 11,
   "metadata": {},
   "outputs": [],
   "source": [
    "RANDOM_SEED = 1835"
   ]
  },
  {
   "cell_type": "code",
<<<<<<< HEAD
   "execution_count": 6,
   "metadata": {},
   "outputs": [
    {
     "name": "stdout",
     "output_type": "stream",
     "text": [
      "Loading the data...\n",
      "Splitting the data...\n"
     ]
    }
   ],
   "source": [
    "data_dict = split_all_data(.8, random_state=RANDOM_SEED)\n",
    "train_df = data_dict['train']"
   ]
  },
  {
   "cell_type": "markdown",
   "metadata": {},
   "source": [
    "### Section 1 Tokenizer and Stemming functions"
   ]
  },
  {
   "cell_type": "markdown",
   "metadata": {},
   "source": [
    "#### 1.1 Definitions"
   ]
  },
  {
   "cell_type": "code",
   "execution_count": 4,
   "metadata": {},
   "outputs": [],
   "source": [
    "spacy_model = spacy.load('en_core_web_lg')\n",
    "\n",
    "def spacy_tokenizer(text):\n",
    "    sp_text = spacy_model(text)\n",
    "    tokens = [token.lemma_ for token in sp_text if (not token.is_stop and token.is_alpha)]\n",
    "    return tokens"
   ]
  },
  {
   "cell_type": "code",
   "execution_count": 5,
   "metadata": {},
   "outputs": [],
   "source": [
    "stop_words = stopwords.words('english')\n",
    "\n",
    "stemmer = PorterStemmer()\n",
    "def stem_token(text):\n",
    "    tokens = [stemmer.stem(word) for word in re.findall(r'\\w\\w+', text) if word not in stop_words]\n",
    "    return tokens"
   ]
  },
  {
   "cell_type": "markdown",
=======
   "execution_count": 14,
>>>>>>> 933a0a44041b88766f374a4b4c8b55c4efca67a0
   "metadata": {},
   "source": [
    "#### 1.2 Speed Comparison"
   ]
  },
  {
   "cell_type": "markdown",
   "metadata": {},
   "source": [
    "### Section 1 Tokenizer and Stemming functions"
   ]
  },
  {
   "cell_type": "markdown",
   "metadata": {},
   "source": [
    "#### 1.1 Definition"
   ]
  },
  {
   "cell_type": "code",
   "execution_count": 12,
   "metadata": {},
   "outputs": [],
   "source": [
    "spacy_model = spacy.load('en_core_web_lg')\n",
    "\n",
    "def spacy_tokenizer(text):\n",
    "    sp_text = spacy_model(text)\n",
    "    tokens = [token.lemma_ for token in sp_text if (not token.is_stop and token.is_alpha)]\n",
    "    return tokens"
   ]
  },
  {
   "cell_type": "code",
   "execution_count": 13,
   "metadata": {},
   "outputs": [],
   "source": [
    "stop_words = stopwords.words('english')\n",
    "\n",
    "stemmer = PorterStemmer()\n",
    "def stem_token(text):\n",
    "    tokens = [stemmer.stem(word) for word in re.findall(r'\\w\\w+', text) if word not in stop_words]\n",
    "    return tokens"
   ]
  },
  {
   "cell_type": "markdown",
   "metadata": {},
   "source": [
    "#### 1.2 Speed Comparison"
   ]
  },
  {
   "cell_type": "code",
   "execution_count": 15,
   "metadata": {},
   "outputs": [
    {
     "name": "stdout",
     "output_type": "stream",
     "text": [
<<<<<<< HEAD
      "25.6 ms ± 4.07 ms per loop (mean ± std. dev. of 7 runs, 10 loops each)\n"
=======
      "9.52 ms ± 329 µs per loop (mean ± std. dev. of 7 runs, 100 loops each)\n"
>>>>>>> 933a0a44041b88766f374a4b4c8b55c4efca67a0
     ]
    }
   ],
   "source": [
    "%%timeit\n",
    "spacy_tokenizer(train_df['tweet'].iloc[10][0])"
   ]
  },
  {
   "cell_type": "code",
   "execution_count": 16,
   "metadata": {},
   "outputs": [
    {
     "name": "stdout",
     "output_type": "stream",
     "text": [
<<<<<<< HEAD
      "964 µs ± 81.7 µs per loop (mean ± std. dev. of 7 runs, 1000 loops each)\n"
=======
      "471 µs ± 5.08 µs per loop (mean ± std. dev. of 7 runs, 1000 loops each)\n"
>>>>>>> 933a0a44041b88766f374a4b4c8b55c4efca67a0
     ]
    }
   ],
   "source": [
    "%%timeit\n",
    "stem_token(train_df['tweet'].iloc[10][0])"
   ]
  },
  {
   "cell_type": "markdown",
   "metadata": {},
   "source": [
    "#### 1.3 Output Comparison"
   ]
  },
  {
   "cell_type": "code",
   "execution_count": 17,
   "metadata": {},
   "outputs": [
    {
     "name": "stdout",
     "output_type": "stream",
     "text": [
      "user: 1290597237991575552 - label: 1\n",
      " Stemming:      [('no', 1), ('question', 1), ('de', 1), ('jong', 1), ('bloke', 1), ('worst', 1), ('striker', 1), ('ever', 1), ('seen', 1), ('life', 1)] \n",
      " Lemmatization: [('question', 1), ('De', 1), ('Jong', 1), ('bloke', 1), ('bad', 1), ('striker', 1), ('see', 1), ('life', 1), ('score', 1), ('winner', 1)] \n",
      "\n",
      "user: 159535879 - label: 0\n",
      " Stemming:      [('rt', 1), ('sadwrit', 1), ('http', 1), ('co', 1), ('ibdvhk7ayt', 1)] \n",
      " Lemmatization: [('RT', 1)] \n",
      "\n",
      "user: 22189352 - label: 0\n",
      " Stemming:      [('fire', 2), ('final', 1), ('no', 1), ('injuri', 1), ('ff', 1), ('civilian', 1), ('occup', 1), ('displac', 1), ('due', 1), ('caus', 1)] \n",
      " Lemmatization: [('fire', 2), ('FINAL', 1), ('injury', 1), ('FF', 1), ('civilian', 1), ('occupant', 1), ('displace', 1), ('cause', 1), ('investigation', 1)] \n",
      "\n",
      "user: 2637583066 - label: 1\n",
      " Stemming:      [('5g06021008', 1), ('efiaodo1', 1), ('you', 1), ('right', 1), ('lol', 1), ('swear', 1)] \n",
      " Lemmatization: [('right', 1), ('lol', 1), ('swear', 1)] \n",
      "\n",
      "user: 979469572494495744 - label: 0\n",
      " Stemming:      [('el', 2), ('http', 2), ('co', 2), ('tan', 1), ('cansado', 1), ('pero', 1), ('vivo', 1), ('es', 1), ('nuevo', 1), ('materi', 1)] \n",
      " Lemmatization: [('el', 2), ('Tan', 1), ('cansado', 1), ('pero', 1), ('vivo', 1), ('es', 1), ('nuevo', 1), ('material', 1), ('de', 1), ('Escuchá', 1)] \n",
      "\n",
      "user: 315695307 - label: 0\n",
      " Stemming:      [('rt', 2), ('_yourgirl_t', 1), ('break', 1), ('new', 1), ('that', 1), ('phone', 1), ('use', 1), ('read', 1), ('tweet', 1), ('ring', 1)] \n",
      " Lemmatization: [('RT', 2), ('break', 1), ('news', 1), ('phone', 1), ('read', 1), ('tweet', 1), ('ring', 1), ('success', 1), ('job', 1), ('opportunity', 1)] \n",
      "\n",
      "user: 221782984 - label: 1\n",
      " Stemming:      [('joebiden', 1), ('pleas', 1), ('follow', 1), ('tomfriedman', 1), ('advic', 1), ('debat', 1), ('unless', 1), ('releas', 1), ('tax', 1), ('return', 1)] \n",
      " Lemmatization: [('follow', 1), ('advice', 1), ('debate', 1), ('release', 1), ('tax', 1), ('return', 1)] \n",
      "\n",
      "user: 334110750 - label: 0\n",
      " Stemming:      [('vote', 1), ('littl', 1), ('brother', 1), ('quentin', 1), ('skinner', 1), ('quentinfskinn', 1), ('http', 1), ('co', 1), ('7bkwikknef', 1)] \n",
      " Lemmatization: [('vote', 1), ('little', 1), ('brother', 1), ('Quentin', 1), ('Skinner', 1)] \n",
      "\n",
      "user: 1079641484310134784 - label: 1\n",
      " Stemming:      [('flag', 2), ('rt', 1), ('msyallpolit', 1), ('the', 1), ('vote', 1), ('ballot', 1), ('new', 1), ('magnolia', 1), ('stateflag', 1), ('msleg', 1)] \n",
      " Lemmatization: [('RT', 1), ('vote', 1), ('flag', 1), ('ballot', 1), ('New', 1), ('Magnolia', 1), ('Flag', 1), ('stateflag', 1), ('msleg', 1), ('mselex', 1)] \n",
      "\n",
      "user: 36383320 - label: 0\n",
      " Stemming:      [('est', 3), ('comprendr', 2), ('autrui', 2), ('sa', 2), ('http', 2), ('co', 2), ('respect', 1), ('son', 1), ('altérité', 1), ('dignité', 1)] \n",
      " Lemmatization: [('Comprendre', 2), ('autrui', 2), ('sa', 2), ('respecter', 1), ('son', 1), ('altérité', 1), ('dignité', 1), ('liberté', 1), ('retrouver', 1), ('le', 1)] \n",
      "\n"
     ]
    }
   ],
   "source": [
    "# testing the tokenizer/lemmatizer\n",
    "for item in train_df.sample(10, random_state=RANDOM_SEED).itertuples():\n",
    "    if item[3] is not None:\n",
    "        tokenized_s = stem_token(item[3][0])\n",
    "        tokenized_l = spacy_tokenizer(item[3][0])\n",
    "        count_stem = Counter(tokenized_s)\n",
    "        count_lemm = Counter(tokenized_l)\n",
    "        print(f'user: {item[1]} - label: {item[-1]}\\n', 'Stemming:     ', count_stem.most_common(10), '\\n', 'Lemmatization:', count_lemm.most_common(10), '\\n')\n",
    "    else:\n",
    "        pass"
   ]
  },
  {
   "cell_type": "markdown",
   "metadata": {},
   "source": [
    "### Section 2 Topic Extraction"
   ]
  },
  {
   "cell_type": "markdown",
   "metadata": {},
   "source": [
    "#### 2.1 Definition"
   ]
  },
  {
   "cell_type": "code",
   "execution_count": 27,
   "metadata": {},
   "outputs": [],
   "source": [
    "def extract_topic_feature(row, components=None, tokenizer=None, random_state=None):\n",
    "    \n",
    "    if row is not None:\n",
    "        tweets = np.array(row)\n",
    "\n",
    "        vectorize = TfidfVectorizer(tokenizer=tokenizer, \n",
    "                                    ngram_range=(1, 2),\n",
    "                                    stop_words=None if tokenizer is not None else 'english',\n",
    "                                    min_df=2,\n",
    "                                    max_features=3000)\n",
    "        try:\n",
    "            vect_tweets = vectorize.fit_transform(tweets)\n",
    "        except Exception:\n",
    "            return np.nan\n",
    "            \n",
    "        print(vect_tweets.shape)\n",
    "        if components is None:\n",
    "            components = min(vect_tweets.shape)\n",
    "            if components < 2:\n",
    "                return np.nan\n",
    "        elif components > min(vect_tweets.shape):\n",
    "            components = min(vect_tweets.shape)\n",
    "            if components < 2:\n",
    "                return np.nan\n",
    "\n",
    "        nmf_model = NMF(n_components=components, \n",
    "                        init='nndsvd', \n",
    "                        max_iter=200, \n",
    "                        random_state=random_state)\n",
    "        \n",
    "        try:\n",
    "            W = nmf_model.fit_transform(vect_tweets)\n",
    "        except ValueError as e:\n",
    "            print(e)\n",
    "            return np.nan\n",
    "        \n",
    "        index_max = []\n",
    "        for index in range(W.shape[0]):\n",
    "            max_val_index = np.argmax(W[index])\n",
    "            index_max.append(max_val_index)\n",
    "        \n",
    "        index_norm = np.array(index_max) / components\n",
    "        \n",
    "        return index_norm\n",
    "    else:\n",
    "        return np.nan"
   ]
  },
  {
   "cell_type": "code",
   "execution_count": 28,
   "metadata": {},
   "outputs": [],
   "source": [
    "# unweighted gini coefficient measure taken from https://stackoverflow.com/questions/48999542/more-efficient-weighted-gini-coefficient-in-python by user Gaëtan de Menten\n",
    "def gini(x):\n",
    "    sorted_x = np.sort(x)\n",
    "    n = len(x)\n",
    "    cumx = np.cumsum(sorted_x, dtype=float)\n",
    "    return (n + 1 - 2 * np.sum(cumx) / cumx[-1]) / n"
   ]
  },
  {
   "cell_type": "markdown",
   "metadata": {},
   "source": [
    "#### 2.2 Testing with different preprocessing"
   ]
  },
  {
   "cell_type": "code",
   "execution_count": 29,
   "metadata": {},
   "outputs": [
    {
     "name": "stdout",
     "output_type": "stream",
     "text": [
      "ID: 1290597237991575552 - Label 1 - number of tweets 17\n",
      "(17, 15)\n",
      "(17, 21)\n",
      "(17, 9)\n"
     ]
    },
    {
     "data": {
      "text/html": [
       "<div>\n",
       "<style scoped>\n",
       "    .dataframe tbody tr th:only-of-type {\n",
       "        vertical-align: middle;\n",
       "    }\n",
       "\n",
       "    .dataframe tbody tr th {\n",
       "        vertical-align: top;\n",
       "    }\n",
       "\n",
       "    .dataframe thead th {\n",
       "        text-align: right;\n",
       "    }\n",
       "</style>\n",
       "<table border=\"1\" class=\"dataframe\">\n",
       "  <thead>\n",
       "    <tr style=\"text-align: right;\">\n",
       "      <th></th>\n",
       "      <th>only stopword removal</th>\n",
       "      <th>with stemming</th>\n",
       "      <th>with lemmatization</th>\n",
       "    </tr>\n",
       "  </thead>\n",
       "  <tbody>\n",
       "    <tr>\n",
       "      <th>skewness</th>\n",
       "      <td>0.326791</td>\n",
       "      <td>0.159167</td>\n",
       "      <td>0.32896</td>\n",
       "    </tr>\n",
       "    <tr>\n",
       "      <th>kurtosis</th>\n",
       "      <td>-1.193163</td>\n",
       "      <td>-1.178777</td>\n",
       "      <td>-1.449917</td>\n",
       "    </tr>\n",
       "    <tr>\n",
       "      <th>standard deviation</th>\n",
       "      <td>0.196861</td>\n",
       "      <td>0.231343</td>\n",
       "      <td>0.252122</td>\n",
       "    </tr>\n",
       "    <tr>\n",
       "      <th>gini coefficient</th>\n",
       "      <td>0.47451</td>\n",
       "      <td>0.443228</td>\n",
       "      <td>0.546003</td>\n",
       "    </tr>\n",
       "  </tbody>\n",
       "</table>\n",
       "</div>"
      ],
      "text/plain": [
       "                   only stopword removal with stemming with lemmatization\n",
       "skewness                        0.326791      0.159167            0.32896\n",
       "kurtosis                       -1.193163     -1.178777          -1.449917\n",
       "standard deviation              0.196861      0.231343           0.252122\n",
       "gini coefficient                 0.47451      0.443228           0.546003"
      ]
     },
     "metadata": {},
     "output_type": "display_data"
    },
    {
     "data": {
      "image/png": "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",
      "text/plain": [
       "<Figure size 1080x288 with 3 Axes>"
      ]
     },
     "metadata": {
      "needs_background": "light"
     },
     "output_type": "display_data"
    },
    {
     "name": "stdout",
     "output_type": "stream",
     "text": [
      "ID: 159535879 - Label 0 - number of tweets 194\n",
      "(194, 273)\n",
      "(194, 291)\n",
      "(194, 283)\n"
     ]
    },
    {
     "data": {
      "text/html": [
       "<div>\n",
       "<style scoped>\n",
       "    .dataframe tbody tr th:only-of-type {\n",
       "        vertical-align: middle;\n",
       "    }\n",
       "\n",
       "    .dataframe tbody tr th {\n",
       "        vertical-align: top;\n",
       "    }\n",
       "\n",
       "    .dataframe thead th {\n",
       "        text-align: right;\n",
       "    }\n",
       "</style>\n",
       "<table border=\"1\" class=\"dataframe\">\n",
       "  <thead>\n",
       "    <tr style=\"text-align: right;\">\n",
       "      <th></th>\n",
       "      <th>only stopword removal</th>\n",
       "      <th>with stemming</th>\n",
       "      <th>with lemmatization</th>\n",
       "    </tr>\n",
       "  </thead>\n",
       "  <tbody>\n",
       "    <tr>\n",
       "      <th>skewness</th>\n",
<<<<<<< HEAD
       "      <td>0.138261</td>\n",
       "      <td>-0.00147</td>\n",
       "      <td>0.179276</td>\n",
       "    </tr>\n",
       "    <tr>\n",
       "      <th>kurtosis</th>\n",
       "      <td>-1.467398</td>\n",
       "      <td>-1.434591</td>\n",
       "      <td>-1.378779</td>\n",
       "    </tr>\n",
       "    <tr>\n",
       "      <th>standard deviation</th>\n",
       "      <td>0.30613</td>\n",
       "      <td>0.303012</td>\n",
       "      <td>0.28753</td>\n",
       "    </tr>\n",
       "    <tr>\n",
       "      <th>gini coefficient</th>\n",
       "      <td>0.451416</td>\n",
       "      <td>0.419442</td>\n",
       "      <td>0.450835</td>\n",
=======
       "      <td>-0.007642</td>\n",
       "      <td>0.00222</td>\n",
       "      <td>0.057983</td>\n",
       "    </tr>\n",
       "    <tr>\n",
       "      <th>kurtosis</th>\n",
       "      <td>-1.259029</td>\n",
       "      <td>-1.225339</td>\n",
       "      <td>-1.273864</td>\n",
       "    </tr>\n",
       "    <tr>\n",
       "      <th>standard deviation</th>\n",
       "      <td>0.293919</td>\n",
       "      <td>0.291832</td>\n",
       "      <td>0.287005</td>\n",
       "    </tr>\n",
       "    <tr>\n",
       "      <th>gini coefficient</th>\n",
       "      <td>0.344574</td>\n",
       "      <td>0.341308</td>\n",
       "      <td>0.391758</td>\n",
>>>>>>> 933a0a44041b88766f374a4b4c8b55c4efca67a0
       "    </tr>\n",
       "  </tbody>\n",
       "</table>\n",
       "</div>"
      ],
      "text/plain": [
       "                   only stopword removal with stemming with lemmatization\n",
<<<<<<< HEAD
       "skewness                        0.138261      -0.00147           0.179276\n",
       "kurtosis                       -1.467398     -1.434591          -1.378779\n",
       "standard deviation               0.30613      0.303012            0.28753\n",
       "gini coefficient                0.451416      0.419442           0.450835"
=======
       "skewness                       -0.007642       0.00222           0.057983\n",
       "kurtosis                       -1.259029     -1.225339          -1.273864\n",
       "standard deviation              0.293919      0.291832           0.287005\n",
       "gini coefficient                0.344574      0.341308           0.391758"
>>>>>>> 933a0a44041b88766f374a4b4c8b55c4efca67a0
      ]
     },
     "metadata": {},
     "output_type": "display_data"
    },
    {
     "data": {
<<<<<<< HEAD
      "image/png": "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",
=======
      "image/png": "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",
>>>>>>> 933a0a44041b88766f374a4b4c8b55c4efca67a0
      "text/plain": [
       "<Figure size 1080x288 with 3 Axes>"
      ]
     },
     "metadata": {
      "needs_background": "light"
     },
     "output_type": "display_data"
    },
    {
     "name": "stdout",
     "output_type": "stream",
     "text": [
      "ID: 22189352 - Label 0 - number of tweets 200\n",
      "(200, 863)\n",
      "(200, 935)\n",
      "(200, 806)\n"
     ]
    },
    {
     "data": {
      "text/html": [
       "<div>\n",
       "<style scoped>\n",
       "    .dataframe tbody tr th:only-of-type {\n",
       "        vertical-align: middle;\n",
       "    }\n",
       "\n",
       "    .dataframe tbody tr th {\n",
       "        vertical-align: top;\n",
       "    }\n",
       "\n",
       "    .dataframe thead th {\n",
       "        text-align: right;\n",
       "    }\n",
       "</style>\n",
       "<table border=\"1\" class=\"dataframe\">\n",
       "  <thead>\n",
       "    <tr style=\"text-align: right;\">\n",
       "      <th></th>\n",
       "      <th>only stopword removal</th>\n",
       "      <th>with stemming</th>\n",
       "      <th>with lemmatization</th>\n",
       "    </tr>\n",
       "  </thead>\n",
       "  <tbody>\n",
       "    <tr>\n",
       "      <th>skewness</th>\n",
<<<<<<< HEAD
       "      <td>-0.029342</td>\n",
       "      <td>-0.207656</td>\n",
       "      <td>-0.017174</td>\n",
       "    </tr>\n",
       "    <tr>\n",
       "      <th>kurtosis</th>\n",
       "      <td>-1.261706</td>\n",
       "      <td>-1.334327</td>\n",
       "      <td>-1.209669</td>\n",
       "    </tr>\n",
       "    <tr>\n",
       "      <th>standard deviation</th>\n",
       "      <td>0.296591</td>\n",
       "      <td>0.317527</td>\n",
       "      <td>0.2906</td>\n",
       "    </tr>\n",
       "    <tr>\n",
       "      <th>gini coefficient</th>\n",
       "      <td>0.346832</td>\n",
       "      <td>0.328663</td>\n",
       "      <td>0.343154</td>\n",
=======
       "      <td>-0.029362</td>\n",
       "      <td>-0.026835</td>\n",
       "      <td>-0.027499</td>\n",
       "    </tr>\n",
       "    <tr>\n",
       "      <th>kurtosis</th>\n",
       "      <td>-1.240969</td>\n",
       "      <td>-1.199751</td>\n",
       "      <td>-1.227342</td>\n",
       "    </tr>\n",
       "    <tr>\n",
       "      <th>standard deviation</th>\n",
       "      <td>0.293502</td>\n",
       "      <td>0.290632</td>\n",
       "      <td>0.291638</td>\n",
       "    </tr>\n",
       "    <tr>\n",
       "      <th>gini coefficient</th>\n",
       "      <td>0.338383</td>\n",
       "      <td>0.335632</td>\n",
       "      <td>0.34392</td>\n",
>>>>>>> 933a0a44041b88766f374a4b4c8b55c4efca67a0
       "    </tr>\n",
       "  </tbody>\n",
       "</table>\n",
       "</div>"
      ],
      "text/plain": [
       "                   only stopword removal with stemming with lemmatization\n",
<<<<<<< HEAD
       "skewness                       -0.029342     -0.207656          -0.017174\n",
       "kurtosis                       -1.261706     -1.334327          -1.209669\n",
       "standard deviation              0.296591      0.317527             0.2906\n",
       "gini coefficient                0.346832      0.328663           0.343154"
=======
       "skewness                       -0.029362     -0.026835          -0.027499\n",
       "kurtosis                       -1.240969     -1.199751          -1.227342\n",
       "standard deviation              0.293502      0.290632           0.291638\n",
       "gini coefficient                0.338383      0.335632            0.34392"
>>>>>>> 933a0a44041b88766f374a4b4c8b55c4efca67a0
      ]
     },
     "metadata": {},
     "output_type": "display_data"
    },
    {
     "data": {
<<<<<<< HEAD
      "image/png": "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",
=======
      "image/png": "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",
>>>>>>> 933a0a44041b88766f374a4b4c8b55c4efca67a0
      "text/plain": [
       "<Figure size 1080x288 with 3 Axes>"
      ]
     },
     "metadata": {
      "needs_background": "light"
     },
     "output_type": "display_data"
    },
    {
     "name": "stdout",
     "output_type": "stream",
     "text": [
      "ID: 2637583066 - Label 1 - number of tweets 200\n",
      "(200, 212)\n",
      "(200, 228)\n",
      "(200, 152)\n"
     ]
    },
    {
     "data": {
      "text/html": [
       "<div>\n",
       "<style scoped>\n",
       "    .dataframe tbody tr th:only-of-type {\n",
       "        vertical-align: middle;\n",
       "    }\n",
       "\n",
       "    .dataframe tbody tr th {\n",
       "        vertical-align: top;\n",
       "    }\n",
       "\n",
       "    .dataframe thead th {\n",
       "        text-align: right;\n",
       "    }\n",
       "</style>\n",
       "<table border=\"1\" class=\"dataframe\">\n",
       "  <thead>\n",
       "    <tr style=\"text-align: right;\">\n",
       "      <th></th>\n",
       "      <th>only stopword removal</th>\n",
       "      <th>with stemming</th>\n",
       "      <th>with lemmatization</th>\n",
       "    </tr>\n",
       "  </thead>\n",
       "  <tbody>\n",
       "    <tr>\n",
       "      <th>skewness</th>\n",
<<<<<<< HEAD
       "      <td>0.217854</td>\n",
       "      <td>0.270507</td>\n",
       "      <td>0.664794</td>\n",
       "    </tr>\n",
       "    <tr>\n",
       "      <th>kurtosis</th>\n",
       "      <td>-1.415758</td>\n",
       "      <td>-1.306865</td>\n",
       "      <td>-0.975609</td>\n",
       "    </tr>\n",
       "    <tr>\n",
       "      <th>standard deviation</th>\n",
       "      <td>0.261645</td>\n",
       "      <td>0.26982</td>\n",
       "      <td>0.258526</td>\n",
       "    </tr>\n",
       "    <tr>\n",
       "      <th>gini coefficient</th>\n",
       "      <td>0.460829</td>\n",
       "      <td>0.456085</td>\n",
       "      <td>0.571356</td>\n",
=======
       "      <td>0.01679</td>\n",
       "      <td>-0.010538</td>\n",
       "      <td>0.167291</td>\n",
       "    </tr>\n",
       "    <tr>\n",
       "      <th>kurtosis</th>\n",
       "      <td>-1.250139</td>\n",
       "      <td>-1.201787</td>\n",
       "      <td>-1.340884</td>\n",
       "    </tr>\n",
       "    <tr>\n",
       "      <th>standard deviation</th>\n",
       "      <td>0.290197</td>\n",
       "      <td>0.288983</td>\n",
       "      <td>0.269467</td>\n",
       "    </tr>\n",
       "    <tr>\n",
       "      <th>gini coefficient</th>\n",
       "      <td>0.35143</td>\n",
       "      <td>0.347107</td>\n",
       "      <td>0.444668</td>\n",
>>>>>>> 933a0a44041b88766f374a4b4c8b55c4efca67a0
       "    </tr>\n",
       "  </tbody>\n",
       "</table>\n",
       "</div>"
      ],
      "text/plain": [
       "                   only stopword removal with stemming with lemmatization\n",
<<<<<<< HEAD
       "skewness                        0.217854      0.270507           0.664794\n",
       "kurtosis                       -1.415758     -1.306865          -0.975609\n",
       "standard deviation              0.261645       0.26982           0.258526\n",
       "gini coefficient                0.460829      0.456085           0.571356"
=======
       "skewness                         0.01679     -0.010538           0.167291\n",
       "kurtosis                       -1.250139     -1.201787          -1.340884\n",
       "standard deviation              0.290197      0.288983           0.269467\n",
       "gini coefficient                 0.35143      0.347107           0.444668"
>>>>>>> 933a0a44041b88766f374a4b4c8b55c4efca67a0
      ]
     },
     "metadata": {},
     "output_type": "display_data"
    },
    {
     "data": {
<<<<<<< HEAD
      "image/png": "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",
=======
      "image/png": "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",
>>>>>>> 933a0a44041b88766f374a4b4c8b55c4efca67a0
      "text/plain": [
       "<Figure size 1080x288 with 3 Axes>"
      ]
     },
     "metadata": {
      "needs_background": "light"
     },
     "output_type": "display_data"
    },
    {
     "name": "stdout",
     "output_type": "stream",
     "text": [
      "ID: 979469572494495744 - Label 0 - number of tweets 200\n",
      "(200, 642)\n",
      "(200, 678)\n",
      "(200, 598)\n"
     ]
    },
    {
     "data": {
      "text/html": [
       "<div>\n",
       "<style scoped>\n",
       "    .dataframe tbody tr th:only-of-type {\n",
       "        vertical-align: middle;\n",
       "    }\n",
       "\n",
       "    .dataframe tbody tr th {\n",
       "        vertical-align: top;\n",
       "    }\n",
       "\n",
       "    .dataframe thead th {\n",
       "        text-align: right;\n",
       "    }\n",
       "</style>\n",
       "<table border=\"1\" class=\"dataframe\">\n",
       "  <thead>\n",
       "    <tr style=\"text-align: right;\">\n",
       "      <th></th>\n",
       "      <th>only stopword removal</th>\n",
       "      <th>with stemming</th>\n",
       "      <th>with lemmatization</th>\n",
       "    </tr>\n",
       "  </thead>\n",
       "  <tbody>\n",
       "    <tr>\n",
       "      <th>skewness</th>\n",
<<<<<<< HEAD
       "      <td>-0.170138</td>\n",
       "      <td>-0.196188</td>\n",
       "      <td>0.109939</td>\n",
       "    </tr>\n",
       "    <tr>\n",
       "      <th>kurtosis</th>\n",
       "      <td>-1.267489</td>\n",
       "      <td>-1.319118</td>\n",
       "      <td>-1.413266</td>\n",
       "    </tr>\n",
       "    <tr>\n",
       "      <th>standard deviation</th>\n",
       "      <td>0.306642</td>\n",
       "      <td>0.31328</td>\n",
       "      <td>0.297228</td>\n",
       "    </tr>\n",
       "    <tr>\n",
       "      <th>gini coefficient</th>\n",
       "      <td>0.345475</td>\n",
       "      <td>0.353204</td>\n",
       "      <td>0.424658</td>\n",
=======
       "      <td>0.012655</td>\n",
       "      <td>-0.008298</td>\n",
       "      <td>0.01279</td>\n",
       "    </tr>\n",
       "    <tr>\n",
       "      <th>kurtosis</th>\n",
       "      <td>-1.216111</td>\n",
       "      <td>-1.229948</td>\n",
       "      <td>-1.260009</td>\n",
       "    </tr>\n",
       "    <tr>\n",
       "      <th>standard deviation</th>\n",
       "      <td>0.290481</td>\n",
       "      <td>0.294643</td>\n",
       "      <td>0.29078</td>\n",
       "    </tr>\n",
       "    <tr>\n",
       "      <th>gini coefficient</th>\n",
       "      <td>0.344329</td>\n",
       "      <td>0.35044</td>\n",
       "      <td>0.363775</td>\n",
>>>>>>> 933a0a44041b88766f374a4b4c8b55c4efca67a0
       "    </tr>\n",
       "  </tbody>\n",
       "</table>\n",
       "</div>"
      ],
      "text/plain": [
       "                   only stopword removal with stemming with lemmatization\n",
<<<<<<< HEAD
       "skewness                       -0.170138     -0.196188           0.109939\n",
       "kurtosis                       -1.267489     -1.319118          -1.413266\n",
       "standard deviation              0.306642       0.31328           0.297228\n",
       "gini coefficient                0.345475      0.353204           0.424658"
=======
       "skewness                        0.012655     -0.008298            0.01279\n",
       "kurtosis                       -1.216111     -1.229948          -1.260009\n",
       "standard deviation              0.290481      0.294643            0.29078\n",
       "gini coefficient                0.344329       0.35044           0.363775"
>>>>>>> 933a0a44041b88766f374a4b4c8b55c4efca67a0
      ]
     },
     "metadata": {},
     "output_type": "display_data"
    },
    {
     "data": {
<<<<<<< HEAD
      "image/png": "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",
=======
      "image/png": "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",
>>>>>>> 933a0a44041b88766f374a4b4c8b55c4efca67a0
      "text/plain": [
       "<Figure size 1080x288 with 3 Axes>"
      ]
     },
     "metadata": {
      "needs_background": "light"
     },
     "output_type": "display_data"
    }
   ],
   "source": [
    "\n",
    "\n",
    "for row in train_df.sample(5, random_state=RANDOM_SEED).itertuples():\n",
    "    print(f\"ID: {row[1]} - Label {row[-1]} - number of tweets {len(row[3])}\")\n",
    "    ind0 = extract_topic_feature(row[3])\n",
    "    ind1 = extract_topic_feature(row[3], tokenizer=stem_token)\n",
    "    ind2 = extract_topic_feature(row[3], tokenizer=spacy_tokenizer)\n",
    "\n",
    "    temp_df = pd.DataFrame(index=['skewness', 'kurtosis', 'standard deviation', 'gini coefficient'], columns=['only stopword removal', 'with stemming', 'with lemmatization'])\n",
    "\n",
    "    temp_df.loc['skewness', 'only stopword removal'] = skew(ind0)\n",
    "    temp_df.loc['skewness', 'with stemming'] = skew(ind1)\n",
    "    temp_df.loc['skewness', 'with lemmatization'] = skew(ind2)\n",
    "    \n",
    "\n",
    "    temp_df.loc['kurtosis', 'only stopword removal'] = kurtosis(ind0)\n",
    "    temp_df.loc['kurtosis', 'with stemming'] = kurtosis(ind1)\n",
    "    temp_df.loc['kurtosis', 'with lemmatization'] = kurtosis(ind2)\n",
    "\n",
    "    temp_df.loc['standard deviation', 'only stopword removal'] = ind0.std()\n",
    "    temp_df.loc['standard deviation', 'with stemming'] = ind1.std()\n",
    "    temp_df.loc['standard deviation', 'with lemmatization'] = ind2.std()\n",
    "\n",
    "    temp_df.loc['gini coefficient', 'only stopword removal'] = gini(ind0)\n",
    "    temp_df.loc['gini coefficient', 'with stemming'] = gini(ind1)\n",
    "    temp_df.loc['gini coefficient', 'with lemmatization'] = gini(ind2)\n",
    "    \n",
    "    display(temp_df)\n",
    "\n",
    "    fig, ax = plt.subplots(1, 3, figsize=(15, 4))\n",
    "    \n",
    "    sns.histplot(ind0, ax=ax[0])\n",
    "    ax[0].set_title('Only Stopword Removal')\n",
    "    sns.histplot(ind1, ax=ax[1])\n",
    "    ax[1].set_title('Stemming and Stopword Removal')\n",
    "    sns.histplot(ind2, ax=ax[2])\n",
    "    ax[2].set_title('Lemmatization and Stopword Removal')\n",
    "\n",
    "\n",
    "    plt.tight_layout()\n",
    "    plt.show()"
   ]
  },
  {
   "cell_type": "code",
   "execution_count": 30,
   "metadata": {},
   "outputs": [],
   "source": [
    "def extract_nmf_feature(df, tokenizer=spacy_tokenizer):\n",
    "    df.loc[:, 'topic_dist'] = df['tweet'].apply(lambda x: extract_topic_feature(x, tokenizer=tokenizer) if x is not None else np.nan)\n",
    "    df.loc[:, 'topic_skew'] = df['topic_dist'].apply(lambda x: skew(x) if x is not None else np.nan)\n",
    "    df.loc[:, 'topic_kurtosis'] = df['topic_dist'].apply(lambda x: kurtosis(x) if x is not None else np.nan)\n",
    "    df.loc[:, 'topic_gini'] = df['topic_dist'].apply(lambda x: gini(x) if (x is not None) and (len(x) > 0) else np.nan)\n",
    "    df.loc[:, 'topic_std'] = df['topic_dist'].apply(lambda x: np.array(x).std() if x is not None else np.nan)\n",
    "    return df"
   ]
  },
  {
   "cell_type": "code",
   "execution_count": 31,
   "metadata": {},
   "outputs": [
    {
     "name": "stdout",
     "output_type": "stream",
     "text": [
<<<<<<< HEAD
      "(17, 9)\n",
      "(194, 283)\n",
      "(200, 806)\n",
      "(200, 152)\n",
      "(200, 598)\n",
      "(197, 192)\n",
      "(144, 210)\n",
      "(184, 126)\n",
      "(200, 347)\n",
      "(200, 1318)\n",
      "Wall time: 1min 10s\n"
=======
      "CPU times: user 2min 2s, sys: 1.48 s, total: 2min 3s\n",
      "Wall time: 1min 12s\n"
>>>>>>> 933a0a44041b88766f374a4b4c8b55c4efca67a0
     ]
    }
   ],
   "source": [
    "%%time\n",
    "with_topic_feat = extract_nmf_feature(train_df.sample(10, random_state=RANDOM_SEED))"
   ]
  },
  {
   "cell_type": "code",
<<<<<<< HEAD
   "execution_count": 15,
=======
   "execution_count": 33,
>>>>>>> 933a0a44041b88766f374a4b4c8b55c4efca67a0
   "metadata": {},
   "outputs": [
    {
     "data": {
      "text/html": [
       "<div>\n",
       "<style scoped>\n",
       "    .dataframe tbody tr th:only-of-type {\n",
       "        vertical-align: middle;\n",
       "    }\n",
       "\n",
       "    .dataframe tbody tr th {\n",
       "        vertical-align: top;\n",
       "    }\n",
       "\n",
       "    .dataframe thead th {\n",
       "        text-align: right;\n",
       "    }\n",
       "</style>\n",
       "<table border=\"1\" class=\"dataframe\">\n",
       "  <thead>\n",
       "    <tr style=\"text-align: right;\">\n",
       "      <th></th>\n",
       "      <th>topic_dist</th>\n",
       "      <th>topic_skew</th>\n",
       "      <th>topic_kurtosis</th>\n",
       "      <th>topic_gini</th>\n",
       "      <th>topic_std</th>\n",
       "      <th>label</th>\n",
       "    </tr>\n",
       "  </thead>\n",
       "  <tbody>\n",
       "    <tr>\n",
       "      <th>10139</th>\n",
<<<<<<< HEAD
       "      <td>[0.0, 0.0, 0.4444444444444444, 0.6666666666666...</td>\n",
       "      <td>0.328960</td>\n",
       "      <td>-1.449917</td>\n",
       "      <td>0.546003</td>\n",
       "      <td>0.252122</td>\n",
=======
       "      <td>[0.29411764705882354, 0.5294117647058824, 0.0,...</td>\n",
       "      <td>0.052751</td>\n",
       "      <td>-1.258479</td>\n",
       "      <td>0.392157</td>\n",
       "      <td>0.282807</td>\n",
>>>>>>> 933a0a44041b88766f374a4b4c8b55c4efca67a0
       "      <td>1</td>\n",
       "    </tr>\n",
       "    <tr>\n",
       "      <th>4587</th>\n",
<<<<<<< HEAD
       "      <td>[0.0, 0.36082474226804123, 0.04123711340206185...</td>\n",
       "      <td>0.179276</td>\n",
       "      <td>-1.378779</td>\n",
       "      <td>0.450835</td>\n",
       "      <td>0.287530</td>\n",
=======
       "      <td>[0.0, 0.3865979381443299, 0.28865979381443296,...</td>\n",
       "      <td>0.057983</td>\n",
       "      <td>-1.273864</td>\n",
       "      <td>0.391758</td>\n",
       "      <td>0.287005</td>\n",
>>>>>>> 933a0a44041b88766f374a4b4c8b55c4efca67a0
       "      <td>0</td>\n",
       "    </tr>\n",
       "    <tr>\n",
       "      <th>11274</th>\n",
<<<<<<< HEAD
       "      <td>[0.4, 0.845, 0.275, 0.7, 0.43, 0.87, 0.63, 0.3...</td>\n",
       "      <td>-0.017174</td>\n",
       "      <td>-1.209669</td>\n",
       "      <td>0.343154</td>\n",
       "      <td>0.290600</td>\n",
=======
       "      <td>[0.885, 0.2, 0.71, 0.46, 0.69, 0.16, 0.015, 0....</td>\n",
       "      <td>-0.027499</td>\n",
       "      <td>-1.227342</td>\n",
       "      <td>0.343920</td>\n",
       "      <td>0.291638</td>\n",
>>>>>>> 933a0a44041b88766f374a4b4c8b55c4efca67a0
       "      <td>0</td>\n",
       "    </tr>\n",
       "    <tr>\n",
       "      <th>1244</th>\n",
<<<<<<< HEAD
       "      <td>[0.16447368421052633, 0.006578947368421052, 0....</td>\n",
       "      <td>0.664794</td>\n",
       "      <td>-0.975609</td>\n",
       "      <td>0.571356</td>\n",
       "      <td>0.258526</td>\n",
=======
       "      <td>[0.745, 0.495, 0.0, 0.735, 0.44, 0.76, 0.195, ...</td>\n",
       "      <td>0.177621</td>\n",
       "      <td>-1.257072</td>\n",
       "      <td>0.437329</td>\n",
       "      <td>0.259259</td>\n",
>>>>>>> 933a0a44041b88766f374a4b4c8b55c4efca67a0
       "      <td>1</td>\n",
       "    </tr>\n",
       "    <tr>\n",
       "      <th>3949</th>\n",
<<<<<<< HEAD
       "      <td>[0.78, 0.055, 0.79, 0.74, 0.575, 0.41, 0.465, ...</td>\n",
       "      <td>0.109939</td>\n",
       "      <td>-1.413266</td>\n",
       "      <td>0.424658</td>\n",
       "      <td>0.297228</td>\n",
=======
       "      <td>[0.81, 0.045, 0.72, 0.295, 0.235, 0.51, 0.42, ...</td>\n",
       "      <td>0.012790</td>\n",
       "      <td>-1.260009</td>\n",
       "      <td>0.363775</td>\n",
       "      <td>0.290780</td>\n",
>>>>>>> 933a0a44041b88766f374a4b4c8b55c4efca67a0
       "      <td>0</td>\n",
       "    </tr>\n",
       "    <tr>\n",
       "      <th>7742</th>\n",
<<<<<<< HEAD
       "      <td>[0.7552083333333334, 0.6927083333333334, 0.593...</td>\n",
       "      <td>0.204749</td>\n",
       "      <td>-1.407951</td>\n",
       "      <td>0.472705</td>\n",
       "      <td>0.273459</td>\n",
=======
       "      <td>[0.24873096446700507, 0.7563451776649747, 0.20...</td>\n",
       "      <td>0.018922</td>\n",
       "      <td>-1.256970</td>\n",
       "      <td>0.374283</td>\n",
       "      <td>0.290281</td>\n",
>>>>>>> 933a0a44041b88766f374a4b4c8b55c4efca67a0
       "      <td>0</td>\n",
       "    </tr>\n",
       "    <tr>\n",
       "      <th>2018</th>\n",
<<<<<<< HEAD
       "      <td>[0.4930555555555556, 0.20833333333333334, 0.21...</td>\n",
       "      <td>0.028777</td>\n",
       "      <td>-1.357506</td>\n",
       "      <td>0.398836</td>\n",
       "      <td>0.281260</td>\n",
=======
       "      <td>[0.4722222222222222, 0.5972222222222222, 0.305...</td>\n",
       "      <td>0.046790</td>\n",
       "      <td>-1.259306</td>\n",
       "      <td>0.360022</td>\n",
       "      <td>0.294099</td>\n",
>>>>>>> 933a0a44041b88766f374a4b4c8b55c4efca67a0
       "      <td>1</td>\n",
       "    </tr>\n",
       "    <tr>\n",
       "      <th>2682</th>\n",
<<<<<<< HEAD
       "      <td>[0.8571428571428571, 0.0, 0.0, 0.6349206349206...</td>\n",
       "      <td>0.417498</td>\n",
       "      <td>-1.386702</td>\n",
       "      <td>0.533920</td>\n",
       "      <td>0.317168</td>\n",
=======
       "      <td>[0.10326086956521739, 0.3695652173913043, 0.45...</td>\n",
       "      <td>-0.012183</td>\n",
       "      <td>-1.261727</td>\n",
       "      <td>0.376204</td>\n",
       "      <td>0.290294</td>\n",
>>>>>>> 933a0a44041b88766f374a4b4c8b55c4efca67a0
       "      <td>0</td>\n",
       "    </tr>\n",
       "    <tr>\n",
       "      <th>9994</th>\n",
<<<<<<< HEAD
       "      <td>[0.085, 0.3, 0.615, 0.53, 0.19, 0.0, 0.37, 0.4...</td>\n",
       "      <td>0.114007</td>\n",
       "      <td>-1.298732</td>\n",
       "      <td>0.401189</td>\n",
       "      <td>0.286928</td>\n",
=======
       "      <td>[0.57, 0.235, 0.75, 0.18, 0.165, 0.33, 0.255, ...</td>\n",
       "      <td>-0.001710</td>\n",
       "      <td>-1.221276</td>\n",
       "      <td>0.358066</td>\n",
       "      <td>0.287109</td>\n",
>>>>>>> 933a0a44041b88766f374a4b4c8b55c4efca67a0
       "      <td>1</td>\n",
       "    </tr>\n",
       "    <tr>\n",
       "      <th>10884</th>\n",
<<<<<<< HEAD
       "      <td>[0.445, 0.445, 0.47, 0.47, 0.47, 0.785, 0.47, ...</td>\n",
       "      <td>0.061169</td>\n",
       "      <td>-0.432280</td>\n",
       "      <td>0.291581</td>\n",
       "      <td>0.243930</td>\n",
=======
       "      <td>[0.71, 0.635, 0.145, 0.405, 0.305, 0.865, 0.37...</td>\n",
       "      <td>0.047655</td>\n",
       "      <td>-1.279813</td>\n",
       "      <td>0.374453</td>\n",
       "      <td>0.290650</td>\n",
>>>>>>> 933a0a44041b88766f374a4b4c8b55c4efca67a0
       "      <td>0</td>\n",
       "    </tr>\n",
       "  </tbody>\n",
       "</table>\n",
       "</div>"
      ],
      "text/plain": [
       "                                              topic_dist  topic_skew  \\\n",
<<<<<<< HEAD
       "10139  [0.0, 0.0, 0.4444444444444444, 0.6666666666666...    0.328960   \n",
       "4587   [0.0, 0.36082474226804123, 0.04123711340206185...    0.179276   \n",
       "11274  [0.4, 0.845, 0.275, 0.7, 0.43, 0.87, 0.63, 0.3...   -0.017174   \n",
       "1244   [0.16447368421052633, 0.006578947368421052, 0....    0.664794   \n",
       "3949   [0.78, 0.055, 0.79, 0.74, 0.575, 0.41, 0.465, ...    0.109939   \n",
       "7742   [0.7552083333333334, 0.6927083333333334, 0.593...    0.204749   \n",
       "2018   [0.4930555555555556, 0.20833333333333334, 0.21...    0.028777   \n",
       "2682   [0.8571428571428571, 0.0, 0.0, 0.6349206349206...    0.417498   \n",
       "9994   [0.085, 0.3, 0.615, 0.53, 0.19, 0.0, 0.37, 0.4...    0.114007   \n",
       "10884  [0.445, 0.445, 0.47, 0.47, 0.47, 0.785, 0.47, ...    0.061169   \n",
       "\n",
       "       topic_kurtosis  topic_gini  topic_std  label  \n",
       "10139       -1.449917    0.546003   0.252122      1  \n",
       "4587        -1.378779    0.450835   0.287530      0  \n",
       "11274       -1.209669    0.343154   0.290600      0  \n",
       "1244        -0.975609    0.571356   0.258526      1  \n",
       "3949        -1.413266    0.424658   0.297228      0  \n",
       "7742        -1.407951    0.472705   0.273459      0  \n",
       "2018        -1.357506    0.398836   0.281260      1  \n",
       "2682        -1.386702    0.533920   0.317168      0  \n",
       "9994        -1.298732    0.401189   0.286928      1  \n",
       "10884       -0.432280    0.291581   0.243930      0  "
      ]
     },
     "execution_count": 15,
=======
       "10139  [0.29411764705882354, 0.5294117647058824, 0.0,...    0.052751   \n",
       "4587   [0.0, 0.3865979381443299, 0.28865979381443296,...    0.057983   \n",
       "11274  [0.885, 0.2, 0.71, 0.46, 0.69, 0.16, 0.015, 0....   -0.027499   \n",
       "1244   [0.745, 0.495, 0.0, 0.735, 0.44, 0.76, 0.195, ...    0.177621   \n",
       "3949   [0.81, 0.045, 0.72, 0.295, 0.235, 0.51, 0.42, ...    0.012790   \n",
       "7742   [0.24873096446700507, 0.7563451776649747, 0.20...    0.018922   \n",
       "2018   [0.4722222222222222, 0.5972222222222222, 0.305...    0.046790   \n",
       "2682   [0.10326086956521739, 0.3695652173913043, 0.45...   -0.012183   \n",
       "9994   [0.57, 0.235, 0.75, 0.18, 0.165, 0.33, 0.255, ...   -0.001710   \n",
       "10884  [0.71, 0.635, 0.145, 0.405, 0.305, 0.865, 0.37...    0.047655   \n",
       "\n",
       "       topic_kurtosis  topic_gini  topic_std  label  \n",
       "10139       -1.258479    0.392157   0.282807      1  \n",
       "4587        -1.273864    0.391758   0.287005      0  \n",
       "11274       -1.227342    0.343920   0.291638      0  \n",
       "1244        -1.257072    0.437329   0.259259      1  \n",
       "3949        -1.260009    0.363775   0.290780      0  \n",
       "7742        -1.256970    0.374283   0.290281      0  \n",
       "2018        -1.259306    0.360022   0.294099      1  \n",
       "2682        -1.261727    0.376204   0.290294      0  \n",
       "9994        -1.221276    0.358066   0.287109      1  \n",
       "10884       -1.279813    0.374453   0.290650      0  "
      ]
     },
     "execution_count": 33,
>>>>>>> 933a0a44041b88766f374a4b4c8b55c4efca67a0
     "metadata": {},
     "output_type": "execute_result"
    }
   ],
   "source": [
    "with_topic_feat[['topic_dist', 'topic_skew', 'topic_kurtosis', 'topic_gini', 'topic_std', 'label']]"
   ]
  }
 ],
 "metadata": {
  "interpreter": {
   "hash": "fe336406e9fe7934cb9574bced87d36d9641f95c336376560cd58afbe64d3c8c"
  },
  "kernelspec": {
   "display_name": "ML_w_tf_env",
   "language": "python",
   "name": "ml_w_tf_env"
  },
  "language_info": {
   "codemirror_mode": {
    "name": "ipython",
    "version": 3
   },
   "file_extension": ".py",
   "mimetype": "text/x-python",
   "name": "python",
   "nbconvert_exporter": "python",
   "pygments_lexer": "ipython3",
   "version": "3.7.13"
  }
 },
 "nbformat": 4,
 "nbformat_minor": 4
}
