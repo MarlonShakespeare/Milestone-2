{
 "cells": [
  {
   "cell_type": "code",
   "execution_count": 1,
   "metadata": {},
   "outputs": [],
   "source": [
    "import numpy as np\n",
    "import pandas as pd\n",
    "import gzip\n",
    "import pickle\n",
    "from collections import Counter\n",
    "from utils import split_all_data\n",
    "from scipy.stats import skew, kurtosis\n",
    "\n",
    "import re\n",
    "import spacy\n",
    "from nltk.stem import PorterStemmer\n",
    "from nltk.corpus import stopwords\n",
    "\n",
    "from sklearn.decomposition import NMF\n",
    "from sklearn.feature_extraction.text import TfidfVectorizer\n",
    "from sklearn.pipeline import make_pipeline\n",
    "\n",
    "import seaborn as sns\n",
    "import matplotlib.pyplot as plt\n",
    "from IPython.display import display\n",
    "\n",
    "import warnings\n",
    "warnings.filterwarnings('ignore')"
   ]
  },
  {
   "cell_type": "code",
   "execution_count": 2,
   "metadata": {},
   "outputs": [],
   "source": [
    "# if you dont have the model uncomment the line below\n",
    "#!python -m spacy download en_core_web_lg"
   ]
  },
  {
   "cell_type": "code",
   "execution_count": 3,
   "metadata": {},
   "outputs": [],
   "source": [
    "RANDOM_SEED = 1835"
   ]
  },
  {
   "cell_type": "code",
   "execution_count": 4,
   "metadata": {},
   "outputs": [],
   "source": [
    "spacy_model = spacy.load('en_core_web_lg')\n",
    "\n",
    "def spacy_tokenizer(text):\n",
    "    sp_text = spacy_model(text)\n",
    "    tokens = [token.lemma_ for token in sp_text if (not token.is_stop and token.is_alpha)]\n",
    "    return tokens"
   ]
  },
  {
   "cell_type": "code",
   "execution_count": 5,
   "metadata": {},
   "outputs": [],
   "source": [
    "stop_words = stopwords.words('english')\n",
    "\n",
    "stemmer = PorterStemmer()\n",
    "def stem_token(text):\n",
    "    tokens = [stemmer.stem(word) for word in re.findall(r'\\w\\w+', text) if word not in stop_words]\n",
    "    return tokens"
   ]
  },
  {
   "cell_type": "code",
   "execution_count": 6,
   "metadata": {},
   "outputs": [
    {
     "name": "stdout",
     "output_type": "stream",
     "text": [
      "Loading the data...\n",
      "Splitting the data...\n"
     ]
    }
   ],
   "source": [
    "data_dict = split_all_data(.8, random_state=RANDOM_SEED)\n",
    "train_df = data_dict['train']"
   ]
  },
  {
   "cell_type": "code",
   "execution_count": 7,
   "metadata": {},
   "outputs": [
    {
     "name": "stdout",
     "output_type": "stream",
     "text": [
      "25.6 ms ± 1.08 ms per loop (mean ± std. dev. of 7 runs, 10 loops each)\n"
     ]
    }
   ],
   "source": [
    "%%timeit\n",
    "spacy_tokenizer(train_df['tweet'].iloc[10][0])"
   ]
  },
  {
   "cell_type": "code",
   "execution_count": 8,
   "metadata": {},
   "outputs": [
    {
     "name": "stdout",
     "output_type": "stream",
     "text": [
      "1.03 ms ± 25.6 µs per loop (mean ± std. dev. of 7 runs, 1000 loops each)\n"
     ]
    }
   ],
   "source": [
    "%%timeit\n",
    "stem_token(train_df['tweet'].iloc[10][0])"
   ]
  },
  {
   "cell_type": "code",
   "execution_count": 9,
   "metadata": {},
   "outputs": [
    {
     "name": "stdout",
     "output_type": "stream",
     "text": [
      "user: 1290597237991575552 - label: 1\n",
      " Stemming:      [('no', 1), ('question', 1), ('de', 1), ('jong', 1), ('bloke', 1), ('worst', 1), ('striker', 1), ('ever', 1), ('seen', 1), ('life', 1)] \n",
      " Lemmatization: [('question', 1), ('De', 1), ('Jong', 1), ('bloke', 1), ('bad', 1), ('striker', 1), ('see', 1), ('life', 1), ('score', 1), ('winner', 1)] \n",
      "\n",
      "user: 159535879 - label: 0\n",
      " Stemming:      [('rt', 1), ('sadwrit', 1), ('http', 1), ('co', 1), ('ibdvhk7ayt', 1)] \n",
      " Lemmatization: [('RT', 1)] \n",
      "\n",
      "user: 22189352 - label: 0\n",
      " Stemming:      [('fire', 2), ('final', 1), ('no', 1), ('injuri', 1), ('ff', 1), ('civilian', 1), ('occup', 1), ('displac', 1), ('due', 1), ('caus', 1)] \n",
      " Lemmatization: [('fire', 2), ('FINAL', 1), ('injury', 1), ('FF', 1), ('civilian', 1), ('occupant', 1), ('displace', 1), ('cause', 1), ('investigation', 1)] \n",
      "\n",
      "user: 2637583066 - label: 1\n",
      " Stemming:      [('5g06021008', 1), ('efiaodo1', 1), ('you', 1), ('right', 1), ('lol', 1), ('swear', 1)] \n",
      " Lemmatization: [('right', 1), ('lol', 1), ('swear', 1)] \n",
      "\n",
      "user: 979469572494495744 - label: 0\n",
      " Stemming:      [('el', 2), ('http', 2), ('co', 2), ('tan', 1), ('cansado', 1), ('pero', 1), ('vivo', 1), ('es', 1), ('nuevo', 1), ('materi', 1)] \n",
      " Lemmatization: [('el', 2), ('Tan', 1), ('cansado', 1), ('pero', 1), ('vivo', 1), ('es', 1), ('nuevo', 1), ('material', 1), ('de', 1), ('Escuchá', 1)] \n",
      "\n",
      "user: 315695307 - label: 0\n",
      " Stemming:      [('rt', 2), ('_yourgirl_t', 1), ('break', 1), ('new', 1), ('that', 1), ('phone', 1), ('use', 1), ('read', 1), ('tweet', 1), ('ring', 1)] \n",
      " Lemmatization: [('RT', 2), ('BREAKING', 1), ('NEWS', 1), ('phone', 1), ('read', 1), ('tweet', 1), ('ring', 1), ('success', 1), ('job', 1), ('opportunity', 1)] \n",
      "\n",
      "user: 221782984 - label: 1\n",
      " Stemming:      [('joebiden', 1), ('pleas', 1), ('follow', 1), ('tomfriedman', 1), ('advic', 1), ('debat', 1), ('unless', 1), ('releas', 1), ('tax', 1), ('return', 1)] \n",
      " Lemmatization: [('follow', 1), ('advice', 1), ('debate', 1), ('release', 1), ('tax', 1), ('return', 1)] \n",
      "\n",
      "user: 334110750 - label: 0\n",
      " Stemming:      [('vote', 1), ('littl', 1), ('brother', 1), ('quentin', 1), ('skinner', 1), ('quentinfskinn', 1), ('http', 1), ('co', 1), ('7bkwikknef', 1)] \n",
      " Lemmatization: [('vote', 1), ('little', 1), ('brother', 1), ('Quentin', 1), ('Skinner', 1)] \n",
      "\n",
      "user: 1079641484310134784 - label: 1\n",
      " Stemming:      [('flag', 2), ('rt', 1), ('msyallpolit', 1), ('the', 1), ('vote', 1), ('ballot', 1), ('new', 1), ('magnolia', 1), ('stateflag', 1), ('msleg', 1)] \n",
      " Lemmatization: [('RT', 1), ('vote', 1), ('flag', 1), ('ballot', 1), ('New', 1), ('Magnolia', 1), ('Flag', 1), ('stateflag', 1), ('msleg', 1), ('mselex', 1)] \n",
      "\n",
      "user: 36383320 - label: 0\n",
      " Stemming:      [('est', 3), ('comprendr', 2), ('autrui', 2), ('sa', 2), ('http', 2), ('co', 2), ('respect', 1), ('son', 1), ('altérité', 1), ('dignité', 1)] \n",
      " Lemmatization: [('Comprendre', 2), ('autrui', 2), ('sa', 2), ('respecter', 1), ('son', 1), ('altérité', 1), ('dignité', 1), ('liberté', 1), ('retrouver', 1), ('le', 1)] \n",
      "\n"
     ]
    }
   ],
   "source": [
    "# testing the tokenizer/lemmatizer\n",
    "for item in train_df.sample(10, random_state=RANDOM_SEED).itertuples():\n",
    "    if item[3] is not None:\n",
    "        tokenized_s = stem_token(item[3][0])\n",
    "        tokenized_l = spacy_tokenizer(item[3][0])\n",
    "        count_stem = Counter(tokenized_s)\n",
    "        count_lemm = Counter(tokenized_l)\n",
    "        print(f'user: {item[1]} - label: {item[-1]}\\n', 'Stemming:     ', count_stem.most_common(10), '\\n', 'Lemmatization:', count_lemm.most_common(10), '\\n')\n",
    "    else:\n",
    "        pass"
   ]
  },
  {
   "cell_type": "code",
   "execution_count": 10,
   "metadata": {},
   "outputs": [],
   "source": [
    "def extract_topic_feature(row, components=None, tokenizer=None, random_state=None):\n",
    "    if components is None:\n",
    "        components = len(row)\n",
    "    if row is not None and components > 1:\n",
    "        tweets = np.array(row)\n",
    "\n",
    "        vectorize = TfidfVectorizer(tokenizer=tokenizer, \n",
    "                                    ngram_range=(1, 2),\n",
    "                                    stop_words=None if tokenizer is not None else 'english',\n",
    "                                    min_df=1)\n",
    "        nmf_model = NMF(n_components=components, \n",
    "                        init='nndsvd', \n",
    "                        max_iter=200, \n",
    "                        random_state=random_state)\n",
    "\n",
    "        \n",
    "        nmf_pipe = make_pipeline(vectorize, nmf_model)\n",
    "        \n",
    "        try:\n",
    "            W = nmf_pipe.fit_transform(tweets)\n",
    "        except ValueError:\n",
    "            return np.nan\n",
    "        \n",
    "        index_max = []\n",
    "        for index in range(W.shape[0]):\n",
    "            max_val_index = np.argmax(W[index])\n",
    "            index_max.append(max_val_index)\n",
    "            \n",
    "        index_norm = np.array(index_max) / components\n",
    "        \n",
    "        return index_norm\n",
    "    else:\n",
    "        return np.nan"
   ]
  },
  {
   "cell_type": "code",
   "execution_count": 11,
   "metadata": {},
   "outputs": [],
   "source": [
    "# unweighted gini coefficient measure taken from https://stackoverflow.com/questions/48999542/more-efficient-weighted-gini-coefficient-in-python by user Gaëtan de Menten\n",
    "def gini(x):\n",
    "    sorted_x = np.sort(x)\n",
    "    n = len(x)\n",
    "    cumx = np.cumsum(sorted_x, dtype=float)\n",
    "    return (n + 1 - 2 * np.sum(cumx) / cumx[-1]) / n"
   ]
  },
  {
   "cell_type": "code",
   "execution_count": 12,
   "metadata": {},
   "outputs": [
    {
     "name": "stdout",
     "output_type": "stream",
     "text": [
      "ID: 1290597237991575552 - Label 1 - number of tweets 17\n"
     ]
    },
    {
     "data": {
      "text/html": [
       "<div>\n",
       "<style scoped>\n",
       "    .dataframe tbody tr th:only-of-type {\n",
       "        vertical-align: middle;\n",
       "    }\n",
       "\n",
       "    .dataframe tbody tr th {\n",
       "        vertical-align: top;\n",
       "    }\n",
       "\n",
       "    .dataframe thead th {\n",
       "        text-align: right;\n",
       "    }\n",
       "</style>\n",
       "<table border=\"1\" class=\"dataframe\">\n",
       "  <thead>\n",
       "    <tr style=\"text-align: right;\">\n",
       "      <th></th>\n",
       "      <th>only stopword removal</th>\n",
       "      <th>with stemming</th>\n",
       "      <th>with lemmatization</th>\n",
       "    </tr>\n",
       "  </thead>\n",
       "  <tbody>\n",
       "    <tr>\n",
       "      <th>skewness</th>\n",
       "      <td>0.0</td>\n",
       "      <td>0.0</td>\n",
       "      <td>0.052751</td>\n",
       "    </tr>\n",
       "    <tr>\n",
       "      <th>kurtosis</th>\n",
       "      <td>-1.208333</td>\n",
       "      <td>-1.208333</td>\n",
       "      <td>-1.258479</td>\n",
       "    </tr>\n",
       "    <tr>\n",
       "      <th>standard deviation</th>\n",
       "      <td>0.288175</td>\n",
       "      <td>0.288175</td>\n",
       "      <td>0.282807</td>\n",
       "    </tr>\n",
       "    <tr>\n",
       "      <th>gini coefficient</th>\n",
       "      <td>0.352941</td>\n",
       "      <td>0.352941</td>\n",
       "      <td>0.392157</td>\n",
       "    </tr>\n",
       "  </tbody>\n",
       "</table>\n",
       "</div>"
      ],
      "text/plain": [
       "                   only stopword removal with stemming with lemmatization\n",
       "skewness                             0.0           0.0           0.052751\n",
       "kurtosis                       -1.208333     -1.208333          -1.258479\n",
       "standard deviation              0.288175      0.288175           0.282807\n",
       "gini coefficient                0.352941      0.352941           0.392157"
      ]
     },
     "metadata": {},
     "output_type": "display_data"
    },
    {
     "data": {
      "image/png": "[encoded data removed]",
      "text/plain": [
       "<Figure size 1080x288 with 3 Axes>"
      ]
     },
     "metadata": {
      "needs_background": "light"
     },
     "output_type": "display_data"
    },
    {
     "name": "stdout",
     "output_type": "stream",
     "text": [
      "ID: 159535879 - Label 0 - number of tweets 194\n"
     ]
    },
    {
     "data": {
      "text/html": [
       "<div>\n",
       "<style scoped>\n",
       "    .dataframe tbody tr th:only-of-type {\n",
       "        vertical-align: middle;\n",
       "    }\n",
       "\n",
       "    .dataframe tbody tr th {\n",
       "        vertical-align: top;\n",
       "    }\n",
       "\n",
       "    .dataframe thead th {\n",
       "        text-align: right;\n",
       "    }\n",
       "</style>\n",
       "<table border=\"1\" class=\"dataframe\">\n",
       "  <thead>\n",
       "    <tr style=\"text-align: right;\">\n",
       "      <th></th>\n",
       "      <th>only stopword removal</th>\n",
       "      <th>with stemming</th>\n",
       "      <th>with lemmatization</th>\n",
       "    </tr>\n",
       "  </thead>\n",
       "  <tbody>\n",
       "    <tr>\n",
       "      <th>skewness</th>\n",
       "      <td>0.00354</td>\n",
       "      <td>0.00222</td>\n",
       "      <td>0.068263</td>\n",
       "    </tr>\n",
       "    <tr>\n",
       "      <th>kurtosis</th>\n",
       "      <td>-1.249807</td>\n",
       "      <td>-1.225339</td>\n",
       "      <td>-1.253147</td>\n",
       "    </tr>\n",
       "    <tr>\n",
       "      <th>standard deviation</th>\n",
       "      <td>0.29344</td>\n",
       "      <td>0.291832</td>\n",
       "      <td>0.284415</td>\n",
       "    </tr>\n",
       "    <tr>\n",
       "      <th>gini coefficient</th>\n",
       "      <td>0.344999</td>\n",
       "      <td>0.341308</td>\n",
       "      <td>0.390346</td>\n",
       "    </tr>\n",
       "  </tbody>\n",
       "</table>\n",
       "</div>"
      ],
      "text/plain": [
       "                   only stopword removal with stemming with lemmatization\n",
       "skewness                         0.00354       0.00222           0.068263\n",
       "kurtosis                       -1.249807     -1.225339          -1.253147\n",
       "standard deviation               0.29344      0.291832           0.284415\n",
       "gini coefficient                0.344999      0.341308           0.390346"
      ]
     },
     "metadata": {},
     "output_type": "display_data"
    },
    {
     "data": {
      "image/png": "[encoded data removed]",
      "text/plain": [
       "<Figure size 1080x288 with 3 Axes>"
      ]
     },
     "metadata": {
      "needs_background": "light"
     },
     "output_type": "display_data"
    },
    {
     "name": "stdout",
     "output_type": "stream",
     "text": [
      "ID: 22189352 - Label 0 - number of tweets 200\n"
     ]
    },
    {
     "data": {
      "text/html": [
       "<div>\n",
       "<style scoped>\n",
       "    .dataframe tbody tr th:only-of-type {\n",
       "        vertical-align: middle;\n",
       "    }\n",
       "\n",
       "    .dataframe tbody tr th {\n",
       "        vertical-align: top;\n",
       "    }\n",
       "\n",
       "    .dataframe thead th {\n",
       "        text-align: right;\n",
       "    }\n",
       "</style>\n",
       "<table border=\"1\" class=\"dataframe\">\n",
       "  <thead>\n",
       "    <tr style=\"text-align: right;\">\n",
       "      <th></th>\n",
       "      <th>only stopword removal</th>\n",
       "      <th>with stemming</th>\n",
       "      <th>with lemmatization</th>\n",
       "    </tr>\n",
       "  </thead>\n",
       "  <tbody>\n",
       "    <tr>\n",
       "      <th>skewness</th>\n",
       "      <td>-0.029362</td>\n",
       "      <td>-0.026835</td>\n",
       "      <td>-0.003051</td>\n",
       "    </tr>\n",
       "    <tr>\n",
       "      <th>kurtosis</th>\n",
       "      <td>-1.240969</td>\n",
       "      <td>-1.199751</td>\n",
       "      <td>-1.213294</td>\n",
       "    </tr>\n",
       "    <tr>\n",
       "      <th>standard deviation</th>\n",
       "      <td>0.293502</td>\n",
       "      <td>0.290632</td>\n",
       "      <td>0.290084</td>\n",
       "    </tr>\n",
       "    <tr>\n",
       "      <th>gini coefficient</th>\n",
       "      <td>0.338383</td>\n",
       "      <td>0.335632</td>\n",
       "      <td>0.344666</td>\n",
       "    </tr>\n",
       "  </tbody>\n",
       "</table>\n",
       "</div>"
      ],
      "text/plain": [
       "                   only stopword removal with stemming with lemmatization\n",
       "skewness                       -0.029362     -0.026835          -0.003051\n",
       "kurtosis                       -1.240969     -1.199751          -1.213294\n",
       "standard deviation              0.293502      0.290632           0.290084\n",
       "gini coefficient                0.338383      0.335632           0.344666"
      ]
     },
     "metadata": {},
     "output_type": "display_data"
    },
    {
     "data": {
      "image/png": "[encoded data removed]",
      "text/plain": [
       "<Figure size 1080x288 with 3 Axes>"
      ]
     },
     "metadata": {
      "needs_background": "light"
     },
     "output_type": "display_data"
    },
    {
     "name": "stdout",
     "output_type": "stream",
     "text": [
      "ID: 2637583066 - Label 1 - number of tweets 200\n"
     ]
    },
    {
     "data": {
      "text/html": [
       "<div>\n",
       "<style scoped>\n",
       "    .dataframe tbody tr th:only-of-type {\n",
       "        vertical-align: middle;\n",
       "    }\n",
       "\n",
       "    .dataframe tbody tr th {\n",
       "        vertical-align: top;\n",
       "    }\n",
       "\n",
       "    .dataframe thead th {\n",
       "        text-align: right;\n",
       "    }\n",
       "</style>\n",
       "<table border=\"1\" class=\"dataframe\">\n",
       "  <thead>\n",
       "    <tr style=\"text-align: right;\">\n",
       "      <th></th>\n",
       "      <th>only stopword removal</th>\n",
       "      <th>with stemming</th>\n",
       "      <th>with lemmatization</th>\n",
       "    </tr>\n",
       "  </thead>\n",
       "  <tbody>\n",
       "    <tr>\n",
       "      <th>skewness</th>\n",
       "      <td>0.016353</td>\n",
       "      <td>-0.009418</td>\n",
       "      <td>0.22109</td>\n",
       "    </tr>\n",
       "    <tr>\n",
       "      <th>kurtosis</th>\n",
       "      <td>-1.249725</td>\n",
       "      <td>-1.202875</td>\n",
       "      <td>-1.22444</td>\n",
       "    </tr>\n",
       "    <tr>\n",
       "      <th>standard deviation</th>\n",
       "      <td>0.290178</td>\n",
       "      <td>0.28903</td>\n",
       "      <td>0.263253</td>\n",
       "    </tr>\n",
       "    <tr>\n",
       "      <th>gini coefficient</th>\n",
       "      <td>0.351371</td>\n",
       "      <td>0.347256</td>\n",
       "      <td>0.442255</td>\n",
       "    </tr>\n",
       "  </tbody>\n",
       "</table>\n",
       "</div>"
      ],
      "text/plain": [
       "                   only stopword removal with stemming with lemmatization\n",
       "skewness                        0.016353     -0.009418            0.22109\n",
       "kurtosis                       -1.249725     -1.202875           -1.22444\n",
       "standard deviation              0.290178       0.28903           0.263253\n",
       "gini coefficient                0.351371      0.347256           0.442255"
      ]
     },
     "metadata": {},
     "output_type": "display_data"
    },
    {
     "data": {
      "image/png": "[encoded data removed]",
      "text/plain": [
       "<Figure size 1080x288 with 3 Axes>"
      ]
     },
     "metadata": {
      "needs_background": "light"
     },
     "output_type": "display_data"
    },
    {
     "name": "stdout",
     "output_type": "stream",
     "text": [
      "ID: 979469572494495744 - Label 0 - number of tweets 200\n"
     ]
    },
    {
     "data": {
      "text/html": [
       "<div>\n",
       "<style scoped>\n",
       "    .dataframe tbody tr th:only-of-type {\n",
       "        vertical-align: middle;\n",
       "    }\n",
       "\n",
       "    .dataframe tbody tr th {\n",
       "        vertical-align: top;\n",
       "    }\n",
       "\n",
       "    .dataframe thead th {\n",
       "        text-align: right;\n",
       "    }\n",
       "</style>\n",
       "<table border=\"1\" class=\"dataframe\">\n",
       "  <thead>\n",
       "    <tr style=\"text-align: right;\">\n",
       "      <th></th>\n",
       "      <th>only stopword removal</th>\n",
       "      <th>with stemming</th>\n",
       "      <th>with lemmatization</th>\n",
       "    </tr>\n",
       "  </thead>\n",
       "  <tbody>\n",
       "    <tr>\n",
       "      <th>skewness</th>\n",
       "      <td>0.012655</td>\n",
       "      <td>-0.008513</td>\n",
       "      <td>0.020694</td>\n",
       "    </tr>\n",
       "    <tr>\n",
       "      <th>kurtosis</th>\n",
       "      <td>-1.216111</td>\n",
       "      <td>-1.217776</td>\n",
       "      <td>-1.273407</td>\n",
       "    </tr>\n",
       "    <tr>\n",
       "      <th>standard deviation</th>\n",
       "      <td>0.290481</td>\n",
       "      <td>0.29315</td>\n",
       "      <td>0.291882</td>\n",
       "    </tr>\n",
       "    <tr>\n",
       "      <th>gini coefficient</th>\n",
       "      <td>0.344329</td>\n",
       "      <td>0.347553</td>\n",
       "      <td>0.376312</td>\n",
       "    </tr>\n",
       "  </tbody>\n",
       "</table>\n",
       "</div>"
      ],
      "text/plain": [
       "                   only stopword removal with stemming with lemmatization\n",
       "skewness                        0.012655     -0.008513           0.020694\n",
       "kurtosis                       -1.216111     -1.217776          -1.273407\n",
       "standard deviation              0.290481       0.29315           0.291882\n",
       "gini coefficient                0.344329      0.347553           0.376312"
      ]
     },
     "metadata": {},
     "output_type": "display_data"
    },
    {
     "data": {
      "image/png": "[encoded data removed]",
      "text/plain": [
       "<Figure size 1080x288 with 3 Axes>"
      ]
     },
     "metadata": {
      "needs_background": "light"
     },
     "output_type": "display_data"
    }
   ],
   "source": [
    "\n",
    "\n",
    "for row in train_df.sample(5, random_state=RANDOM_SEED).itertuples():\n",
    "    print(f\"ID: {row[1]} - Label {row[-1]} - number of tweets {len(row[3])}\")\n",
    "    ind0 = extract_topic_feature(row[3])\n",
    "    ind1 = extract_topic_feature(row[3], tokenizer=stem_token)\n",
    "    ind2 = extract_topic_feature(row[3], tokenizer=spacy_tokenizer)\n",
    "    temp_df = pd.DataFrame(index=['skewness', 'kurtosis', 'standard deviation', 'gini coefficient'], columns=['only stopword removal', 'with stemming', 'with lemmatization'])\n",
    "\n",
    "    temp_df.loc['skewness', 'only stopword removal'] = skew(ind0)\n",
    "    temp_df.loc['skewness', 'with stemming'] = skew(ind1)\n",
    "    temp_df.loc['skewness', 'with lemmatization'] = skew(ind2)\n",
    "    \n",
    "\n",
    "    temp_df.loc['kurtosis', 'only stopword removal'] = kurtosis(ind0)\n",
    "    temp_df.loc['kurtosis', 'with stemming'] = kurtosis(ind1)\n",
    "    temp_df.loc['kurtosis', 'with lemmatization'] = kurtosis(ind2)\n",
    "\n",
    "    temp_df.loc['standard deviation', 'only stopword removal'] = ind0.std()\n",
    "    temp_df.loc['standard deviation', 'with stemming'] = ind1.std()\n",
    "    temp_df.loc['standard deviation', 'with lemmatization'] = ind2.std()\n",
    "\n",
    "    temp_df.loc['gini coefficient', 'only stopword removal'] = gini(ind0)\n",
    "    temp_df.loc['gini coefficient', 'with stemming'] = gini(ind1)\n",
    "    temp_df.loc['gini coefficient', 'with lemmatization'] = gini(ind2)\n",
    "    \n",
    "    display(temp_df)\n",
    "\n",
    "    fig, ax = plt.subplots(1, 3, figsize=(15, 4))\n",
    "    \n",
    "    sns.histplot(ind0, ax=ax[0])\n",
    "    ax[0].set_title('Only Stopword Removal')\n",
    "    sns.histplot(ind1, ax=ax[1])\n",
    "    ax[1].set_title('Stemming and Stopword Removal')\n",
    "    sns.histplot(ind2, ax=ax[2])\n",
    "    ax[2].set_title('Lemmatization and Stopword Removal')\n",
    "\n",
    "\n",
    "    plt.tight_layout()\n",
    "    plt.show()"
   ]
  },
  {
   "cell_type": "code",
   "execution_count": 13,
   "metadata": {},
   "outputs": [],
   "source": [
    "def extract_nmf_feature(df, tokenizer=spacy_tokenizer):\n",
    "    df.loc[:, 'topic_dist'] = df['tweet'].apply(lambda x: extract_topic_feature(x, tokenizer=tokenizer) if x is not None else np.nan)\n",
    "    df.loc[:, 'topic_skew'] = df['topic_dist'].apply(lambda x: skew(x) if x is not None else np.nan)\n",
    "    df.loc[:, 'topic_kurtosis'] = df['topic_dist'].apply(lambda x: kurtosis(x) if x is not None else np.nan)\n",
    "    df.loc[:, 'topic_gini'] = df['topic_dist'].apply(lambda x: gini(x) if x is not None else np.nan)\n",
    "    df.loc[:, 'topic_std'] = df['topic_dist'].apply(lambda x: x.std() if x is not None else np.nan)\n",
    "    return df"
   ]
  },
  {
   "cell_type": "code",
   "execution_count": 14,
   "metadata": {},
   "outputs": [
    {
     "name": "stdout",
     "output_type": "stream",
     "text": [
      "Wall time: 2min 15s\n"
     ]
    }
   ],
   "source": [
    "%%time\n",
    "with_topic_feat = extract_nmf_feature(train_df.sample(10, random_state=RANDOM_SEED))"
   ]
  },
  {
   "cell_type": "code",
   "execution_count": 16,
   "metadata": {},
   "outputs": [
    {
     "data": {
      "text/html": [
       "<div>\n",
       "<style scoped>\n",
       "    .dataframe tbody tr th:only-of-type {\n",
       "        vertical-align: middle;\n",
       "    }\n",
       "\n",
       "    .dataframe tbody tr th {\n",
       "        vertical-align: top;\n",
       "    }\n",
       "\n",
       "    .dataframe thead th {\n",
       "        text-align: right;\n",
       "    }\n",
       "</style>\n",
       "<table border=\"1\" class=\"dataframe\">\n",
       "  <thead>\n",
       "    <tr style=\"text-align: right;\">\n",
       "      <th></th>\n",
       "      <th>topic_dist</th>\n",
       "      <th>topic_skew</th>\n",
       "      <th>topic_kurtosis</th>\n",
       "      <th>topic_gini</th>\n",
       "      <th>std</th>\n",
       "      <th>label</th>\n",
       "    </tr>\n",
       "  </thead>\n",
       "  <tbody>\n",
       "    <tr>\n",
       "      <th>10139</th>\n",
       "      <td>[0.23529411764705882, 0.5294117647058824, 0.0,...</td>\n",
       "      <td>0.052751</td>\n",
       "      <td>-1.258479</td>\n",
       "      <td>0.392157</td>\n",
       "      <td>0.282807</td>\n",
       "      <td>1</td>\n",
       "    </tr>\n",
       "    <tr>\n",
       "      <th>4587</th>\n",
       "      <td>[0.0, 0.39690721649484534, 0.6030927835051546,...</td>\n",
       "      <td>0.068263</td>\n",
       "      <td>-1.253147</td>\n",
       "      <td>0.390346</td>\n",
       "      <td>0.284415</td>\n",
       "      <td>0</td>\n",
       "    </tr>\n",
       "    <tr>\n",
       "      <th>11274</th>\n",
       "      <td>[0.885, 0.205, 0.245, 0.295, 0.445, 0.83, 0.43...</td>\n",
       "      <td>-0.003051</td>\n",
       "      <td>-1.213294</td>\n",
       "      <td>0.344666</td>\n",
       "      <td>0.290084</td>\n",
       "      <td>0</td>\n",
       "    </tr>\n",
       "    <tr>\n",
       "      <th>1244</th>\n",
       "      <td>[0.75, 0.495, 0.0, 0.125, 0.32, 0.765, 0.205, ...</td>\n",
       "      <td>0.250567</td>\n",
       "      <td>-1.133643</td>\n",
       "      <td>0.438514</td>\n",
       "      <td>0.254633</td>\n",
       "      <td>1</td>\n",
       "    </tr>\n",
       "    <tr>\n",
       "      <th>3949</th>\n",
       "      <td>[0.805, 0.12, 0.71, 0.49, 0.675, 0.465, 0.425,...</td>\n",
       "      <td>0.034249</td>\n",
       "      <td>-1.265802</td>\n",
       "      <td>0.375551</td>\n",
       "      <td>0.289499</td>\n",
       "      <td>0</td>\n",
       "    </tr>\n",
       "    <tr>\n",
       "      <th>7742</th>\n",
       "      <td>[0.6598984771573604, 0.751269035532995, 0.6548...</td>\n",
       "      <td>-0.023042</td>\n",
       "      <td>-1.270329</td>\n",
       "      <td>0.367377</td>\n",
       "      <td>0.295222</td>\n",
       "      <td>0</td>\n",
       "    </tr>\n",
       "    <tr>\n",
       "      <th>2018</th>\n",
       "      <td>[0.5555555555555556, 0.2638888888888889, 0.618...</td>\n",
       "      <td>-0.021099</td>\n",
       "      <td>-1.250706</td>\n",
       "      <td>0.352752</td>\n",
       "      <td>0.294053</td>\n",
       "      <td>1</td>\n",
       "    </tr>\n",
       "    <tr>\n",
       "      <th>2682</th>\n",
       "      <td>[0.8369565217391305, 0.358695652173913, 0.4673...</td>\n",
       "      <td>0.000434</td>\n",
       "      <td>-1.256409</td>\n",
       "      <td>0.377613</td>\n",
       "      <td>0.284644</td>\n",
       "      <td>0</td>\n",
       "    </tr>\n",
       "    <tr>\n",
       "      <th>9994</th>\n",
       "      <td>[0.59, 0.24, 0.745, 0.25, 0.12, 0.75, 0.2, 0.8...</td>\n",
       "      <td>0.017513</td>\n",
       "      <td>-1.271828</td>\n",
       "      <td>0.367750</td>\n",
       "      <td>0.292317</td>\n",
       "      <td>1</td>\n",
       "    </tr>\n",
       "    <tr>\n",
       "      <th>10884</th>\n",
       "      <td>[0.365, 0.61, 0.47, 0.3, 0.81, 0.845, 0.695, 0...</td>\n",
       "      <td>0.017212</td>\n",
       "      <td>-1.250775</td>\n",
       "      <td>0.366357</td>\n",
       "      <td>0.289363</td>\n",
       "      <td>0</td>\n",
       "    </tr>\n",
       "  </tbody>\n",
       "</table>\n",
       "</div>"
      ],
      "text/plain": [
       "                                              topic_dist  topic_skew  \\\n",
       "10139  [0.23529411764705882, 0.5294117647058824, 0.0,...    0.052751   \n",
       "4587   [0.0, 0.39690721649484534, 0.6030927835051546,...    0.068263   \n",
       "11274  [0.885, 0.205, 0.245, 0.295, 0.445, 0.83, 0.43...   -0.003051   \n",
       "1244   [0.75, 0.495, 0.0, 0.125, 0.32, 0.765, 0.205, ...    0.250567   \n",
       "3949   [0.805, 0.12, 0.71, 0.49, 0.675, 0.465, 0.425,...    0.034249   \n",
       "7742   [0.6598984771573604, 0.751269035532995, 0.6548...   -0.023042   \n",
       "2018   [0.5555555555555556, 0.2638888888888889, 0.618...   -0.021099   \n",
       "2682   [0.8369565217391305, 0.358695652173913, 0.4673...    0.000434   \n",
       "9994   [0.59, 0.24, 0.745, 0.25, 0.12, 0.75, 0.2, 0.8...    0.017513   \n",
       "10884  [0.365, 0.61, 0.47, 0.3, 0.81, 0.845, 0.695, 0...    0.017212   \n",
       "\n",
       "       topic_kurtosis  topic_gini       std  label  \n",
       "10139       -1.258479    0.392157  0.282807      1  \n",
       "4587        -1.253147    0.390346  0.284415      0  \n",
       "11274       -1.213294    0.344666  0.290084      0  \n",
       "1244        -1.133643    0.438514  0.254633      1  \n",
       "3949        -1.265802    0.375551  0.289499      0  \n",
       "7742        -1.270329    0.367377  0.295222      0  \n",
       "2018        -1.250706    0.352752  0.294053      1  \n",
       "2682        -1.256409    0.377613  0.284644      0  \n",
       "9994        -1.271828    0.367750  0.292317      1  \n",
       "10884       -1.250775    0.366357  0.289363      0  "
      ]
     },
     "execution_count": 16,
     "metadata": {},
     "output_type": "execute_result"
    }
   ],
   "source": [
    "with_topic_feat[['topic_dist', 'topic_skew', 'topic_kurtosis', 'topic_gini', 'std', 'label']]"
   ]
  },
  {
   "cell_type": "code",
   "execution_count": null,
   "metadata": {},
   "outputs": [],
   "source": []
  }
 ],
 "metadata": {
  "interpreter": {
   "hash": "fe336406e9fe7934cb9574bced87d36d9641f95c336376560cd58afbe64d3c8c"
  },
  "kernelspec": {
   "display_name": "ML_w_tf_env",
   "language": "python",
   "name": "ml_w_tf_env"
  },
  "language_info": {
   "codemirror_mode": {
    "name": "ipython",
    "version": 3
   },
   "file_extension": ".py",
   "mimetype": "text/x-python",
   "name": "python",
   "nbconvert_exporter": "python",
   "pygments_lexer": "ipython3",
   "version": "3.9.7"
  }
 },
 "nbformat": 4,
 "nbformat_minor": 4
}
