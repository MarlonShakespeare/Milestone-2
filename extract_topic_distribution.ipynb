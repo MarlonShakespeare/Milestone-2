{
 "cells": [
  {
   "cell_type": "code",
   "execution_count": 1,
   "metadata": {},
   "outputs": [],
   "source": [
    "import numpy as np\n",
    "import pandas as pd\n",
    "import gzip\n",
    "import pickle\n",
    "from collections import Counter\n",
    "from utils import split_all_data\n",
    "from scipy.stats import skew, kurtosis\n",
    "\n",
    "import re\n",
    "import spacy\n",
    "from nltk.stem import PorterStemmer\n",
    "from nltk.corpus import stopwords\n",
    "\n",
    "from sklearn.decomposition import NMF\n",
    "from sklearn.feature_extraction.text import TfidfVectorizer\n",
    "from sklearn.pipeline import make_pipeline\n",
    "\n",
    "import seaborn as sns\n",
    "import matplotlib.pyplot as plt\n",
    "\n",
    "import warnings\n",
    "warnings.filterwarnings('ignore')"
   ]
  },
  {
   "cell_type": "code",
   "execution_count": null,
   "metadata": {},
   "outputs": [],
   "source": [
    "# if you dont have the model uncomment the line below\n",
    "#!python -m spacy download en_core_web_lg"
   ]
  },
  {
   "cell_type": "code",
   "execution_count": null,
   "metadata": {},
   "outputs": [],
   "source": [
    "RANDOM_SEED = 2856"
   ]
  },
  {
   "cell_type": "code",
   "execution_count": null,
   "metadata": {},
   "outputs": [],
   "source": [
    "spacy_model = spacy.load('en_core_web_lg')\n",
    "\n",
    "def spacy_tokenizer(text):\n",
    "    sp_text = spacy_model(text)\n",
    "    tokens = [token.lemma_ for token in sp_text if (not token.is_stop and token.is_alpha)]\n",
    "    return tokens"
   ]
  },
  {
   "cell_type": "code",
   "execution_count": null,
   "metadata": {},
   "outputs": [],
   "source": [
    "stop_words = stopwords.words('english')\n",
    "\n",
    "stemmer = PorterStemmer()\n",
    "def stem_token(text):\n",
    "    tokens = [stemmer.stem(word) for word in re.findall(r'\\b\\w\\w+\\b', text) if word not in stop_words]\n",
    "    return tokens"
   ]
  },
  {
   "cell_type": "code",
   "execution_count": null,
   "metadata": {},
   "outputs": [
    {
     "name": "stdout",
     "output_type": "stream",
     "text": [
      "Loading the data...\n",
      "Splitting the data...\n"
     ]
    }
   ],
   "source": [
    "data_dict = split_all_data(.8, random_state=RANDOM_SEED)\n",
    "train_df = data_dict['train']"
   ]
  },
  {
   "cell_type": "code",
   "execution_count": null,
   "metadata": {},
   "outputs": [
    {
     "name": "stdout",
     "output_type": "stream",
     "text": [
      "20.2 ms ± 1.94 ms per loop (mean ± std. dev. of 7 runs, 10 loops each)\n"
     ]
    }
   ],
   "source": [
    "%%timeit\n",
    "spacy_tokenizer(train_df['tweet'].iloc[10][0])"
   ]
  },
  {
   "cell_type": "code",
   "execution_count": null,
   "metadata": {},
   "outputs": [
    {
     "name": "stdout",
     "output_type": "stream",
     "text": [
      "576 µs ± 24.1 µs per loop (mean ± std. dev. of 7 runs, 1000 loops each)\n"
     ]
    }
   ],
   "source": [
    "%%timeit\n",
    "stem_token(train_df['tweet'].iloc[10][0])"
   ]
  },
  {
   "cell_type": "code",
   "execution_count": null,
   "metadata": {},
   "outputs": [
    {
     "name": "stdout",
     "output_type": "stream",
     "text": [
      "user: 562372370 - label: 1\n",
      " [('you', 3), ('either', 2), ('fight', 2), ('rt', 1), ('theriseofrod', 1), ('stand', 1), ('polic', 1), ('want', 1), ('kill', 1), ('america', 1)] \n",
      "\n",
      "user: 192283428 - label: 1\n",
      " [('rt', 1), ('skysportsnew', 1), ('break', 1), ('the', 1), ('nba', 1), ('postpon', 1), ('three', 1), ('schedul', 1), ('playoff', 1), ('game', 1)] \n",
      "\n",
      "user: 930835850 - label: 0\n",
      " [('zivoren', 1), ('told', 1), ('leah', 1), ('day', 1), ('probabl', 1), ('never', 1), ('go', 1), ('barber', 1)] \n",
      "\n",
      "user: 22156181 - label: 0\n",
      " [('yike', 1), ('http', 1), ('co', 1), ('4ickkw7jyn', 1)] \n",
      "\n",
      "user: 18796945 - label: 1\n",
      " [('the', 1), ('latest', 1), ('new', 1), ('you', 1), ('can', 1), ('use', 1), ('http', 1), ('co', 1), ('pvamyicu20', 1)] \n",
      "\n"
     ]
    }
   ],
   "source": [
    "# testing the tokenizer/lemmatizer\n",
    "for item in train_df.sample(5).itertuples():\n",
    "    tokenized = stem_token(item[3][0])\n",
    "    count = Counter(tokenized)\n",
    "    print(f'user: {item[1]} - label: {item[-1]}\\n', count.most_common(10), '\\n')"
   ]
  },
  {
   "cell_type": "code",
   "execution_count": null,
   "metadata": {},
   "outputs": [],
   "source": [
    "def extract_topic_feature(row, components=None, random_state=None):\n",
    "    if components is None:\n",
    "        size4 = len(row)//4\n",
    "        size2 = len(row)//2\n",
    "        components = size2 if size2 > 2 else 2\n",
    "    if row is not None:\n",
    "        tweets = np.array(row)\n",
    "        vectorize = TfidfVectorizer(tokenizer=spacy_tokenizer, ngram_range=(1, 2), stop_words=None, min_df=1)\n",
    "        nmf_model = NMF(n_components=components, init='nndsvd', max_iter=100000, random_state=random_state)\n",
    "        nmf_pipe = make_pipeline(vectorize, nmf_model)\n",
    "        \n",
    "        \n",
    "        W = nmf_pipe.fit_transform(tweets)\n",
    "        \n",
    "        index_max = []\n",
    "        for index in range(W.shape[0]):\n",
    "            max_val_index = np.argmax(W[index])\n",
    "            index_max.append(max_val_index)\n",
    "        index_norm = np.array(index_max) / len(row)\n",
    "        \n",
    "        return index_norm\n",
    "    else:\n",
    "        return np.nan"
   ]
  },
  {
   "cell_type": "code",
   "execution_count": null,
   "metadata": {},
   "outputs": [
    {
     "name": "stdout",
     "output_type": "stream",
     "text": [
      "ID: 62934615 - Label 1\n",
      "skew  0.3335530795273403\n",
      "kurtosis  -1.1623246296775283\n",
      "standard deviation  0.15290818746326876\n"
     ]
    },
    {
     "data": {
      "image/png": "[encoded data removed]",
      "text/plain": [
       "<Figure size 432x288 with 1 Axes>"
      ]
     },
     "metadata": {
      "needs_background": "light"
     },
     "output_type": "display_data"
    },
    {
     "name": "stdout",
     "output_type": "stream",
     "text": [
      "ID: 754677774703472640 - Label 1\n",
      "skew  0.12639281857816853\n",
      "kurtosis  -1.2380792456837404\n",
      "standard deviation  0.1483015825101\n"
     ]
    },
    {
     "data": {
      "image/png": "[encoded data removed]",
      "text/plain": [
       "<Figure size 432x288 with 1 Axes>"
      ]
     },
     "metadata": {
      "needs_background": "light"
     },
     "output_type": "display_data"
    },
    {
     "name": "stdout",
     "output_type": "stream",
     "text": [
      "ID: 221549572 - Label 1\n",
      "skew  0.12971564235462002\n",
      "kurtosis  -1.3923574600521629\n",
      "standard deviation  0.16232856714151403\n"
     ]
    },
    {
     "data": {
      "image/png": "[encoded data removed]",
      "text/plain": [
       "<Figure size 432x288 with 1 Axes>"
      ]
     },
     "metadata": {
      "needs_background": "light"
     },
     "output_type": "display_data"
    },
    {
     "name": "stdout",
     "output_type": "stream",
     "text": [
      "ID: 80096621 - Label 0\n",
      "skew  0.20856699287301184\n",
      "kurtosis  -1.2169884200075416\n",
      "standard deviation  0.14875666161553908\n"
     ]
    },
    {
     "data": {
      "image/png": "[encoded data removed]",
      "text/plain": [
       "<Figure size 432x288 with 1 Axes>"
      ]
     },
     "metadata": {
      "needs_background": "light"
     },
     "output_type": "display_data"
    },
    {
     "name": "stdout",
     "output_type": "stream",
     "text": [
      "ID: 4853848397 - Label 1\n",
      "skew  0.12823604858707857\n",
      "kurtosis  -1.2296483991152867\n",
      "standard deviation  0.15642827951249672\n"
     ]
    },
    {
     "data": {
      "image/png": "[encoded data removed]",
      "text/plain": [
       "<Figure size 432x288 with 1 Axes>"
      ]
     },
     "metadata": {
      "needs_background": "light"
     },
     "output_type": "display_data"
    }
   ],
   "source": [
    "\n",
    "for row in train_df.sample(5, random_state=RANDOM_SEED).itertuples():\n",
    "    print(f\"ID: {row[1]} - Label {row[-1]}\")\n",
    "    ind = extract_topic_feature(row[3])\n",
    "\n",
    "    print('skew ', skew(ind))\n",
    "    print('kurtosis ', kurtosis(ind))\n",
    "    print('standard deviation ', ind.std())\n",
    "    sns.histplot(ind)\n",
    "    plt.show()"
   ]
  },
  {
   "cell_type": "code",
   "execution_count": null,
   "metadata": {},
   "outputs": [],
   "source": [
    "def extract_nmf_feature(df):\n",
    "    df.loc[:, 'topic_dist'] = df['tweet'].apply(extract_topic_feature)\n",
    "    df.loc[:, 'topic_skew'] = df['topic_dist'].apply(skew)\n",
    "    df.loc[:, 'topic_kurtosis'] = df['topic_dist'].apply(kurtosis)\n",
    "    df.loc[:, 'std'] = df['topic_dist'].apply(lambda x: x.std())\n",
    "    return df"
   ]
  },
  {
   "cell_type": "code",
   "execution_count": null,
   "metadata": {},
   "outputs": [
    {
     "name": "stderr",
     "output_type": "stream",
     "text": [
      "C:\\Users\\alevink\\AppData\\Local\\Temp/ipykernel_10304/2093341637.py:2: SettingWithCopyWarning: \n",
      "A value is trying to be set on a copy of a slice from a DataFrame.\n",
      "Try using .loc[row_indexer,col_indexer] = value instead\n",
      "\n",
      "See the caveats in the documentation: https://pandas.pydata.org/pandas-docs/stable/user_guide/indexing.html#returning-a-view-versus-a-copy\n",
      "  df.loc[:, 'topic_dist'] = df['tweet'].apply(extract_topic_feature)\n",
      "C:\\Users\\alevink\\AppData\\Local\\Temp/ipykernel_10304/2093341637.py:3: SettingWithCopyWarning: \n",
      "A value is trying to be set on a copy of a slice from a DataFrame.\n",
      "Try using .loc[row_indexer,col_indexer] = value instead\n",
      "\n",
      "See the caveats in the documentation: https://pandas.pydata.org/pandas-docs/stable/user_guide/indexing.html#returning-a-view-versus-a-copy\n",
      "  df.loc[:, 'topic_skew'] = df['topic_dist'].apply(skew)\n",
      "C:\\Users\\alevink\\AppData\\Local\\Temp/ipykernel_10304/2093341637.py:4: SettingWithCopyWarning: \n",
      "A value is trying to be set on a copy of a slice from a DataFrame.\n",
      "Try using .loc[row_indexer,col_indexer] = value instead\n",
      "\n",
      "See the caveats in the documentation: https://pandas.pydata.org/pandas-docs/stable/user_guide/indexing.html#returning-a-view-versus-a-copy\n",
      "  df.loc[:, 'topic_kurtosis'] = df['topic_dist'].apply(kurtosis)\n",
      "C:\\Users\\alevink\\AppData\\Local\\Temp/ipykernel_10304/2093341637.py:5: SettingWithCopyWarning: \n",
      "A value is trying to be set on a copy of a slice from a DataFrame.\n",
      "Try using .loc[row_indexer,col_indexer] = value instead\n",
      "\n",
      "See the caveats in the documentation: https://pandas.pydata.org/pandas-docs/stable/user_guide/indexing.html#returning-a-view-versus-a-copy\n",
      "  df.loc[:, 'std'] = df['topic_dist'].apply(lambda x: x.std())\n"
     ]
    },
    {
     "data": {
      "text/html": [
       "<div>\n",
       "<style scoped>\n",
       "    .dataframe tbody tr th:only-of-type {\n",
       "        vertical-align: middle;\n",
       "    }\n",
       "\n",
       "    .dataframe tbody tr th {\n",
       "        vertical-align: top;\n",
       "    }\n",
       "\n",
       "    .dataframe thead th {\n",
       "        text-align: right;\n",
       "    }\n",
       "</style>\n",
       "<table border=\"1\" class=\"dataframe\">\n",
       "  <thead>\n",
       "    <tr style=\"text-align: right;\">\n",
       "      <th></th>\n",
       "      <th>ID</th>\n",
       "      <th>profile</th>\n",
       "      <th>tweet</th>\n",
       "      <th>neighbor</th>\n",
       "      <th>domain</th>\n",
       "      <th>label</th>\n",
       "      <th>topic_dist</th>\n",
       "      <th>topic_skew</th>\n",
       "      <th>topic_kurtosis</th>\n",
       "      <th>std</th>\n",
       "    </tr>\n",
       "  </thead>\n",
       "  <tbody>\n",
       "    <tr>\n",
       "      <th>1912</th>\n",
       "      <td>2247952680</td>\n",
       "      <td>{'id': '2247952680 ', 'id_str': '2247952680 ',...</td>\n",
       "      <td>[https://t.co/zV38EKB1oq\\n, RT @aonwuachi: The...</td>\n",
       "      <td>{'following': ['29054836', '947330399411363840...</td>\n",
       "      <td>[Politics]</td>\n",
       "      <td>1</td>\n",
       "      <td>[0.0, 0.4444444444444444, 0.2777777777777778, ...</td>\n",
       "      <td>0.359083</td>\n",
       "      <td>-1.226580</td>\n",
       "      <td>0.156910</td>\n",
       "    </tr>\n",
       "    <tr>\n",
       "      <th>7214</th>\n",
       "      <td>165904582</td>\n",
       "      <td>{'id': '165904582 ', 'id_str': '165904582 ', '...</td>\n",
       "      <td>[RT @prayingmedic: https://t.co/2BvGx5C5Gp\\n, ...</td>\n",
       "      <td>{'following': ['813850311978811393', '80274482...</td>\n",
       "      <td>[Sports]</td>\n",
       "      <td>1</td>\n",
       "      <td>[0.055, 0.055, 0.31, 0.225, 0.225, 0.05, 0.065...</td>\n",
       "      <td>0.205801</td>\n",
       "      <td>-1.296491</td>\n",
       "      <td>0.155948</td>\n",
       "    </tr>\n",
       "  </tbody>\n",
       "</table>\n",
       "</div>"
      ],
      "text/plain": [
       "              ID                                            profile  \\\n",
       "1912  2247952680  {'id': '2247952680 ', 'id_str': '2247952680 ',...   \n",
       "7214   165904582  {'id': '165904582 ', 'id_str': '165904582 ', '...   \n",
       "\n",
       "                                                  tweet  \\\n",
       "1912  [https://t.co/zV38EKB1oq\\n, RT @aonwuachi: The...   \n",
       "7214  [RT @prayingmedic: https://t.co/2BvGx5C5Gp\\n, ...   \n",
       "\n",
       "                                               neighbor      domain  label  \\\n",
       "1912  {'following': ['29054836', '947330399411363840...  [Politics]      1   \n",
       "7214  {'following': ['813850311978811393', '80274482...    [Sports]      1   \n",
       "\n",
       "                                             topic_dist  topic_skew  \\\n",
       "1912  [0.0, 0.4444444444444444, 0.2777777777777778, ...    0.359083   \n",
       "7214  [0.055, 0.055, 0.31, 0.225, 0.225, 0.05, 0.065...    0.205801   \n",
       "\n",
       "      topic_kurtosis       std  \n",
       "1912       -1.226580  0.156910  \n",
       "7214       -1.296491  0.155948  "
      ]
     },
     "execution_count": 99,
     "metadata": {},
     "output_type": "execute_result"
    }
   ],
   "source": [
    "temp_df = train_df.iloc[:2, :]\n",
    "extract_nmf_feature(temp_df)"
   ]
  },
  {
   "cell_type": "code",
   "execution_count": null,
   "metadata": {},
   "outputs": [],
   "source": []
  }
 ],
 "metadata": {
  "interpreter": {
   "hash": "fe336406e9fe7934cb9574bced87d36d9641f95c336376560cd58afbe64d3c8c"
  },
  "kernelspec": {
   "display_name": "ML_w_tf_env",
   "language": "python",
   "name": "ml_w_tf_env"
  },
  "language_info": {
   "codemirror_mode": {
    "name": "ipython",
    "version": 3
   },
   "file_extension": ".py",
   "mimetype": "text/x-python",
   "name": "python",
   "nbconvert_exporter": "python",
   "pygments_lexer": "ipython3",
   "version": "3.9.7"
  }
 },
 "nbformat": 4,
 "nbformat_minor": 4
}
