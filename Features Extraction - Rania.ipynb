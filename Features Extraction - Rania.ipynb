{
 "cells": [
  {
   "cell_type": "code",
   "execution_count": 2,
   "id": "viral-density",
   "metadata": {},
   "outputs": [
    {
     "name": "stderr",
     "output_type": "stream",
     "text": [
      "[nltk_data] Downloading package vader_lexicon to\n",
      "[nltk_data]     /opt/conda/nltk_data...\n"
     ]
    }
   ],
   "source": [
    "import pandas as pd\n",
    "import numpy as np\n",
    "from tqdm.notebook import tqdm \n",
    "import re\n",
    "from gensim.utils import simple_preprocess \n",
    "import gensim\n",
    "from gensim.models.word2vec import Word2Vec\n",
    "from sklearn.metrics.pairwise import cosine_similarity\n",
    "import nltk\n",
    "nltk.download(\"vader_lexicon\")\n",
    "from nltk.sentiment import SentimentIntensityAnalyzer"
   ]
  },
  {
   "cell_type": "code",
   "execution_count": 2,
   "id": "intermediate-forge",
   "metadata": {},
   "outputs": [],
   "source": [
    "# Read in the dataframe of labeled tweets\n",
    "\n",
    "tweet_df = pd.read_json('tweet.json')"
   ]
  },
  {
   "cell_type": "code",
   "execution_count": 3,
   "id": "cardiovascular-lesbian",
   "metadata": {
    "scrolled": true
   },
   "outputs": [
    {
     "data": {
      "text/html": [
       "<div>\n",
       "<style scoped>\n",
       "    .dataframe tbody tr th:only-of-type {\n",
       "        vertical-align: middle;\n",
       "    }\n",
       "\n",
       "    .dataframe tbody tr th {\n",
       "        vertical-align: top;\n",
       "    }\n",
       "\n",
       "    .dataframe thead th {\n",
       "        text-align: right;\n",
       "    }\n",
       "</style>\n",
       "<table border=\"1\" class=\"dataframe\">\n",
       "  <thead>\n",
       "    <tr style=\"text-align: right;\">\n",
       "      <th></th>\n",
       "      <th>ID</th>\n",
       "      <th>tweet</th>\n",
       "      <th>label</th>\n",
       "    </tr>\n",
       "  </thead>\n",
       "  <tbody>\n",
       "    <tr>\n",
       "      <th>0</th>\n",
       "      <td>17461978</td>\n",
       "      <td>[RT @CarnivalCruise: 🎉 Are you ready to see wh...</td>\n",
       "      <td>0</td>\n",
       "    </tr>\n",
       "    <tr>\n",
       "      <th>1</th>\n",
       "      <td>1297437077403885568</td>\n",
       "      <td>None</td>\n",
       "      <td>1</td>\n",
       "    </tr>\n",
       "    <tr>\n",
       "      <th>2</th>\n",
       "      <td>17685258</td>\n",
       "      <td>[RT @realDonaldTrump: THANK YOU #RNC2020! http...</td>\n",
       "      <td>0</td>\n",
       "    </tr>\n",
       "    <tr>\n",
       "      <th>3</th>\n",
       "      <td>15750898</td>\n",
       "      <td>[A family fears they may have been cheated out...</td>\n",
       "      <td>0</td>\n",
       "    </tr>\n",
       "    <tr>\n",
       "      <th>4</th>\n",
       "      <td>1659167666</td>\n",
       "      <td>[RT @VonteThePlug: Yeah but he ain’t got one h...</td>\n",
       "      <td>1</td>\n",
       "    </tr>\n",
       "  </tbody>\n",
       "</table>\n",
       "</div>"
      ],
      "text/plain": [
       "                    ID                                              tweet  \\\n",
       "0             17461978  [RT @CarnivalCruise: 🎉 Are you ready to see wh...   \n",
       "1  1297437077403885568                                               None   \n",
       "2             17685258  [RT @realDonaldTrump: THANK YOU #RNC2020! http...   \n",
       "3             15750898  [A family fears they may have been cheated out...   \n",
       "4           1659167666  [RT @VonteThePlug: Yeah but he ain’t got one h...   \n",
       "\n",
       "   label  \n",
       "0      0  \n",
       "1      1  \n",
       "2      0  \n",
       "3      0  \n",
       "4      1  "
      ]
     },
     "execution_count": 3,
     "metadata": {},
     "output_type": "execute_result"
    }
   ],
   "source": [
    "tweet_df.head()"
   ]
  },
  {
   "cell_type": "code",
   "execution_count": 4,
   "id": "outside-metadata",
   "metadata": {
    "scrolled": true
   },
   "outputs": [
    {
     "data": {
      "text/plain": [
       "(11826, 3)"
      ]
     },
     "execution_count": 4,
     "metadata": {},
     "output_type": "execute_result"
    }
   ],
   "source": [
    "tweet_df.shape"
   ]
  },
  {
   "cell_type": "code",
   "execution_count": 5,
   "id": "viral-checkout",
   "metadata": {},
   "outputs": [],
   "source": [
    "profile_df = pd.read_json('profile.json')"
   ]
  },
  {
   "cell_type": "code",
   "execution_count": 6,
   "id": "stock-attendance",
   "metadata": {
    "scrolled": true
   },
   "outputs": [
    {
     "data": {
      "text/plain": [
       "(11826, 3)"
      ]
     },
     "execution_count": 6,
     "metadata": {},
     "output_type": "execute_result"
    }
   ],
   "source": [
    "profile_df.shape"
   ]
  },
  {
   "cell_type": "markdown",
   "id": "improving-barcelona",
   "metadata": {},
   "source": [
    "Features Extraction"
   ]
  },
  {
   "cell_type": "code",
   "execution_count": 7,
   "id": "convinced-prior",
   "metadata": {},
   "outputs": [
    {
     "data": {
      "text/plain": [
       "51"
      ]
     },
     "execution_count": 7,
     "metadata": {},
     "output_type": "execute_result"
    }
   ],
   "source": [
    "tw_features_df = tweet_df.merge(profile_df, on=['ID', 'label']).dropna()"
   ]
  },
  {
   "cell_type": "code",
   "execution_count": 8,
   "id": "gorgeous-clinton",
   "metadata": {},
   "outputs": [],
   "source": [
    "# Number of listed and statuses for each user\n",
    "tw_features_df['listed_count'] = tw_features_df['profile'].apply(lambda x: int(x['listed_count']))\n",
    "tw_features_df['statuses_count'] = tw_features_df['profile'].apply(lambda x: int(x['statuses_count']))\n",
    "\n",
    "# Description length\n",
    "tw_features_df['description_len'] =  tw_features_df['profile'].apply(lambda x: len(x['description']))"
   ]
  },
  {
   "cell_type": "code",
   "execution_count": 40,
   "id": "increased-spread",
   "metadata": {},
   "outputs": [],
   "source": [
    "# Average sentiment of user from their tweets\n",
    "sia = SentimentIntensityAnalyzer()\n",
    "tw_features_df['sentiment'] = tw_features_df['tweet'].apply(lambda x: np.mean([ sia.polarity_scores(t)['compound'] for t in x ]))\n",
    "tw_features_df['sentiment'] = tw_features_df['sentiment'].apply(lambda x: x>0) \n",
    "tw_features_df['sentiment'] = tw_features_df['sentiment'].replace({True:'Positive',False:'Negative'})"
   ]
  },
  {
   "cell_type": "code",
   "execution_count": 47,
   "id": "noticed-running",
   "metadata": {},
   "outputs": [
    {
     "data": {
      "text/html": [
       "<div>\n",
       "<style scoped>\n",
       "    .dataframe tbody tr th:only-of-type {\n",
       "        vertical-align: middle;\n",
       "    }\n",
       "\n",
       "    .dataframe tbody tr th {\n",
       "        vertical-align: top;\n",
       "    }\n",
       "\n",
       "    .dataframe thead th {\n",
       "        text-align: right;\n",
       "    }\n",
       "</style>\n",
       "<table border=\"1\" class=\"dataframe\">\n",
       "  <thead>\n",
       "    <tr style=\"text-align: right;\">\n",
       "      <th></th>\n",
       "      <th>ID</th>\n",
       "      <th>tweet</th>\n",
       "      <th>label</th>\n",
       "      <th>profile</th>\n",
       "      <th>listed_count</th>\n",
       "      <th>statuses_count</th>\n",
       "      <th>description_len</th>\n",
       "      <th>sentiment</th>\n",
       "    </tr>\n",
       "  </thead>\n",
       "  <tbody>\n",
       "    <tr>\n",
       "      <th>0</th>\n",
       "      <td>17461978</td>\n",
       "      <td>[RT @CarnivalCruise: 🎉 Are you ready to see wh...</td>\n",
       "      <td>0</td>\n",
       "      <td>{'id': '17461978 ', 'id_str': '17461978 ', 'na...</td>\n",
       "      <td>45568</td>\n",
       "      <td>9798</td>\n",
       "      <td>51</td>\n",
       "      <td>Positive</td>\n",
       "    </tr>\n",
       "    <tr>\n",
       "      <th>2</th>\n",
       "      <td>17685258</td>\n",
       "      <td>[RT @realDonaldTrump: THANK YOU #RNC2020! http...</td>\n",
       "      <td>0</td>\n",
       "      <td>{'id': '17685258 ', 'id_str': '17685258 ', 'na...</td>\n",
       "      <td>3201</td>\n",
       "      <td>5518</td>\n",
       "      <td>161</td>\n",
       "      <td>Positive</td>\n",
       "    </tr>\n",
       "    <tr>\n",
       "      <th>3</th>\n",
       "      <td>15750898</td>\n",
       "      <td>[A family fears they may have been cheated out...</td>\n",
       "      <td>0</td>\n",
       "      <td>{'id': '15750898 ', 'id_str': '15750898 ', 'na...</td>\n",
       "      <td>1744</td>\n",
       "      <td>192876</td>\n",
       "      <td>161</td>\n",
       "      <td>Positive</td>\n",
       "    </tr>\n",
       "    <tr>\n",
       "      <th>4</th>\n",
       "      <td>1659167666</td>\n",
       "      <td>[RT @VonteThePlug: Yeah but he ain’t got one h...</td>\n",
       "      <td>1</td>\n",
       "      <td>{'id': '1659167666 ', 'id_str': '1659167666 ',...</td>\n",
       "      <td>44</td>\n",
       "      <td>103</td>\n",
       "      <td>104</td>\n",
       "      <td>Negative</td>\n",
       "    </tr>\n",
       "    <tr>\n",
       "      <th>5</th>\n",
       "      <td>34743251</td>\n",
       "      <td>[RT @elonmusk: Aloha, welcome back from space ...</td>\n",
       "      <td>0</td>\n",
       "      <td>{'id': '34743251 ', 'id_str': '34743251 ', 'na...</td>\n",
       "      <td>26952</td>\n",
       "      <td>4879</td>\n",
       "      <td>91</td>\n",
       "      <td>Positive</td>\n",
       "    </tr>\n",
       "  </tbody>\n",
       "</table>\n",
       "</div>"
      ],
      "text/plain": [
       "           ID                                              tweet  label  \\\n",
       "0    17461978  [RT @CarnivalCruise: 🎉 Are you ready to see wh...      0   \n",
       "2    17685258  [RT @realDonaldTrump: THANK YOU #RNC2020! http...      0   \n",
       "3    15750898  [A family fears they may have been cheated out...      0   \n",
       "4  1659167666  [RT @VonteThePlug: Yeah but he ain’t got one h...      1   \n",
       "5    34743251  [RT @elonmusk: Aloha, welcome back from space ...      0   \n",
       "\n",
       "                                             profile  listed_count  \\\n",
       "0  {'id': '17461978 ', 'id_str': '17461978 ', 'na...         45568   \n",
       "2  {'id': '17685258 ', 'id_str': '17685258 ', 'na...          3201   \n",
       "3  {'id': '15750898 ', 'id_str': '15750898 ', 'na...          1744   \n",
       "4  {'id': '1659167666 ', 'id_str': '1659167666 ',...            44   \n",
       "5  {'id': '34743251 ', 'id_str': '34743251 ', 'na...         26952   \n",
       "\n",
       "   statuses_count  description_len sentiment  \n",
       "0            9798               51  Positive  \n",
       "2            5518              161  Positive  \n",
       "3          192876              161  Positive  \n",
       "4             103              104  Negative  \n",
       "5            4879               91  Positive  "
      ]
     },
     "execution_count": 47,
     "metadata": {},
     "output_type": "execute_result"
    }
   ],
   "source": [
    "tw_features_df.head()"
   ]
  },
  {
   "cell_type": "code",
   "execution_count": null,
   "id": "premier-brunei",
   "metadata": {},
   "outputs": [],
   "source": []
  }
 ],
 "metadata": {
  "kernelspec": {
   "display_name": "Python 3",
   "language": "python",
   "name": "python3"
  },
  "language_info": {
   "codemirror_mode": {
    "name": "ipython",
    "version": 3
   },
   "file_extension": ".py",
   "mimetype": "text/x-python",
   "name": "python",
   "nbconvert_exporter": "python",
   "pygments_lexer": "ipython3",
   "version": "3.7.10"
  }
 },
 "nbformat": 4,
 "nbformat_minor": 5
}
