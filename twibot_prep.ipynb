{
 "cells": [
  {
   "cell_type": "code",
   "execution_count": null,
   "id": "b5ab9b3d-8b8d-4203-bb97-14b2580c461a",
   "metadata": {},
   "outputs": [],
   "source": [
    "import json\n",
    "import pandas as pd"
   ]
  },
  {
   "cell_type": "code",
   "execution_count": null,
   "id": "04bfa9d4-8214-42ab-95ec-6c4988f966f8",
   "metadata": {},
   "outputs": [],
   "source": [
    "with open('Twibot-20/test.json') as f:\n",
    "    test = json.loads(f.read())\n",
    "    \n",
    "with open('Twibot-20/dev.json') as f:\n",
    "    dev = json.loads(f.read())\n",
    "    \n",
    "with open('Twibot-20/train.json') as f:\n",
    "    train = json.loads(f.read())\n",
    "    \n",
    "test_df = pd.DataFrame(test)\n",
    "\n",
    "train_df = pd.DataFrame(train)\n",
    "\n",
    "dev_df = pd.DataFrame(dev)"
   ]
  },
  {
   "cell_type": "code",
   "execution_count": null,
   "id": "4af55530-7ce0-4014-8a3a-2e2513f0c15d",
   "metadata": {},
   "outputs": [],
   "source": [
    "twibot_df = pd.concat([train_df, dev_df, test_df]).reset_index()"
   ]
  },
  {
   "cell_type": "code",
   "execution_count": null,
   "id": "4fec3f26-dd7c-43f1-8e23-08bd93c64841",
   "metadata": {},
   "outputs": [],
   "source": [
    "twibot_df.sample(5)"
   ]
  },
  {
   "cell_type": "code",
   "execution_count": null,
   "id": "54850d9b-5593-4ef3-b914-9f4472fecf1d",
   "metadata": {},
   "outputs": [],
   "source": [
    "tweet_df = twibot_df[['ID', 'tweet', 'label']]\n",
    "\n",
    "profile_df = twibot_df[['ID', 'profile', 'label']]"
   ]
  },
  {
   "cell_type": "code",
   "execution_count": null,
   "id": "8551a3b6-1ef3-43bd-89a9-987d70b23207",
   "metadata": {},
   "outputs": [],
   "source": [
    "tweet_df"
   ]
  },
  {
   "cell_type": "code",
   "execution_count": null,
   "id": "839efe5f-4d24-4d91-91df-1aab132f5c3b",
   "metadata": {},
   "outputs": [],
   "source": [
    "tweet_df.to_json('Twibot-20/tweet.json')\n",
    "\n",
    "profile_df.to_json('Twibot-20/profile.json')"
   ]
  }
 ],
 "metadata": {
  "kernelspec": {
   "display_name": "Python 3",
   "language": "python",
   "name": "python3"
  },
  "language_info": {
   "codemirror_mode": {
    "name": "ipython",
    "version": 3
   },
   "file_extension": ".py",
   "mimetype": "text/x-python",
   "name": "python",
   "nbconvert_exporter": "python",
   "pygments_lexer": "ipython3",
   "version": "3.8.8"
  }
 },
 "nbformat": 4,
 "nbformat_minor": 5
}
