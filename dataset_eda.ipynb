{
 "cells": [
  {
   "cell_type": "code",
   "execution_count": 1,
   "metadata": {},
   "outputs": [],
   "source": [
    "import pandas as pd\n",
    "\n",
    "import matplotlib.pyplot as plt\n",
    "import seaborn as sns"
   ]
  },
  {
   "cell_type": "code",
   "execution_count": 3,
   "metadata": {},
   "outputs": [
    {
     "name": "stdout",
     "output_type": "stream",
     "text": [
      "Nulls:  809\n",
      "Shape of the data:  (8278, 6)\n"
     ]
    },
    {
     "data": {
      "text/html": [
       "<div>\n",
       "<style scoped>\n",
       "    .dataframe tbody tr th:only-of-type {\n",
       "        vertical-align: middle;\n",
       "    }\n",
       "\n",
       "    .dataframe tbody tr th {\n",
       "        vertical-align: top;\n",
       "    }\n",
       "\n",
       "    .dataframe thead th {\n",
       "        text-align: right;\n",
       "    }\n",
       "</style>\n",
       "<table border=\"1\" class=\"dataframe\">\n",
       "  <thead>\n",
       "    <tr style=\"text-align: right;\">\n",
       "      <th></th>\n",
       "      <th>ID</th>\n",
       "      <th>profile</th>\n",
       "      <th>tweet</th>\n",
       "      <th>neighbor</th>\n",
       "      <th>domain</th>\n",
       "      <th>label</th>\n",
       "    </tr>\n",
       "  </thead>\n",
       "  <tbody>\n",
       "    <tr>\n",
       "      <th>1067</th>\n",
       "      <td>13657922</td>\n",
       "      <td>{'id': '13657922 ', 'id_str': '13657922 ', 'na...</td>\n",
       "      <td>[What's it like to be a late night host during...</td>\n",
       "      <td>{'following': ['16421982', '267143', '12044112...</td>\n",
       "      <td>[Politics]</td>\n",
       "      <td>0</td>\n",
       "    </tr>\n",
       "    <tr>\n",
       "      <th>3449</th>\n",
       "      <td>102121246</td>\n",
       "      <td>{'id': '102121246 ', 'id_str': '102121246 ', '...</td>\n",
       "      <td>[The latest 2day's Kaleidoscope! https://t.co/...</td>\n",
       "      <td>{'following': ['51628891', '4882919794', '4776...</td>\n",
       "      <td>[Business]</td>\n",
       "      <td>1</td>\n",
       "    </tr>\n",
       "    <tr>\n",
       "      <th>4026</th>\n",
       "      <td>714470451888660480</td>\n",
       "      <td>{'id': '714470451888660480 ', 'id_str': '71447...</td>\n",
       "      <td>[About to get cam ready! Excited to see me? on...</td>\n",
       "      <td>{'following': ['4878960826', '152112667', '435...</td>\n",
       "      <td>[Business]</td>\n",
       "      <td>1</td>\n",
       "    </tr>\n",
       "    <tr>\n",
       "      <th>6162</th>\n",
       "      <td>279131865</td>\n",
       "      <td>{'id': '279131865 ', 'id_str': '279131865 ', '...</td>\n",
       "      <td>[@boucherhayes 5ml and 15ml\\n, RT @PresidentIR...</td>\n",
       "      <td>{'following': ['62786892', '799248686681358336...</td>\n",
       "      <td>[Entertainment]</td>\n",
       "      <td>1</td>\n",
       "    </tr>\n",
       "    <tr>\n",
       "      <th>2782</th>\n",
       "      <td>491859352</td>\n",
       "      <td>{'id': '491859352 ', 'id_str': '491859352 ', '...</td>\n",
       "      <td>[RT @abbybora: Our paper's in mailboxes now! F...</td>\n",
       "      <td>{'following': ['62513246', '456770213', '29688...</td>\n",
       "      <td>[Business]</td>\n",
       "      <td>1</td>\n",
       "    </tr>\n",
       "  </tbody>\n",
       "</table>\n",
       "</div>"
      ],
      "text/plain": [
       "                      ID                                            profile  \\\n",
       "1067            13657922  {'id': '13657922 ', 'id_str': '13657922 ', 'na...   \n",
       "3449           102121246  {'id': '102121246 ', 'id_str': '102121246 ', '...   \n",
       "4026  714470451888660480  {'id': '714470451888660480 ', 'id_str': '71447...   \n",
       "6162           279131865  {'id': '279131865 ', 'id_str': '279131865 ', '...   \n",
       "2782           491859352  {'id': '491859352 ', 'id_str': '491859352 ', '...   \n",
       "\n",
       "                                                  tweet  \\\n",
       "1067  [What's it like to be a late night host during...   \n",
       "3449  [The latest 2day's Kaleidoscope! https://t.co/...   \n",
       "4026  [About to get cam ready! Excited to see me? on...   \n",
       "6162  [@boucherhayes 5ml and 15ml\\n, RT @PresidentIR...   \n",
       "2782  [RT @abbybora: Our paper's in mailboxes now! F...   \n",
       "\n",
       "                                               neighbor           domain  \\\n",
       "1067  {'following': ['16421982', '267143', '12044112...       [Politics]   \n",
       "3449  {'following': ['51628891', '4882919794', '4776...       [Business]   \n",
       "4026  {'following': ['4878960826', '152112667', '435...       [Business]   \n",
       "6162  {'following': ['62786892', '799248686681358336...  [Entertainment]   \n",
       "2782  {'following': ['62513246', '456770213', '29688...       [Business]   \n",
       "\n",
       "      label  \n",
       "1067      0  \n",
       "3449      1  \n",
       "4026      1  \n",
       "6162      1  \n",
       "2782      1  "
      ]
     },
     "execution_count": 3,
     "metadata": {},
     "output_type": "execute_result"
    }
   ],
   "source": [
    "data = pd.read_json('Twibot-20/train.json')\n",
    "print('Nulls: ', data.isnull().sum().sum())\n",
    "print('Shape of the data: ', data.shape)\n",
    "data.sample(5)"
   ]
  },
  {
   "cell_type": "code",
   "execution_count": 7,
   "metadata": {},
   "outputs": [
    {
     "data": {
      "text/plain": [
       "0    40\n",
       "1    15\n",
       "Name: label, dtype: int64"
      ]
     },
     "execution_count": 7,
     "metadata": {},
     "output_type": "execute_result"
    }
   ],
   "source": [
    "data[data['tweet'].isnull()]['label'].value_counts()"
   ]
  },
  {
   "cell_type": "code",
   "execution_count": 8,
   "metadata": {},
   "outputs": [],
   "source": [
    "data = data.dropna()"
   ]
  },
  {
   "cell_type": "code",
   "execution_count": 23,
   "metadata": {},
   "outputs": [
    {
     "data": {
      "text/plain": [
       "1    4513\n",
       "0    2958\n",
       "Name: label, dtype: int64"
      ]
     },
     "execution_count": 23,
     "metadata": {},
     "output_type": "execute_result"
    }
   ],
   "source": [
    "data['label'].value_counts()"
   ]
  },
  {
   "cell_type": "code",
   "execution_count": 11,
   "metadata": {},
   "outputs": [
    {
     "data": {
      "text/plain": [
       "2       200\n",
       "3       200\n",
       "4        88\n",
       "8         1\n",
       "9       200\n",
       "       ... \n",
       "8273    200\n",
       "8274    200\n",
       "8275    200\n",
       "8276    200\n",
       "8277    200\n",
       "Name: num_tweets, Length: 7471, dtype: int64"
      ]
     },
     "execution_count": 11,
     "metadata": {},
     "output_type": "execute_result"
    }
   ],
   "source": [
    "data['num_tweets'] = data['tweet'].apply(lambda x: len(x))\n",
    "data['num_tweets']"
   ]
  },
  {
   "cell_type": "code",
   "execution_count": 24,
   "metadata": {},
   "outputs": [
    {
     "data": {
      "text/plain": [
       "<AxesSubplot:xlabel='num_tweets', ylabel='Count'>"
      ]
     },
     "execution_count": 24,
     "metadata": {},
     "output_type": "execute_result"
    },
    {
     "data": {
      "image/png": "[encoded data removed]",
      "text/plain": [
       "<Figure size 432x288 with 1 Axes>"
      ]
     },
     "metadata": {
      "needs_background": "light"
     },
     "output_type": "display_data"
    }
   ],
   "source": [
    "sns.histplot(data=data['num_tweets'])"
   ]
  },
  {
   "cell_type": "code",
   "execution_count": 16,
   "metadata": {},
   "outputs": [
    {
     "data": {
      "text/plain": [
       "(190.0, 200.0)"
      ]
     },
     "execution_count": 16,
     "metadata": {},
     "output_type": "execute_result"
    },
    {
     "data": {
      "image/png": "[encoded data removed]",
      "text/plain": [
       "<Figure size 432x288 with 1 Axes>"
      ]
     },
     "metadata": {
      "needs_background": "light"
     },
     "output_type": "display_data"
    }
   ],
   "source": [
    "ax = sns.histplot(data[['num_tweets', 'label']], x='num_tweets', hue='label', multiple='dodge')\n",
    "ax.set_xlim(190, 200)"
   ]
  },
  {
   "cell_type": "code",
   "execution_count": null,
   "metadata": {},
   "outputs": [],
   "source": []
  }
 ],
 "metadata": {
  "interpreter": {
   "hash": "58122c4832fdacea577bb4b8c1ab9178e3432673b93bc4408ac4b70d2ef80f32"
  },
  "kernelspec": {
   "display_name": "Python 3.9.7 ('ML_w_tf_env')",
   "language": "python",
   "name": "python3"
  },
  "language_info": {
   "codemirror_mode": {
    "name": "ipython",
    "version": 3
   },
   "file_extension": ".py",
   "mimetype": "text/x-python",
   "name": "python",
   "nbconvert_exporter": "python",
   "pygments_lexer": "ipython3",
   "version": "3.9.7"
  },
  "orig_nbformat": 4
 },
 "nbformat": 4,
 "nbformat_minor": 2
}
