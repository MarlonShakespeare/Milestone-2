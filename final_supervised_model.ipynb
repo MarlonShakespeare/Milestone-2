{
 "cells": [
  {
   "cell_type": "code",
   "execution_count": 1,
   "metadata": {},
   "outputs": [],
   "source": [
    "import numpy as np\n",
    "import pandas as pd\n",
    "pd.set_option('display.max_columns', None)\n",
    "\n",
    "from lightgbm import LGBMClassifier\n",
    "from sklearn.linear_model import LogisticRegression, SGDClassifier\n",
    "from sklearn.ensemble import RandomForestClassifier, AdaBoostClassifier, StackingClassifier, VotingClassifier\n",
    "from sklearn.tree import DecisionTreeClassifier\n",
    "from sklearn.svm import SVC\n",
    "\n",
    "from sklearn.model_selection import GridSearchCV, cross_val_score\n",
    "from sklearn.preprocessing import StandardScaler\n",
    "\n",
    "from sklearn.base import clone\n",
    "\n",
    "from sklearn.metrics import (\n",
    "    roc_auc_score, \n",
    "    precision_score, \n",
    "    recall_score, \n",
    "    f1_score, \n",
    "    accuracy_score, \n",
    "    roc_curve, \n",
    "    precision_recall_curve,\n",
    "    confusion_matrix,\n",
    "    auc)\n",
    "\n",
    "from hyperopt import hp, fmin, tpe, Trials\n",
    "\n",
    "import matplotlib.pyplot as plt\n",
    "import seaborn as sns\n",
    "from IPython.display import display"
   ]
  },
  {
   "cell_type": "markdown",
   "metadata": {},
   "source": [
    "Helper Functions"
   ]
  },
  {
   "cell_type": "code",
   "execution_count": 2,
   "metadata": {},
   "outputs": [],
   "source": [
    "def show_stats(df):\n",
    "    dtypes = df.dtypes\n",
    "    nulls = df.isnull().sum()\n",
    "    unique_count = df.apply(lambda x: x.nunique())\n",
    "    columns = ['dtypes', 'null count', 'unique count']\n",
    "    df_ = pd.concat([dtypes, nulls, unique_count], axis=1)\n",
    "    df_.columns = columns\n",
    "    return df_"
   ]
  },
  {
   "cell_type": "code",
   "execution_count": 3,
   "metadata": {},
   "outputs": [],
   "source": [
    "def score_model(X_train, y_train, model, folds=3, scoring='roc_auc'):\n",
    "\n",
    "    scores = cross_val_score(model, X_train, y_train, cv=folds, scoring=scoring, n_jobs=4, error_score='raise')\n",
    "    return np.mean(scores), np.std(scores)"
   ]
  },
  {
   "cell_type": "code",
   "execution_count": 4,
   "metadata": {},
   "outputs": [],
   "source": [
    "# returns a fitted estimator. for use with models with few parameters\n",
    "def grid_search(X_train, y_train, model, param_grid, folds=10, scoring='roc_auc'):\n",
    "    grid_mod = GridSearchCV(estimator=model, \n",
    "                            param_grid=param_grid, \n",
    "                            scoring=scoring, \n",
    "                            n_jobs=4, \n",
    "                            cv=folds,\n",
    "                            verbose=1,\n",
    "                            refit=False)\n",
    "    \n",
    "    grid_mod.fit(X_train, y_train)\n",
    "\n",
    "    print(f'for {model.__class__.__name__}')\n",
    "    print('Best Score: ', grid_mod.best_score_)\n",
    "    print('Best Params: ', grid_mod.best_params_)\n",
    "    return grid_mod.best_params_"
   ]
  },
  {
   "cell_type": "markdown",
   "metadata": {},
   "source": [
    "Load The Data and prep"
   ]
  },
  {
   "cell_type": "code",
   "execution_count": 11,
   "metadata": {},
   "outputs": [
    {
     "name": "stdout",
     "output_type": "stream",
     "text": [
      "Train shape:  (9395, 30)\n",
      "Test shape:  (1176, 30)\n",
      "Index(['profile', 'tweet', 'neighbor', 'domain', 'label', 'nn_signal',\n",
      "       'lang_count', 'tweet_min_len', 'tweet_max_len', 'tweet_av_len',\n",
      "       'tweet_len_std', 'user_name_len', 'screen_name_len', 'user_name_chars',\n",
      "       'protected', 'verified', 'has_url', 'followers_count', 'friends_count',\n",
      "       'favourites_count', 'days_old', 'listed_count', 'statuses_count',\n",
      "       'description_len', 'sentiment', 'similarity', 'num_mentions',\n",
      "       'num_links', 'retweet', 'num_tweets'],\n",
      "      dtype='object')\n"
     ]
    },
    {
     "data": {
      "text/html": [
       "<div>\n",
       "<style scoped>\n",
       "    .dataframe tbody tr th:only-of-type {\n",
       "        vertical-align: middle;\n",
       "    }\n",
       "\n",
       "    .dataframe tbody tr th {\n",
       "        vertical-align: top;\n",
       "    }\n",
       "\n",
       "    .dataframe thead th {\n",
       "        text-align: right;\n",
       "    }\n",
       "</style>\n",
       "<table border=\"1\" class=\"dataframe\">\n",
       "  <thead>\n",
       "    <tr style=\"text-align: right;\">\n",
       "      <th></th>\n",
       "      <th>profile</th>\n",
       "      <th>tweet</th>\n",
       "      <th>neighbor</th>\n",
       "      <th>domain</th>\n",
       "      <th>label</th>\n",
       "      <th>nn_signal</th>\n",
       "      <th>lang_count</th>\n",
       "      <th>tweet_min_len</th>\n",
       "      <th>tweet_max_len</th>\n",
       "      <th>tweet_av_len</th>\n",
       "      <th>tweet_len_std</th>\n",
       "      <th>user_name_len</th>\n",
       "      <th>screen_name_len</th>\n",
       "      <th>user_name_chars</th>\n",
       "      <th>protected</th>\n",
       "      <th>verified</th>\n",
       "      <th>has_url</th>\n",
       "      <th>followers_count</th>\n",
       "      <th>friends_count</th>\n",
       "      <th>favourites_count</th>\n",
       "      <th>days_old</th>\n",
       "      <th>listed_count</th>\n",
       "      <th>statuses_count</th>\n",
       "      <th>description_len</th>\n",
       "      <th>sentiment</th>\n",
       "      <th>similarity</th>\n",
       "      <th>num_mentions</th>\n",
       "      <th>num_links</th>\n",
       "      <th>retweet</th>\n",
       "      <th>num_tweets</th>\n",
       "    </tr>\n",
       "    <tr>\n",
       "      <th>ID</th>\n",
       "      <th></th>\n",
       "      <th></th>\n",
       "      <th></th>\n",
       "      <th></th>\n",
       "      <th></th>\n",
       "      <th></th>\n",
       "      <th></th>\n",
       "      <th></th>\n",
       "      <th></th>\n",
       "      <th></th>\n",
       "      <th></th>\n",
       "      <th></th>\n",
       "      <th></th>\n",
       "      <th></th>\n",
       "      <th></th>\n",
       "      <th></th>\n",
       "      <th></th>\n",
       "      <th></th>\n",
       "      <th></th>\n",
       "      <th></th>\n",
       "      <th></th>\n",
       "      <th></th>\n",
       "      <th></th>\n",
       "      <th></th>\n",
       "      <th></th>\n",
       "      <th></th>\n",
       "      <th></th>\n",
       "      <th></th>\n",
       "      <th></th>\n",
       "      <th></th>\n",
       "    </tr>\n",
       "  </thead>\n",
       "  <tbody>\n",
       "    <tr>\n",
       "      <th>44250342</th>\n",
       "      <td>{'id': '44250342 ', 'id_str': '44250342 ', 'na...</td>\n",
       "      <td>[RT @spicegirls: If you wanna be my lover, you...</td>\n",
       "      <td>{'following': ['559088043', '31505726', '50183...</td>\n",
       "      <td>[Sports]</td>\n",
       "      <td>1</td>\n",
       "      <td>0.641816</td>\n",
       "      <td>1</td>\n",
       "      <td>18</td>\n",
       "      <td>312</td>\n",
       "      <td>147.527638</td>\n",
       "      <td>73.683678</td>\n",
       "      <td>13</td>\n",
       "      <td>11</td>\n",
       "      <td>9</td>\n",
       "      <td>0</td>\n",
       "      <td>0</td>\n",
       "      <td>1</td>\n",
       "      <td>574</td>\n",
       "      <td>1273</td>\n",
       "      <td>2167</td>\n",
       "      <td>4714</td>\n",
       "      <td>34</td>\n",
       "      <td>13486</td>\n",
       "      <td>137</td>\n",
       "      <td>Positive</td>\n",
       "      <td>0.796795</td>\n",
       "      <td>0.939698</td>\n",
       "      <td>0.206030</td>\n",
       "      <td>0.301508</td>\n",
       "      <td>199</td>\n",
       "    </tr>\n",
       "    <tr>\n",
       "      <th>825518870421180416</th>\n",
       "      <td>{'id': '825518870421180416 ', 'id_str': '82551...</td>\n",
       "      <td>[GOP under fire after peddling doctored, misle...</td>\n",
       "      <td>None</td>\n",
       "      <td>[Entertainment, Sports]</td>\n",
       "      <td>1</td>\n",
       "      <td>0.347421</td>\n",
       "      <td>1</td>\n",
       "      <td>27</td>\n",
       "      <td>305</td>\n",
       "      <td>165.465000</td>\n",
       "      <td>69.202737</td>\n",
       "      <td>29</td>\n",
       "      <td>12</td>\n",
       "      <td>13</td>\n",
       "      <td>0</td>\n",
       "      <td>0</td>\n",
       "      <td>0</td>\n",
       "      <td>254255</td>\n",
       "      <td>48585</td>\n",
       "      <td>44101</td>\n",
       "      <td>1917</td>\n",
       "      <td>871</td>\n",
       "      <td>76678</td>\n",
       "      <td>146</td>\n",
       "      <td>Positive</td>\n",
       "      <td>0.804763</td>\n",
       "      <td>0.495000</td>\n",
       "      <td>0.675000</td>\n",
       "      <td>0.255000</td>\n",
       "      <td>200</td>\n",
       "    </tr>\n",
       "    <tr>\n",
       "      <th>469591535</th>\n",
       "      <td>{'id': '469591535 ', 'id_str': '469591535 ', '...</td>\n",
       "      <td>[Amanhã, 26/08, a partir das 18h30, irei parti...</td>\n",
       "      <td>{'following': ['94567067', '1019836184', '6708...</td>\n",
       "      <td>[Politics]</td>\n",
       "      <td>0</td>\n",
       "      <td>0.152243</td>\n",
       "      <td>6</td>\n",
       "      <td>17</td>\n",
       "      <td>274</td>\n",
       "      <td>106.231959</td>\n",
       "      <td>56.179965</td>\n",
       "      <td>10</td>\n",
       "      <td>11</td>\n",
       "      <td>9</td>\n",
       "      <td>0</td>\n",
       "      <td>1</td>\n",
       "      <td>1</td>\n",
       "      <td>754832</td>\n",
       "      <td>480</td>\n",
       "      <td>15986</td>\n",
       "      <td>3753</td>\n",
       "      <td>114</td>\n",
       "      <td>11104</td>\n",
       "      <td>128</td>\n",
       "      <td>Negative</td>\n",
       "      <td>0.718824</td>\n",
       "      <td>1.134021</td>\n",
       "      <td>0.623711</td>\n",
       "      <td>0.505155</td>\n",
       "      <td>194</td>\n",
       "    </tr>\n",
       "    <tr>\n",
       "      <th>1275049857753939968</th>\n",
       "      <td>{'id': '1275049857753939970 ', 'id_str': '1275...</td>\n",
       "      <td>[@hamoalgali باكايوكو اهم يابو الجالي\\n]</td>\n",
       "      <td>{'following': ['846084148376809473', '13032016...</td>\n",
       "      <td>[Entertainment]</td>\n",
       "      <td>0</td>\n",
       "      <td>0.623344</td>\n",
       "      <td>0</td>\n",
       "      <td>37</td>\n",
       "      <td>37</td>\n",
       "      <td>37.000000</td>\n",
       "      <td>0.000000</td>\n",
       "      <td>16</td>\n",
       "      <td>16</td>\n",
       "      <td>11</td>\n",
       "      <td>0</td>\n",
       "      <td>0</td>\n",
       "      <td>0</td>\n",
       "      <td>1</td>\n",
       "      <td>74</td>\n",
       "      <td>83</td>\n",
       "      <td>677</td>\n",
       "      <td>0</td>\n",
       "      <td>1</td>\n",
       "      <td>21</td>\n",
       "      <td>Negative</td>\n",
       "      <td>0.000000</td>\n",
       "      <td>1.000000</td>\n",
       "      <td>0.000000</td>\n",
       "      <td>0.000000</td>\n",
       "      <td>1</td>\n",
       "    </tr>\n",
       "    <tr>\n",
       "      <th>1566209258</th>\n",
       "      <td>{'id': '1566209258 ', 'id_str': '1566209258 ',...</td>\n",
       "      <td>[Rest In Peace https://t.co/apZOTpuHMN\\n, RT @...</td>\n",
       "      <td>None</td>\n",
       "      <td>[Business, Sports]</td>\n",
       "      <td>0</td>\n",
       "      <td>0.439264</td>\n",
       "      <td>2</td>\n",
       "      <td>24</td>\n",
       "      <td>304</td>\n",
       "      <td>95.130000</td>\n",
       "      <td>70.208212</td>\n",
       "      <td>14</td>\n",
       "      <td>16</td>\n",
       "      <td>9</td>\n",
       "      <td>0</td>\n",
       "      <td>1</td>\n",
       "      <td>1</td>\n",
       "      <td>182812</td>\n",
       "      <td>200759</td>\n",
       "      <td>1115</td>\n",
       "      <td>3223</td>\n",
       "      <td>807</td>\n",
       "      <td>2666</td>\n",
       "      <td>80</td>\n",
       "      <td>Positive</td>\n",
       "      <td>0.623476</td>\n",
       "      <td>0.180000</td>\n",
       "      <td>0.835000</td>\n",
       "      <td>0.125000</td>\n",
       "      <td>200</td>\n",
       "    </tr>\n",
       "  </tbody>\n",
       "</table>\n",
       "</div>"
      ],
      "text/plain": [
       "                                                               profile  \\\n",
       "ID                                                                       \n",
       "44250342             {'id': '44250342 ', 'id_str': '44250342 ', 'na...   \n",
       "825518870421180416   {'id': '825518870421180416 ', 'id_str': '82551...   \n",
       "469591535            {'id': '469591535 ', 'id_str': '469591535 ', '...   \n",
       "1275049857753939968  {'id': '1275049857753939970 ', 'id_str': '1275...   \n",
       "1566209258           {'id': '1566209258 ', 'id_str': '1566209258 ',...   \n",
       "\n",
       "                                                                 tweet  \\\n",
       "ID                                                                       \n",
       "44250342             [RT @spicegirls: If you wanna be my lover, you...   \n",
       "825518870421180416   [GOP under fire after peddling doctored, misle...   \n",
       "469591535            [Amanhã, 26/08, a partir das 18h30, irei parti...   \n",
       "1275049857753939968           [@hamoalgali باكايوكو اهم يابو الجالي\\n]   \n",
       "1566209258           [Rest In Peace https://t.co/apZOTpuHMN\\n, RT @...   \n",
       "\n",
       "                                                              neighbor  \\\n",
       "ID                                                                       \n",
       "44250342             {'following': ['559088043', '31505726', '50183...   \n",
       "825518870421180416                                                None   \n",
       "469591535            {'following': ['94567067', '1019836184', '6708...   \n",
       "1275049857753939968  {'following': ['846084148376809473', '13032016...   \n",
       "1566209258                                                        None   \n",
       "\n",
       "                                      domain  label  nn_signal  lang_count  \\\n",
       "ID                                                                           \n",
       "44250342                            [Sports]      1   0.641816           1   \n",
       "825518870421180416   [Entertainment, Sports]      1   0.347421           1   \n",
       "469591535                         [Politics]      0   0.152243           6   \n",
       "1275049857753939968          [Entertainment]      0   0.623344           0   \n",
       "1566209258                [Business, Sports]      0   0.439264           2   \n",
       "\n",
       "                     tweet_min_len  tweet_max_len  tweet_av_len  \\\n",
       "ID                                                                \n",
       "44250342                        18            312    147.527638   \n",
       "825518870421180416              27            305    165.465000   \n",
       "469591535                       17            274    106.231959   \n",
       "1275049857753939968             37             37     37.000000   \n",
       "1566209258                      24            304     95.130000   \n",
       "\n",
       "                     tweet_len_std  user_name_len  screen_name_len  \\\n",
       "ID                                                                   \n",
       "44250342                 73.683678             13               11   \n",
       "825518870421180416       69.202737             29               12   \n",
       "469591535                56.179965             10               11   \n",
       "1275049857753939968       0.000000             16               16   \n",
       "1566209258               70.208212             14               16   \n",
       "\n",
       "                     user_name_chars  protected  verified  has_url  \\\n",
       "ID                                                                   \n",
       "44250342                           9          0         0        1   \n",
       "825518870421180416                13          0         0        0   \n",
       "469591535                          9          0         1        1   \n",
       "1275049857753939968               11          0         0        0   \n",
       "1566209258                         9          0         1        1   \n",
       "\n",
       "                     followers_count  friends_count  favourites_count  \\\n",
       "ID                                                                      \n",
       "44250342                         574           1273              2167   \n",
       "825518870421180416            254255          48585             44101   \n",
       "469591535                     754832            480             15986   \n",
       "1275049857753939968                1             74                83   \n",
       "1566209258                    182812         200759              1115   \n",
       "\n",
       "                     days_old  listed_count  statuses_count  description_len  \\\n",
       "ID                                                                             \n",
       "44250342                 4714            34           13486              137   \n",
       "825518870421180416       1917           871           76678              146   \n",
       "469591535                3753           114           11104              128   \n",
       "1275049857753939968       677             0               1               21   \n",
       "1566209258               3223           807            2666               80   \n",
       "\n",
       "                    sentiment  similarity  num_mentions  num_links   retweet  \\\n",
       "ID                                                                             \n",
       "44250342             Positive    0.796795      0.939698   0.206030  0.301508   \n",
       "825518870421180416   Positive    0.804763      0.495000   0.675000  0.255000   \n",
       "469591535            Negative    0.718824      1.134021   0.623711  0.505155   \n",
       "1275049857753939968  Negative    0.000000      1.000000   0.000000  0.000000   \n",
       "1566209258           Positive    0.623476      0.180000   0.835000  0.125000   \n",
       "\n",
       "                     num_tweets  \n",
       "ID                               \n",
       "44250342                    199  \n",
       "825518870421180416          200  \n",
       "469591535                   194  \n",
       "1275049857753939968           1  \n",
       "1566209258                  200  "
      ]
     },
     "execution_count": 11,
     "metadata": {},
     "output_type": "execute_result"
    }
   ],
   "source": [
    "# load data\n",
    "train_data_path = 'Twibot-20/train_df_stage_1.json'\n",
    "test_data_path = 'Twibot-20/test_df_stage_1.json'\n",
    "train_df = pd.read_json(train_data_path)\n",
    "test_df = pd.read_json(test_data_path)\n",
    "\n",
    "train_df.set_index('ID', drop=True, inplace=True)\n",
    "test_df.set_index('ID', drop=True, inplace=True)\n",
    "\n",
    "print('Train shape: ', train_df.shape)\n",
    "print('Test shape: ', test_df.shape)\n",
    "print(train_df.columns)\n",
    "train_df.sample(5)"
   ]
  },
  {
   "cell_type": "code",
   "execution_count": 12,
   "metadata": {},
   "outputs": [
    {
     "data": {
      "text/plain": [
       "(9395, 26)"
      ]
     },
     "execution_count": 12,
     "metadata": {},
     "output_type": "execute_result"
    }
   ],
   "source": [
    "train_df.drop(['profile', 'tweet', 'neighbor', 'domain'], axis=1, inplace=True)\n",
    "test_df.drop(['profile', 'tweet', 'neighbor', 'domain'], axis=1, inplace=True)\n",
    "train_df.shape"
   ]
  },
  {
   "cell_type": "code",
   "execution_count": 13,
   "metadata": {},
   "outputs": [
    {
     "name": "stdout",
     "output_type": "stream",
     "text": [
      "train_df\n"
     ]
    },
    {
     "data": {
      "text/html": [
       "<div>\n",
       "<style scoped>\n",
       "    .dataframe tbody tr th:only-of-type {\n",
       "        vertical-align: middle;\n",
       "    }\n",
       "\n",
       "    .dataframe tbody tr th {\n",
       "        vertical-align: top;\n",
       "    }\n",
       "\n",
       "    .dataframe thead th {\n",
       "        text-align: right;\n",
       "    }\n",
       "</style>\n",
       "<table border=\"1\" class=\"dataframe\">\n",
       "  <thead>\n",
       "    <tr style=\"text-align: right;\">\n",
       "      <th></th>\n",
       "      <th>dtypes</th>\n",
       "      <th>null count</th>\n",
       "      <th>unique count</th>\n",
       "    </tr>\n",
       "  </thead>\n",
       "  <tbody>\n",
       "    <tr>\n",
       "      <th>label</th>\n",
       "      <td>int64</td>\n",
       "      <td>0</td>\n",
       "      <td>2</td>\n",
       "    </tr>\n",
       "    <tr>\n",
       "      <th>nn_signal</th>\n",
       "      <td>float64</td>\n",
       "      <td>0</td>\n",
       "      <td>9329</td>\n",
       "    </tr>\n",
       "    <tr>\n",
       "      <th>lang_count</th>\n",
       "      <td>int64</td>\n",
       "      <td>0</td>\n",
       "      <td>17</td>\n",
       "    </tr>\n",
       "    <tr>\n",
       "      <th>tweet_min_len</th>\n",
       "      <td>int64</td>\n",
       "      <td>0</td>\n",
       "      <td>151</td>\n",
       "    </tr>\n",
       "    <tr>\n",
       "      <th>tweet_max_len</th>\n",
       "      <td>int64</td>\n",
       "      <td>0</td>\n",
       "      <td>548</td>\n",
       "    </tr>\n",
       "    <tr>\n",
       "      <th>tweet_av_len</th>\n",
       "      <td>float64</td>\n",
       "      <td>0</td>\n",
       "      <td>8659</td>\n",
       "    </tr>\n",
       "    <tr>\n",
       "      <th>tweet_len_std</th>\n",
       "      <td>float64</td>\n",
       "      <td>0</td>\n",
       "      <td>9250</td>\n",
       "    </tr>\n",
       "    <tr>\n",
       "      <th>user_name_len</th>\n",
       "      <td>int64</td>\n",
       "      <td>0</td>\n",
       "      <td>50</td>\n",
       "    </tr>\n",
       "    <tr>\n",
       "      <th>screen_name_len</th>\n",
       "      <td>int64</td>\n",
       "      <td>0</td>\n",
       "      <td>14</td>\n",
       "    </tr>\n",
       "    <tr>\n",
       "      <th>user_name_chars</th>\n",
       "      <td>int64</td>\n",
       "      <td>0</td>\n",
       "      <td>31</td>\n",
       "    </tr>\n",
       "    <tr>\n",
       "      <th>protected</th>\n",
       "      <td>int64</td>\n",
       "      <td>0</td>\n",
       "      <td>2</td>\n",
       "    </tr>\n",
       "    <tr>\n",
       "      <th>verified</th>\n",
       "      <td>int64</td>\n",
       "      <td>0</td>\n",
       "      <td>2</td>\n",
       "    </tr>\n",
       "    <tr>\n",
       "      <th>has_url</th>\n",
       "      <td>int64</td>\n",
       "      <td>0</td>\n",
       "      <td>2</td>\n",
       "    </tr>\n",
       "    <tr>\n",
       "      <th>followers_count</th>\n",
       "      <td>int64</td>\n",
       "      <td>0</td>\n",
       "      <td>5926</td>\n",
       "    </tr>\n",
       "    <tr>\n",
       "      <th>friends_count</th>\n",
       "      <td>int64</td>\n",
       "      <td>0</td>\n",
       "      <td>3817</td>\n",
       "    </tr>\n",
       "    <tr>\n",
       "      <th>favourites_count</th>\n",
       "      <td>int64</td>\n",
       "      <td>0</td>\n",
       "      <td>5550</td>\n",
       "    </tr>\n",
       "    <tr>\n",
       "      <th>days_old</th>\n",
       "      <td>int64</td>\n",
       "      <td>0</td>\n",
       "      <td>3843</td>\n",
       "    </tr>\n",
       "    <tr>\n",
       "      <th>listed_count</th>\n",
       "      <td>int64</td>\n",
       "      <td>0</td>\n",
       "      <td>2062</td>\n",
       "    </tr>\n",
       "    <tr>\n",
       "      <th>statuses_count</th>\n",
       "      <td>int64</td>\n",
       "      <td>0</td>\n",
       "      <td>6422</td>\n",
       "    </tr>\n",
       "    <tr>\n",
       "      <th>description_len</th>\n",
       "      <td>int64</td>\n",
       "      <td>0</td>\n",
       "      <td>179</td>\n",
       "    </tr>\n",
       "    <tr>\n",
       "      <th>sentiment</th>\n",
       "      <td>object</td>\n",
       "      <td>0</td>\n",
       "      <td>2</td>\n",
       "    </tr>\n",
       "    <tr>\n",
       "      <th>similarity</th>\n",
       "      <td>float64</td>\n",
       "      <td>0</td>\n",
       "      <td>9254</td>\n",
       "    </tr>\n",
       "    <tr>\n",
       "      <th>num_mentions</th>\n",
       "      <td>float64</td>\n",
       "      <td>0</td>\n",
       "      <td>2916</td>\n",
       "    </tr>\n",
       "    <tr>\n",
       "      <th>num_links</th>\n",
       "      <td>float64</td>\n",
       "      <td>0</td>\n",
       "      <td>2241</td>\n",
       "    </tr>\n",
       "    <tr>\n",
       "      <th>retweet</th>\n",
       "      <td>float64</td>\n",
       "      <td>0</td>\n",
       "      <td>2010</td>\n",
       "    </tr>\n",
       "    <tr>\n",
       "      <th>num_tweets</th>\n",
       "      <td>int64</td>\n",
       "      <td>0</td>\n",
       "      <td>199</td>\n",
       "    </tr>\n",
       "  </tbody>\n",
       "</table>\n",
       "</div>"
      ],
      "text/plain": [
       "                   dtypes  null count  unique count\n",
       "label               int64           0             2\n",
       "nn_signal         float64           0          9329\n",
       "lang_count          int64           0            17\n",
       "tweet_min_len       int64           0           151\n",
       "tweet_max_len       int64           0           548\n",
       "tweet_av_len      float64           0          8659\n",
       "tweet_len_std     float64           0          9250\n",
       "user_name_len       int64           0            50\n",
       "screen_name_len     int64           0            14\n",
       "user_name_chars     int64           0            31\n",
       "protected           int64           0             2\n",
       "verified            int64           0             2\n",
       "has_url             int64           0             2\n",
       "followers_count     int64           0          5926\n",
       "friends_count       int64           0          3817\n",
       "favourites_count    int64           0          5550\n",
       "days_old            int64           0          3843\n",
       "listed_count        int64           0          2062\n",
       "statuses_count      int64           0          6422\n",
       "description_len     int64           0           179\n",
       "sentiment          object           0             2\n",
       "similarity        float64           0          9254\n",
       "num_mentions      float64           0          2916\n",
       "num_links         float64           0          2241\n",
       "retweet           float64           0          2010\n",
       "num_tweets          int64           0           199"
      ]
     },
     "metadata": {},
     "output_type": "display_data"
    },
    {
     "name": "stdout",
     "output_type": "stream",
     "text": [
      "test_df\n"
     ]
    },
    {
     "data": {
      "text/html": [
       "<div>\n",
       "<style scoped>\n",
       "    .dataframe tbody tr th:only-of-type {\n",
       "        vertical-align: middle;\n",
       "    }\n",
       "\n",
       "    .dataframe tbody tr th {\n",
       "        vertical-align: top;\n",
       "    }\n",
       "\n",
       "    .dataframe thead th {\n",
       "        text-align: right;\n",
       "    }\n",
       "</style>\n",
       "<table border=\"1\" class=\"dataframe\">\n",
       "  <thead>\n",
       "    <tr style=\"text-align: right;\">\n",
       "      <th></th>\n",
       "      <th>dtypes</th>\n",
       "      <th>null count</th>\n",
       "      <th>unique count</th>\n",
       "    </tr>\n",
       "  </thead>\n",
       "  <tbody>\n",
       "    <tr>\n",
       "      <th>label</th>\n",
       "      <td>int64</td>\n",
       "      <td>0</td>\n",
       "      <td>2</td>\n",
       "    </tr>\n",
       "    <tr>\n",
       "      <th>nn_signal</th>\n",
       "      <td>float64</td>\n",
       "      <td>0</td>\n",
       "      <td>1172</td>\n",
       "    </tr>\n",
       "    <tr>\n",
       "      <th>lang_count</th>\n",
       "      <td>int64</td>\n",
       "      <td>0</td>\n",
       "      <td>17</td>\n",
       "    </tr>\n",
       "    <tr>\n",
       "      <th>tweet_min_len</th>\n",
       "      <td>int64</td>\n",
       "      <td>0</td>\n",
       "      <td>95</td>\n",
       "    </tr>\n",
       "    <tr>\n",
       "      <th>tweet_max_len</th>\n",
       "      <td>int64</td>\n",
       "      <td>0</td>\n",
       "      <td>274</td>\n",
       "    </tr>\n",
       "    <tr>\n",
       "      <th>tweet_av_len</th>\n",
       "      <td>float64</td>\n",
       "      <td>0</td>\n",
       "      <td>1159</td>\n",
       "    </tr>\n",
       "    <tr>\n",
       "      <th>tweet_len_std</th>\n",
       "      <td>float64</td>\n",
       "      <td>0</td>\n",
       "      <td>1161</td>\n",
       "    </tr>\n",
       "    <tr>\n",
       "      <th>user_name_len</th>\n",
       "      <td>int64</td>\n",
       "      <td>0</td>\n",
       "      <td>46</td>\n",
       "    </tr>\n",
       "    <tr>\n",
       "      <th>screen_name_len</th>\n",
       "      <td>int64</td>\n",
       "      <td>0</td>\n",
       "      <td>13</td>\n",
       "    </tr>\n",
       "    <tr>\n",
       "      <th>user_name_chars</th>\n",
       "      <td>int64</td>\n",
       "      <td>0</td>\n",
       "      <td>25</td>\n",
       "    </tr>\n",
       "    <tr>\n",
       "      <th>protected</th>\n",
       "      <td>int64</td>\n",
       "      <td>0</td>\n",
       "      <td>1</td>\n",
       "    </tr>\n",
       "    <tr>\n",
       "      <th>verified</th>\n",
       "      <td>int64</td>\n",
       "      <td>0</td>\n",
       "      <td>2</td>\n",
       "    </tr>\n",
       "    <tr>\n",
       "      <th>has_url</th>\n",
       "      <td>int64</td>\n",
       "      <td>0</td>\n",
       "      <td>2</td>\n",
       "    </tr>\n",
       "    <tr>\n",
       "      <th>followers_count</th>\n",
       "      <td>int64</td>\n",
       "      <td>0</td>\n",
       "      <td>985</td>\n",
       "    </tr>\n",
       "    <tr>\n",
       "      <th>friends_count</th>\n",
       "      <td>int64</td>\n",
       "      <td>0</td>\n",
       "      <td>925</td>\n",
       "    </tr>\n",
       "    <tr>\n",
       "      <th>favourites_count</th>\n",
       "      <td>int64</td>\n",
       "      <td>0</td>\n",
       "      <td>955</td>\n",
       "    </tr>\n",
       "    <tr>\n",
       "      <th>days_old</th>\n",
       "      <td>int64</td>\n",
       "      <td>0</td>\n",
       "      <td>990</td>\n",
       "    </tr>\n",
       "    <tr>\n",
       "      <th>listed_count</th>\n",
       "      <td>int64</td>\n",
       "      <td>0</td>\n",
       "      <td>441</td>\n",
       "    </tr>\n",
       "    <tr>\n",
       "      <th>statuses_count</th>\n",
       "      <td>int64</td>\n",
       "      <td>0</td>\n",
       "      <td>1037</td>\n",
       "    </tr>\n",
       "    <tr>\n",
       "      <th>description_len</th>\n",
       "      <td>int64</td>\n",
       "      <td>0</td>\n",
       "      <td>167</td>\n",
       "    </tr>\n",
       "    <tr>\n",
       "      <th>sentiment</th>\n",
       "      <td>object</td>\n",
       "      <td>0</td>\n",
       "      <td>2</td>\n",
       "    </tr>\n",
       "    <tr>\n",
       "      <th>similarity</th>\n",
       "      <td>float64</td>\n",
       "      <td>0</td>\n",
       "      <td>1160</td>\n",
       "    </tr>\n",
       "    <tr>\n",
       "      <th>num_mentions</th>\n",
       "      <td>float64</td>\n",
       "      <td>0</td>\n",
       "      <td>737</td>\n",
       "    </tr>\n",
       "    <tr>\n",
       "      <th>num_links</th>\n",
       "      <td>float64</td>\n",
       "      <td>0</td>\n",
       "      <td>601</td>\n",
       "    </tr>\n",
       "    <tr>\n",
       "      <th>retweet</th>\n",
       "      <td>float64</td>\n",
       "      <td>0</td>\n",
       "      <td>527</td>\n",
       "    </tr>\n",
       "    <tr>\n",
       "      <th>num_tweets</th>\n",
       "      <td>int64</td>\n",
       "      <td>0</td>\n",
       "      <td>125</td>\n",
       "    </tr>\n",
       "  </tbody>\n",
       "</table>\n",
       "</div>"
      ],
      "text/plain": [
       "                   dtypes  null count  unique count\n",
       "label               int64           0             2\n",
       "nn_signal         float64           0          1172\n",
       "lang_count          int64           0            17\n",
       "tweet_min_len       int64           0            95\n",
       "tweet_max_len       int64           0           274\n",
       "tweet_av_len      float64           0          1159\n",
       "tweet_len_std     float64           0          1161\n",
       "user_name_len       int64           0            46\n",
       "screen_name_len     int64           0            13\n",
       "user_name_chars     int64           0            25\n",
       "protected           int64           0             1\n",
       "verified            int64           0             2\n",
       "has_url             int64           0             2\n",
       "followers_count     int64           0           985\n",
       "friends_count       int64           0           925\n",
       "favourites_count    int64           0           955\n",
       "days_old            int64           0           990\n",
       "listed_count        int64           0           441\n",
       "statuses_count      int64           0          1037\n",
       "description_len     int64           0           167\n",
       "sentiment          object           0             2\n",
       "similarity        float64           0          1160\n",
       "num_mentions      float64           0           737\n",
       "num_links         float64           0           601\n",
       "retweet           float64           0           527\n",
       "num_tweets          int64           0           125"
      ]
     },
     "execution_count": 13,
     "metadata": {},
     "output_type": "execute_result"
    }
   ],
   "source": [
    "print('train_df')\n",
    "display(show_stats(train_df))\n",
    "print('test_df')\n",
    "show_stats(test_df)"
   ]
  },
  {
   "cell_type": "code",
   "execution_count": 14,
   "metadata": {},
   "outputs": [],
   "source": [
    "sentement_dict = {\n",
    "    'Positive': 1,\n",
    "    'Negative': 0\n",
    "}\n",
    "\n",
    "train_df['sentiment'] = train_df['sentiment'].apply(lambda x: sentement_dict[x])\n",
    "test_df['sentiment'] = test_df['sentiment'].apply(lambda x: sentement_dict[x])"
   ]
  },
  {
   "cell_type": "code",
   "execution_count": 15,
   "metadata": {},
   "outputs": [],
   "source": [
    "X_train = train_df.drop(['label'], axis=1)\n",
    "y_train = train_df['label']\n",
    "\n",
    "X_test = test_df.drop(['label'], axis=1)\n",
    "y_test = test_df['label']"
   ]
  },
  {
   "cell_type": "markdown",
   "metadata": {},
   "source": [
    "Scale Data"
   ]
  },
  {
   "cell_type": "code",
   "execution_count": 16,
   "metadata": {},
   "outputs": [],
   "source": [
    "scaler = StandardScaler().fit(X_train)\n",
    "X_train = scaler.transform(X_train)\n",
    "X_test = scaler.transform(X_test)"
   ]
  },
  {
   "cell_type": "markdown",
   "metadata": {},
   "source": [
    "Initial Baseline Model"
   ]
  },
  {
   "cell_type": "code",
   "execution_count": 17,
   "metadata": {},
   "outputs": [
    {
     "data": {
      "text/plain": [
       "(0.9443767127541305, 0.0076424309343216795)"
      ]
     },
     "execution_count": 17,
     "metadata": {},
     "output_type": "execute_result"
    }
   ],
   "source": [
    "baseline_model = LogisticRegression()\n",
    "score_model(X_train, y_train, baseline_model, folds=10)"
   ]
  },
  {
   "cell_type": "markdown",
   "metadata": {},
   "source": [
    "Linear Models"
   ]
  },
  {
   "cell_type": "markdown",
   "metadata": {},
   "source": [
    "Logistic Regression"
   ]
  },
  {
   "cell_type": "code",
   "execution_count": 18,
   "metadata": {},
   "outputs": [
    {
     "name": "stdout",
     "output_type": "stream",
     "text": [
      "Fitting 10 folds for each of 5 candidates, totalling 50 fits\n",
      "for LogisticRegression\n",
      "Best Score:  0.9445574667551855\n",
      "Best Params:  {'C': 0.1}\n"
     ]
    }
   ],
   "source": [
    "# train / gridsearch Logistic Regression\n",
    "lr_model = LogisticRegression()\n",
    "\n",
    "lr_param_grid = {'C': [.001, .01, .1, 1, 10]}\n",
    "best_lr_params = grid_search(X_train, y_train, lr_model, lr_param_grid)"
   ]
  },
  {
   "cell_type": "code",
   "execution_count": 19,
   "metadata": {},
   "outputs": [],
   "source": [
    "best_lr_model = LogisticRegression(**best_lr_params)"
   ]
  },
  {
   "cell_type": "markdown",
   "metadata": {},
   "source": [
    "SGDClassifier"
   ]
  },
  {
   "cell_type": "code",
   "execution_count": 20,
   "metadata": {},
   "outputs": [],
   "source": [
    "\n",
    "\n",
    "sgd_param_grid = {'l1_ratio': hp.uniform('l1_ratio', 0, 1),\n",
    "                  'learning_rate': hp.choice(\n",
    "                      'learning_rate', [{\n",
    "                          'type': 'optimal',\n",
    "                          'alpha': hp.lognormal('alpha', 0, .5)\n",
    "                      },\n",
    "                      {\n",
    "                          'type': 'invscaling',\n",
    "                          'power_t': hp.normal('power_t', 0, 1)\n",
    "                      }]\n",
    "                  ),\n",
    "                  'eta0': hp.lognormal('eta0', 0, 1)}\n",
    "\n",
    "def sgd_objective(search_space):\n",
    "    # im setting the loss function to 'modified_huber' loss as other losses create a \n",
    "    # logistic regression and linear svm model while others are for regression. \n",
    "    # modified_huber is also robust to outliers\n",
    "    l1_ratio = search_space['l1_ratio']\n",
    "    learning_rate = search_space['learning_rate']['type']\n",
    "    eta0 = search_space['eta0']\n",
    "    if 'alpha' in search_space['learning_rate']:\n",
    "        learning_param = search_space['learning_rate']['alpha']\n",
    "        sgd_model = SGDClassifier(loss='modified_huber', \n",
    "                                  penalty='elasticnet', \n",
    "                                  l1_ratio=l1_ratio,\n",
    "                                  learning_rate=learning_rate,\n",
    "                                  alpha=learning_param,\n",
    "                                  eta0=eta0)\n",
    "    else:\n",
    "        learning_param = search_space['learning_rate']['power_t']\n",
    "        sgd_model = SGDClassifier(loss='modified_huber', \n",
    "                                  penalty='elasticnet', \n",
    "                                  l1_ratio=l1_ratio,\n",
    "                                  learning_rate=learning_rate,\n",
    "                                  power_t=learning_param,\n",
    "                                  eta0=eta0)\n",
    "\n",
    "\n",
    "    score, _ = score_model(X_train, y_train, sgd_model)\n",
    "    return -1 * np.mean(score)"
   ]
  },
  {
   "cell_type": "code",
   "execution_count": 21,
   "metadata": {},
   "outputs": [
    {
     "name": "stdout",
     "output_type": "stream",
     "text": [
      "100%|██████████| 500/500 [01:49<00:00,  4.56trial/s, best loss: -0.944625344977152] \n"
     ]
    },
    {
     "data": {
      "text/plain": [
       "{'eta0': 0.11418778208729667,\n",
       " 'l1_ratio': 0.8284678977405943,\n",
       " 'learning_rate': 1,\n",
       " 'power_t': 0.6433358244007282}"
      ]
     },
     "execution_count": 21,
     "metadata": {},
     "output_type": "execute_result"
    }
   ],
   "source": [
    "trials = Trials()\n",
    "max_evals = 500\n",
    "sgd_best_params = fmin(fn=sgd_objective, space=sgd_param_grid, algo=tpe.suggest, trials=trials, max_evals=max_evals)\n",
    "sgd_best_params"
   ]
  },
  {
   "cell_type": "code",
   "execution_count": 22,
   "metadata": {},
   "outputs": [],
   "source": [
    "l1_ratio = sgd_best_params['l1_ratio']\n",
    "learning_rate = 'optimal' if sgd_best_params['learning_rate'] == 0 else 'invscaling'\n",
    "eta0 = sgd_best_params['eta0']\n",
    "\n",
    "if learning_rate == 'optimal':\n",
    "    alpha = sgd_best_params['alpha']\n",
    "    best_sgd_model = SGDClassifier(loss='modified_huber', \n",
    "                                penalty='elasticnet', \n",
    "                                learning_rate=learning_rate, \n",
    "                                l1_ratio=l1_ratio, \n",
    "                                eta0=eta0,\n",
    "                                alpha=alpha)\n",
    "else:\n",
    "    power_t = sgd_best_params['power_t']\n",
    "    best_sgd_model = SGDClassifier(loss='modified_huber', \n",
    "                                penalty='elasticnet', \n",
    "                                learning_rate=learning_rate, \n",
    "                                l1_ratio=l1_ratio, \n",
    "                                eta0=eta0,\n",
    "                                power_t=power_t)"
   ]
  },
  {
   "cell_type": "markdown",
   "metadata": {},
   "source": [
    "Tree Based Models"
   ]
  },
  {
   "cell_type": "markdown",
   "metadata": {},
   "source": [
    "LightGBM"
   ]
  },
  {
   "cell_type": "code",
   "execution_count": 23,
   "metadata": {},
   "outputs": [],
   "source": [
    "\n",
    "\n",
    "lgbm_param_grid = {'reg_alpha': hp.lognormal('reg_alpha', 0, .5),\n",
    "                   'reg_lambda': hp.lognormal('reg_lambda', 0, .5),\n",
    "                   'subsample': hp.uniform('subsample', 0, 1),\n",
    "                   'num_leaves': hp.quniform('num_leaves', 10, 100, 1),\n",
    "                   'max_depth': hp.quniform('max_depth', 1, 10, 1),\n",
    "                   'n_estimators': hp.quniform('n_estimators', 50, 100, 1),\n",
    "                   'learning_rate': hp.loguniform('learning_rate', -3, 0)}\n",
    "\n",
    "def lgbm_objective(search_space):\n",
    "    reg_alpha = search_space['reg_alpha']\n",
    "    reg_lambda = search_space['reg_lambda']\n",
    "    subsample = search_space['subsample']\n",
    "    num_leaves = search_space['num_leaves']\n",
    "    max_depth = search_space['max_depth']\n",
    "    n_estimators = search_space['n_estimators']\n",
    "    learning_rate = search_space['learning_rate']\n",
    "    \n",
    "    lgbm_model = LGBMClassifier(reg_alpha=reg_alpha,\n",
    "                                reg_lambda=reg_lambda,\n",
    "                                subsample=subsample,\n",
    "                                num_leaves=int(num_leaves),\n",
    "                                max_depth=int(max_depth),\n",
    "                                n_estimators=int(n_estimators),\n",
    "                                learning_rate=learning_rate)\n",
    "\n",
    "    score, _ = score_model(X_train, y_train, lgbm_model)\n",
    "    return -1 * np.mean(score)"
   ]
  },
  {
   "cell_type": "code",
   "execution_count": 24,
   "metadata": {},
   "outputs": [
    {
     "name": "stdout",
     "output_type": "stream",
     "text": [
      "100%|██████████| 500/500 [04:34<00:00,  1.82trial/s, best loss: -0.9454212799677966]\n"
     ]
    },
    {
     "data": {
      "text/plain": [
       "{'learning_rate': 0.0807221351395798,\n",
       " 'max_depth': 5.0,\n",
       " 'n_estimators': 91.0,\n",
       " 'num_leaves': 10.0,\n",
       " 'reg_alpha': 1.0230077008215221,\n",
       " 'reg_lambda': 0.7737541601318001,\n",
       " 'subsample': 0.2746542868142302}"
      ]
     },
     "execution_count": 24,
     "metadata": {},
     "output_type": "execute_result"
    }
   ],
   "source": [
    "trials = Trials()\n",
    "max_evals = 500\n",
    "lgbm_best_params = fmin(fn=lgbm_objective, space=lgbm_param_grid, algo=tpe.suggest, trials=trials, max_evals=max_evals)\n",
    "lgbm_best_params"
   ]
  },
  {
   "cell_type": "code",
   "execution_count": 25,
   "metadata": {},
   "outputs": [],
   "source": [
    "\n",
    "reg_alpha = lgbm_best_params['reg_alpha']\n",
    "reg_lambda = lgbm_best_params['reg_lambda']\n",
    "subsample = lgbm_best_params['subsample']\n",
    "num_leaves = lgbm_best_params['num_leaves']\n",
    "max_depth = lgbm_best_params['max_depth']\n",
    "n_estimators = lgbm_best_params['n_estimators']\n",
    "learning_rate = lgbm_best_params['learning_rate']\n",
    "\n",
    "best_lgbm_model = LGBMClassifier(reg_alpha=reg_alpha,\n",
    "                                reg_lambda=reg_lambda,\n",
    "                                subsample=subsample,\n",
    "                                num_leaves=int(num_leaves),\n",
    "                                max_depth=int(max_depth),\n",
    "                                n_estimators=int(n_estimators),\n",
    "                                learning_rate=learning_rate)"
   ]
  },
  {
   "cell_type": "markdown",
   "metadata": {},
   "source": [
    "Random Forest"
   ]
  },
  {
   "cell_type": "code",
   "execution_count": 26,
   "metadata": {},
   "outputs": [],
   "source": [
    "\n",
    "rf_param_grid = {'n_estimators': hp.quniform('n_estimators', 100, 500, 1),\n",
    "                 'max_depth': hp.quniform('max_depth', 2, 20, 1),\n",
    "                 'max_features': hp.choice('max_features', ['auto', 'sqrt']),\n",
    "                 'min_samples_split': hp.quniform('min_samples_split', 2, 5, 1),\n",
    "                 'min_samples_leaf': hp.quniform('min_samples_leaf', 1, 5, 1)}\n",
    "\n",
    "def rf_objective(search_space):\n",
    "    n_estimators = search_space['n_estimators']\n",
    "    max_depth = search_space['max_depth']\n",
    "    max_features = search_space['max_features']\n",
    "    min_samples_split = search_space['min_samples_split']\n",
    "    min_samples_leaf = search_space['min_samples_leaf']\n",
    "\n",
    "    rf_model = RandomForestClassifier(n_estimators=int(n_estimators),\n",
    "                                      max_depth=int(max_depth),\n",
    "                                      max_features=max_features,\n",
    "                                      min_samples_split=int(min_samples_split),\n",
    "                                      min_samples_leaf=int(min_samples_leaf))\n",
    "\n",
    "    score, _ = score_model(X_train, y_train, rf_model)\n",
    "    return -1 * np.mean(score)"
   ]
  },
  {
   "cell_type": "code",
   "execution_count": 27,
   "metadata": {},
   "outputs": [
    {
     "name": "stdout",
     "output_type": "stream",
     "text": [
      "100%|██████████| 200/200 [18:47<00:00,  5.64s/trial, best loss: -0.9432554192099852]\n"
     ]
    },
    {
     "data": {
      "text/plain": [
       "{'max_depth': 20.0,\n",
       " 'max_features': 1,\n",
       " 'min_samples_leaf': 5.0,\n",
       " 'min_samples_split': 2.0,\n",
       " 'n_estimators': 316.0}"
      ]
     },
     "execution_count": 27,
     "metadata": {},
     "output_type": "execute_result"
    }
   ],
   "source": [
    "trials = Trials()\n",
    "max_evals = 200\n",
    "rf_best_params = fmin(fn=rf_objective, space=rf_param_grid, algo=tpe.suggest, trials=trials, max_evals=max_evals)\n",
    "rf_best_params"
   ]
  },
  {
   "cell_type": "code",
   "execution_count": 28,
   "metadata": {},
   "outputs": [],
   "source": [
    "n_estimators = rf_best_params['n_estimators']\n",
    "max_depth = rf_best_params['max_depth']\n",
    "max_features = rf_best_params['max_features']\n",
    "min_samples_split = rf_best_params['min_samples_split']\n",
    "min_samples_leaf = rf_best_params['min_samples_leaf']\n",
    "\n",
    "best_rf_model = RandomForestClassifier(n_estimators=int(n_estimators),\n",
    "                                       max_depth=int(max_depth),\n",
    "                                       max_features= 'auto' if max_features == 0 else 'sqrt',\n",
    "                                       min_samples_split=int(min_samples_split),\n",
    "                                       min_samples_leaf=int(min_samples_leaf))"
   ]
  },
  {
   "cell_type": "markdown",
   "metadata": {},
   "source": [
    "Adaboost"
   ]
  },
  {
   "cell_type": "code",
   "execution_count": 31,
   "metadata": {},
   "outputs": [],
   "source": [
    "\n",
    "ada_param_grid = {'n_estimators': hp.quniform('n_estimators', 50, 200, 1),\n",
    "                  'max_depth': hp.quniform('max_depth', 1, 3, 1),\n",
    "                  'min_samples_split': hp.quniform('min_samples_split', 2, 10, 1),\n",
    "                  'learning_rate': hp.lognormal('learning_rate', 0, 1)}\n",
    "\n",
    "def ada_objective(search_space):\n",
    "    n_estimators = search_space['n_estimators']\n",
    "    max_depth = search_space['max_depth']\n",
    "    min_samples_split = search_space['min_samples_split']\n",
    "    learning_rate = search_space['learning_rate']\n",
    "\n",
    "    ada_model = AdaBoostClassifier(n_estimators=int(n_estimators),\n",
    "                                   learning_rate=learning_rate,\n",
    "                                   base_estimator=DecisionTreeClassifier(max_depth=int(max_depth),\n",
    "                                                                         min_samples_split=int(min_samples_split)))\n",
    "\n",
    "    score, _ = score_model(X_train, y_train, ada_model)\n",
    "    return -1 * np.mean(score)"
   ]
  },
  {
   "cell_type": "code",
   "execution_count": 32,
   "metadata": {},
   "outputs": [
    {
     "name": "stdout",
     "output_type": "stream",
     "text": [
      "100%|██████████| 200/200 [16:02<00:00,  4.81s/trial, best loss: -0.9459249078473588]\n"
     ]
    },
    {
     "data": {
      "text/plain": [
       "{'learning_rate': 0.03614091805346786,\n",
       " 'max_depth': 2.0,\n",
       " 'min_samples_split': 6.0,\n",
       " 'n_estimators': 169.0}"
      ]
     },
     "execution_count": 32,
     "metadata": {},
     "output_type": "execute_result"
    }
   ],
   "source": [
    "trials = Trials()\n",
    "max_evals = 200\n",
    "ada_best_params = fmin(fn=ada_objective, space=ada_param_grid, algo=tpe.suggest, trials=trials, max_evals=max_evals)\n",
    "ada_best_params"
   ]
  },
  {
   "cell_type": "code",
   "execution_count": 33,
   "metadata": {},
   "outputs": [],
   "source": [
    "n_estimators = ada_best_params['n_estimators']\n",
    "max_depth = ada_best_params['max_depth']\n",
    "min_samples_split = ada_best_params['min_samples_split']\n",
    "learning_rate = ada_best_params['learning_rate']\n",
    "\n",
    "best_ada_model = AdaBoostClassifier(n_estimators=int(n_estimators),\n",
    "                                    learning_rate=learning_rate,\n",
    "                                    base_estimator=DecisionTreeClassifier(max_depth=int(max_depth),\n",
    "                                                                          min_samples_split=int(min_samples_split)))"
   ]
  },
  {
   "cell_type": "markdown",
   "metadata": {},
   "source": [
    "Support Vector Machine"
   ]
  },
  {
   "cell_type": "markdown",
   "metadata": {},
   "source": [
    "SVC"
   ]
  },
  {
   "cell_type": "code",
   "execution_count": 36,
   "metadata": {},
   "outputs": [],
   "source": [
    "\n",
    "\n",
    "svc_param_grid = {'C': hp.loguniform('C', -5, 4),\n",
    "                  'kernel': hp.choice('kernel', [{\n",
    "                      'type': 'linear'\n",
    "                  },\n",
    "                  {\n",
    "                      'type': 'rbf',\n",
    "                      'gamma': hp.loguniform('gamma', -9, 3)\n",
    "                  }])}\n",
    "\n",
    "def svc_objective(search_space):\n",
    "    C = search_space['C']\n",
    "    kernel = search_space['kernel']['type']\n",
    "    if kernel == 'rbf':\n",
    "        gamma = search_space['kernel']['gamma']\n",
    "        svc_model = SVC(C=C,\n",
    "                        kernel=kernel,\n",
    "                        gamma=gamma,\n",
    "                        probability=True)\n",
    "    else:\n",
    "        svc_model = SVC(C=C,\n",
    "                        kernel=kernel,\n",
    "                        probability=True)\n",
    "\n",
    "    score, _ = score_model(X_train, y_train, svc_model)\n",
    "    return -1 * np.mean(score)"
   ]
  },
  {
   "cell_type": "code",
   "execution_count": 37,
   "metadata": {},
   "outputs": [
    {
     "name": "stdout",
     "output_type": "stream",
     "text": [
      "100%|██████████| 100/100 [27:59<00:00, 16.80s/trial, best loss: -0.9433991237071068]\n"
     ]
    },
    {
     "data": {
      "text/plain": [
       "{'C': 0.0831541288596428, 'kernel': 0}"
      ]
     },
     "execution_count": 37,
     "metadata": {},
     "output_type": "execute_result"
    }
   ],
   "source": [
    "trials = Trials()\n",
    "max_evals = 100\n",
    "svc_best_params = fmin(fn=svc_objective, space=svc_param_grid, algo=tpe.suggest, trials=trials, max_evals=max_evals)\n",
    "svc_best_params"
   ]
  },
  {
   "cell_type": "code",
   "execution_count": 38,
   "metadata": {},
   "outputs": [],
   "source": [
    "C = svc_best_params['C']\n",
    "kernel = 'linear' if svc_best_params['kernel'] == 0 else 'rbf'\n",
    "if kernel == 'rbf':\n",
    "    gamma = svc_best_params['gamma']\n",
    "    best_svc_model = SVC(C=C,\n",
    "                         kernel=kernel,\n",
    "                         gamma=gamma,\n",
    "                         probability=True)\n",
    "else:\n",
    "    best_svc_model = SVC(C=C,\n",
    "                         kernel=kernel,\n",
    "                         probability=True)"
   ]
  },
  {
   "cell_type": "markdown",
   "metadata": {},
   "source": [
    "Voting Classifier"
   ]
  },
  {
   "cell_type": "code",
   "execution_count": 39,
   "metadata": {},
   "outputs": [],
   "source": [
    "vote_classifier = VotingClassifier(estimators=[('LogisticRegression', best_lr_model), \n",
    "                                               ('SGDClassifier', best_sgd_model), \n",
    "                                               ('LGBMClassifier', best_lgbm_model), \n",
    "                                               ('RandomForestClassifier', best_rf_model), \n",
    "                                               ('AdaBoostClassifier', best_ada_model), \n",
    "                                               ('SVC', best_svc_model)],\n",
    "                                   voting='soft')"
   ]
  },
  {
   "cell_type": "code",
   "execution_count": 40,
   "metadata": {},
   "outputs": [
    {
     "name": "stdout",
     "output_type": "stream",
     "text": [
      "mean roc_auc score:  0.9464140432162607  std:  0.004061523563324789\n"
     ]
    }
   ],
   "source": [
    "mean, std = score_model(X_train, y_train, vote_classifier, folds=5)\n",
    "print('mean roc_auc score: ', mean, ' std: ', std)"
   ]
  },
  {
   "cell_type": "markdown",
   "metadata": {},
   "source": [
    "Stacking Classifier"
   ]
  },
  {
   "cell_type": "code",
   "execution_count": 41,
   "metadata": {},
   "outputs": [],
   "source": [
    "stack_classifier = StackingClassifier(estimators=[('LogisticRegression', best_lr_model), \n",
    "                                                  ('SGDClassifier', best_sgd_model), \n",
    "                                                  ('LGBMClassifier', best_lgbm_model), \n",
    "                                                  ('RandomForestClassifier', best_rf_model), \n",
    "                                                  ('AdaBoostClassifier', best_ada_model), \n",
    "                                                  ('SVC', best_svc_model)],\n",
    "                                      final_estimator=LogisticRegression())"
   ]
  },
  {
   "cell_type": "code",
   "execution_count": 42,
   "metadata": {},
   "outputs": [
    {
     "name": "stdout",
     "output_type": "stream",
     "text": [
      "mean roc_auc score:  0.946747978690642  std:  0.004225273144244695\n"
     ]
    }
   ],
   "source": [
    "mean, std = score_model(X_train, y_train, stack_classifier, folds=5)\n",
    "print('mean roc_auc score: ', mean, ' std: ', std)"
   ]
  },
  {
   "cell_type": "markdown",
   "metadata": {},
   "source": [
    "Results and Analysis"
   ]
  },
  {
   "cell_type": "code",
   "execution_count": 43,
   "metadata": {},
   "outputs": [],
   "source": [
    "def test_model(X_train, y_train, X_test, y_test, model):\n",
    "    mod = clone(model)\n",
    "    mod.fit(X_train, y_train)\n",
    "    y_probs = mod.predict_proba(X_test)\n",
    "    y_preds = mod.predict(X_test)\n",
    "    results = pd.Series(index=['roc_auc', 'accuracy', 'precision', 'recall', 'f1'], dtype='float64')\n",
    "    results.loc['roc_auc'] = roc_auc_score(y_test, y_probs[:, 1])\n",
    "    results.loc['accuracy'] = accuracy_score(y_test, y_preds)\n",
    "    results.loc['precision'] = precision_score(y_test, y_preds)\n",
    "    results.loc['recall'] = recall_score(y_test, y_preds)\n",
    "    results.loc['f1'] = f1_score(y_test, y_preds, average='macro')\n",
    "\n",
    "    conf_matrix = confusion_matrix(y_test, y_preds)\n",
    "\n",
    "    print('Metrics:')\n",
    "    display(results)\n",
    "\n",
    "    print('\\nConfusion Matrix:\\n')\n",
    "    print('                 Predicted Positive   Predicted Negative')\n",
    "    print('Actual Positive |        {tp:>3}        |        {fn:>3}        |'.format(tp=conf_matrix[0, 0], fn=conf_matrix[0, 1]))\n",
    "    print('Actual Negative |        {fp:>3}        |        {tn:>3}        |'.format(fp=conf_matrix[1, 0], tn=conf_matrix[1, 1]))\n",
    "    print()\n",
    "\n",
    "    fig, ax = plt.subplots(1, 2, figsize=(12, 5))\n",
    "    print('\\nRoc Auc and Precision Recall curves:')\n",
    "    fpr, tpr, _ = roc_curve(y_test, y_probs[:, 1])\n",
    "    sns.lineplot(x=fpr, y=tpr, ax=ax[0], label=f'Roc Auc score={auc(fpr, tpr)}')\n",
    "    ax[0].plot([0, 1],[0, 1], linestyle='--')\n",
    "    ax[0].set_xlabel('False Positive Rate')\n",
    "    ax[0].set_ylabel('True Positive Rate')\n",
    "    ax[0].set_title('Receiver Operating Characteristic')\n",
    "\n",
    "    pre, rec, _ = precision_recall_curve(y_test, y_probs[:, 1])\n",
    "    sns.lineplot(x=rec, y=pre, ax=ax[1])\n",
    "    ax[1].set_xlabel('Recall')\n",
    "    ax[1].set_ylabel('Precision')\n",
    "    ax[1].set_title('Precision Recall Curve')\n",
    "\n",
    "    plt.tight_layout()\n",
    "    plt.show()"
   ]
  },
  {
   "cell_type": "code",
   "execution_count": 44,
   "metadata": {},
   "outputs": [
    {
     "name": "stdout",
     "output_type": "stream",
     "text": [
      "Metrics:\n"
     ]
    },
    {
     "data": {
      "text/plain": [
       "roc_auc      0.921400\n",
       "accuracy     0.859694\n",
       "precision    0.846705\n",
       "recall       0.910632\n",
       "f1           0.856663\n",
       "dtype: float64"
      ]
     },
     "metadata": {},
     "output_type": "display_data"
    },
    {
     "name": "stdout",
     "output_type": "stream",
     "text": [
      "\n",
      "Confusion Matrix:\n",
      "\n",
      "                 Predicted Positive   Predicted Negative\n",
      "Actual Positive |        420        |        107        |\n",
      "Actual Negative |         58        |        591        |\n",
      "\n",
      "\n",
      "Roc Auc and Precision recall curves:\n"
     ]
    },
    {
     "data": {
      "image/png": "[encoded data removed]",
      "text/plain": [
       "<Figure size 864x360 with 2 Axes>"
      ]
     },
     "metadata": {
      "needs_background": "light"
     },
     "output_type": "display_data"
    }
   ],
   "source": [
    "test_model(X_train, y_train, X_test, y_test, LogisticRegression())"
   ]
  },
  {
   "cell_type": "code",
   "execution_count": 45,
   "metadata": {},
   "outputs": [
    {
     "name": "stdout",
     "output_type": "stream",
     "text": [
      "Metrics:\n"
     ]
    },
    {
     "data": {
      "text/plain": [
       "roc_auc      0.922897\n",
       "accuracy     0.858844\n",
       "precision    0.848485\n",
       "recall       0.906009\n",
       "f1           0.855974\n",
       "dtype: float64"
      ]
     },
     "metadata": {},
     "output_type": "display_data"
    },
    {
     "name": "stdout",
     "output_type": "stream",
     "text": [
      "\n",
      "Confusion Matrix:\n",
      "\n",
      "                 Predicted Positive   Predicted Negative\n",
      "Actual Positive |        422        |        105        |\n",
      "Actual Negative |         61        |        588        |\n",
      "\n",
      "\n",
      "Roc Auc and Precision recall curves:\n"
     ]
    },
    {
     "data": {
      "image/png": "[encoded data removed]",
      "text/plain": [
       "<Figure size 864x360 with 2 Axes>"
      ]
     },
     "metadata": {
      "needs_background": "light"
     },
     "output_type": "display_data"
    }
   ],
   "source": [
    "test_model(X_train, y_train, X_test, y_test, vote_classifier)"
   ]
  },
  {
   "cell_type": "code",
   "execution_count": 46,
   "metadata": {},
   "outputs": [
    {
     "name": "stdout",
     "output_type": "stream",
     "text": [
      "Metrics:\n"
     ]
    },
    {
     "data": {
      "text/plain": [
       "roc_auc      0.923137\n",
       "accuracy     0.858844\n",
       "precision    0.849493\n",
       "recall       0.904468\n",
       "f1           0.856044\n",
       "dtype: float64"
      ]
     },
     "metadata": {},
     "output_type": "display_data"
    },
    {
     "name": "stdout",
     "output_type": "stream",
     "text": [
      "\n",
      "Confusion Matrix:\n",
      "\n",
      "                 Predicted Positive   Predicted Negative\n",
      "Actual Positive |        423        |        104        |\n",
      "Actual Negative |         62        |        587        |\n",
      "\n",
      "\n",
      "Roc Auc and Precision recall curves:\n"
     ]
    },
    {
     "data": {
      "image/png": "[encoded data removed]",
      "text/plain": [
       "<Figure size 864x360 with 2 Axes>"
      ]
     },
     "metadata": {
      "needs_background": "light"
     },
     "output_type": "display_data"
    }
   ],
   "source": [
    "test_model(X_train, y_train, X_test, y_test, stack_classifier)"
   ]
  },
  {
   "cell_type": "code",
   "execution_count": null,
   "metadata": {},
   "outputs": [],
   "source": []
  }
 ],
 "metadata": {
  "interpreter": {
   "hash": "7e5a56198a1973547cc9b708a22ff19674034057210676db086f92c4b134b10c"
  },
  "kernelspec": {
   "display_name": "Python 3.7.13 ('ML_w_tf_env')",
   "language": "python",
   "name": "python3"
  },
  "language_info": {
   "codemirror_mode": {
    "name": "ipython",
    "version": 3
   },
   "file_extension": ".py",
   "mimetype": "text/x-python",
   "name": "python",
   "nbconvert_exporter": "python",
   "pygments_lexer": "ipython3",
   "version": "3.7.13"
  },
  "orig_nbformat": 4
 },
 "nbformat": 4,
 "nbformat_minor": 2
}
