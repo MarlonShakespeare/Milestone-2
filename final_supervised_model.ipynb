{
 "cells": [
  {
   "cell_type": "code",
   "execution_count": 1,
   "metadata": {},
   "outputs": [],
   "source": [
    "import numpy as np\n",
    "import pandas as pd\n",
    "pd.set_option('display.max_columns', None)\n",
    "\n",
    "from lightgbm import LGBMClassifier\n",
    "from sklearn.linear_model import LogisticRegression, SGDClassifier\n",
    "from sklearn.ensemble import RandomForestClassifier, AdaBoostClassifier, StackingClassifier, VotingClassifier\n",
    "from sklearn.tree import DecisionTreeClassifier\n",
    "from sklearn.svm import SVC\n",
    "\n",
    "from sklearn.model_selection import GridSearchCV, cross_val_score\n",
    "from sklearn.preprocessing import StandardScaler\n",
    "\n",
    "from sklearn.base import clone\n",
    "\n",
    "from sklearn.metrics import (\n",
    "    roc_auc_score, \n",
    "    precision_score, \n",
    "    recall_score, \n",
    "    f1_score, \n",
    "    accuracy_score, \n",
    "    roc_curve, \n",
    "    precision_recall_curve,\n",
    "    confusion_matrix,\n",
    "    auc)\n",
    "\n",
    "from hyperopt import hp, fmin, tpe, Trials\n",
    "\n",
    "import matplotlib.pyplot as plt\n",
    "import seaborn as sns\n",
    "from IPython.display import display"
   ]
  },
  {
   "cell_type": "markdown",
   "metadata": {},
   "source": [
    "### Section 1 Helper Functions"
   ]
  },
  {
   "cell_type": "code",
   "execution_count": 2,
   "metadata": {},
   "outputs": [],
   "source": [
    "def show_stats(df):\n",
    "    dtypes = df.dtypes\n",
    "    nulls = df.isnull().sum()\n",
    "    unique_count = df.apply(lambda x: x.nunique())\n",
    "    columns = ['dtypes', 'null count', 'unique count']\n",
    "    df_ = pd.concat([dtypes, nulls, unique_count], axis=1)\n",
    "    df_.columns = columns\n",
    "    return df_"
   ]
  },
  {
   "cell_type": "code",
   "execution_count": 3,
   "metadata": {},
   "outputs": [],
   "source": [
    "def plot_feature_importance(X, y):\n",
    "    rf_mod = RandomForestClassifier()\n",
    "    rf_mod.fit(X, y)\n",
    "    feature_importance = rf_mod.feature_importances_\n",
    "    feats = pd.DataFrame(zip(X.columns, feature_importance), columns=['feature', 'importance'])\n",
    "    feats = feats.sort_values('importance', ascending=False)\n",
    "    fig, ax = plt.subplots(figsize=(10, 8))\n",
    "    sns.barplot(x='importance', y='feature', data=feats, color='lightblue', ax=ax)\n",
    "    ax.set_title('Feature Importance')"
   ]
  },
  {
   "cell_type": "code",
   "execution_count": 4,
   "metadata": {},
   "outputs": [],
   "source": [
    "def score_model(X_train, y_train, model, folds=3, scoring='roc_auc'):\n",
    "\n",
    "    scores = cross_val_score(model, X_train, y_train, cv=folds, scoring=scoring, n_jobs=4, error_score='raise')\n",
    "    return np.mean(scores), np.std(scores)"
   ]
  },
  {
   "cell_type": "code",
   "execution_count": 5,
   "metadata": {},
   "outputs": [],
   "source": [
    "# returns a fitted estimator. for use with models with few parameters\n",
    "def grid_search(X_train, y_train, model, param_grid, folds=10, scoring='roc_auc'):\n",
    "    grid_mod = GridSearchCV(estimator=model, \n",
    "                            param_grid=param_grid, \n",
    "                            scoring=scoring, \n",
    "                            n_jobs=4, \n",
    "                            cv=folds,\n",
    "                            verbose=1,\n",
    "                            refit=False)\n",
    "    \n",
    "    grid_mod.fit(X_train, y_train)\n",
    "\n",
    "    print(f'for {model.__class__.__name__}')\n",
    "    print('Best Score: ', grid_mod.best_score_)\n",
    "    print('Best Params: ', grid_mod.best_params_)\n",
    "    return grid_mod.best_params_"
   ]
  },
  {
   "cell_type": "markdown",
   "metadata": {},
   "source": [
    "### Section 2 Load and prep the data"
   ]
  },
  {
   "cell_type": "markdown",
   "metadata": {},
   "source": [
    "#### 2.1 Load"
   ]
  },
  {
   "cell_type": "code",
   "execution_count": 6,
   "metadata": {},
   "outputs": [
    {
     "name": "stdout",
     "output_type": "stream",
     "text": [
      "Train shape:  (9395, 35)\n",
      "Test shape:  (1176, 35)\n",
      "Index(['profile', 'tweet', 'neighbor', 'domain', 'label', 'nn_signal',\n",
      "       'lang_count', 'tweet_min_len', 'tweet_max_len', 'tweet_av_len',\n",
      "       'tweet_len_std', 'user_name_len', 'screen_name_len', 'user_name_chars',\n",
      "       'protected', 'verified', 'has_url', 'followers_count', 'friends_count',\n",
      "       'favourites_count', 'days_old', 'listed_count', 'statuses_count',\n",
      "       'description_len', 'sentiment', 'similarity', 'num_mentions',\n",
      "       'num_links', 'retweet', 'num_tweets', 'topic_dist', 'topic_skew',\n",
      "       'topic_kurtosis', 'topic_gini', 'topic_std'],\n",
      "      dtype='object')\n"
     ]
    },
    {
     "data": {
      "text/html": [
       "<div>\n",
       "<style scoped>\n",
       "    .dataframe tbody tr th:only-of-type {\n",
       "        vertical-align: middle;\n",
       "    }\n",
       "\n",
       "    .dataframe tbody tr th {\n",
       "        vertical-align: top;\n",
       "    }\n",
       "\n",
       "    .dataframe thead th {\n",
       "        text-align: right;\n",
       "    }\n",
       "</style>\n",
       "<table border=\"1\" class=\"dataframe\">\n",
       "  <thead>\n",
       "    <tr style=\"text-align: right;\">\n",
       "      <th></th>\n",
       "      <th>profile</th>\n",
       "      <th>tweet</th>\n",
       "      <th>neighbor</th>\n",
       "      <th>domain</th>\n",
       "      <th>label</th>\n",
       "      <th>nn_signal</th>\n",
       "      <th>lang_count</th>\n",
       "      <th>tweet_min_len</th>\n",
       "      <th>tweet_max_len</th>\n",
       "      <th>tweet_av_len</th>\n",
       "      <th>tweet_len_std</th>\n",
       "      <th>user_name_len</th>\n",
       "      <th>screen_name_len</th>\n",
       "      <th>user_name_chars</th>\n",
       "      <th>protected</th>\n",
       "      <th>verified</th>\n",
       "      <th>has_url</th>\n",
       "      <th>followers_count</th>\n",
       "      <th>friends_count</th>\n",
       "      <th>favourites_count</th>\n",
       "      <th>days_old</th>\n",
       "      <th>listed_count</th>\n",
       "      <th>statuses_count</th>\n",
       "      <th>description_len</th>\n",
       "      <th>sentiment</th>\n",
       "      <th>similarity</th>\n",
       "      <th>num_mentions</th>\n",
       "      <th>num_links</th>\n",
       "      <th>retweet</th>\n",
       "      <th>num_tweets</th>\n",
       "      <th>topic_dist</th>\n",
       "      <th>topic_skew</th>\n",
       "      <th>topic_kurtosis</th>\n",
       "      <th>topic_gini</th>\n",
       "      <th>topic_std</th>\n",
       "    </tr>\n",
       "    <tr>\n",
       "      <th>ID</th>\n",
       "      <th></th>\n",
       "      <th></th>\n",
       "      <th></th>\n",
       "      <th></th>\n",
       "      <th></th>\n",
       "      <th></th>\n",
       "      <th></th>\n",
       "      <th></th>\n",
       "      <th></th>\n",
       "      <th></th>\n",
       "      <th></th>\n",
       "      <th></th>\n",
       "      <th></th>\n",
       "      <th></th>\n",
       "      <th></th>\n",
       "      <th></th>\n",
       "      <th></th>\n",
       "      <th></th>\n",
       "      <th></th>\n",
       "      <th></th>\n",
       "      <th></th>\n",
       "      <th></th>\n",
       "      <th></th>\n",
       "      <th></th>\n",
       "      <th></th>\n",
       "      <th></th>\n",
       "      <th></th>\n",
       "      <th></th>\n",
       "      <th></th>\n",
       "      <th></th>\n",
       "      <th></th>\n",
       "      <th></th>\n",
       "      <th></th>\n",
       "      <th></th>\n",
       "      <th></th>\n",
       "    </tr>\n",
       "  </thead>\n",
       "  <tbody>\n",
       "    <tr>\n",
       "      <th>19766553</th>\n",
       "      <td>{'id': '19766553 ', 'id_str': '19766553 ', 'na...</td>\n",
       "      <td>[RT @RealCarlVernon: Sky News Australia. The o...</td>\n",
       "      <td>{'following': ['34889027', '31181655', '229152...</td>\n",
       "      <td>[Sports]</td>\n",
       "      <td>1</td>\n",
       "      <td>0.601374</td>\n",
       "      <td>2</td>\n",
       "      <td>9</td>\n",
       "      <td>269</td>\n",
       "      <td>99.710000</td>\n",
       "      <td>49.056762</td>\n",
       "      <td>16</td>\n",
       "      <td>11</td>\n",
       "      <td>14</td>\n",
       "      <td>0</td>\n",
       "      <td>0</td>\n",
       "      <td>0</td>\n",
       "      <td>270</td>\n",
       "      <td>2800</td>\n",
       "      <td>607</td>\n",
       "      <td>4838</td>\n",
       "      <td>10</td>\n",
       "      <td>3169</td>\n",
       "      <td>17</td>\n",
       "      <td>Positive</td>\n",
       "      <td>0.672998</td>\n",
       "      <td>1.095000</td>\n",
       "      <td>0.265000</td>\n",
       "      <td>0.490000</td>\n",
       "      <td>200</td>\n",
       "      <td>[0.35000000000000003, 0.18, 0.8250000000000001...</td>\n",
       "      <td>0.125925</td>\n",
       "      <td>-1.381601</td>\n",
       "      <td>0.440149</td>\n",
       "      <td>0.279778</td>\n",
       "    </tr>\n",
       "    <tr>\n",
       "      <th>4512493167</th>\n",
       "      <td>{'id': '4512493167 ', 'id_str': '4512493167 ',...</td>\n",
       "      <td>[RT @EmergencyPeace: @REnlightenment A first c...</td>\n",
       "      <td>{'following': ['119895130', '3535080623', '361...</td>\n",
       "      <td>[Entertainment]</td>\n",
       "      <td>1</td>\n",
       "      <td>0.877822</td>\n",
       "      <td>1</td>\n",
       "      <td>24</td>\n",
       "      <td>149</td>\n",
       "      <td>119.742574</td>\n",
       "      <td>31.246910</td>\n",
       "      <td>15</td>\n",
       "      <td>11</td>\n",
       "      <td>12</td>\n",
       "      <td>0</td>\n",
       "      <td>0</td>\n",
       "      <td>1</td>\n",
       "      <td>357</td>\n",
       "      <td>1098</td>\n",
       "      <td>496</td>\n",
       "      <td>2326</td>\n",
       "      <td>1</td>\n",
       "      <td>332</td>\n",
       "      <td>84</td>\n",
       "      <td>Positive</td>\n",
       "      <td>0.695473</td>\n",
       "      <td>1.742574</td>\n",
       "      <td>0.386139</td>\n",
       "      <td>0.792079</td>\n",
       "      <td>101</td>\n",
       "      <td>[0.45544554460000003, 0.2574257426, 0.33663366...</td>\n",
       "      <td>0.059376</td>\n",
       "      <td>-1.370740</td>\n",
       "      <td>0.397500</td>\n",
       "      <td>0.281997</td>\n",
       "    </tr>\n",
       "    <tr>\n",
       "      <th>814386998140174336</th>\n",
       "      <td>{'id': '814386998140174336 ', 'id_str': '81438...</td>\n",
       "      <td>[Retweet if you can relate! ❤️ https://t.co/QH...</td>\n",
       "      <td>{'following': ['1518269647', '2830906441', '74...</td>\n",
       "      <td>[Politics]</td>\n",
       "      <td>1</td>\n",
       "      <td>0.908346</td>\n",
       "      <td>2</td>\n",
       "      <td>21</td>\n",
       "      <td>304</td>\n",
       "      <td>210.655000</td>\n",
       "      <td>65.813418</td>\n",
       "      <td>20</td>\n",
       "      <td>16</td>\n",
       "      <td>12</td>\n",
       "      <td>0</td>\n",
       "      <td>0</td>\n",
       "      <td>1</td>\n",
       "      <td>1160</td>\n",
       "      <td>2247</td>\n",
       "      <td>48</td>\n",
       "      <td>1948</td>\n",
       "      <td>13</td>\n",
       "      <td>994</td>\n",
       "      <td>48</td>\n",
       "      <td>Positive</td>\n",
       "      <td>0.824281</td>\n",
       "      <td>0.225000</td>\n",
       "      <td>0.690000</td>\n",
       "      <td>0.125000</td>\n",
       "      <td>200</td>\n",
       "      <td>[0.225, 0.59, 0.6900000000000001, 0.66, 0.215,...</td>\n",
       "      <td>-0.015493</td>\n",
       "      <td>-1.293744</td>\n",
       "      <td>0.355746</td>\n",
       "      <td>0.299179</td>\n",
       "    </tr>\n",
       "    <tr>\n",
       "      <th>21316253</th>\n",
       "      <td>{'id': '21316253 ', 'id_str': '21316253 ', 'na...</td>\n",
       "      <td>[Trump on Fox suggests that some cops \"choke\" ...</td>\n",
       "      <td>{'following': ['198967539', '1216872631', '279...</td>\n",
       "      <td>[Entertainment, Sports]</td>\n",
       "      <td>0</td>\n",
       "      <td>0.152446</td>\n",
       "      <td>2</td>\n",
       "      <td>39</td>\n",
       "      <td>305</td>\n",
       "      <td>125.205000</td>\n",
       "      <td>55.674437</td>\n",
       "      <td>12</td>\n",
       "      <td>12</td>\n",
       "      <td>8</td>\n",
       "      <td>0</td>\n",
       "      <td>1</td>\n",
       "      <td>1</td>\n",
       "      <td>238020</td>\n",
       "      <td>5703</td>\n",
       "      <td>84</td>\n",
       "      <td>4818</td>\n",
       "      <td>4306</td>\n",
       "      <td>175981</td>\n",
       "      <td>26</td>\n",
       "      <td>Negative</td>\n",
       "      <td>0.737871</td>\n",
       "      <td>0.200000</td>\n",
       "      <td>0.525000</td>\n",
       "      <td>0.025000</td>\n",
       "      <td>200</td>\n",
       "      <td>[0.35000000000000003, 0.14, 0.54, 0.265, 0.18,...</td>\n",
       "      <td>0.091613</td>\n",
       "      <td>-1.163250</td>\n",
       "      <td>0.351376</td>\n",
       "      <td>0.284668</td>\n",
       "    </tr>\n",
       "    <tr>\n",
       "      <th>617205854</th>\n",
       "      <td>{'id': '617205854 ', 'id_str': '617205854 ', '...</td>\n",
       "      <td>[@MourningWood2\\nYa I think it's ok and marry ...</td>\n",
       "      <td>{'following': ['23375688', '189934379', '20999...</td>\n",
       "      <td>[Entertainment]</td>\n",
       "      <td>0</td>\n",
       "      <td>0.513824</td>\n",
       "      <td>2</td>\n",
       "      <td>2</td>\n",
       "      <td>141</td>\n",
       "      <td>65.064815</td>\n",
       "      <td>35.298797</td>\n",
       "      <td>11</td>\n",
       "      <td>11</td>\n",
       "      <td>6</td>\n",
       "      <td>0</td>\n",
       "      <td>0</td>\n",
       "      <td>0</td>\n",
       "      <td>3</td>\n",
       "      <td>30</td>\n",
       "      <td>3</td>\n",
       "      <td>3597</td>\n",
       "      <td>0</td>\n",
       "      <td>108</td>\n",
       "      <td>33</td>\n",
       "      <td>Positive</td>\n",
       "      <td>0.705980</td>\n",
       "      <td>0.259259</td>\n",
       "      <td>0.157407</td>\n",
       "      <td>0.009259</td>\n",
       "      <td>108</td>\n",
       "      <td>[0.7777777778, 0.046296296300000005, 0.7407407...</td>\n",
       "      <td>0.032173</td>\n",
       "      <td>-1.346677</td>\n",
       "      <td>0.403164</td>\n",
       "      <td>0.283150</td>\n",
       "    </tr>\n",
       "  </tbody>\n",
       "</table>\n",
       "</div>"
      ],
      "text/plain": [
       "                                                              profile  \\\n",
       "ID                                                                      \n",
       "19766553            {'id': '19766553 ', 'id_str': '19766553 ', 'na...   \n",
       "4512493167          {'id': '4512493167 ', 'id_str': '4512493167 ',...   \n",
       "814386998140174336  {'id': '814386998140174336 ', 'id_str': '81438...   \n",
       "21316253            {'id': '21316253 ', 'id_str': '21316253 ', 'na...   \n",
       "617205854           {'id': '617205854 ', 'id_str': '617205854 ', '...   \n",
       "\n",
       "                                                                tweet  \\\n",
       "ID                                                                      \n",
       "19766553            [RT @RealCarlVernon: Sky News Australia. The o...   \n",
       "4512493167          [RT @EmergencyPeace: @REnlightenment A first c...   \n",
       "814386998140174336  [Retweet if you can relate! ❤️ https://t.co/QH...   \n",
       "21316253            [Trump on Fox suggests that some cops \"choke\" ...   \n",
       "617205854           [@MourningWood2\\nYa I think it's ok and marry ...   \n",
       "\n",
       "                                                             neighbor  \\\n",
       "ID                                                                      \n",
       "19766553            {'following': ['34889027', '31181655', '229152...   \n",
       "4512493167          {'following': ['119895130', '3535080623', '361...   \n",
       "814386998140174336  {'following': ['1518269647', '2830906441', '74...   \n",
       "21316253            {'following': ['198967539', '1216872631', '279...   \n",
       "617205854           {'following': ['23375688', '189934379', '20999...   \n",
       "\n",
       "                                     domain  label  nn_signal  lang_count  \\\n",
       "ID                                                                          \n",
       "19766553                           [Sports]      1   0.601374           2   \n",
       "4512493167                  [Entertainment]      1   0.877822           1   \n",
       "814386998140174336               [Politics]      1   0.908346           2   \n",
       "21316253            [Entertainment, Sports]      0   0.152446           2   \n",
       "617205854                   [Entertainment]      0   0.513824           2   \n",
       "\n",
       "                    tweet_min_len  tweet_max_len  tweet_av_len  tweet_len_std  \\\n",
       "ID                                                                              \n",
       "19766553                        9            269     99.710000      49.056762   \n",
       "4512493167                     24            149    119.742574      31.246910   \n",
       "814386998140174336             21            304    210.655000      65.813418   \n",
       "21316253                       39            305    125.205000      55.674437   \n",
       "617205854                       2            141     65.064815      35.298797   \n",
       "\n",
       "                    user_name_len  screen_name_len  user_name_chars  \\\n",
       "ID                                                                    \n",
       "19766553                       16               11               14   \n",
       "4512493167                     15               11               12   \n",
       "814386998140174336             20               16               12   \n",
       "21316253                       12               12                8   \n",
       "617205854                      11               11                6   \n",
       "\n",
       "                    protected  verified  has_url  followers_count  \\\n",
       "ID                                                                  \n",
       "19766553                    0         0        0              270   \n",
       "4512493167                  0         0        1              357   \n",
       "814386998140174336          0         0        1             1160   \n",
       "21316253                    0         1        1           238020   \n",
       "617205854                   0         0        0                3   \n",
       "\n",
       "                    friends_count  favourites_count  days_old  listed_count  \\\n",
       "ID                                                                            \n",
       "19766553                     2800               607      4838            10   \n",
       "4512493167                   1098               496      2326             1   \n",
       "814386998140174336           2247                48      1948            13   \n",
       "21316253                     5703                84      4818          4306   \n",
       "617205854                      30                 3      3597             0   \n",
       "\n",
       "                    statuses_count  description_len sentiment  similarity  \\\n",
       "ID                                                                          \n",
       "19766553                      3169               17  Positive    0.672998   \n",
       "4512493167                     332               84  Positive    0.695473   \n",
       "814386998140174336             994               48  Positive    0.824281   \n",
       "21316253                    175981               26  Negative    0.737871   \n",
       "617205854                      108               33  Positive    0.705980   \n",
       "\n",
       "                    num_mentions  num_links   retweet  num_tweets  \\\n",
       "ID                                                                  \n",
       "19766553                1.095000   0.265000  0.490000         200   \n",
       "4512493167              1.742574   0.386139  0.792079         101   \n",
       "814386998140174336      0.225000   0.690000  0.125000         200   \n",
       "21316253                0.200000   0.525000  0.025000         200   \n",
       "617205854               0.259259   0.157407  0.009259         108   \n",
       "\n",
       "                                                           topic_dist  \\\n",
       "ID                                                                      \n",
       "19766553            [0.35000000000000003, 0.18, 0.8250000000000001...   \n",
       "4512493167          [0.45544554460000003, 0.2574257426, 0.33663366...   \n",
       "814386998140174336  [0.225, 0.59, 0.6900000000000001, 0.66, 0.215,...   \n",
       "21316253            [0.35000000000000003, 0.14, 0.54, 0.265, 0.18,...   \n",
       "617205854           [0.7777777778, 0.046296296300000005, 0.7407407...   \n",
       "\n",
       "                    topic_skew  topic_kurtosis  topic_gini  topic_std  \n",
       "ID                                                                     \n",
       "19766553              0.125925       -1.381601    0.440149   0.279778  \n",
       "4512493167            0.059376       -1.370740    0.397500   0.281997  \n",
       "814386998140174336   -0.015493       -1.293744    0.355746   0.299179  \n",
       "21316253              0.091613       -1.163250    0.351376   0.284668  \n",
       "617205854             0.032173       -1.346677    0.403164   0.283150  "
      ]
     },
     "execution_count": 6,
     "metadata": {},
     "output_type": "execute_result"
    }
   ],
   "source": [
    "# load data\n",
    "train_data_path = 'Twibot-20/data_creation/train_final_dataset.json'\n",
    "test_data_path = 'Twibot-20/data_creation/test_final_dataset.json'\n",
    "train_df = pd.read_json(train_data_path)\n",
    "test_df = pd.read_json(test_data_path)\n",
    "\n",
    "train_df.set_index('ID', drop=True, inplace=True)\n",
    "test_df.set_index('ID', drop=True, inplace=True)\n",
    "\n",
    "print('Train shape: ', train_df.shape)\n",
    "print('Test shape: ', test_df.shape)\n",
    "print(train_df.columns)\n",
    "train_df.sample(5)"
   ]
  },
  {
   "cell_type": "markdown",
   "metadata": {},
   "source": [
    "#### 2.2 Drop columns and display stats"
   ]
  },
  {
   "cell_type": "code",
   "execution_count": 7,
   "metadata": {},
   "outputs": [
    {
     "data": {
      "text/plain": [
       "(9395, 30)"
      ]
     },
     "execution_count": 7,
     "metadata": {},
     "output_type": "execute_result"
    }
   ],
   "source": [
    "train_df.drop(['profile', 'tweet', 'neighbor', 'domain', 'topic_dist'], axis=1, inplace=True)\n",
    "test_df.drop(['profile', 'tweet', 'neighbor', 'domain', 'topic_dist'], axis=1, inplace=True)\n",
    "train_df.shape"
   ]
  },
  {
   "cell_type": "code",
   "execution_count": 8,
   "metadata": {},
   "outputs": [
    {
     "name": "stdout",
     "output_type": "stream",
     "text": [
      "train_df\n"
     ]
    },
    {
     "data": {
      "text/html": [
       "<div>\n",
       "<style scoped>\n",
       "    .dataframe tbody tr th:only-of-type {\n",
       "        vertical-align: middle;\n",
       "    }\n",
       "\n",
       "    .dataframe tbody tr th {\n",
       "        vertical-align: top;\n",
       "    }\n",
       "\n",
       "    .dataframe thead th {\n",
       "        text-align: right;\n",
       "    }\n",
       "</style>\n",
       "<table border=\"1\" class=\"dataframe\">\n",
       "  <thead>\n",
       "    <tr style=\"text-align: right;\">\n",
       "      <th></th>\n",
       "      <th>dtypes</th>\n",
       "      <th>null count</th>\n",
       "      <th>unique count</th>\n",
       "    </tr>\n",
       "  </thead>\n",
       "  <tbody>\n",
       "    <tr>\n",
       "      <th>label</th>\n",
       "      <td>int64</td>\n",
       "      <td>0</td>\n",
       "      <td>2</td>\n",
       "    </tr>\n",
       "    <tr>\n",
       "      <th>nn_signal</th>\n",
       "      <td>float64</td>\n",
       "      <td>0</td>\n",
       "      <td>9331</td>\n",
       "    </tr>\n",
       "    <tr>\n",
       "      <th>lang_count</th>\n",
       "      <td>int64</td>\n",
       "      <td>0</td>\n",
       "      <td>17</td>\n",
       "    </tr>\n",
       "    <tr>\n",
       "      <th>tweet_min_len</th>\n",
       "      <td>int64</td>\n",
       "      <td>0</td>\n",
       "      <td>151</td>\n",
       "    </tr>\n",
       "    <tr>\n",
       "      <th>tweet_max_len</th>\n",
       "      <td>int64</td>\n",
       "      <td>0</td>\n",
       "      <td>548</td>\n",
       "    </tr>\n",
       "    <tr>\n",
       "      <th>tweet_av_len</th>\n",
       "      <td>float64</td>\n",
       "      <td>0</td>\n",
       "      <td>8659</td>\n",
       "    </tr>\n",
       "    <tr>\n",
       "      <th>tweet_len_std</th>\n",
       "      <td>float64</td>\n",
       "      <td>0</td>\n",
       "      <td>9250</td>\n",
       "    </tr>\n",
       "    <tr>\n",
       "      <th>user_name_len</th>\n",
       "      <td>int64</td>\n",
       "      <td>0</td>\n",
       "      <td>50</td>\n",
       "    </tr>\n",
       "    <tr>\n",
       "      <th>screen_name_len</th>\n",
       "      <td>int64</td>\n",
       "      <td>0</td>\n",
       "      <td>14</td>\n",
       "    </tr>\n",
       "    <tr>\n",
       "      <th>user_name_chars</th>\n",
       "      <td>int64</td>\n",
       "      <td>0</td>\n",
       "      <td>31</td>\n",
       "    </tr>\n",
       "    <tr>\n",
       "      <th>protected</th>\n",
       "      <td>int64</td>\n",
       "      <td>0</td>\n",
       "      <td>2</td>\n",
       "    </tr>\n",
       "    <tr>\n",
       "      <th>verified</th>\n",
       "      <td>int64</td>\n",
       "      <td>0</td>\n",
       "      <td>2</td>\n",
       "    </tr>\n",
       "    <tr>\n",
       "      <th>has_url</th>\n",
       "      <td>int64</td>\n",
       "      <td>0</td>\n",
       "      <td>2</td>\n",
       "    </tr>\n",
       "    <tr>\n",
       "      <th>followers_count</th>\n",
       "      <td>int64</td>\n",
       "      <td>0</td>\n",
       "      <td>5926</td>\n",
       "    </tr>\n",
       "    <tr>\n",
       "      <th>friends_count</th>\n",
       "      <td>int64</td>\n",
       "      <td>0</td>\n",
       "      <td>3817</td>\n",
       "    </tr>\n",
       "    <tr>\n",
       "      <th>favourites_count</th>\n",
       "      <td>int64</td>\n",
       "      <td>0</td>\n",
       "      <td>5550</td>\n",
       "    </tr>\n",
       "    <tr>\n",
       "      <th>days_old</th>\n",
       "      <td>int64</td>\n",
       "      <td>0</td>\n",
       "      <td>3843</td>\n",
       "    </tr>\n",
       "    <tr>\n",
       "      <th>listed_count</th>\n",
       "      <td>int64</td>\n",
       "      <td>0</td>\n",
       "      <td>2062</td>\n",
       "    </tr>\n",
       "    <tr>\n",
       "      <th>statuses_count</th>\n",
       "      <td>int64</td>\n",
       "      <td>0</td>\n",
       "      <td>6422</td>\n",
       "    </tr>\n",
       "    <tr>\n",
       "      <th>description_len</th>\n",
       "      <td>int64</td>\n",
       "      <td>0</td>\n",
       "      <td>179</td>\n",
       "    </tr>\n",
       "    <tr>\n",
       "      <th>sentiment</th>\n",
       "      <td>object</td>\n",
       "      <td>0</td>\n",
       "      <td>2</td>\n",
       "    </tr>\n",
       "    <tr>\n",
       "      <th>similarity</th>\n",
       "      <td>float64</td>\n",
       "      <td>0</td>\n",
       "      <td>9254</td>\n",
       "    </tr>\n",
       "    <tr>\n",
       "      <th>num_mentions</th>\n",
       "      <td>float64</td>\n",
       "      <td>0</td>\n",
       "      <td>2916</td>\n",
       "    </tr>\n",
       "    <tr>\n",
       "      <th>num_links</th>\n",
       "      <td>float64</td>\n",
       "      <td>0</td>\n",
       "      <td>2241</td>\n",
       "    </tr>\n",
       "    <tr>\n",
       "      <th>retweet</th>\n",
       "      <td>float64</td>\n",
       "      <td>0</td>\n",
       "      <td>2010</td>\n",
       "    </tr>\n",
       "    <tr>\n",
       "      <th>num_tweets</th>\n",
       "      <td>int64</td>\n",
       "      <td>0</td>\n",
       "      <td>199</td>\n",
       "    </tr>\n",
       "    <tr>\n",
       "      <th>topic_skew</th>\n",
       "      <td>float64</td>\n",
       "      <td>371</td>\n",
       "      <td>8891</td>\n",
       "    </tr>\n",
       "    <tr>\n",
       "      <th>topic_kurtosis</th>\n",
       "      <td>float64</td>\n",
       "      <td>371</td>\n",
       "      <td>8899</td>\n",
       "    </tr>\n",
       "    <tr>\n",
       "      <th>topic_gini</th>\n",
       "      <td>float64</td>\n",
       "      <td>411</td>\n",
       "      <td>8837</td>\n",
       "    </tr>\n",
       "    <tr>\n",
       "      <th>topic_std</th>\n",
       "      <td>float64</td>\n",
       "      <td>371</td>\n",
       "      <td>8915</td>\n",
       "    </tr>\n",
       "  </tbody>\n",
       "</table>\n",
       "</div>"
      ],
      "text/plain": [
       "                   dtypes  null count  unique count\n",
       "label               int64           0             2\n",
       "nn_signal         float64           0          9331\n",
       "lang_count          int64           0            17\n",
       "tweet_min_len       int64           0           151\n",
       "tweet_max_len       int64           0           548\n",
       "tweet_av_len      float64           0          8659\n",
       "tweet_len_std     float64           0          9250\n",
       "user_name_len       int64           0            50\n",
       "screen_name_len     int64           0            14\n",
       "user_name_chars     int64           0            31\n",
       "protected           int64           0             2\n",
       "verified            int64           0             2\n",
       "has_url             int64           0             2\n",
       "followers_count     int64           0          5926\n",
       "friends_count       int64           0          3817\n",
       "favourites_count    int64           0          5550\n",
       "days_old            int64           0          3843\n",
       "listed_count        int64           0          2062\n",
       "statuses_count      int64           0          6422\n",
       "description_len     int64           0           179\n",
       "sentiment          object           0             2\n",
       "similarity        float64           0          9254\n",
       "num_mentions      float64           0          2916\n",
       "num_links         float64           0          2241\n",
       "retweet           float64           0          2010\n",
       "num_tweets          int64           0           199\n",
       "topic_skew        float64         371          8891\n",
       "topic_kurtosis    float64         371          8899\n",
       "topic_gini        float64         411          8837\n",
       "topic_std         float64         371          8915"
      ]
     },
     "metadata": {},
     "output_type": "display_data"
    },
    {
     "name": "stdout",
     "output_type": "stream",
     "text": [
      "test_df\n"
     ]
    },
    {
     "data": {
      "text/html": [
       "<div>\n",
       "<style scoped>\n",
       "    .dataframe tbody tr th:only-of-type {\n",
       "        vertical-align: middle;\n",
       "    }\n",
       "\n",
       "    .dataframe tbody tr th {\n",
       "        vertical-align: top;\n",
       "    }\n",
       "\n",
       "    .dataframe thead th {\n",
       "        text-align: right;\n",
       "    }\n",
       "</style>\n",
       "<table border=\"1\" class=\"dataframe\">\n",
       "  <thead>\n",
       "    <tr style=\"text-align: right;\">\n",
       "      <th></th>\n",
       "      <th>dtypes</th>\n",
       "      <th>null count</th>\n",
       "      <th>unique count</th>\n",
       "    </tr>\n",
       "  </thead>\n",
       "  <tbody>\n",
       "    <tr>\n",
       "      <th>label</th>\n",
       "      <td>int64</td>\n",
       "      <td>0</td>\n",
       "      <td>2</td>\n",
       "    </tr>\n",
       "    <tr>\n",
       "      <th>nn_signal</th>\n",
       "      <td>float64</td>\n",
       "      <td>0</td>\n",
       "      <td>1172</td>\n",
       "    </tr>\n",
       "    <tr>\n",
       "      <th>lang_count</th>\n",
       "      <td>int64</td>\n",
       "      <td>0</td>\n",
       "      <td>17</td>\n",
       "    </tr>\n",
       "    <tr>\n",
       "      <th>tweet_min_len</th>\n",
       "      <td>int64</td>\n",
       "      <td>0</td>\n",
       "      <td>95</td>\n",
       "    </tr>\n",
       "    <tr>\n",
       "      <th>tweet_max_len</th>\n",
       "      <td>int64</td>\n",
       "      <td>0</td>\n",
       "      <td>274</td>\n",
       "    </tr>\n",
       "    <tr>\n",
       "      <th>tweet_av_len</th>\n",
       "      <td>float64</td>\n",
       "      <td>0</td>\n",
       "      <td>1159</td>\n",
       "    </tr>\n",
       "    <tr>\n",
       "      <th>tweet_len_std</th>\n",
       "      <td>float64</td>\n",
       "      <td>0</td>\n",
       "      <td>1161</td>\n",
       "    </tr>\n",
       "    <tr>\n",
       "      <th>user_name_len</th>\n",
       "      <td>int64</td>\n",
       "      <td>0</td>\n",
       "      <td>46</td>\n",
       "    </tr>\n",
       "    <tr>\n",
       "      <th>screen_name_len</th>\n",
       "      <td>int64</td>\n",
       "      <td>0</td>\n",
       "      <td>13</td>\n",
       "    </tr>\n",
       "    <tr>\n",
       "      <th>user_name_chars</th>\n",
       "      <td>int64</td>\n",
       "      <td>0</td>\n",
       "      <td>25</td>\n",
       "    </tr>\n",
       "    <tr>\n",
       "      <th>protected</th>\n",
       "      <td>int64</td>\n",
       "      <td>0</td>\n",
       "      <td>1</td>\n",
       "    </tr>\n",
       "    <tr>\n",
       "      <th>verified</th>\n",
       "      <td>int64</td>\n",
       "      <td>0</td>\n",
       "      <td>2</td>\n",
       "    </tr>\n",
       "    <tr>\n",
       "      <th>has_url</th>\n",
       "      <td>int64</td>\n",
       "      <td>0</td>\n",
       "      <td>2</td>\n",
       "    </tr>\n",
       "    <tr>\n",
       "      <th>followers_count</th>\n",
       "      <td>int64</td>\n",
       "      <td>0</td>\n",
       "      <td>985</td>\n",
       "    </tr>\n",
       "    <tr>\n",
       "      <th>friends_count</th>\n",
       "      <td>int64</td>\n",
       "      <td>0</td>\n",
       "      <td>925</td>\n",
       "    </tr>\n",
       "    <tr>\n",
       "      <th>favourites_count</th>\n",
       "      <td>int64</td>\n",
       "      <td>0</td>\n",
       "      <td>955</td>\n",
       "    </tr>\n",
       "    <tr>\n",
       "      <th>days_old</th>\n",
       "      <td>int64</td>\n",
       "      <td>0</td>\n",
       "      <td>990</td>\n",
       "    </tr>\n",
       "    <tr>\n",
       "      <th>listed_count</th>\n",
       "      <td>int64</td>\n",
       "      <td>0</td>\n",
       "      <td>441</td>\n",
       "    </tr>\n",
       "    <tr>\n",
       "      <th>statuses_count</th>\n",
       "      <td>int64</td>\n",
       "      <td>0</td>\n",
       "      <td>1037</td>\n",
       "    </tr>\n",
       "    <tr>\n",
       "      <th>description_len</th>\n",
       "      <td>int64</td>\n",
       "      <td>0</td>\n",
       "      <td>167</td>\n",
       "    </tr>\n",
       "    <tr>\n",
       "      <th>sentiment</th>\n",
       "      <td>object</td>\n",
       "      <td>0</td>\n",
       "      <td>2</td>\n",
       "    </tr>\n",
       "    <tr>\n",
       "      <th>similarity</th>\n",
       "      <td>float64</td>\n",
       "      <td>0</td>\n",
       "      <td>1160</td>\n",
       "    </tr>\n",
       "    <tr>\n",
       "      <th>num_mentions</th>\n",
       "      <td>float64</td>\n",
       "      <td>0</td>\n",
       "      <td>737</td>\n",
       "    </tr>\n",
       "    <tr>\n",
       "      <th>num_links</th>\n",
       "      <td>float64</td>\n",
       "      <td>0</td>\n",
       "      <td>601</td>\n",
       "    </tr>\n",
       "    <tr>\n",
       "      <th>retweet</th>\n",
       "      <td>float64</td>\n",
       "      <td>0</td>\n",
       "      <td>527</td>\n",
       "    </tr>\n",
       "    <tr>\n",
       "      <th>num_tweets</th>\n",
       "      <td>int64</td>\n",
       "      <td>0</td>\n",
       "      <td>125</td>\n",
       "    </tr>\n",
       "    <tr>\n",
       "      <th>topic_skew</th>\n",
       "      <td>float64</td>\n",
       "      <td>46</td>\n",
       "      <td>1123</td>\n",
       "    </tr>\n",
       "    <tr>\n",
       "      <th>topic_kurtosis</th>\n",
       "      <td>float64</td>\n",
       "      <td>46</td>\n",
       "      <td>1125</td>\n",
       "    </tr>\n",
       "    <tr>\n",
       "      <th>topic_gini</th>\n",
       "      <td>float64</td>\n",
       "      <td>47</td>\n",
       "      <td>1122</td>\n",
       "    </tr>\n",
       "    <tr>\n",
       "      <th>topic_std</th>\n",
       "      <td>float64</td>\n",
       "      <td>46</td>\n",
       "      <td>1127</td>\n",
       "    </tr>\n",
       "  </tbody>\n",
       "</table>\n",
       "</div>"
      ],
      "text/plain": [
       "                   dtypes  null count  unique count\n",
       "label               int64           0             2\n",
       "nn_signal         float64           0          1172\n",
       "lang_count          int64           0            17\n",
       "tweet_min_len       int64           0            95\n",
       "tweet_max_len       int64           0           274\n",
       "tweet_av_len      float64           0          1159\n",
       "tweet_len_std     float64           0          1161\n",
       "user_name_len       int64           0            46\n",
       "screen_name_len     int64           0            13\n",
       "user_name_chars     int64           0            25\n",
       "protected           int64           0             1\n",
       "verified            int64           0             2\n",
       "has_url             int64           0             2\n",
       "followers_count     int64           0           985\n",
       "friends_count       int64           0           925\n",
       "favourites_count    int64           0           955\n",
       "days_old            int64           0           990\n",
       "listed_count        int64           0           441\n",
       "statuses_count      int64           0          1037\n",
       "description_len     int64           0           167\n",
       "sentiment          object           0             2\n",
       "similarity        float64           0          1160\n",
       "num_mentions      float64           0           737\n",
       "num_links         float64           0           601\n",
       "retweet           float64           0           527\n",
       "num_tweets          int64           0           125\n",
       "topic_skew        float64          46          1123\n",
       "topic_kurtosis    float64          46          1125\n",
       "topic_gini        float64          47          1122\n",
       "topic_std         float64          46          1127"
      ]
     },
     "execution_count": 8,
     "metadata": {},
     "output_type": "execute_result"
    }
   ],
   "source": [
    "print('train_df')\n",
    "display(show_stats(train_df))\n",
    "print('test_df')\n",
    "show_stats(test_df)"
   ]
  },
  {
   "cell_type": "code",
   "execution_count": 9,
   "metadata": {},
   "outputs": [],
   "source": [
    "# all nulls are from tweets with 0 or 1 tweet or users who had no words in the tweets after vectorization we will fill all nulls qith a zero\n",
    "train_df.fillna(0, inplace=True)\n",
    "test_df.fillna(0, inplace=True)"
   ]
  },
  {
   "cell_type": "markdown",
   "metadata": {},
   "source": [
    "#### 2.3 Convert sentament feature to integer values"
   ]
  },
  {
   "cell_type": "code",
   "execution_count": 10,
   "metadata": {},
   "outputs": [],
   "source": [
    "sentement_dict = {\n",
    "    'Positive': 1,\n",
    "    'Negative': 0\n",
    "}\n",
    "\n",
    "train_df['sentiment'] = train_df['sentiment'].apply(lambda x: sentement_dict[x])\n",
    "test_df['sentiment'] = test_df['sentiment'].apply(lambda x: sentement_dict[x])"
   ]
  },
  {
   "cell_type": "markdown",
   "metadata": {},
   "source": [
    "#### 2.4 Separate into X and y"
   ]
  },
  {
   "cell_type": "code",
   "execution_count": 11,
   "metadata": {},
   "outputs": [],
   "source": [
    "X_train = train_df.drop(['label'], axis=1)\n",
    "y_train = train_df['label']\n",
    "\n",
    "X_test = test_df.drop(['label'], axis=1)\n",
    "y_test = test_df['label']"
   ]
  },
  {
   "cell_type": "markdown",
   "metadata": {},
   "source": [
    "#### 2.5 Feature Importance"
   ]
  },
  {
   "cell_type": "code",
   "execution_count": 12,
   "metadata": {},
   "outputs": [
    {
     "data": {
      "image/png": "[encoded data removed]",
      "text/plain": [
       "<Figure size 720x576 with 1 Axes>"
      ]
     },
     "metadata": {
      "needs_background": "light"
     },
     "output_type": "display_data"
    }
   ],
   "source": [
    "plot_feature_importance(X_train, y_train)"
   ]
  },
  {
   "cell_type": "markdown",
   "metadata": {},
   "source": [
    "#### 2.6 Scale with StandardScaler"
   ]
  },
  {
   "cell_type": "code",
   "execution_count": 13,
   "metadata": {},
   "outputs": [],
   "source": [
    "scaler = StandardScaler().fit(X_train)\n",
    "X_train = scaler.transform(X_train)\n",
    "X_test = scaler.transform(X_test)"
   ]
  },
  {
   "cell_type": "markdown",
   "metadata": {},
   "source": [
    "### Section 3 Modeling"
   ]
  },
  {
   "cell_type": "markdown",
   "metadata": {},
   "source": [
    "### 3.1 Initial Baseline Model"
   ]
  },
  {
   "cell_type": "code",
   "execution_count": 14,
   "metadata": {},
   "outputs": [
    {
     "data": {
      "text/plain": [
       "(0.942757589911665, 0.008520851798185482)"
      ]
     },
     "execution_count": 14,
     "metadata": {},
     "output_type": "execute_result"
    }
   ],
   "source": [
    "baseline_model = LogisticRegression()\n",
    "score_model(X_train, y_train, baseline_model, folds=10)"
   ]
  },
  {
   "cell_type": "markdown",
   "metadata": {},
   "source": [
    "#### 3.2 Tuning Multiple Models"
   ]
  },
  {
   "cell_type": "markdown",
   "metadata": {},
   "source": [
    "#### 3.2.1 Linear Models"
   ]
  },
  {
   "cell_type": "markdown",
   "metadata": {},
   "source": [
    "Logistic Regression"
   ]
  },
  {
   "cell_type": "code",
   "execution_count": 15,
   "metadata": {},
   "outputs": [
    {
     "name": "stdout",
     "output_type": "stream",
     "text": [
      "Fitting 10 folds for each of 5 candidates, totalling 50 fits\n",
      "for LogisticRegression\n",
      "Best Score:  0.9429540428651026\n",
      "Best Params:  {'C': 0.1}\n"
     ]
    }
   ],
   "source": [
    "# train / gridsearch Logistic Regression\n",
    "lr_model = LogisticRegression()\n",
    "\n",
    "lr_param_grid = {'C': [.001, .01, .1, 1, 10]}\n",
    "best_lr_params = grid_search(X_train, y_train, lr_model, lr_param_grid)"
   ]
  },
  {
   "cell_type": "code",
   "execution_count": 16,
   "metadata": {},
   "outputs": [],
   "source": [
    "best_lr_model = LogisticRegression(**best_lr_params)"
   ]
  },
  {
   "cell_type": "markdown",
   "metadata": {},
   "source": [
    "SGDClassifier"
   ]
  },
  {
   "cell_type": "code",
   "execution_count": 17,
   "metadata": {},
   "outputs": [],
   "source": [
    "\n",
    "\n",
    "sgd_param_grid = {'l1_ratio': hp.uniform('l1_ratio', 0, 1),\n",
    "                  'learning_rate': hp.choice(\n",
    "                      'learning_rate', [{\n",
    "                          'type': 'optimal',\n",
    "                          'alpha': hp.lognormal('alpha', 0, .5)\n",
    "                      },\n",
    "                      {\n",
    "                          'type': 'invscaling',\n",
    "                          'power_t': hp.normal('power_t', 0, 1)\n",
    "                      }]\n",
    "                  ),\n",
    "                  'eta0': hp.lognormal('eta0', 0, 1)}\n",
    "\n",
    "def sgd_objective(search_space):\n",
    "    # im setting the loss function to 'modified_huber' loss as other losses create a \n",
    "    # logistic regression and linear svm model while others are for regression. \n",
    "    # modified_huber is also robust to outliers\n",
    "    l1_ratio = search_space['l1_ratio']\n",
    "    learning_rate = search_space['learning_rate']['type']\n",
    "    eta0 = search_space['eta0']\n",
    "    if 'alpha' in search_space['learning_rate']:\n",
    "        learning_param = search_space['learning_rate']['alpha']\n",
    "        sgd_model = SGDClassifier(loss='modified_huber', \n",
    "                                  penalty='elasticnet', \n",
    "                                  l1_ratio=l1_ratio,\n",
    "                                  learning_rate=learning_rate,\n",
    "                                  alpha=learning_param,\n",
    "                                  eta0=eta0)\n",
    "    else:\n",
    "        learning_param = search_space['learning_rate']['power_t']\n",
    "        sgd_model = SGDClassifier(loss='modified_huber', \n",
    "                                  penalty='elasticnet', \n",
    "                                  l1_ratio=l1_ratio,\n",
    "                                  learning_rate=learning_rate,\n",
    "                                  power_t=learning_param,\n",
    "                                  eta0=eta0)\n",
    "\n",
    "\n",
    "    score, _ = score_model(X_train, y_train, sgd_model)\n",
    "    return -1 * np.mean(score)"
   ]
  },
  {
   "cell_type": "code",
   "execution_count": 18,
   "metadata": {},
   "outputs": [
    {
     "name": "stdout",
     "output_type": "stream",
     "text": [
      "100%|██████████| 500/500 [02:10<00:00,  3.83trial/s, best loss: -0.9428806881743416]\n"
     ]
    },
    {
     "data": {
      "text/plain": [
       "{'eta0': 0.18831013798653412,\n",
       " 'l1_ratio': 0.0225343475284234,\n",
       " 'learning_rate': 1,\n",
       " 'power_t': 0.7230010110092647}"
      ]
     },
     "execution_count": 18,
     "metadata": {},
     "output_type": "execute_result"
    }
   ],
   "source": [
    "trials = Trials()\n",
    "max_evals = 500\n",
    "sgd_best_params = fmin(fn=sgd_objective, space=sgd_param_grid, algo=tpe.suggest, trials=trials, max_evals=max_evals)\n",
    "sgd_best_params"
   ]
  },
  {
   "cell_type": "code",
   "execution_count": 19,
   "metadata": {},
   "outputs": [],
   "source": [
    "l1_ratio = sgd_best_params['l1_ratio']\n",
    "learning_rate = 'optimal' if sgd_best_params['learning_rate'] == 0 else 'invscaling'\n",
    "eta0 = sgd_best_params['eta0']\n",
    "\n",
    "if learning_rate == 'optimal':\n",
    "    alpha = sgd_best_params['alpha']\n",
    "    best_sgd_model = SGDClassifier(loss='modified_huber', \n",
    "                                penalty='elasticnet', \n",
    "                                learning_rate=learning_rate, \n",
    "                                l1_ratio=l1_ratio, \n",
    "                                eta0=eta0,\n",
    "                                alpha=alpha)\n",
    "else:\n",
    "    power_t = sgd_best_params['power_t']\n",
    "    best_sgd_model = SGDClassifier(loss='modified_huber', \n",
    "                                penalty='elasticnet', \n",
    "                                learning_rate=learning_rate, \n",
    "                                l1_ratio=l1_ratio, \n",
    "                                eta0=eta0,\n",
    "                                power_t=power_t)"
   ]
  },
  {
   "cell_type": "markdown",
   "metadata": {},
   "source": [
    "#### 3.2.2 Tree Based Models"
   ]
  },
  {
   "cell_type": "markdown",
   "metadata": {},
   "source": [
    "LightGBM"
   ]
  },
  {
   "cell_type": "code",
   "execution_count": 20,
   "metadata": {},
   "outputs": [],
   "source": [
    "\n",
    "\n",
    "lgbm_param_grid = {'reg_alpha': hp.lognormal('reg_alpha', 0, .5),\n",
    "                   'reg_lambda': hp.lognormal('reg_lambda', 0, .5),\n",
    "                   'subsample': hp.uniform('subsample', 0, 1),\n",
    "                   'num_leaves': hp.quniform('num_leaves', 10, 100, 1),\n",
    "                   'max_depth': hp.quniform('max_depth', 1, 10, 1),\n",
    "                   'n_estimators': hp.quniform('n_estimators', 50, 100, 1),\n",
    "                   'learning_rate': hp.loguniform('learning_rate', -3, 0)}\n",
    "\n",
    "def lgbm_objective(search_space):\n",
    "    reg_alpha = search_space['reg_alpha']\n",
    "    reg_lambda = search_space['reg_lambda']\n",
    "    subsample = search_space['subsample']\n",
    "    num_leaves = search_space['num_leaves']\n",
    "    max_depth = search_space['max_depth']\n",
    "    n_estimators = search_space['n_estimators']\n",
    "    learning_rate = search_space['learning_rate']\n",
    "    \n",
    "    lgbm_model = LGBMClassifier(reg_alpha=reg_alpha,\n",
    "                                reg_lambda=reg_lambda,\n",
    "                                subsample=subsample,\n",
    "                                num_leaves=int(num_leaves),\n",
    "                                max_depth=int(max_depth),\n",
    "                                n_estimators=int(n_estimators),\n",
    "                                learning_rate=learning_rate)\n",
    "\n",
    "    score, _ = score_model(X_train, y_train, lgbm_model)\n",
    "    return -1 * np.mean(score)"
   ]
  },
  {
   "cell_type": "code",
   "execution_count": 21,
   "metadata": {},
   "outputs": [
    {
     "name": "stdout",
     "output_type": "stream",
     "text": [
      "100%|██████████| 500/500 [07:27<00:00,  1.12trial/s, best loss: -0.9442521647474152]\n"
     ]
    },
    {
     "data": {
      "text/plain": [
       "{'learning_rate': 0.10624230907735359,\n",
       " 'max_depth': 8.0,\n",
       " 'n_estimators': 74.0,\n",
       " 'num_leaves': 10.0,\n",
       " 'reg_alpha': 1.3912479124236743,\n",
       " 'reg_lambda': 0.15718030705801095,\n",
       " 'subsample': 0.049584130036664925}"
      ]
     },
     "execution_count": 21,
     "metadata": {},
     "output_type": "execute_result"
    }
   ],
   "source": [
    "trials = Trials()\n",
    "max_evals = 500\n",
    "lgbm_best_params = fmin(fn=lgbm_objective, space=lgbm_param_grid, algo=tpe.suggest, trials=trials, max_evals=max_evals)\n",
    "lgbm_best_params"
   ]
  },
  {
   "cell_type": "code",
   "execution_count": 22,
   "metadata": {},
   "outputs": [],
   "source": [
    "\n",
    "reg_alpha = lgbm_best_params['reg_alpha']\n",
    "reg_lambda = lgbm_best_params['reg_lambda']\n",
    "subsample = lgbm_best_params['subsample']\n",
    "num_leaves = lgbm_best_params['num_leaves']\n",
    "max_depth = lgbm_best_params['max_depth']\n",
    "n_estimators = lgbm_best_params['n_estimators']\n",
    "learning_rate = lgbm_best_params['learning_rate']\n",
    "\n",
    "best_lgbm_model = LGBMClassifier(reg_alpha=reg_alpha,\n",
    "                                reg_lambda=reg_lambda,\n",
    "                                subsample=subsample,\n",
    "                                num_leaves=int(num_leaves),\n",
    "                                max_depth=int(max_depth),\n",
    "                                n_estimators=int(n_estimators),\n",
    "                                learning_rate=learning_rate)"
   ]
  },
  {
   "cell_type": "markdown",
   "metadata": {},
   "source": [
    "Random Forest"
   ]
  },
  {
   "cell_type": "code",
   "execution_count": 23,
   "metadata": {},
   "outputs": [],
   "source": [
    "\n",
    "rf_param_grid = {'n_estimators': hp.quniform('n_estimators', 100, 500, 1),\n",
    "                 'max_depth': hp.quniform('max_depth', 2, 20, 1),\n",
    "                 'max_features': hp.choice('max_features', ['auto', 'sqrt']),\n",
    "                 'min_samples_split': hp.quniform('min_samples_split', 2, 5, 1),\n",
    "                 'min_samples_leaf': hp.quniform('min_samples_leaf', 1, 5, 1)}\n",
    "\n",
    "def rf_objective(search_space):\n",
    "    n_estimators = search_space['n_estimators']\n",
    "    max_depth = search_space['max_depth']\n",
    "    max_features = search_space['max_features']\n",
    "    min_samples_split = search_space['min_samples_split']\n",
    "    min_samples_leaf = search_space['min_samples_leaf']\n",
    "\n",
    "    rf_model = RandomForestClassifier(n_estimators=int(n_estimators),\n",
    "                                      max_depth=int(max_depth),\n",
    "                                      max_features=max_features,\n",
    "                                      min_samples_split=int(min_samples_split),\n",
    "                                      min_samples_leaf=int(min_samples_leaf))\n",
    "\n",
    "    score, _ = score_model(X_train, y_train, rf_model)\n",
    "    return -1 * np.mean(score)"
   ]
  },
  {
   "cell_type": "code",
   "execution_count": 24,
   "metadata": {},
   "outputs": [
    {
     "name": "stdout",
     "output_type": "stream",
     "text": [
      "100%|██████████| 200/200 [30:10<00:00,  9.05s/trial, best loss: -0.9417933972561419]\n"
     ]
    },
    {
     "data": {
      "text/plain": [
       "{'max_depth': 13.0,\n",
       " 'max_features': 0,\n",
       " 'min_samples_leaf': 4.0,\n",
       " 'min_samples_split': 2.0,\n",
       " 'n_estimators': 486.0}"
      ]
     },
     "execution_count": 24,
     "metadata": {},
     "output_type": "execute_result"
    }
   ],
   "source": [
    "trials = Trials()\n",
    "max_evals = 200\n",
    "rf_best_params = fmin(fn=rf_objective, space=rf_param_grid, algo=tpe.suggest, trials=trials, max_evals=max_evals)\n",
    "rf_best_params"
   ]
  },
  {
   "cell_type": "code",
   "execution_count": 25,
   "metadata": {},
   "outputs": [],
   "source": [
    "n_estimators = rf_best_params['n_estimators']\n",
    "max_depth = rf_best_params['max_depth']\n",
    "max_features = rf_best_params['max_features']\n",
    "min_samples_split = rf_best_params['min_samples_split']\n",
    "min_samples_leaf = rf_best_params['min_samples_leaf']\n",
    "\n",
    "best_rf_model = RandomForestClassifier(n_estimators=int(n_estimators),\n",
    "                                       max_depth=int(max_depth),\n",
    "                                       max_features= 'auto' if max_features == 0 else 'sqrt',\n",
    "                                       min_samples_split=int(min_samples_split),\n",
    "                                       min_samples_leaf=int(min_samples_leaf))"
   ]
  },
  {
   "cell_type": "markdown",
   "metadata": {},
   "source": [
    "Adaboost"
   ]
  },
  {
   "cell_type": "code",
   "execution_count": 26,
   "metadata": {},
   "outputs": [],
   "source": [
    "\n",
    "ada_param_grid = {'n_estimators': hp.quniform('n_estimators', 50, 200, 1),\n",
    "                  'max_depth': hp.quniform('max_depth', 1, 3, 1),\n",
    "                  'min_samples_split': hp.quniform('min_samples_split', 2, 10, 1),\n",
    "                  'learning_rate': hp.lognormal('learning_rate', 0, 1)}\n",
    "\n",
    "def ada_objective(search_space):\n",
    "    n_estimators = search_space['n_estimators']\n",
    "    max_depth = search_space['max_depth']\n",
    "    min_samples_split = search_space['min_samples_split']\n",
    "    learning_rate = search_space['learning_rate']\n",
    "\n",
    "    ada_model = AdaBoostClassifier(n_estimators=int(n_estimators),\n",
    "                                   learning_rate=learning_rate,\n",
    "                                   base_estimator=DecisionTreeClassifier(max_depth=int(max_depth),\n",
    "                                                                         min_samples_split=int(min_samples_split)))\n",
    "\n",
    "    score, _ = score_model(X_train, y_train, ada_model)\n",
    "    return -1 * np.mean(score)"
   ]
  },
  {
   "cell_type": "code",
   "execution_count": 27,
   "metadata": {},
   "outputs": [
    {
     "name": "stdout",
     "output_type": "stream",
     "text": [
      "100%|██████████| 200/200 [25:49<00:00,  7.75s/trial, best loss: -0.9446945881538232]\n"
     ]
    },
    {
     "data": {
      "text/plain": [
       "{'learning_rate': 0.03433636587315747,\n",
       " 'max_depth': 2.0,\n",
       " 'min_samples_split': 9.0,\n",
       " 'n_estimators': 196.0}"
      ]
     },
     "execution_count": 27,
     "metadata": {},
     "output_type": "execute_result"
    }
   ],
   "source": [
    "trials = Trials()\n",
    "max_evals = 200\n",
    "ada_best_params = fmin(fn=ada_objective, space=ada_param_grid, algo=tpe.suggest, trials=trials, max_evals=max_evals)\n",
    "ada_best_params"
   ]
  },
  {
   "cell_type": "code",
   "execution_count": 28,
   "metadata": {},
   "outputs": [],
   "source": [
    "n_estimators = ada_best_params['n_estimators']\n",
    "max_depth = ada_best_params['max_depth']\n",
    "min_samples_split = ada_best_params['min_samples_split']\n",
    "learning_rate = ada_best_params['learning_rate']\n",
    "\n",
    "best_ada_model = AdaBoostClassifier(n_estimators=int(n_estimators),\n",
    "                                    learning_rate=learning_rate,\n",
    "                                    base_estimator=DecisionTreeClassifier(max_depth=int(max_depth),\n",
    "                                                                          min_samples_split=int(min_samples_split)))"
   ]
  },
  {
   "cell_type": "markdown",
   "metadata": {},
   "source": [
    "#### 3.2.3 Support Vector Machine"
   ]
  },
  {
   "cell_type": "markdown",
   "metadata": {},
   "source": [
    "SVC"
   ]
  },
  {
   "cell_type": "code",
   "execution_count": 29,
   "metadata": {},
   "outputs": [],
   "source": [
    "\n",
    "\n",
    "svc_param_grid = {'C': hp.loguniform('C', -5, 4),\n",
    "                  'kernal': hp.choice('kernal', [{\n",
    "                      'type': 'linear'\n",
    "                  },\n",
    "                  {\n",
    "                      'type': 'rbf',\n",
    "                      'gamma': hp.loguniform('gamma', -9, 3)\n",
    "                  }])}\n",
    "\n",
    "def svc_objective(search_space):\n",
    "    C = search_space['C']\n",
    "    kernal = search_space['kernal']['type']\n",
    "    if kernal == 'rbf':\n",
    "        gamma = search_space['kernal']['gamma']\n",
    "        svc_model = SVC(C=C,\n",
    "                        kernel=kernal,\n",
    "                        gamma=gamma,\n",
    "                        probability=True)\n",
    "    else:\n",
    "        svc_model = SVC(C=C,\n",
    "                        kernel=kernal,\n",
    "                        probability=True)\n",
    "\n",
    "    score, _ = score_model(X_train, y_train, svc_model)\n",
    "    return -1 * np.mean(score)"
   ]
  },
  {
   "cell_type": "code",
   "execution_count": 30,
   "metadata": {},
   "outputs": [
    {
     "name": "stdout",
     "output_type": "stream",
     "text": [
      "100%|██████████| 100/100 [52:52<00:00, 31.73s/trial, best loss: -0.942191365105781]  \n"
     ]
    },
    {
     "data": {
      "text/plain": [
       "{'C': 0.2969529403683625, 'kernal': 0}"
      ]
     },
     "execution_count": 30,
     "metadata": {},
     "output_type": "execute_result"
    }
   ],
   "source": [
    "trials = Trials()\n",
    "max_evals = 100\n",
    "svc_best_params = fmin(fn=svc_objective, space=svc_param_grid, algo=tpe.suggest, trials=trials, max_evals=max_evals)\n",
    "svc_best_params"
   ]
  },
  {
   "cell_type": "code",
   "execution_count": 33,
   "metadata": {},
   "outputs": [],
   "source": [
    "C = svc_best_params['C']\n",
    "kernel = 'linear' if svc_best_params['kernal'] == 0 else 'rbf'\n",
    "if kernel == 'rbf':\n",
    "    gamma = svc_best_params['gamma']\n",
    "    best_svc_model = SVC(C=C,\n",
    "                         kernel=kernel,\n",
    "                         gamma=gamma,\n",
    "                         probability=True)\n",
    "else:\n",
    "    best_svc_model = SVC(C=C,\n",
    "                         kernel=kernel,\n",
    "                         probability=True)"
   ]
  },
  {
   "cell_type": "markdown",
   "metadata": {},
   "source": [
    "#### 3.3 Model Ensembling"
   ]
  },
  {
   "cell_type": "markdown",
   "metadata": {},
   "source": [
    "#### 3.3.1 Voting Classifier"
   ]
  },
  {
   "cell_type": "code",
   "execution_count": 34,
   "metadata": {},
   "outputs": [],
   "source": [
    "vote_classifier = VotingClassifier(estimators=[('LogisticRegression', best_lr_model), \n",
    "                                               ('SGDClassifier', best_sgd_model), \n",
    "                                               ('LGBMClassifier', best_lgbm_model), \n",
    "                                               ('RandomForestClassifier', best_rf_model), \n",
    "                                               ('AdaBoostClassifier', best_ada_model), \n",
    "                                               ('SVC', best_svc_model)],\n",
    "                                   voting='soft')"
   ]
  },
  {
   "cell_type": "code",
   "execution_count": 35,
   "metadata": {},
   "outputs": [
    {
     "name": "stdout",
     "output_type": "stream",
     "text": [
      "mean roc_auc score:  0.9448402027974279  std:  0.003942056082434834\n"
     ]
    }
   ],
   "source": [
    "mean, std = score_model(X_train, y_train, vote_classifier, folds=5)\n",
    "print('mean roc_auc score: ', mean, ' std: ', std)"
   ]
  },
  {
   "cell_type": "markdown",
   "metadata": {},
   "source": [
    "#### 3.3.2 Stacking Classifier"
   ]
  },
  {
   "cell_type": "code",
   "execution_count": 36,
   "metadata": {},
   "outputs": [],
   "source": [
    "stack_classifier = StackingClassifier(estimators=[('LogisticRegression', best_lr_model), \n",
    "                                                  ('SGDClassifier', best_sgd_model), \n",
    "                                                  ('LGBMClassifier', best_lgbm_model), \n",
    "                                                  ('RandomForestClassifier', best_rf_model), \n",
    "                                                  ('AdaBoostClassifier', best_ada_model), \n",
    "                                                  ('SVC', best_svc_model)],\n",
    "                                      final_estimator=LogisticRegression())"
   ]
  },
  {
   "cell_type": "code",
   "execution_count": 37,
   "metadata": {},
   "outputs": [
    {
     "name": "stdout",
     "output_type": "stream",
     "text": [
      "mean roc_auc score:  0.94528882086074  std:  0.0039799592526809455\n"
     ]
    }
   ],
   "source": [
    "mean, std = score_model(X_train, y_train, stack_classifier, folds=5)\n",
    "print('mean roc_auc score: ', mean, ' std: ', std)"
   ]
  },
  {
   "cell_type": "markdown",
   "metadata": {},
   "source": [
    "### Section 4 Results and Analysis"
   ]
  },
  {
   "cell_type": "markdown",
   "metadata": {},
   "source": [
    "#### 4.1 Model testing function"
   ]
  },
  {
   "cell_type": "code",
   "execution_count": 38,
   "metadata": {},
   "outputs": [],
   "source": [
    "def test_model(X_train, y_train, X_test, y_test, model):\n",
    "    mod = clone(model)\n",
    "    mod.fit(X_train, y_train)\n",
    "    y_probs = mod.predict_proba(X_test)\n",
    "    y_preds = mod.predict(X_test)\n",
    "    results = pd.Series(index=['roc_auc', 'accuracy', 'precision', 'recall', 'f1'], dtype='float64')\n",
    "    results.loc['roc_auc'] = roc_auc_score(y_test, y_probs[:, 1])\n",
    "    results.loc['accuracy'] = accuracy_score(y_test, y_preds)\n",
    "    results.loc['precision'] = precision_score(y_test, y_preds)\n",
    "    results.loc['recall'] = recall_score(y_test, y_preds)\n",
    "    results.loc['f1'] = f1_score(y_test, y_preds, average='macro')\n",
    "\n",
    "    conf_matrix = confusion_matrix(y_test, y_preds)\n",
    "\n",
    "    print('Metrics:')\n",
    "    display(results)\n",
    "\n",
    "    print('\\nConfusion Matrix:\\n')\n",
    "    print('                  Predicted Positive   Predicted Negative')\n",
    "    print('Actual Positive |        {tp:>3}        |        {fn:>3}        |'.format(tp=conf_matrix[0, 0], fn=conf_matrix[0, 1]))\n",
    "    print('Actual Negative |        {fp:>3}        |        {tn:>3}        |'.format(fp=conf_matrix[1, 0], tn=conf_matrix[1, 1]))\n",
    "    print()\n",
    "\n",
    "    fig, ax = plt.subplots(1, 2, figsize=(12, 5))\n",
    "    print('\\nRoc Auc curve:')\n",
    "    fpr, tpr, _ = roc_curve(y_test, y_probs[:, 1])\n",
    "    sns.lineplot(x=fpr, y=tpr, ax=ax[0], label=f'Roc Auc score={auc(fpr, tpr)}')\n",
    "    ax[0].plot([0, 1],[0, 1], linestyle='--')\n",
    "    ax[0].set_xlabel('False Positive Rate')\n",
    "    ax[0].set_ylabel('True Positive Rate')\n",
    "    ax[0].set_title('Receiver Operating Characteristic')\n",
    "\n",
    "    pre, rec, _ = precision_recall_curve(y_test, y_probs[:, 1])\n",
    "    sns.lineplot(x=rec, y=pre, ax=ax[1])\n",
    "    ax[1].set_xlabel('Recall')\n",
    "    ax[1].set_ylabel('Precision')\n",
    "    ax[1].set_title('Precision Recall Curve')\n",
    "\n",
    "    plt.tight_layout()\n",
    "    plt.show()"
   ]
  },
  {
   "cell_type": "markdown",
   "metadata": {},
   "source": [
    "#### 4.2 Model comparison on test set"
   ]
  },
  {
   "cell_type": "markdown",
   "metadata": {},
   "source": [
    "#### 4.2.1 Basic Logistic Regression"
   ]
  },
  {
   "cell_type": "code",
   "execution_count": 39,
   "metadata": {},
   "outputs": [
    {
     "name": "stdout",
     "output_type": "stream",
     "text": [
      "Metrics:\n"
     ]
    },
    {
     "data": {
      "text/plain": [
       "roc_auc      0.918991\n",
       "accuracy     0.856293\n",
       "precision    0.843840\n",
       "recall       0.907550\n",
       "f1           0.853188\n",
       "dtype: float64"
      ]
     },
     "metadata": {},
     "output_type": "display_data"
    },
    {
     "name": "stdout",
     "output_type": "stream",
     "text": [
      "\n",
      "Confusion Matrix:\n",
      "\n",
      "                  Predicted Positive   Predicted Negative\n",
      "Actual Positive |        418        |        109        |\n",
      "Actual Negative |         60        |        589        |\n",
      "\n",
      "\n",
      "Roc Auc curve:\n"
     ]
    },
    {
     "data": {
      "image/png": "[encoded data removed]",
      "text/plain": [
       "<Figure size 864x360 with 2 Axes>"
      ]
     },
     "metadata": {
      "needs_background": "light"
     },
     "output_type": "display_data"
    }
   ],
   "source": [
    "test_model(X_train, y_train, X_test, y_test, LogisticRegression())"
   ]
  },
  {
   "cell_type": "markdown",
   "metadata": {},
   "source": [
    "#### 4.2.2 Voting Classifier"
   ]
  },
  {
   "cell_type": "code",
   "execution_count": 40,
   "metadata": {},
   "outputs": [
    {
     "name": "stdout",
     "output_type": "stream",
     "text": [
      "Metrics:\n"
     ]
    },
    {
     "data": {
      "text/plain": [
       "roc_auc      0.922590\n",
       "accuracy     0.857143\n",
       "precision    0.844063\n",
       "recall       0.909091\n",
       "f1           0.854020\n",
       "dtype: float64"
      ]
     },
     "metadata": {},
     "output_type": "display_data"
    },
    {
     "name": "stdout",
     "output_type": "stream",
     "text": [
      "\n",
      "Confusion Matrix:\n",
      "\n",
      "                  Predicted Positive   Predicted Negative\n",
      "Actual Positive |        418        |        109        |\n",
      "Actual Negative |         59        |        590        |\n",
      "\n",
      "\n",
      "Roc Auc curve:\n"
     ]
    },
    {
     "data": {
      "image/png": "[encoded data removed]",
      "text/plain": [
       "<Figure size 864x360 with 2 Axes>"
      ]
     },
     "metadata": {
      "needs_background": "light"
     },
     "output_type": "display_data"
    }
   ],
   "source": [
    "test_model(X_train, y_train, X_test, y_test, vote_classifier)"
   ]
  },
  {
   "cell_type": "markdown",
   "metadata": {},
   "source": [
    "#### 4.2.3 Stacking Classifier"
   ]
  },
  {
   "cell_type": "code",
   "execution_count": 41,
   "metadata": {},
   "outputs": [
    {
     "name": "stdout",
     "output_type": "stream",
     "text": [
      "Metrics:\n"
     ]
    },
    {
     "data": {
      "text/plain": [
       "roc_auc      0.923868\n",
       "accuracy     0.857143\n",
       "precision    0.846043\n",
       "recall       0.906009\n",
       "f1           0.854167\n",
       "dtype: float64"
      ]
     },
     "metadata": {},
     "output_type": "display_data"
    },
    {
     "name": "stdout",
     "output_type": "stream",
     "text": [
      "\n",
      "Confusion Matrix:\n",
      "\n",
      "                  Predicted Positive   Predicted Negative\n",
      "Actual Positive |        420        |        107        |\n",
      "Actual Negative |         61        |        588        |\n",
      "\n",
      "\n",
      "Roc Auc curve:\n"
     ]
    },
    {
     "data": {
      "image/png": "[encoded data removed]",
      "text/plain": [
       "<Figure size 864x360 with 2 Axes>"
      ]
     },
     "metadata": {
      "needs_background": "light"
     },
     "output_type": "display_data"
    }
   ],
   "source": [
    "test_model(X_train, y_train, X_test, y_test, stack_classifier)"
   ]
  },
  {
   "cell_type": "code",
   "execution_count": null,
   "metadata": {},
   "outputs": [],
   "source": []
  }
 ],
 "metadata": {
  "interpreter": {
   "hash": "58122c4832fdacea577bb4b8c1ab9178e3432673b93bc4408ac4b70d2ef80f32"
  },
  "kernelspec": {
   "display_name": "Python 3.9.7 ('ML_w_tf_env')",
   "language": "python",
   "name": "python3"
  },
  "language_info": {
   "codemirror_mode": {
    "name": "ipython",
    "version": 3
   },
   "file_extension": ".py",
   "mimetype": "text/x-python",
   "name": "python",
   "nbconvert_exporter": "python",
   "pygments_lexer": "ipython3",
   "version": "3.9.7"
  },
  "orig_nbformat": 4
 },
 "nbformat": 4,
 "nbformat_minor": 2
}
