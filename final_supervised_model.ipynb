{
 "cells": [
  {
   "cell_type": "code",
   "execution_count": 1,
   "metadata": {},
   "outputs": [],
   "source": [
    "import numpy as np\n",
    "import pandas as pd\n",
    "pd.set_option('display.max_columns', None)\n",
    "\n",
    "from lightgbm import LGBMClassifier\n",
    "from sklearn.linear_model import LogisticRegression, SGDClassifier\n",
    "from sklearn.ensemble import RandomForestClassifier, AdaBoostClassifier, StackingClassifier, VotingClassifier\n",
    "from sklearn.tree import DecisionTreeClassifier\n",
    "from sklearn.svm import SVC\n",
    "\n",
    "from sklearn.model_selection import GridSearchCV, cross_val_score\n",
    "from sklearn.preprocessing import StandardScaler\n",
    "\n",
    "from sklearn.base import clone\n",
    "\n",
    "from sklearn.metrics import (\n",
    "    roc_auc_score, \n",
    "    precision_score, \n",
    "    recall_score, \n",
    "    f1_score, \n",
    "    accuracy_score, \n",
    "    roc_curve, \n",
    "    precision_recall_curve,\n",
    "    confusion_matrix,\n",
    "    auc)\n",
    "\n",
    "from hyperopt import hp, fmin, tpe, Trials\n",
    "\n",
    "import matplotlib.pyplot as plt\n",
    "import seaborn as sns\n",
    "from IPython.display import display"
   ]
  },
  {
   "cell_type": "markdown",
   "metadata": {},
   "source": [
    "Helper Functions"
   ]
  },
  {
   "cell_type": "code",
   "execution_count": 2,
   "metadata": {},
   "outputs": [],
   "source": [
    "def show_stats(df):\n",
    "    dtypes = df.dtypes\n",
    "    nulls = df.isnull().sum()\n",
    "    unique_count = df.apply(lambda x: x.nunique())\n",
    "    columns = ['dtypes', 'null count', 'unique count']\n",
    "    df_ = pd.concat([dtypes, nulls, unique_count], axis=1)\n",
    "    df_.columns = columns\n",
    "    return df_"
   ]
  },
  {
   "cell_type": "code",
   "execution_count": 3,
   "metadata": {},
   "outputs": [],
   "source": [
    "def score_model(X_train, y_train, model, folds=3, scoring='roc_auc'):\n",
    "\n",
    "    scores = cross_val_score(model, X_train, y_train, cv=folds, scoring=scoring, n_jobs=4, error_score='raise')\n",
    "    return np.mean(scores), np.std(scores)"
   ]
  },
  {
   "cell_type": "code",
   "execution_count": 4,
   "metadata": {},
   "outputs": [],
   "source": [
    "# returns a fitted estimator. for use with models with few parameters\n",
    "def grid_search(X_train, y_train, model, param_grid, folds=10, scoring='roc_auc'):\n",
    "    grid_mod = GridSearchCV(estimator=model, \n",
    "                            param_grid=param_grid, \n",
    "                            scoring=scoring, \n",
    "                            n_jobs=4, \n",
    "                            cv=folds,\n",
    "                            verbose=1,\n",
    "                            refit=False)\n",
    "    \n",
    "    grid_mod.fit(X_train, y_train)\n",
    "\n",
    "    print(f'for {model.__class__.__name__}')\n",
    "    print('Best Score: ', grid_mod.best_score_)\n",
    "    print('Best Params: ', grid_mod.best_params_)\n",
    "    return grid_mod.best_params_"
   ]
  },
  {
   "cell_type": "markdown",
   "metadata": {},
   "source": [
    "Load The Data and prep"
   ]
  },
  {
   "cell_type": "code",
   "execution_count": 6,
   "metadata": {},
   "outputs": [
    {
     "name": "stdout",
     "output_type": "stream",
     "text": [
      "Train shape:  (9395, 30)\n",
      "Test shape:  (1176, 30)\n",
      "Index(['profile', 'tweet', 'neighbor', 'domain', 'label', 'nn_signal',\n",
      "       'lang_count', 'tweet_min_len', 'tweet_max_len', 'tweet_av_len',\n",
      "       'tweet_len_std', 'user_name_len', 'screen_name_len', 'user_name_chars',\n",
      "       'protected', 'verified', 'has_url', 'followers_count', 'friends_count',\n",
      "       'favourites_count', 'days_old', 'listed_count', 'statuses_count',\n",
      "       'description_len', 'sentiment', 'similarity', 'num_mentions',\n",
      "       'num_links', 'retweet', 'num_tweets'],\n",
      "      dtype='object')\n"
     ]
    },
    {
     "data": {
      "text/html": [
       "<div>\n",
       "<style scoped>\n",
       "    .dataframe tbody tr th:only-of-type {\n",
       "        vertical-align: middle;\n",
       "    }\n",
       "\n",
       "    .dataframe tbody tr th {\n",
       "        vertical-align: top;\n",
       "    }\n",
       "\n",
       "    .dataframe thead th {\n",
       "        text-align: right;\n",
       "    }\n",
       "</style>\n",
       "<table border=\"1\" class=\"dataframe\">\n",
       "  <thead>\n",
       "    <tr style=\"text-align: right;\">\n",
       "      <th></th>\n",
       "      <th>profile</th>\n",
       "      <th>tweet</th>\n",
       "      <th>neighbor</th>\n",
       "      <th>domain</th>\n",
       "      <th>label</th>\n",
       "      <th>nn_signal</th>\n",
       "      <th>lang_count</th>\n",
       "      <th>tweet_min_len</th>\n",
       "      <th>tweet_max_len</th>\n",
       "      <th>tweet_av_len</th>\n",
       "      <th>tweet_len_std</th>\n",
       "      <th>user_name_len</th>\n",
       "      <th>screen_name_len</th>\n",
       "      <th>user_name_chars</th>\n",
       "      <th>protected</th>\n",
       "      <th>verified</th>\n",
       "      <th>has_url</th>\n",
       "      <th>followers_count</th>\n",
       "      <th>friends_count</th>\n",
       "      <th>favourites_count</th>\n",
       "      <th>days_old</th>\n",
       "      <th>listed_count</th>\n",
       "      <th>statuses_count</th>\n",
       "      <th>description_len</th>\n",
       "      <th>sentiment</th>\n",
       "      <th>similarity</th>\n",
       "      <th>num_mentions</th>\n",
       "      <th>num_links</th>\n",
       "      <th>retweet</th>\n",
       "      <th>num_tweets</th>\n",
       "    </tr>\n",
       "    <tr>\n",
       "      <th>ID</th>\n",
       "      <th></th>\n",
       "      <th></th>\n",
       "      <th></th>\n",
       "      <th></th>\n",
       "      <th></th>\n",
       "      <th></th>\n",
       "      <th></th>\n",
       "      <th></th>\n",
       "      <th></th>\n",
       "      <th></th>\n",
       "      <th></th>\n",
       "      <th></th>\n",
       "      <th></th>\n",
       "      <th></th>\n",
       "      <th></th>\n",
       "      <th></th>\n",
       "      <th></th>\n",
       "      <th></th>\n",
       "      <th></th>\n",
       "      <th></th>\n",
       "      <th></th>\n",
       "      <th></th>\n",
       "      <th></th>\n",
       "      <th></th>\n",
       "      <th></th>\n",
       "      <th></th>\n",
       "      <th></th>\n",
       "      <th></th>\n",
       "      <th></th>\n",
       "      <th></th>\n",
       "    </tr>\n",
       "  </thead>\n",
       "  <tbody>\n",
       "    <tr>\n",
       "      <th>48107626</th>\n",
       "      <td>{'id': '48107626 ', 'id_str': '48107626 ', 'na...</td>\n",
       "      <td>['RT @WarTimeGirl: This is America.  https://t...</td>\n",
       "      <td>{'following': ['64486260', '4514671634', '1582...</td>\n",
       "      <td>['Politics']</td>\n",
       "      <td>0</td>\n",
       "      <td>0.334306</td>\n",
       "      <td>2</td>\n",
       "      <td>16</td>\n",
       "      <td>301</td>\n",
       "      <td>132.520000</td>\n",
       "      <td>87.225166</td>\n",
       "      <td>17</td>\n",
       "      <td>16</td>\n",
       "      <td>12</td>\n",
       "      <td>0</td>\n",
       "      <td>0</td>\n",
       "      <td>1</td>\n",
       "      <td>901</td>\n",
       "      <td>548</td>\n",
       "      <td>6069</td>\n",
       "      <td>4700</td>\n",
       "      <td>70</td>\n",
       "      <td>7639</td>\n",
       "      <td>154</td>\n",
       "      <td>Positive</td>\n",
       "      <td>0.639310</td>\n",
       "      <td>170.0</td>\n",
       "      <td>1.0</td>\n",
       "      <td>0.0</td>\n",
       "      <td>1</td>\n",
       "    </tr>\n",
       "    <tr>\n",
       "      <th>580829979</th>\n",
       "      <td>{'id': '580829979 ', 'id_str': '580829979 ', '...</td>\n",
       "      <td>['RT @honigstein: Devastating impact by Alexis...</td>\n",
       "      <td>{'following': ['914546558', '18481050', '21595...</td>\n",
       "      <td>['Sports']</td>\n",
       "      <td>1</td>\n",
       "      <td>0.811788</td>\n",
       "      <td>1</td>\n",
       "      <td>27</td>\n",
       "      <td>141</td>\n",
       "      <td>120.560000</td>\n",
       "      <td>28.209155</td>\n",
       "      <td>18</td>\n",
       "      <td>13</td>\n",
       "      <td>13</td>\n",
       "      <td>0</td>\n",
       "      <td>0</td>\n",
       "      <td>0</td>\n",
       "      <td>303</td>\n",
       "      <td>147</td>\n",
       "      <td>0</td>\n",
       "      <td>3637</td>\n",
       "      <td>12</td>\n",
       "      <td>770</td>\n",
       "      <td>159</td>\n",
       "      <td>Positive</td>\n",
       "      <td>0.772988</td>\n",
       "      <td>32.0</td>\n",
       "      <td>1.0</td>\n",
       "      <td>0.0</td>\n",
       "      <td>1</td>\n",
       "    </tr>\n",
       "    <tr>\n",
       "      <th>172466166</th>\n",
       "      <td>{'id': '172466166 ', 'id_str': '172466166 ', '...</td>\n",
       "      <td>['RT @jemelehill: The NBA season is going to b...</td>\n",
       "      <td>{'following': ['23483324', '164354823', '87044...</td>\n",
       "      <td>['Politics']</td>\n",
       "      <td>1</td>\n",
       "      <td>0.488446</td>\n",
       "      <td>1</td>\n",
       "      <td>9</td>\n",
       "      <td>302</td>\n",
       "      <td>121.436548</td>\n",
       "      <td>67.139617</td>\n",
       "      <td>5</td>\n",
       "      <td>13</td>\n",
       "      <td>5</td>\n",
       "      <td>0</td>\n",
       "      <td>0</td>\n",
       "      <td>0</td>\n",
       "      <td>437</td>\n",
       "      <td>2358</td>\n",
       "      <td>52395</td>\n",
       "      <td>4293</td>\n",
       "      <td>6</td>\n",
       "      <td>12940</td>\n",
       "      <td>91</td>\n",
       "      <td>Positive</td>\n",
       "      <td>0.728017</td>\n",
       "      <td>159.0</td>\n",
       "      <td>1.0</td>\n",
       "      <td>0.0</td>\n",
       "      <td>1</td>\n",
       "    </tr>\n",
       "    <tr>\n",
       "      <th>2560180003</th>\n",
       "      <td>{'id': '2560180003 ', 'id_str': '2560180003 ',...</td>\n",
       "      <td>[\"@SenBobCorker You've got jack shit corrupt R...</td>\n",
       "      <td>{'following': ['114557610', '2771678740', '271...</td>\n",
       "      <td>['Sports']</td>\n",
       "      <td>1</td>\n",
       "      <td>0.953401</td>\n",
       "      <td>1</td>\n",
       "      <td>24</td>\n",
       "      <td>309</td>\n",
       "      <td>127.940789</td>\n",
       "      <td>54.222281</td>\n",
       "      <td>9</td>\n",
       "      <td>14</td>\n",
       "      <td>7</td>\n",
       "      <td>0</td>\n",
       "      <td>0</td>\n",
       "      <td>0</td>\n",
       "      <td>2021</td>\n",
       "      <td>4057</td>\n",
       "      <td>865</td>\n",
       "      <td>2880</td>\n",
       "      <td>1</td>\n",
       "      <td>3060</td>\n",
       "      <td>32</td>\n",
       "      <td>Negative</td>\n",
       "      <td>0.761517</td>\n",
       "      <td>202.0</td>\n",
       "      <td>1.0</td>\n",
       "      <td>0.0</td>\n",
       "      <td>1</td>\n",
       "    </tr>\n",
       "    <tr>\n",
       "      <th>37945489</th>\n",
       "      <td>{'id': '37945489 ', 'id_str': '37945489 ', 'na...</td>\n",
       "      <td>['@EmilieRadioFr @marieclaire_fr @SophieFontan...</td>\n",
       "      <td>{'following': ['2706459692', '17207345', '6903...</td>\n",
       "      <td>['Politics']</td>\n",
       "      <td>0</td>\n",
       "      <td>0.222965</td>\n",
       "      <td>3</td>\n",
       "      <td>16</td>\n",
       "      <td>291</td>\n",
       "      <td>118.335000</td>\n",
       "      <td>50.166052</td>\n",
       "      <td>20</td>\n",
       "      <td>14</td>\n",
       "      <td>13</td>\n",
       "      <td>0</td>\n",
       "      <td>1</td>\n",
       "      <td>1</td>\n",
       "      <td>104446</td>\n",
       "      <td>1188</td>\n",
       "      <td>9606</td>\n",
       "      <td>4743</td>\n",
       "      <td>228</td>\n",
       "      <td>9602</td>\n",
       "      <td>143</td>\n",
       "      <td>Positive</td>\n",
       "      <td>0.473816</td>\n",
       "      <td>248.0</td>\n",
       "      <td>1.0</td>\n",
       "      <td>0.0</td>\n",
       "      <td>1</td>\n",
       "    </tr>\n",
       "  </tbody>\n",
       "</table>\n",
       "</div>"
      ],
      "text/plain": [
       "                                                      profile  \\\n",
       "ID                                                              \n",
       "48107626    {'id': '48107626 ', 'id_str': '48107626 ', 'na...   \n",
       "580829979   {'id': '580829979 ', 'id_str': '580829979 ', '...   \n",
       "172466166   {'id': '172466166 ', 'id_str': '172466166 ', '...   \n",
       "2560180003  {'id': '2560180003 ', 'id_str': '2560180003 ',...   \n",
       "37945489    {'id': '37945489 ', 'id_str': '37945489 ', 'na...   \n",
       "\n",
       "                                                        tweet  \\\n",
       "ID                                                              \n",
       "48107626    ['RT @WarTimeGirl: This is America.  https://t...   \n",
       "580829979   ['RT @honigstein: Devastating impact by Alexis...   \n",
       "172466166   ['RT @jemelehill: The NBA season is going to b...   \n",
       "2560180003  [\"@SenBobCorker You've got jack shit corrupt R...   \n",
       "37945489    ['@EmilieRadioFr @marieclaire_fr @SophieFontan...   \n",
       "\n",
       "                                                     neighbor        domain  \\\n",
       "ID                                                                            \n",
       "48107626    {'following': ['64486260', '4514671634', '1582...  ['Politics']   \n",
       "580829979   {'following': ['914546558', '18481050', '21595...    ['Sports']   \n",
       "172466166   {'following': ['23483324', '164354823', '87044...  ['Politics']   \n",
       "2560180003  {'following': ['114557610', '2771678740', '271...    ['Sports']   \n",
       "37945489    {'following': ['2706459692', '17207345', '6903...  ['Politics']   \n",
       "\n",
       "            label  nn_signal  lang_count  tweet_min_len  tweet_max_len  \\\n",
       "ID                                                                       \n",
       "48107626        0   0.334306           2             16            301   \n",
       "580829979       1   0.811788           1             27            141   \n",
       "172466166       1   0.488446           1              9            302   \n",
       "2560180003      1   0.953401           1             24            309   \n",
       "37945489        0   0.222965           3             16            291   \n",
       "\n",
       "            tweet_av_len  tweet_len_std  user_name_len  screen_name_len  \\\n",
       "ID                                                                        \n",
       "48107626      132.520000      87.225166             17               16   \n",
       "580829979     120.560000      28.209155             18               13   \n",
       "172466166     121.436548      67.139617              5               13   \n",
       "2560180003    127.940789      54.222281              9               14   \n",
       "37945489      118.335000      50.166052             20               14   \n",
       "\n",
       "            user_name_chars  protected  verified  has_url  followers_count  \\\n",
       "ID                                                                           \n",
       "48107626                 12          0         0        1              901   \n",
       "580829979                13          0         0        0              303   \n",
       "172466166                 5          0         0        0              437   \n",
       "2560180003                7          0         0        0             2021   \n",
       "37945489                 13          0         1        1           104446   \n",
       "\n",
       "            friends_count  favourites_count  days_old  listed_count  \\\n",
       "ID                                                                    \n",
       "48107626              548              6069      4700            70   \n",
       "580829979             147                 0      3637            12   \n",
       "172466166            2358             52395      4293             6   \n",
       "2560180003           4057               865      2880             1   \n",
       "37945489             1188              9606      4743           228   \n",
       "\n",
       "            statuses_count  description_len sentiment  similarity  \\\n",
       "ID                                                                  \n",
       "48107626              7639              154  Positive    0.639310   \n",
       "580829979              770              159  Positive    0.772988   \n",
       "172466166            12940               91  Positive    0.728017   \n",
       "2560180003            3060               32  Negative    0.761517   \n",
       "37945489              9602              143  Positive    0.473816   \n",
       "\n",
       "            num_mentions  num_links  retweet  num_tweets  \n",
       "ID                                                        \n",
       "48107626           170.0        1.0      0.0           1  \n",
       "580829979           32.0        1.0      0.0           1  \n",
       "172466166          159.0        1.0      0.0           1  \n",
       "2560180003         202.0        1.0      0.0           1  \n",
       "37945489           248.0        1.0      0.0           1  "
      ]
     },
     "execution_count": 6,
     "metadata": {},
     "output_type": "execute_result"
    }
   ],
   "source": [
    "# load data\n",
    "train_data_path = 'Twibot-20/data_creation/train_df_stage_1.json'\n",
    "test_data_path = 'Twibot-20/data_creation/train_df_stage_1.json'\n",
    "train_df = pd.read_json(train_data_path, index_col=[0])\n",
    "test_df = pd.read_json(test_data_path, index_col=[0])\n",
    "\n",
    "# train_df.set_index('ID', drop=True, inplace=True)\n",
    "# test_df.set_index('ID', drop=True, inplace=True)\n",
    "\n",
    "print('Train shape: ', train_df.shape)\n",
    "print('Test shape: ', test_df.shape)\n",
    "print(train_df.columns)\n",
    "train_df.sample(5)"
   ]
  },
  {
   "cell_type": "code",
   "execution_count": 6,
   "metadata": {},
   "outputs": [
    {
     "data": {
      "text/plain": [
       "(9395, 22)"
      ]
     },
     "execution_count": 6,
     "metadata": {},
     "output_type": "execute_result"
    }
   ],
   "source": [
    "train_df.drop(['profile', 'tweet', 'neighbor', 'domain'], axis=1, inplace=True)\n",
    "test_df.drop(['profile', 'tweet', 'neighbor', 'domain'], axis=1, inplace=True)\n",
    "train_df.shape"
   ]
  },
  {
   "cell_type": "code",
   "execution_count": 7,
   "metadata": {},
   "outputs": [
    {
     "name": "stdout",
     "output_type": "stream",
     "text": [
      "train_df\n"
     ]
    },
    {
     "data": {
      "text/html": [
       "<div>\n",
       "<style scoped>\n",
       "    .dataframe tbody tr th:only-of-type {\n",
       "        vertical-align: middle;\n",
       "    }\n",
       "\n",
       "    .dataframe tbody tr th {\n",
       "        vertical-align: top;\n",
       "    }\n",
       "\n",
       "    .dataframe thead th {\n",
       "        text-align: right;\n",
       "    }\n",
       "</style>\n",
       "<table border=\"1\" class=\"dataframe\">\n",
       "  <thead>\n",
       "    <tr style=\"text-align: right;\">\n",
       "      <th></th>\n",
       "      <th>dtypes</th>\n",
       "      <th>null count</th>\n",
       "      <th>unique count</th>\n",
       "    </tr>\n",
       "  </thead>\n",
       "  <tbody>\n",
       "    <tr>\n",
       "      <th>label</th>\n",
       "      <td>int64</td>\n",
       "      <td>0</td>\n",
       "      <td>2</td>\n",
       "    </tr>\n",
       "    <tr>\n",
       "      <th>nn_signal</th>\n",
       "      <td>float64</td>\n",
       "      <td>0</td>\n",
       "      <td>9331</td>\n",
       "    </tr>\n",
       "    <tr>\n",
       "      <th>lang_count</th>\n",
       "      <td>int64</td>\n",
       "      <td>0</td>\n",
       "      <td>17</td>\n",
       "    </tr>\n",
       "    <tr>\n",
       "      <th>tweet_min_len</th>\n",
       "      <td>int64</td>\n",
       "      <td>0</td>\n",
       "      <td>151</td>\n",
       "    </tr>\n",
       "    <tr>\n",
       "      <th>tweet_max_len</th>\n",
       "      <td>int64</td>\n",
       "      <td>0</td>\n",
       "      <td>548</td>\n",
       "    </tr>\n",
       "    <tr>\n",
       "      <th>tweet_av_len</th>\n",
       "      <td>float64</td>\n",
       "      <td>0</td>\n",
       "      <td>8659</td>\n",
       "    </tr>\n",
       "    <tr>\n",
       "      <th>tweet_len_std</th>\n",
       "      <td>float64</td>\n",
       "      <td>0</td>\n",
       "      <td>9250</td>\n",
       "    </tr>\n",
       "    <tr>\n",
       "      <th>user_name_len</th>\n",
       "      <td>int64</td>\n",
       "      <td>0</td>\n",
       "      <td>50</td>\n",
       "    </tr>\n",
       "    <tr>\n",
       "      <th>screen_name_len</th>\n",
       "      <td>int64</td>\n",
       "      <td>0</td>\n",
       "      <td>14</td>\n",
       "    </tr>\n",
       "    <tr>\n",
       "      <th>user_name_chars</th>\n",
       "      <td>int64</td>\n",
       "      <td>0</td>\n",
       "      <td>31</td>\n",
       "    </tr>\n",
       "    <tr>\n",
       "      <th>protected</th>\n",
       "      <td>int64</td>\n",
       "      <td>0</td>\n",
       "      <td>2</td>\n",
       "    </tr>\n",
       "    <tr>\n",
       "      <th>verified</th>\n",
       "      <td>int64</td>\n",
       "      <td>0</td>\n",
       "      <td>2</td>\n",
       "    </tr>\n",
       "    <tr>\n",
       "      <th>has_url</th>\n",
       "      <td>int64</td>\n",
       "      <td>0</td>\n",
       "      <td>2</td>\n",
       "    </tr>\n",
       "    <tr>\n",
       "      <th>followers_count</th>\n",
       "      <td>int64</td>\n",
       "      <td>0</td>\n",
       "      <td>5926</td>\n",
       "    </tr>\n",
       "    <tr>\n",
       "      <th>friends_count</th>\n",
       "      <td>int64</td>\n",
       "      <td>0</td>\n",
       "      <td>3817</td>\n",
       "    </tr>\n",
       "    <tr>\n",
       "      <th>favourites_count</th>\n",
       "      <td>int64</td>\n",
       "      <td>0</td>\n",
       "      <td>5550</td>\n",
       "    </tr>\n",
       "    <tr>\n",
       "      <th>days_old</th>\n",
       "      <td>int64</td>\n",
       "      <td>0</td>\n",
       "      <td>3843</td>\n",
       "    </tr>\n",
       "    <tr>\n",
       "      <th>listed_count</th>\n",
       "      <td>int64</td>\n",
       "      <td>0</td>\n",
       "      <td>2062</td>\n",
       "    </tr>\n",
       "    <tr>\n",
       "      <th>statuses_count</th>\n",
       "      <td>int64</td>\n",
       "      <td>0</td>\n",
       "      <td>6422</td>\n",
       "    </tr>\n",
       "    <tr>\n",
       "      <th>description_len</th>\n",
       "      <td>int64</td>\n",
       "      <td>0</td>\n",
       "      <td>179</td>\n",
       "    </tr>\n",
       "    <tr>\n",
       "      <th>sentiment</th>\n",
       "      <td>object</td>\n",
       "      <td>0</td>\n",
       "      <td>2</td>\n",
       "    </tr>\n",
       "    <tr>\n",
       "      <th>similarity</th>\n",
       "      <td>float64</td>\n",
       "      <td>0</td>\n",
       "      <td>9254</td>\n",
       "    </tr>\n",
       "  </tbody>\n",
       "</table>\n",
       "</div>"
      ],
      "text/plain": [
       "                   dtypes  null count  unique count\n",
       "label               int64           0             2\n",
       "nn_signal         float64           0          9331\n",
       "lang_count          int64           0            17\n",
       "tweet_min_len       int64           0           151\n",
       "tweet_max_len       int64           0           548\n",
       "tweet_av_len      float64           0          8659\n",
       "tweet_len_std     float64           0          9250\n",
       "user_name_len       int64           0            50\n",
       "screen_name_len     int64           0            14\n",
       "user_name_chars     int64           0            31\n",
       "protected           int64           0             2\n",
       "verified            int64           0             2\n",
       "has_url             int64           0             2\n",
       "followers_count     int64           0          5926\n",
       "friends_count       int64           0          3817\n",
       "favourites_count    int64           0          5550\n",
       "days_old            int64           0          3843\n",
       "listed_count        int64           0          2062\n",
       "statuses_count      int64           0          6422\n",
       "description_len     int64           0           179\n",
       "sentiment          object           0             2\n",
       "similarity        float64           0          9254"
      ]
     },
     "metadata": {},
     "output_type": "display_data"
    },
    {
     "name": "stdout",
     "output_type": "stream",
     "text": [
      "test_df\n"
     ]
    },
    {
     "data": {
      "text/html": [
       "<div>\n",
       "<style scoped>\n",
       "    .dataframe tbody tr th:only-of-type {\n",
       "        vertical-align: middle;\n",
       "    }\n",
       "\n",
       "    .dataframe tbody tr th {\n",
       "        vertical-align: top;\n",
       "    }\n",
       "\n",
       "    .dataframe thead th {\n",
       "        text-align: right;\n",
       "    }\n",
       "</style>\n",
       "<table border=\"1\" class=\"dataframe\">\n",
       "  <thead>\n",
       "    <tr style=\"text-align: right;\">\n",
       "      <th></th>\n",
       "      <th>dtypes</th>\n",
       "      <th>null count</th>\n",
       "      <th>unique count</th>\n",
       "    </tr>\n",
       "  </thead>\n",
       "  <tbody>\n",
       "    <tr>\n",
       "      <th>label</th>\n",
       "      <td>int64</td>\n",
       "      <td>0</td>\n",
       "      <td>2</td>\n",
       "    </tr>\n",
       "    <tr>\n",
       "      <th>nn_signal</th>\n",
       "      <td>float64</td>\n",
       "      <td>0</td>\n",
       "      <td>1172</td>\n",
       "    </tr>\n",
       "    <tr>\n",
       "      <th>lang_count</th>\n",
       "      <td>int64</td>\n",
       "      <td>0</td>\n",
       "      <td>17</td>\n",
       "    </tr>\n",
       "    <tr>\n",
       "      <th>tweet_min_len</th>\n",
       "      <td>int64</td>\n",
       "      <td>0</td>\n",
       "      <td>95</td>\n",
       "    </tr>\n",
       "    <tr>\n",
       "      <th>tweet_max_len</th>\n",
       "      <td>int64</td>\n",
       "      <td>0</td>\n",
       "      <td>274</td>\n",
       "    </tr>\n",
       "    <tr>\n",
       "      <th>tweet_av_len</th>\n",
       "      <td>float64</td>\n",
       "      <td>0</td>\n",
       "      <td>1159</td>\n",
       "    </tr>\n",
       "    <tr>\n",
       "      <th>tweet_len_std</th>\n",
       "      <td>float64</td>\n",
       "      <td>0</td>\n",
       "      <td>1161</td>\n",
       "    </tr>\n",
       "    <tr>\n",
       "      <th>user_name_len</th>\n",
       "      <td>int64</td>\n",
       "      <td>0</td>\n",
       "      <td>46</td>\n",
       "    </tr>\n",
       "    <tr>\n",
       "      <th>screen_name_len</th>\n",
       "      <td>int64</td>\n",
       "      <td>0</td>\n",
       "      <td>13</td>\n",
       "    </tr>\n",
       "    <tr>\n",
       "      <th>user_name_chars</th>\n",
       "      <td>int64</td>\n",
       "      <td>0</td>\n",
       "      <td>25</td>\n",
       "    </tr>\n",
       "    <tr>\n",
       "      <th>protected</th>\n",
       "      <td>int64</td>\n",
       "      <td>0</td>\n",
       "      <td>1</td>\n",
       "    </tr>\n",
       "    <tr>\n",
       "      <th>verified</th>\n",
       "      <td>int64</td>\n",
       "      <td>0</td>\n",
       "      <td>2</td>\n",
       "    </tr>\n",
       "    <tr>\n",
       "      <th>has_url</th>\n",
       "      <td>int64</td>\n",
       "      <td>0</td>\n",
       "      <td>2</td>\n",
       "    </tr>\n",
       "    <tr>\n",
       "      <th>followers_count</th>\n",
       "      <td>int64</td>\n",
       "      <td>0</td>\n",
       "      <td>985</td>\n",
       "    </tr>\n",
       "    <tr>\n",
       "      <th>friends_count</th>\n",
       "      <td>int64</td>\n",
       "      <td>0</td>\n",
       "      <td>925</td>\n",
       "    </tr>\n",
       "    <tr>\n",
       "      <th>favourites_count</th>\n",
       "      <td>int64</td>\n",
       "      <td>0</td>\n",
       "      <td>955</td>\n",
       "    </tr>\n",
       "    <tr>\n",
       "      <th>days_old</th>\n",
       "      <td>int64</td>\n",
       "      <td>0</td>\n",
       "      <td>990</td>\n",
       "    </tr>\n",
       "    <tr>\n",
       "      <th>listed_count</th>\n",
       "      <td>int64</td>\n",
       "      <td>0</td>\n",
       "      <td>441</td>\n",
       "    </tr>\n",
       "    <tr>\n",
       "      <th>statuses_count</th>\n",
       "      <td>int64</td>\n",
       "      <td>0</td>\n",
       "      <td>1037</td>\n",
       "    </tr>\n",
       "    <tr>\n",
       "      <th>description_len</th>\n",
       "      <td>int64</td>\n",
       "      <td>0</td>\n",
       "      <td>167</td>\n",
       "    </tr>\n",
       "    <tr>\n",
       "      <th>sentiment</th>\n",
       "      <td>object</td>\n",
       "      <td>0</td>\n",
       "      <td>2</td>\n",
       "    </tr>\n",
       "    <tr>\n",
       "      <th>similarity</th>\n",
       "      <td>float64</td>\n",
       "      <td>0</td>\n",
       "      <td>1160</td>\n",
       "    </tr>\n",
       "  </tbody>\n",
       "</table>\n",
       "</div>"
      ],
      "text/plain": [
       "                   dtypes  null count  unique count\n",
       "label               int64           0             2\n",
       "nn_signal         float64           0          1172\n",
       "lang_count          int64           0            17\n",
       "tweet_min_len       int64           0            95\n",
       "tweet_max_len       int64           0           274\n",
       "tweet_av_len      float64           0          1159\n",
       "tweet_len_std     float64           0          1161\n",
       "user_name_len       int64           0            46\n",
       "screen_name_len     int64           0            13\n",
       "user_name_chars     int64           0            25\n",
       "protected           int64           0             1\n",
       "verified            int64           0             2\n",
       "has_url             int64           0             2\n",
       "followers_count     int64           0           985\n",
       "friends_count       int64           0           925\n",
       "favourites_count    int64           0           955\n",
       "days_old            int64           0           990\n",
       "listed_count        int64           0           441\n",
       "statuses_count      int64           0          1037\n",
       "description_len     int64           0           167\n",
       "sentiment          object           0             2\n",
       "similarity        float64           0          1160"
      ]
     },
     "execution_count": 7,
     "metadata": {},
     "output_type": "execute_result"
    }
   ],
   "source": [
    "print('train_df')\n",
    "display(show_stats(train_df))\n",
    "print('test_df')\n",
    "show_stats(test_df)"
   ]
  },
  {
   "cell_type": "code",
   "execution_count": 8,
   "metadata": {},
   "outputs": [],
   "source": [
    "sentement_dict = {\n",
    "    'Positive': 1,\n",
    "    'Negative': 0\n",
    "}\n",
    "\n",
    "train_df['sentiment'] = train_df['sentiment'].apply(lambda x: sentement_dict[x])\n",
    "test_df['sentiment'] = test_df['sentiment'].apply(lambda x: sentement_dict[x])"
   ]
  },
  {
   "cell_type": "code",
   "execution_count": 9,
   "metadata": {},
   "outputs": [],
   "source": [
    "X_train = train_df.drop(['label'], axis=1)\n",
    "y_train = train_df['label']\n",
    "\n",
    "X_test = test_df.drop(['label'], axis=1)\n",
    "y_test = test_df['label']"
   ]
  },
  {
   "cell_type": "markdown",
   "metadata": {},
   "source": [
    "Scale Data"
   ]
  },
  {
   "cell_type": "code",
   "execution_count": 10,
   "metadata": {},
   "outputs": [],
   "source": [
    "scaler = StandardScaler().fit(X_train)\n",
    "X_train = scaler.transform(X_train)\n",
    "X_test = scaler.transform(X_test)"
   ]
  },
  {
   "cell_type": "markdown",
   "metadata": {},
   "source": [
    "Initial Baseline Model"
   ]
  },
  {
   "cell_type": "code",
   "execution_count": 11,
   "metadata": {},
   "outputs": [
    {
     "data": {
      "text/plain": [
       "(0.9404497704373718, 0.009079271510555782)"
      ]
     },
     "execution_count": 11,
     "metadata": {},
     "output_type": "execute_result"
    }
   ],
   "source": [
    "baseline_model = LogisticRegression()\n",
    "score_model(X_train, y_train, baseline_model, folds=10)"
   ]
  },
  {
   "cell_type": "markdown",
   "metadata": {},
   "source": [
    "Linear Models"
   ]
  },
  {
   "cell_type": "markdown",
   "metadata": {},
   "source": [
    "Logistic Regression"
   ]
  },
  {
   "cell_type": "code",
   "execution_count": 12,
   "metadata": {},
   "outputs": [
    {
     "name": "stdout",
     "output_type": "stream",
     "text": [
      "Fitting 10 folds for each of 5 candidates, totalling 50 fits\n",
      "for LogisticRegression\n",
      "Best Score:  0.9406986812285207\n",
      "Best Params:  {'C': 0.1}\n"
     ]
    }
   ],
   "source": [
    "# train / gridsearch Logistic Regression\n",
    "lr_model = LogisticRegression()\n",
    "\n",
    "lr_param_grid = {'C': [.001, .01, .1, 1, 10]}\n",
    "best_lr_params = grid_search(X_train, y_train, lr_model, lr_param_grid)"
   ]
  },
  {
   "cell_type": "code",
   "execution_count": 13,
   "metadata": {},
   "outputs": [],
   "source": [
    "best_lr_model = LogisticRegression(**best_lr_params)"
   ]
  },
  {
   "cell_type": "markdown",
   "metadata": {},
   "source": [
    "SGDClassifier"
   ]
  },
  {
   "cell_type": "code",
   "execution_count": 14,
   "metadata": {},
   "outputs": [],
   "source": [
    "\n",
    "\n",
    "sgd_param_grid = {'l1_ratio': hp.uniform('l1_ratio', 0, 1),\n",
    "                  'learning_rate': hp.choice(\n",
    "                      'learning_rate', [{\n",
    "                          'type': 'optimal',\n",
    "                          'alpha': hp.lognormal('alpha', 0, .5)\n",
    "                      },\n",
    "                      {\n",
    "                          'type': 'invscaling',\n",
    "                          'power_t': hp.normal('power_t', 0, 1)\n",
    "                      }]\n",
    "                  ),\n",
    "                  'eta0': hp.lognormal('eta0', 0, 1)}\n",
    "\n",
    "def sgd_objective(search_space):\n",
    "    # im setting the loss function to 'modified_huber' loss as other losses create a \n",
    "    # logistic regression and linear svm model while others are for regression. \n",
    "    # modified_huber is also robust to outliers\n",
    "    l1_ratio = search_space['l1_ratio']\n",
    "    learning_rate = search_space['learning_rate']['type']\n",
    "    eta0 = search_space['eta0']\n",
    "    if 'alpha' in search_space['learning_rate']:\n",
    "        learning_param = search_space['learning_rate']['alpha']\n",
    "        sgd_model = SGDClassifier(loss='modified_huber', \n",
    "                                  penalty='elasticnet', \n",
    "                                  l1_ratio=l1_ratio,\n",
    "                                  learning_rate=learning_rate,\n",
    "                                  alpha=learning_param,\n",
    "                                  eta0=eta0)\n",
    "    else:\n",
    "        learning_param = search_space['learning_rate']['power_t']\n",
    "        sgd_model = SGDClassifier(loss='modified_huber', \n",
    "                                  penalty='elasticnet', \n",
    "                                  l1_ratio=l1_ratio,\n",
    "                                  learning_rate=learning_rate,\n",
    "                                  power_t=learning_param,\n",
    "                                  eta0=eta0)\n",
    "\n",
    "\n",
    "    score, _ = score_model(X_train, y_train, sgd_model)\n",
    "    return -1 * np.mean(score)"
   ]
  },
  {
   "cell_type": "code",
   "execution_count": 15,
   "metadata": {},
   "outputs": [
    {
     "name": "stdout",
     "output_type": "stream",
     "text": [
      "100%|██████████| 1000/1000 [07:28<00:00,  2.23trial/s, best loss: -0.9407146617536731]\n"
     ]
    },
    {
     "data": {
      "text/plain": [
       "{'eta0': 0.28808306853240345,\n",
       " 'l1_ratio': 0.6688109260767467,\n",
       " 'learning_rate': 1,\n",
       " 'power_t': 0.7736480913102951}"
      ]
     },
     "execution_count": 15,
     "metadata": {},
     "output_type": "execute_result"
    }
   ],
   "source": [
    "trials = Trials()\n",
    "max_evals = 500\n",
    "sgd_best_params = fmin(fn=sgd_objective, space=sgd_param_grid, algo=tpe.suggest, trials=trials, max_evals=max_evals)\n",
    "sgd_best_params"
   ]
  },
  {
   "cell_type": "code",
   "execution_count": 16,
   "metadata": {},
   "outputs": [],
   "source": [
    "l1_ratio = sgd_best_params['l1_ratio']\n",
    "learning_rate = 'optimal' if sgd_best_params['learning_rate'] == 0 else 'invscaling'\n",
    "eta0 = sgd_best_params['eta0']\n",
    "\n",
    "if learning_rate == 'optimal':\n",
    "    alpha = sgd_best_params['alpha']\n",
    "    best_sgd_model = SGDClassifier(loss='modified_huber', \n",
    "                                penalty='elasticnet', \n",
    "                                learning_rate=learning_rate, \n",
    "                                l1_ratio=l1_ratio, \n",
    "                                eta0=eta0,\n",
    "                                alpha=alpha)\n",
    "else:\n",
    "    power_t = sgd_best_params['power_t']\n",
    "    best_sgd_model = SGDClassifier(loss='modified_huber', \n",
    "                                penalty='elasticnet', \n",
    "                                learning_rate=learning_rate, \n",
    "                                l1_ratio=l1_ratio, \n",
    "                                eta0=eta0,\n",
    "                                power_t=power_t)"
   ]
  },
  {
   "cell_type": "markdown",
   "metadata": {},
   "source": [
    "Tree Based Models"
   ]
  },
  {
   "cell_type": "markdown",
   "metadata": {},
   "source": [
    "LightGBM"
   ]
  },
  {
   "cell_type": "code",
   "execution_count": 17,
   "metadata": {},
   "outputs": [],
   "source": [
    "\n",
    "\n",
    "lgbm_param_grid = {'reg_alpha': hp.lognormal('reg_alpha', 0, .5),\n",
    "                   'reg_lambda': hp.lognormal('reg_lambda', 0, .5),\n",
    "                   'subsample': hp.uniform('subsample', 0, 1),\n",
    "                   'num_leaves': hp.quniform('num_leaves', 10, 100, 1),\n",
    "                   'max_depth': hp.quniform('max_depth', 1, 10, 1),\n",
    "                   'n_estimators': hp.quniform('n_estimators', 50, 100, 1),\n",
    "                   'learning_rate': hp.loguniform('learning_rate', -3, 0)}\n",
    "\n",
    "def lgbm_objective(search_space):\n",
    "    reg_alpha = search_space['reg_alpha']\n",
    "    reg_lambda = search_space['reg_lambda']\n",
    "    subsample = search_space['subsample']\n",
    "    num_leaves = search_space['num_leaves']\n",
    "    max_depth = search_space['max_depth']\n",
    "    n_estimators = search_space['n_estimators']\n",
    "    learning_rate = search_space['learning_rate']\n",
    "    \n",
    "    lgbm_model = LGBMClassifier(reg_alpha=reg_alpha,\n",
    "                                reg_lambda=reg_lambda,\n",
    "                                subsample=subsample,\n",
    "                                num_leaves=int(num_leaves),\n",
    "                                max_depth=int(max_depth),\n",
    "                                n_estimators=int(n_estimators),\n",
    "                                learning_rate=learning_rate)\n",
    "\n",
    "    score, _ = score_model(X_train, y_train, lgbm_model)\n",
    "    return -1 * np.mean(score)"
   ]
  },
  {
   "cell_type": "code",
   "execution_count": 18,
   "metadata": {},
   "outputs": [
    {
     "name": "stdout",
     "output_type": "stream",
     "text": [
      "100%|██████████| 500/500 [09:23<00:00,  1.13s/trial, best loss: -0.9420043032375826]\n"
     ]
    },
    {
     "data": {
      "text/plain": [
       "{'learning_rate': 0.12330475868991779,\n",
       " 'max_depth': 3.0,\n",
       " 'n_estimators': 92.0,\n",
       " 'num_leaves': 82.0,\n",
       " 'reg_alpha': 1.2700423785403265,\n",
       " 'reg_lambda': 0.704877931498582,\n",
       " 'subsample': 0.22709731125588928}"
      ]
     },
     "execution_count": 18,
     "metadata": {},
     "output_type": "execute_result"
    }
   ],
   "source": [
    "trials = Trials()\n",
    "max_evals = 500\n",
    "lgbm_best_params = fmin(fn=lgbm_objective, space=lgbm_param_grid, algo=tpe.suggest, trials=trials, max_evals=max_evals)\n",
    "lgbm_best_params"
   ]
  },
  {
   "cell_type": "code",
   "execution_count": 19,
   "metadata": {},
   "outputs": [],
   "source": [
    "\n",
    "reg_alpha = lgbm_best_params['reg_alpha']\n",
    "reg_lambda = lgbm_best_params['reg_lambda']\n",
    "subsample = lgbm_best_params['subsample']\n",
    "num_leaves = lgbm_best_params['num_leaves']\n",
    "max_depth = lgbm_best_params['max_depth']\n",
    "n_estimators = lgbm_best_params['n_estimators']\n",
    "learning_rate = lgbm_best_params['learning_rate']\n",
    "\n",
    "best_lgbm_model = LGBMClassifier(reg_alpha=reg_alpha,\n",
    "                                reg_lambda=reg_lambda,\n",
    "                                subsample=subsample,\n",
    "                                num_leaves=int(num_leaves),\n",
    "                                max_depth=int(max_depth),\n",
    "                                n_estimators=int(n_estimators),\n",
    "                                learning_rate=learning_rate)"
   ]
  },
  {
   "cell_type": "markdown",
   "metadata": {},
   "source": [
    "Random Forest"
   ]
  },
  {
   "cell_type": "code",
   "execution_count": 20,
   "metadata": {},
   "outputs": [],
   "source": [
    "\n",
    "rf_param_grid = {'n_estimators': hp.quniform('n_estimators', 100, 500, 1),\n",
    "                 'max_depth': hp.quniform('max_depth', 2, 20, 1),\n",
    "                 'max_features': hp.choice('max_features', ['auto', 'sqrt']),\n",
    "                 'min_samples_split': hp.quniform('min_samples_split', 2, 5, 1),\n",
    "                 'min_samples_leaf': hp.quniform('min_samples_leaf', 1, 5, 1)}\n",
    "\n",
    "def rf_objective(search_space):\n",
    "    n_estimators = search_space['n_estimators']\n",
    "    max_depth = search_space['max_depth']\n",
    "    max_features = search_space['max_features']\n",
    "    min_samples_split = search_space['min_samples_split']\n",
    "    min_samples_leaf = search_space['min_samples_leaf']\n",
    "\n",
    "    rf_model = RandomForestClassifier(n_estimators=int(n_estimators),\n",
    "                                      max_depth=int(max_depth),\n",
    "                                      max_features=max_features,\n",
    "                                      min_samples_split=int(min_samples_split),\n",
    "                                      min_samples_leaf=int(min_samples_leaf))\n",
    "\n",
    "    score, _ = score_model(X_train, y_train, rf_model)\n",
    "    return -1 * np.mean(score)"
   ]
  },
  {
   "cell_type": "code",
   "execution_count": 21,
   "metadata": {},
   "outputs": [
    {
     "name": "stdout",
     "output_type": "stream",
     "text": [
      "100%|██████████| 300/300 [58:33<00:00, 11.71s/trial, best loss: -0.9402555953322783] \n"
     ]
    },
    {
     "data": {
      "text/plain": [
       "{'max_depth': 10.0,\n",
       " 'max_features': 1,\n",
       " 'min_samples_leaf': 5.0,\n",
       " 'min_samples_split': 5.0,\n",
       " 'n_estimators': 254.0}"
      ]
     },
     "execution_count": 21,
     "metadata": {},
     "output_type": "execute_result"
    }
   ],
   "source": [
    "trials = Trials()\n",
    "max_evals = 200\n",
    "rf_best_params = fmin(fn=rf_objective, space=rf_param_grid, algo=tpe.suggest, trials=trials, max_evals=max_evals)\n",
    "rf_best_params"
   ]
  },
  {
   "cell_type": "code",
   "execution_count": 22,
   "metadata": {},
   "outputs": [],
   "source": [
    "n_estimators = rf_best_params['n_estimators']\n",
    "max_depth = rf_best_params['max_depth']\n",
    "max_features = rf_best_params['max_features']\n",
    "min_samples_split = rf_best_params['min_samples_split']\n",
    "min_samples_leaf = rf_best_params['min_samples_leaf']\n",
    "\n",
    "best_rf_model = RandomForestClassifier(n_estimators=int(n_estimators),\n",
    "                                       max_depth=int(max_depth),\n",
    "                                       max_features= 'auto' if max_features == 0 else 'sqrt',\n",
    "                                       min_samples_split=int(min_samples_split),\n",
    "                                       min_samples_leaf=int(min_samples_leaf))"
   ]
  },
  {
   "cell_type": "markdown",
   "metadata": {},
   "source": [
    "Adaboost"
   ]
  },
  {
   "cell_type": "code",
   "execution_count": 23,
   "metadata": {},
   "outputs": [],
   "source": [
    "\n",
    "ada_param_grid = {'n_estimators': hp.quniform('n_estimators', 50, 200, 1),\n",
    "                  'max_depth': hp.quniform('max_depth', 1, 3, 1),\n",
    "                  'min_samples_split': hp.quniform('min_samples_split', 2, 10, 1),\n",
    "                  'learning_rate': hp.loguniform('learning_rate', -3, 8)}\n",
    "\n",
    "def ada_objective(search_space):\n",
    "    n_estimators = search_space['n_estimators']\n",
    "    max_depth = search_space['max_depth']\n",
    "    min_samples_split = search_space['min_samples_split']\n",
    "    learning_rate = search_space['learning_rate']\n",
    "\n",
    "    ada_model = AdaBoostClassifier(n_estimators=int(n_estimators),\n",
    "                                   learning_rate=learning_rate,\n",
    "                                   base_estimator=DecisionTreeClassifier(max_depth=int(max_depth),\n",
    "                                                                         min_samples_split=int(min_samples_split)))\n",
    "\n",
    "    score, _ = score_model(X_train, y_train, ada_model)\n",
    "    return -1 * np.mean(score)"
   ]
  },
  {
   "cell_type": "code",
   "execution_count": 24,
   "metadata": {},
   "outputs": [
    {
     "name": "stdout",
     "output_type": "stream",
     "text": [
      "100%|██████████| 200/200 [26:31<00:00,  7.96s/trial, best loss: -0.9421041044005812]\n"
     ]
    },
    {
     "data": {
      "text/plain": [
       "{'learning_rate': 0.05418682720067697,\n",
       " 'max_depth': 2.0,\n",
       " 'min_samples_split': 6.0,\n",
       " 'n_estimators': 97.0}"
      ]
     },
     "execution_count": 24,
     "metadata": {},
     "output_type": "execute_result"
    }
   ],
   "source": [
    "trials = Trials()\n",
    "max_evals = 200\n",
    "ada_best_params = fmin(fn=ada_objective, space=ada_param_grid, algo=tpe.suggest, trials=trials, max_evals=max_evals)\n",
    "ada_best_params"
   ]
  },
  {
   "cell_type": "code",
   "execution_count": 25,
   "metadata": {},
   "outputs": [],
   "source": [
    "n_estimators = ada_best_params['n_estimators']\n",
    "max_depth = ada_best_params['max_depth']\n",
    "min_samples_split = ada_best_params['min_samples_split']\n",
    "learning_rate = ada_best_params['learning_rate']\n",
    "\n",
    "best_ada_model = AdaBoostClassifier(n_estimators=int(n_estimators),\n",
    "                                    learning_rate=learning_rate,\n",
    "                                    base_estimator=DecisionTreeClassifier(max_depth=int(max_depth),\n",
    "                                                                          min_samples_split=int(min_samples_split)))"
   ]
  },
  {
   "cell_type": "markdown",
   "metadata": {},
   "source": [
    "Support Vector Machine"
   ]
  },
  {
   "cell_type": "markdown",
   "metadata": {},
   "source": [
    "SVC"
   ]
  },
  {
   "cell_type": "code",
   "execution_count": 30,
   "metadata": {},
   "outputs": [],
   "source": [
    "\n",
    "\n",
    "svc_param_grid = {'C': hp.loguniform('C', -5, 4),\n",
    "                  'kernal': hp.choice('kernal', [{\n",
    "                      'type': 'linear'\n",
    "                  },\n",
    "                  {\n",
    "                      'type': 'rbf',\n",
    "                      'gamma': hp.loguniform('gamma', -9, 3)\n",
    "                  }])}\n",
    "\n",
    "def svc_objective(search_space):\n",
    "    C = search_space['C']\n",
    "    kernal = search_space['kernal']['type']\n",
    "    if kernal == 'rbf':\n",
    "        gamma = search_space['kernal']['gamma']\n",
    "        svc_model = SVC(C=C,\n",
    "                        kernel=kernal,\n",
    "                        gamma=gamma,\n",
    "                        probability=True)\n",
    "    else:\n",
    "        svc_model = SVC(C=C,\n",
    "                        kernel=kernal,\n",
    "                        probability=True)\n",
    "\n",
    "    score, _ = score_model(X_train, y_train, svc_model)\n",
    "    return -1 * np.mean(score)"
   ]
  },
  {
   "cell_type": "code",
   "execution_count": 31,
   "metadata": {},
   "outputs": [
    {
     "name": "stdout",
     "output_type": "stream",
     "text": [
      "100%|██████████| 100/100 [29:50<00:00, 17.90s/trial, best loss: -0.9402777926590895]\n"
     ]
    },
    {
     "data": {
      "text/plain": [
       "{'C': 40.22734081742408, 'gamma': 0.0007263914100970921, 'kernal': 1}"
      ]
     },
     "execution_count": 31,
     "metadata": {},
     "output_type": "execute_result"
    }
   ],
   "source": [
    "trials = Trials()\n",
    "max_evals = 100\n",
    "svc_best_params = fmin(fn=svc_objective, space=svc_param_grid, algo=tpe.suggest, trials=trials, max_evals=max_evals)\n",
    "svc_best_params"
   ]
  },
  {
   "cell_type": "code",
   "execution_count": 42,
   "metadata": {},
   "outputs": [],
   "source": [
    "C = svc_best_params['C']\n",
    "kernel = 'linear' if svc_best_params['kernal'] == 0 else 'rbf'\n",
    "if kernel == 'rbf':\n",
    "    gamma = svc_best_params['gamma']\n",
    "    best_svc_model = SVC(C=C,\n",
    "                         kernel=kernel,\n",
    "                         gamma=gamma,\n",
    "                         probability=True)\n",
    "else:\n",
    "    best_svc_model = SVC(C=C,\n",
    "                         kernal=kernel,\n",
    "                         probability=True)"
   ]
  },
  {
   "cell_type": "markdown",
   "metadata": {},
   "source": [
    "Voting Classifier"
   ]
  },
  {
   "cell_type": "code",
   "execution_count": 43,
   "metadata": {},
   "outputs": [],
   "source": [
    "vote_classifier = VotingClassifier(estimators=[('LogisticRegression', best_lr_model), \n",
    "                                               ('SGDClassifier', best_sgd_model), \n",
    "                                               ('LGBMClassifier', best_lgbm_model), \n",
    "                                               ('RandomForestClassifier', best_rf_model), \n",
    "                                               ('AdaBoostClassifier', best_ada_model), \n",
    "                                               ('SVC', best_svc_model)],\n",
    "                                   voting='soft')"
   ]
  },
  {
   "cell_type": "code",
   "execution_count": 44,
   "metadata": {},
   "outputs": [
    {
     "name": "stdout",
     "output_type": "stream",
     "text": [
      "mean roc_auc score:  0.9426120510946557  std:  0.0042691210170679285\n"
     ]
    }
   ],
   "source": [
    "mean, std = score_model(X_train, y_train, vote_classifier, folds=5)\n",
    "print('mean roc_auc score: ', mean, ' std: ', std)"
   ]
  },
  {
   "cell_type": "markdown",
   "metadata": {},
   "source": [
    "Stacking Classifier"
   ]
  },
  {
   "cell_type": "code",
   "execution_count": 47,
   "metadata": {},
   "outputs": [],
   "source": [
    "stack_classifier = StackingClassifier(estimators=[('LogisticRegression', best_lr_model), \n",
    "                                                  ('SGDClassifier', best_sgd_model), \n",
    "                                                  ('LGBMClassifier', best_lgbm_model), \n",
    "                                                  ('RandomForestClassifier', best_rf_model), \n",
    "                                                  ('AdaBoostClassifier', best_ada_model), \n",
    "                                                  ('SVC', best_svc_model)],\n",
    "                                      final_estimator=LogisticRegression())"
   ]
  },
  {
   "cell_type": "code",
   "execution_count": 48,
   "metadata": {},
   "outputs": [
    {
     "name": "stdout",
     "output_type": "stream",
     "text": [
      "mean roc_auc score:  0.9428280864325211  std:  0.004612934829367237\n"
     ]
    }
   ],
   "source": [
    "mean, std = score_model(X_train, y_train, stack_classifier, folds=5)\n",
    "print('mean roc_auc score: ', mean, ' std: ', std)"
   ]
  },
  {
   "cell_type": "markdown",
   "metadata": {},
   "source": [
    "Results and Analysis"
   ]
  },
  {
   "cell_type": "code",
   "execution_count": 68,
   "metadata": {},
   "outputs": [],
   "source": [
    "def test_model(X_train, y_train, X_test, y_test, model):\n",
    "    mod = clone(model)\n",
    "    mod.fit(X_train, y_train)\n",
    "    y_probs = mod.predict_proba(X_test)\n",
    "    y_preds = mod.predict(X_test)\n",
    "    results = pd.Series(index=['roc_auc', 'accuracy', 'precision', 'recall', 'f1'], dtype='float64')\n",
    "    results.loc['roc_auc'] = roc_auc_score(y_test, y_probs[:, 1])\n",
    "    results.loc['accuracy'] = accuracy_score(y_test, y_preds)\n",
    "    results.loc['precision'] = precision_score(y_test, y_preds)\n",
    "    results.loc['recall'] = recall_score(y_test, y_preds)\n",
    "    results.loc['f1'] = f1_score(y_test, y_preds, average='macro')\n",
    "\n",
    "    conf_matrix = confusion_matrix(y_test, y_preds)\n",
    "\n",
    "    print('Metrics:')\n",
    "    display(results)\n",
    "\n",
    "    print('\\nConfusion Matrix:\\n')\n",
    "    print('                  Predicted Positive   Predicted Negative')\n",
    "    print('Actual Positive |        {tp:>3}        |        {fn:>3}        |'.format(tp=conf_matrix[0, 0], fn=conf_matrix[0, 1]))\n",
    "    print('Actual Negative |        {fp:>3}        |        {tn:>3}        |'.format(fp=conf_matrix[1, 0], tn=conf_matrix[1, 1]))\n",
    "    print()\n",
    "\n",
    "    fig, ax = plt.subplots(1, 2, figsize=(12, 5))\n",
    "    print('\\nRoc Auc curve:')\n",
    "    fpr, tpr, _ = roc_curve(y_test, y_probs[:, 1])\n",
    "    sns.lineplot(x=fpr, y=tpr, ax=ax[0], label=f'Roc Auc score={auc(fpr, tpr)}')\n",
    "    ax[0].plot([0, 1],[0, 1], linestyle='--')\n",
    "    ax[0].set_xlabel('False Positive Rate')\n",
    "    ax[0].set_ylabel('True Positive Rate')\n",
    "    ax[0].set_title('Receiver Operating Characteristic')\n",
    "\n",
    "    pre, rec, _ = precision_recall_curve(y_test, y_probs[:, 1])\n",
    "    sns.lineplot(x=rec, y=pre, ax=ax[1])\n",
    "    ax[1].set_xlabel('Recall')\n",
    "    ax[1].set_ylabel('Precision')\n",
    "    ax[1].set_title('Precision Recall Curve')\n",
    "\n",
    "    plt.tight_layout()\n",
    "    plt.show()"
   ]
  },
  {
   "cell_type": "code",
   "execution_count": 72,
   "metadata": {},
   "outputs": [
    {
     "name": "stdout",
     "output_type": "stream",
     "text": [
      "Metrics:\n"
     ]
    },
    {
     "data": {
      "text/plain": [
       "roc_auc      0.914124\n",
       "accuracy     0.843537\n",
       "precision    0.833572\n",
       "recall       0.895223\n",
       "f1           0.840198\n",
       "dtype: float64"
      ]
     },
     "metadata": {},
     "output_type": "display_data"
    },
    {
     "name": "stdout",
     "output_type": "stream",
     "text": [
      "\n",
      "Confusion Matrix:\n",
      "\n",
      "                  Predicted Positive   Predicted Negative\n",
      "Actual Positive |        411        |        116        |\n",
      "Actual Negative |         68        |        581        |\n",
      "\n",
      "\n",
      "Roc Auc curve:\n"
     ]
    },
    {
     "data": {
      "image/png": "[encoded data removed]",
      "text/plain": [
       "<Figure size 864x360 with 2 Axes>"
      ]
     },
     "metadata": {
      "needs_background": "light"
     },
     "output_type": "display_data"
    }
   ],
   "source": [
    "test_model(X_train, y_train, X_test, y_test, LogisticRegression())"
   ]
  },
  {
   "cell_type": "code",
   "execution_count": 70,
   "metadata": {},
   "outputs": [
    {
     "name": "stdout",
     "output_type": "stream",
     "text": [
      "Metrics:\n"
     ]
    },
    {
     "data": {
      "text/plain": [
       "roc_auc      0.915789\n",
       "accuracy     0.846088\n",
       "precision    0.839130\n",
       "recall       0.892142\n",
       "f1           0.843074\n",
       "dtype: float64"
      ]
     },
     "metadata": {},
     "output_type": "display_data"
    },
    {
     "name": "stdout",
     "output_type": "stream",
     "text": [
      "\n",
      "Confusion Matrix:\n",
      "\n",
      "                  Predicted Positive   Predicted Negative\n",
      "Actual Positive |        416        |        111        |\n",
      "Actual Negative |         70        |        579        |\n",
      "\n",
      "\n",
      "Roc Auc curve:\n"
     ]
    },
    {
     "data": {
      "image/png": "[encoded data removed]",
      "text/plain": [
       "<Figure size 864x360 with 2 Axes>"
      ]
     },
     "metadata": {
      "needs_background": "light"
     },
     "output_type": "display_data"
    }
   ],
   "source": [
    "test_model(X_train, y_train, X_test, y_test, vote_classifier)"
   ]
  },
  {
   "cell_type": "code",
   "execution_count": 71,
   "metadata": {},
   "outputs": [
    {
     "name": "stdout",
     "output_type": "stream",
     "text": [
      "Metrics:\n"
     ]
    },
    {
     "data": {
      "text/plain": [
       "roc_auc      0.914705\n",
       "accuracy     0.846939\n",
       "precision    0.841339\n",
       "recall       0.890601\n",
       "f1           0.844052\n",
       "dtype: float64"
      ]
     },
     "metadata": {},
     "output_type": "display_data"
    },
    {
     "name": "stdout",
     "output_type": "stream",
     "text": [
      "\n",
      "Confusion Matrix:\n",
      "\n",
      "                  Predicted Positive   Predicted Negative\n",
      "Actual Positive |        418        |        109        |\n",
      "Actual Negative |         71        |        578        |\n",
      "\n",
      "\n",
      "Roc Auc curve:\n"
     ]
    },
    {
     "data": {
      "image/png": "[encoded data removed]",
      "text/plain": [
       "<Figure size 864x360 with 2 Axes>"
      ]
     },
     "metadata": {
      "needs_background": "light"
     },
     "output_type": "display_data"
    }
   ],
   "source": [
    "test_model(X_train, y_train, X_test, y_test, stack_classifier)"
   ]
  },
  {
   "cell_type": "code",
   "execution_count": null,
   "metadata": {},
   "outputs": [],
   "source": []
  }
 ],
 "metadata": {
  "interpreter": {
   "hash": "58122c4832fdacea577bb4b8c1ab9178e3432673b93bc4408ac4b70d2ef80f32"
  },
  "kernelspec": {
   "display_name": "Python 3.9.7 ('ML_w_tf_env')",
   "language": "python",
   "name": "python3"
  },
  "language_info": {
   "codemirror_mode": {
    "name": "ipython",
    "version": 3
   },
   "file_extension": ".py",
   "mimetype": "text/x-python",
   "name": "python",
   "nbconvert_exporter": "python",
   "pygments_lexer": "ipython3",
   "version": "3.9.7"
  },
  "orig_nbformat": 4
 },
 "nbformat": 4,
 "nbformat_minor": 2
}
