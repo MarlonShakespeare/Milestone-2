{
 "cells": [
  {
   "cell_type": "code",
   "execution_count": 1,
   "id": "b5ab9b3d-8b8d-4203-bb97-14b2580c461a",
   "metadata": {},
   "outputs": [],
   "source": [
    "import numpy as np\n",
    "import pandas as pd\n",
    "import gzip\n",
    "\n",
    "pd.set_option('display.max_columns', None)"
   ]
  },
  {
   "cell_type": "code",
   "execution_count": 2,
   "id": "1db00d51",
   "metadata": {},
   "outputs": [],
   "source": [
    "train_path = 'Twibot-20/train.json'\n",
    "dev_path = 'Twibot-20/dev.json'\n",
    "test_path = 'Twibot-20/test.json'"
   ]
  },
  {
   "cell_type": "code",
   "execution_count": 3,
   "id": "04bfa9d4-8214-42ab-95ec-6c4988f966f8",
   "metadata": {},
   "outputs": [],
   "source": [
    "test_df = pd.read_json(test_path)\n",
    "\n",
    "train_df = pd.read_json(train_path)\n",
    "\n",
    "dev_df = pd.read_json(dev_path)"
   ]
  },
  {
   "cell_type": "code",
   "execution_count": 4,
   "id": "ce00f7be",
   "metadata": {},
   "outputs": [
    {
     "name": "stdout",
     "output_type": "stream",
     "text": [
      "(1183, 6)\n",
      "(2365, 6)\n",
      "(8278, 6)\n"
     ]
    }
   ],
   "source": [
    "print(test_df.shape)\n",
    "print(dev_df.shape)\n",
    "print(train_df.shape)"
   ]
  },
  {
   "cell_type": "code",
   "execution_count": 5,
   "id": "4af55530-7ce0-4014-8a3a-2e2513f0c15d",
   "metadata": {},
   "outputs": [],
   "source": [
    "twibot_df = pd.concat([train_df, dev_df, test_df], axis=0).reset_index(drop=True)\n",
    "# shuffle all entries not sure if its necessary\n",
    "twibot_df = twibot_df.sample(twibot_df.shape[0])"
   ]
  },
  {
   "cell_type": "code",
   "execution_count": 6,
   "id": "ec454b5f",
   "metadata": {},
   "outputs": [
    {
     "data": {
      "text/plain": [
       "(11826, 6)"
      ]
     },
     "execution_count": 6,
     "metadata": {},
     "output_type": "execute_result"
    }
   ],
   "source": [
    "twibot_df.shape"
   ]
  },
  {
   "cell_type": "code",
   "execution_count": 7,
   "id": "4fec3f26-dd7c-43f1-8e23-08bd93c64841",
   "metadata": {},
   "outputs": [
    {
     "data": {
      "text/html": [
       "<div>\n",
       "<style scoped>\n",
       "    .dataframe tbody tr th:only-of-type {\n",
       "        vertical-align: middle;\n",
       "    }\n",
       "\n",
       "    .dataframe tbody tr th {\n",
       "        vertical-align: top;\n",
       "    }\n",
       "\n",
       "    .dataframe thead th {\n",
       "        text-align: right;\n",
       "    }\n",
       "</style>\n",
       "<table border=\"1\" class=\"dataframe\">\n",
       "  <thead>\n",
       "    <tr style=\"text-align: right;\">\n",
       "      <th></th>\n",
       "      <th>ID</th>\n",
       "      <th>profile</th>\n",
       "      <th>tweet</th>\n",
       "      <th>neighbor</th>\n",
       "      <th>domain</th>\n",
       "      <th>label</th>\n",
       "    </tr>\n",
       "  </thead>\n",
       "  <tbody>\n",
       "    <tr>\n",
       "      <th>7325</th>\n",
       "      <td>21754872</td>\n",
       "      <td>{'id': '21754872 ', 'id_str': '21754872 ', 'na...</td>\n",
       "      <td>[@cl_bloomfield @ECAEurope Congrats Claire\\n, ...</td>\n",
       "      <td>{'following': ['1250701602597613568', '8052247...</td>\n",
       "      <td>[Sports]</td>\n",
       "      <td>0</td>\n",
       "    </tr>\n",
       "    <tr>\n",
       "      <th>8004</th>\n",
       "      <td>247836899</td>\n",
       "      <td>{'id': '247836899 ', 'id_str': '247836899 ', '...</td>\n",
       "      <td>[@Samanthaaaa_x me your not alone on that\\n, @...</td>\n",
       "      <td>{'following': ['7217902', '237873825', '210951...</td>\n",
       "      <td>[Sports]</td>\n",
       "      <td>1</td>\n",
       "    </tr>\n",
       "    <tr>\n",
       "      <th>4278</th>\n",
       "      <td>2209843016</td>\n",
       "      <td>{'id': '2209843016 ', 'id_str': '2209843016 ',...</td>\n",
       "      <td>[@VegasBigBoss What the picks boss let me know...</td>\n",
       "      <td>{'following': ['114870386', '94405288002528460...</td>\n",
       "      <td>[Entertainment]</td>\n",
       "      <td>1</td>\n",
       "    </tr>\n",
       "    <tr>\n",
       "      <th>11243</th>\n",
       "      <td>51018206</td>\n",
       "      <td>{'id': '51018206 ', 'id_str': '51018206 ', 'na...</td>\n",
       "      <td>[@seanhannity Not all Republicans, but she’s n...</td>\n",
       "      <td>{'following': ['48873513', '32940704', '190906...</td>\n",
       "      <td>[Business]</td>\n",
       "      <td>0</td>\n",
       "    </tr>\n",
       "    <tr>\n",
       "      <th>3551</th>\n",
       "      <td>2435905878</td>\n",
       "      <td>{'id': '2435905878 ', 'id_str': '2435905878 ',...</td>\n",
       "      <td>[RT @VMVMedia: No ordinary #Monday. 🏴 Features...</td>\n",
       "      <td>{'following': ['127188558', '32501062', '10350...</td>\n",
       "      <td>[Business]</td>\n",
       "      <td>1</td>\n",
       "    </tr>\n",
       "  </tbody>\n",
       "</table>\n",
       "</div>"
      ],
      "text/plain": [
       "               ID                                            profile  \\\n",
       "7325     21754872  {'id': '21754872 ', 'id_str': '21754872 ', 'na...   \n",
       "8004    247836899  {'id': '247836899 ', 'id_str': '247836899 ', '...   \n",
       "4278   2209843016  {'id': '2209843016 ', 'id_str': '2209843016 ',...   \n",
       "11243    51018206  {'id': '51018206 ', 'id_str': '51018206 ', 'na...   \n",
       "3551   2435905878  {'id': '2435905878 ', 'id_str': '2435905878 ',...   \n",
       "\n",
       "                                                   tweet  \\\n",
       "7325   [@cl_bloomfield @ECAEurope Congrats Claire\\n, ...   \n",
       "8004   [@Samanthaaaa_x me your not alone on that\\n, @...   \n",
       "4278   [@VegasBigBoss What the picks boss let me know...   \n",
       "11243  [@seanhannity Not all Republicans, but she’s n...   \n",
       "3551   [RT @VMVMedia: No ordinary #Monday. 🏴 Features...   \n",
       "\n",
       "                                                neighbor           domain  \\\n",
       "7325   {'following': ['1250701602597613568', '8052247...         [Sports]   \n",
       "8004   {'following': ['7217902', '237873825', '210951...         [Sports]   \n",
       "4278   {'following': ['114870386', '94405288002528460...  [Entertainment]   \n",
       "11243  {'following': ['48873513', '32940704', '190906...       [Business]   \n",
       "3551   {'following': ['127188558', '32501062', '10350...       [Business]   \n",
       "\n",
       "       label  \n",
       "7325       0  \n",
       "8004       1  \n",
       "4278       1  \n",
       "11243      0  \n",
       "3551       1  "
      ]
     },
     "execution_count": 7,
     "metadata": {},
     "output_type": "execute_result"
    }
   ],
   "source": [
    "twibot_df.sample(5)"
   ]
  },
  {
   "cell_type": "code",
   "execution_count": 8,
   "id": "6e65ebd9",
   "metadata": {},
   "outputs": [
    {
     "data": {
      "text/plain": [
       "(11826, 3)"
      ]
     },
     "execution_count": 8,
     "metadata": {},
     "output_type": "execute_result"
    }
   ],
   "source": [
    "users_df = twibot_df[['ID', 'profile', 'neighbor', 'domain', 'label']]\n",
    "tweets_df = twibot_df[['ID', 'tweet', 'label']]\n",
    "tweets_df.shape"
   ]
  },
  {
   "cell_type": "markdown",
   "id": "093a8a7c",
   "metadata": {},
   "source": [
    "### join all of the tweets of a user into a document"
   ]
  },
  {
   "cell_type": "code",
   "execution_count": 9,
   "id": "7920f82e",
   "metadata": {},
   "outputs": [],
   "source": [
    "def change_tweets_to_doc(row):\n",
    "    if row is not None:\n",
    "        return ' '.join(row)\n",
    "    else:\n",
    "        return np.nan"
   ]
  },
  {
   "cell_type": "code",
   "execution_count": 10,
   "id": "4c40e629",
   "metadata": {},
   "outputs": [
    {
     "data": {
      "text/plain": [
       "(11826, 3)"
      ]
     },
     "execution_count": 10,
     "metadata": {},
     "output_type": "execute_result"
    }
   ],
   "source": [
    "tweets_doc = tweets_df.copy()\n",
    "tweets_doc.loc[:,'tweet'] = tweets_df['tweet'].apply(change_tweets_to_doc)\n",
    "tweets_doc.shape"
   ]
  },
  {
   "cell_type": "markdown",
   "id": "aeb46e7d",
   "metadata": {},
   "source": [
    "### Explode all tweets so there is one tweet per line"
   ]
  },
  {
   "cell_type": "code",
   "execution_count": 12,
   "id": "e7e99f7e",
   "metadata": {},
   "outputs": [
    {
     "data": {
      "text/plain": [
       "(1999868, 3)"
      ]
     },
     "execution_count": 12,
     "metadata": {},
     "output_type": "execute_result"
    }
   ],
   "source": [
    "tweets_explode = tweets_df.copy()\n",
    "tweets_explode = tweets_explode.explode('tweet')\n",
    "tweets_explode.shape"
   ]
  },
  {
   "cell_type": "markdown",
   "id": "b9db297e",
   "metadata": {},
   "source": [
    "### Save all tweet dataframes origional, document, exploded"
   ]
  },
  {
   "cell_type": "code",
   "execution_count": 13,
   "id": "94fd6fa0",
   "metadata": {},
   "outputs": [],
   "source": [
    "tweets_df.to_csv('Twibot-20/tweets.csv', index=False)\n",
    "tweets_doc.to_csv('Twibot-20/tweets_doc.csv', index=False)\n",
    "tweets_explode.to_csv('Twibot-20/tweets_explode.csv', index=False)"
   ]
  },
  {
   "cell_type": "code",
   "execution_count": 14,
   "id": "c2de83a4",
   "metadata": {},
   "outputs": [],
   "source": [
    "# def expand_profile(row):\n",
    "#     df_ = pd.DataFrame(row, index=[0])\n",
    "#     return df_\n"
   ]
  },
  {
   "cell_type": "code",
   "execution_count": 15,
   "id": "999fc777",
   "metadata": {},
   "outputs": [],
   "source": [
    "# exp_user_profile = expand_profile(users_df['profile'][0])\n",
    "# for row in users_df['profile'].iloc[1:]:\n",
    "#     exp_user_profile = pd.concat([exp_user_profile, expand_profile(row)], axis=0)"
   ]
  },
  {
   "cell_type": "code",
   "execution_count": 16,
   "id": "9337ba2f",
   "metadata": {},
   "outputs": [],
   "source": [
    "# display(exp_user_profile.shape)"
   ]
  },
  {
   "cell_type": "code",
   "execution_count": 17,
   "id": "73118774",
   "metadata": {},
   "outputs": [],
   "source": [
    "# exp_user_profile.loc[:,'id'] = exp_user_profile['id'].astype('int64')\n",
    "# users_df.loc['ID'] = users_df['ID'].astype('int64')\n",
    "# users_df_exp = exp_user_profile.dropna().merge(users_df[['ID', 'neighbor', 'domain', 'label']], how='inner', left_on='id', right_on='ID')\n",
    "# users_df_exp.head()"
   ]
  },
  {
   "cell_type": "code",
   "execution_count": 18,
   "id": "f7e6e680",
   "metadata": {},
   "outputs": [],
   "source": [
    "# users_df.to_csv('Twibot-20/users.csv', index=False)"
   ]
  },
  {
   "cell_type": "code",
   "execution_count": 19,
   "id": "422c429d",
   "metadata": {},
   "outputs": [],
   "source": [
    "support = pd.read_json('Twibot-20/support.json')"
   ]
  },
  {
   "cell_type": "code",
   "execution_count": 20,
   "id": "bcbe19c5",
   "metadata": {},
   "outputs": [
    {
     "data": {
      "text/plain": [
       "(217754, 5)"
      ]
     },
     "execution_count": 20,
     "metadata": {},
     "output_type": "execute_result"
    }
   ],
   "source": [
    "support.shape"
   ]
  },
  {
   "cell_type": "code",
   "execution_count": 21,
   "id": "791e66b5",
   "metadata": {},
   "outputs": [
    {
     "data": {
      "text/html": [
       "<div>\n",
       "<style scoped>\n",
       "    .dataframe tbody tr th:only-of-type {\n",
       "        vertical-align: middle;\n",
       "    }\n",
       "\n",
       "    .dataframe tbody tr th {\n",
       "        vertical-align: top;\n",
       "    }\n",
       "\n",
       "    .dataframe thead th {\n",
       "        text-align: right;\n",
       "    }\n",
       "</style>\n",
       "<table border=\"1\" class=\"dataframe\">\n",
       "  <thead>\n",
       "    <tr style=\"text-align: right;\">\n",
       "      <th></th>\n",
       "      <th>ID</th>\n",
       "      <th>profile</th>\n",
       "      <th>tweet</th>\n",
       "      <th>neighbor</th>\n",
       "      <th>domain</th>\n",
       "    </tr>\n",
       "  </thead>\n",
       "  <tbody>\n",
       "    <tr>\n",
       "      <th>0</th>\n",
       "      <td>1082775333336768512</td>\n",
       "      <td>{'id': '1082775333336768517 ', 'id_str': '1082...</td>\n",
       "      <td>[RT @RandyRRQuaid: #RNC KICKOFF with Randy’s N...</td>\n",
       "      <td>None</td>\n",
       "      <td>[Politics]</td>\n",
       "    </tr>\n",
       "    <tr>\n",
       "      <th>1</th>\n",
       "      <td>1076983321438142464</td>\n",
       "      <td>{'id': '1076983321438142464 ', 'id_str': '1076...</td>\n",
       "      <td>[RT @yogagenie: 02/23/20  ~ @GeneStump1 former...</td>\n",
       "      <td>None</td>\n",
       "      <td>[Politics]</td>\n",
       "    </tr>\n",
       "    <tr>\n",
       "      <th>2</th>\n",
       "      <td>1166391878264246272</td>\n",
       "      <td>{'id': '1166391878264246272 ', 'id_str': '1166...</td>\n",
       "      <td>[@joaocaetano aí sim ⚡\\n, RT @loud_victor: Mai...</td>\n",
       "      <td>None</td>\n",
       "      <td>[Politics]</td>\n",
       "    </tr>\n",
       "    <tr>\n",
       "      <th>3</th>\n",
       "      <td>103593224</td>\n",
       "      <td>{'id': '103593224 ', 'id_str': '103593224 ', '...</td>\n",
       "      <td>[RT @TheDemCoalition: FACT: Seven former Trump...</td>\n",
       "      <td>None</td>\n",
       "      <td>[Politics]</td>\n",
       "    </tr>\n",
       "    <tr>\n",
       "      <th>4</th>\n",
       "      <td>1274010352683016192</td>\n",
       "      <td>{'id': '1274010352683016196 ', 'id_str': '1274...</td>\n",
       "      <td>[Man Ellen isn’t even funny\\nShe literally smi...</td>\n",
       "      <td>None</td>\n",
       "      <td>[Politics]</td>\n",
       "    </tr>\n",
       "  </tbody>\n",
       "</table>\n",
       "</div>"
      ],
      "text/plain": [
       "                    ID                                            profile  \\\n",
       "0  1082775333336768512  {'id': '1082775333336768517 ', 'id_str': '1082...   \n",
       "1  1076983321438142464  {'id': '1076983321438142464 ', 'id_str': '1076...   \n",
       "2  1166391878264246272  {'id': '1166391878264246272 ', 'id_str': '1166...   \n",
       "3            103593224  {'id': '103593224 ', 'id_str': '103593224 ', '...   \n",
       "4  1274010352683016192  {'id': '1274010352683016196 ', 'id_str': '1274...   \n",
       "\n",
       "                                               tweet neighbor      domain  \n",
       "0  [RT @RandyRRQuaid: #RNC KICKOFF with Randy’s N...     None  [Politics]  \n",
       "1  [RT @yogagenie: 02/23/20  ~ @GeneStump1 former...     None  [Politics]  \n",
       "2  [@joaocaetano aí sim ⚡\\n, RT @loud_victor: Mai...     None  [Politics]  \n",
       "3  [RT @TheDemCoalition: FACT: Seven former Trump...     None  [Politics]  \n",
       "4  [Man Ellen isn’t even funny\\nShe literally smi...     None  [Politics]  "
      ]
     },
     "execution_count": 21,
     "metadata": {},
     "output_type": "execute_result"
    }
   ],
   "source": [
    "support.head()"
   ]
  },
  {
   "cell_type": "markdown",
   "id": "959dce13",
   "metadata": {},
   "source": [
    "### Convert support tweets to document as above"
   ]
  },
  {
   "cell_type": "code",
   "execution_count": 22,
   "id": "91051006",
   "metadata": {},
   "outputs": [
    {
     "name": "stderr",
     "output_type": "stream",
     "text": [
      "C:\\Users\\alevink\\AppData\\Local\\Temp/ipykernel_12924/4031156418.py:2: SettingWithCopyWarning: \n",
      "A value is trying to be set on a copy of a slice from a DataFrame.\n",
      "Try using .loc[row_indexer,col_indexer] = value instead\n",
      "\n",
      "See the caveats in the documentation: https://pandas.pydata.org/pandas-docs/stable/user_guide/indexing.html#returning-a-view-versus-a-copy\n",
      "  all_tweets_doc['tweet'] = all_tweets_doc['tweet'].apply(change_tweets_to_doc)\n"
     ]
    },
    {
     "data": {
      "text/plain": [
       "(217754, 2)"
      ]
     },
     "execution_count": 22,
     "metadata": {},
     "output_type": "execute_result"
    }
   ],
   "source": [
    "all_tweets_doc = support[['ID', 'tweet']]\n",
    "all_tweets_doc.loc[:, 'tweet'] = all_tweets_doc['tweet'].apply(change_tweets_to_doc)\n",
    "all_tweets_doc.shape"
   ]
  },
  {
   "cell_type": "code",
   "execution_count": 24,
   "id": "a4b19cfb",
   "metadata": {},
   "outputs": [],
   "source": [
    "# save using gzip, when loading with pandas.read_csv add compression argument\n",
    "all_tweets_doc.to_csv('Twibot-20/all_tweets_doc.csv.gz', compression='gzip')"
   ]
  },
  {
   "cell_type": "markdown",
   "id": "c33e2494",
   "metadata": {},
   "source": [
    "### Exploding all tweets"
   ]
  },
  {
   "cell_type": "code",
   "execution_count": 23,
   "id": "db1d9654",
   "metadata": {},
   "outputs": [
    {
     "data": {
      "text/plain": [
       "(31511861, 2)"
      ]
     },
     "execution_count": 23,
     "metadata": {},
     "output_type": "execute_result"
    }
   ],
   "source": [
    "all_tweets_explode = support[['ID', 'tweet']]\n",
    "all_tweets_explode = all_tweets_explode.explode('tweet')\n",
    "all_tweets_explode.shape"
   ]
  },
  {
   "cell_type": "code",
   "execution_count": 25,
   "id": "e86e1ceb",
   "metadata": {},
   "outputs": [],
   "source": [
    "all_tweets_explode.to_csv('Twibot-20/all_tweets_explode.csv.gz', compression='gzip')"
   ]
  },
  {
   "cell_type": "code",
   "execution_count": 2,
   "id": "04c445ac",
   "metadata": {},
   "outputs": [],
   "source": [
    "from utils import split_all_data"
   ]
  },
  {
   "cell_type": "code",
   "execution_count": 8,
   "id": "d2e6aed4",
   "metadata": {},
   "outputs": [
    {
     "name": "stdout",
     "output_type": "stream",
     "text": [
      "Loading the data...\n",
      "Splitting the data...\n",
      "Removing from support...\n"
     ]
    }
   ],
   "source": [
    "results_dict = split_all_data(.8)"
   ]
  },
  {
   "cell_type": "code",
   "execution_count": 9,
   "id": "36a18af0",
   "metadata": {},
   "outputs": [
    {
     "name": "stdout",
     "output_type": "stream",
     "text": [
      "(9460, 6)\n",
      "(1183, 6)\n",
      "(1183, 6)\n",
      "(217754, 5)\n"
     ]
    }
   ],
   "source": [
    "for s in results_dict:\n",
    "    try:\n",
    "        print(results_dict[s].shape)\n",
    "    except AttributeError:\n",
    "        print(s, ':None')"
   ]
  },
  {
   "cell_type": "code",
   "execution_count": null,
   "id": "a53a35f9",
   "metadata": {},
   "outputs": [],
   "source": []
  }
 ],
 "metadata": {
  "interpreter": {
   "hash": "58122c4832fdacea577bb4b8c1ab9178e3432673b93bc4408ac4b70d2ef80f32"
  },
  "kernelspec": {
   "display_name": "Python 3.9.7 ('ML_w_tf_env')",
   "language": "python",
   "name": "python3"
  },
  "language_info": {
   "codemirror_mode": {
    "name": "ipython",
    "version": 3
   },
   "file_extension": ".py",
   "mimetype": "text/x-python",
   "name": "python",
   "nbconvert_exporter": "python",
   "pygments_lexer": "ipython3",
   "version": "3.9.7"
  }
 },
 "nbformat": 4,
 "nbformat_minor": 5
}
